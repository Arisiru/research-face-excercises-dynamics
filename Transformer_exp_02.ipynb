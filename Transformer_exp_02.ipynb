{
 "cells": [
  {
   "cell_type": "markdown",
   "id": "c3ffceac",
   "metadata": {},
   "source": [
    "# Notes"
   ]
  },
  {
   "cell_type": "markdown",
   "id": "941fce85",
   "metadata": {},
   "source": [
    "Second iteration is to build own input from the raw csv\n",
    "\n",
    "every exercise in an entry\n",
    "every entry consist of timeserieses for all face points \n",
    "a training/test split shall be based on patients so we could see a progression of exercises\n"
   ]
  },
  {
   "cell_type": "code",
   "execution_count": 1,
   "id": "2167fbdb",
   "metadata": {},
   "outputs": [],
   "source": [
    "import os \n",
    "import csv\n",
    "from datetime import datetime\n",
    "import pandas as pd\n",
    "import numpy as np\n",
    "import tensorflow as tf"
   ]
  },
  {
   "cell_type": "markdown",
   "id": "287f0fb3",
   "metadata": {},
   "source": [
    "# Data prep"
   ]
  },
  {
   "cell_type": "code",
   "execution_count": 2,
   "id": "2555c25c",
   "metadata": {},
   "outputs": [],
   "source": [
    "def filename2metadata(filename):\n",
    "    meta = filename.split(' ')\n",
    "    patientid = meta[0]\n",
    "    evaluation = int(meta[3].split('=')[1])\n",
    "    poi = meta[2]\n",
    "    flagbeforeoperation = meta[4].split('=')[1]\n",
    "    exerciseinfo = meta[5].split('_')\n",
    "    exerciseid = int(exerciseinfo[0])\n",
    "    exercisename = exerciseinfo[1]\n",
    "    exercisedatestring = exerciseinfo[2].split('.')[0]\n",
    "    return {\n",
    "        'patientid': patientid,\n",
    "        'evaluation': evaluation,\n",
    "        'poi': poi,\n",
    "        'exerciseid': exerciseid,\n",
    "        'exercisename': exercisename,\n",
    "        'exercisedate': datetime.strptime(exercisedatestring, '%Y-%m-%d-%H-%M-%S'),\n",
    "    }"
   ]
  },
  {
   "cell_type": "code",
   "execution_count": 3,
   "id": "efdcd305",
   "metadata": {},
   "outputs": [],
   "source": [
    "def csv2timeseriestensor(df):\n",
    "    xs = list(df['x'],)\n",
    "    "
   ]
  },
  {
   "cell_type": "code",
   "execution_count": 4,
   "id": "33e7f4db",
   "metadata": {},
   "outputs": [],
   "source": [
    "def read2object(path, filename):    \n",
    "    df = pd.read_csv(path)\n",
    "    df.drop('t', axis=1, inplace=True)\n",
    "    \n",
    "    xs = np.transpose(df.to_numpy())\n",
    "\n",
    "    return {\n",
    "        'meta': filename2metadata(filename),\n",
    "        'timeseries': xs\n",
    "    }"
   ]
  },
  {
   "cell_type": "markdown",
   "id": "e46bbff4",
   "metadata": {},
   "source": [
    "TODO:\n",
    "- read all\n",
    "- padding\n",
    "- split: normally split should be before padding, and then in inference combination of padding and trimming shall apply\n",
    "- classification\n"
   ]
  },
  {
   "cell_type": "code",
   "execution_count": 5,
   "id": "aad781df",
   "metadata": {},
   "outputs": [
    {
     "data": {
      "text/plain": [
       "2047"
      ]
     },
     "execution_count": 5,
     "metadata": {},
     "output_type": "execute_result"
    }
   ],
   "source": [
    "data = []\n",
    "maxlength = 0\n",
    "dirdata = os.path.join('data', 'csv_points')\n",
    "for filename in os.listdir(dirdata):\n",
    "    datum = read2object(os.path.join(dirdata, filename), filename)\n",
    "    data.append(datum)\n",
    "    maxlength = max(maxlength, datum['timeseries'].shape[1])\n",
    "    \n",
    "\n",
    "maxlength"
   ]
  },
  {
   "cell_type": "code",
   "execution_count": 6,
   "id": "91a467d5",
   "metadata": {},
   "outputs": [
    {
     "data": {
      "text/plain": [
       "23748"
      ]
     },
     "execution_count": 6,
     "metadata": {},
     "output_type": "execute_result"
    }
   ],
   "source": [
    "len(data)"
   ]
  },
  {
   "cell_type": "code",
   "execution_count": 7,
   "id": "29028238",
   "metadata": {},
   "outputs": [],
   "source": [
    "maxlength = 2050"
   ]
  },
  {
   "cell_type": "markdown",
   "id": "646ed7ce",
   "metadata": {},
   "source": [
    "#### Padding"
   ]
  },
  {
   "cell_type": "code",
   "execution_count": 8,
   "id": "3fa9cb0a",
   "metadata": {},
   "outputs": [],
   "source": [
    "for ind, datum in enumerate(data):\n",
    "    paddedtimeseries = tf.keras.preprocessing.sequence.pad_sequences(\n",
    "        datum['timeseries'],\n",
    "        padding=\"pre\",\n",
    "        maxlen=maxlength)\n",
    "    data[ind]['timeseries'] = paddedtimeseries\n",
    "    \n"
   ]
  },
  {
   "cell_type": "markdown",
   "id": "6ca3d18d",
   "metadata": {},
   "source": [
    "#### Build training set"
   ]
  },
  {
   "cell_type": "code",
   "execution_count": 10,
   "id": "a93a7a24",
   "metadata": {},
   "outputs": [],
   "source": [
    "xslist = list()\n",
    "yslist = list()\n",
    "\n",
    "for datum in data:\n",
    "    xslist.append(datum['timeseries'])\n",
    "    yslist.append(datum['meta']['evaluation'])\n",
    "    \n",
    "ys = np.array(yslist[:23000])\n",
    "xs = np.array(xslist[:23000])\n",
    "ys_test = np.array(yslist[23000:])\n",
    "xs_test = np.array(xslist[23000:])"
   ]
  },
  {
   "cell_type": "code",
   "execution_count": 11,
   "id": "e43454e2",
   "metadata": {},
   "outputs": [
    {
     "name": "stdout",
     "output_type": "stream",
     "text": [
      "(23000,)\n",
      "(23000, 3, 2050)\n",
      "(748,)\n",
      "(748, 3, 2050)\n"
     ]
    }
   ],
   "source": [
    "print(ys.shape)\n",
    "print(xs.shape)\n",
    "print(ys_test.shape)\n",
    "print(xs_test.shape)"
   ]
  },
  {
   "cell_type": "code",
   "execution_count": 12,
   "id": "29b2c732",
   "metadata": {},
   "outputs": [
    {
     "name": "stderr",
     "output_type": "stream",
     "text": [
      "2023-01-05 19:44:15.848384: I tensorflow/core/common_runtime/pluggable_device/pluggable_device_factory.cc:306] Could not identify NUMA node of platform GPU ID 0, defaulting to 0. Your kernel may not have been built with NUMA support.\n",
      "2023-01-05 19:44:15.848770: I tensorflow/core/common_runtime/pluggable_device/pluggable_device_factory.cc:272] Created TensorFlow device (/job:localhost/replica:0/task:0/device:GPU:0 with 0 MB memory) -> physical PluggableDevice (device: 0, name: METAL, pci bus id: <undefined>)\n"
     ]
    },
    {
     "name": "stdout",
     "output_type": "stream",
     "text": [
      "Metal device set to: Apple M1\n",
      "Model: \"sequential\"\n",
      "_________________________________________________________________\n",
      " Layer (type)                Output Shape              Param #   \n",
      "=================================================================\n",
      " lstm (LSTM)                 (None, 3)                 24648     \n",
      "                                                                 \n",
      " dense (Dense)               (None, 128)               512       \n",
      "                                                                 \n",
      " dense_1 (Dense)             (None, 6)                 774       \n",
      "                                                                 \n",
      "=================================================================\n",
      "Total params: 25,934\n",
      "Trainable params: 25,934\n",
      "Non-trainable params: 0\n",
      "_________________________________________________________________\n"
     ]
    }
   ],
   "source": [
    "model = tf.keras.Sequential()\n",
    "model.add(tf.keras.layers.InputLayer(input_shape=xs[0].shape))\n",
    "model.add(tf.keras.layers.LSTM(3))\n",
    "model.add(tf.keras.layers.Dense(128, activation='relu'))\n",
    "model.add(tf.keras.layers.Dense(6, activation='softmax'))\n",
    "\n",
    "model.compile(optimizer='adam',\n",
    "              loss=tf.keras.losses.SparseCategoricalCrossentropy(from_logits=True),\n",
    "              metrics=['accuracy'],\n",
    "              run_eagerly=True)\n",
    "\n",
    "model.summary()"
   ]
  },
  {
   "cell_type": "code",
   "execution_count": 13,
   "id": "7ebf4216",
   "metadata": {},
   "outputs": [
    {
     "name": "stdout",
     "output_type": "stream",
     "text": [
      "Epoch 1/5\n"
     ]
    },
    {
     "name": "stderr",
     "output_type": "stream",
     "text": [
      "2023-01-05 19:44:17.379367: W tensorflow/core/platform/profile_utils/cpu_utils.cc:128] Failed to get CPU frequency: 0 Hz\n",
      "/Users/alanchen/.local/share/virtualenvs/research-face-excercises-dynamics-o_HFBNSW/lib/python3.8/site-packages/keras/backend.py:5582: UserWarning: \"`sparse_categorical_crossentropy` received `from_logits=True`, but the `output` argument was produced by a Softmax activation and thus does not represent logits. Was this intended?\n",
      "  output, from_logits = _get_logits(\n"
     ]
    },
    {
     "name": "stdout",
     "output_type": "stream",
     "text": [
      "360/360 [==============================] - 8s 21ms/step - loss: 1.1422 - accuracy: 0.4684\n",
      "Epoch 2/5\n",
      "360/360 [==============================] - 8s 21ms/step - loss: 1.0861 - accuracy: 0.4758\n",
      "Epoch 3/5\n",
      "360/360 [==============================] - 8s 21ms/step - loss: 1.0928 - accuracy: 0.4758\n",
      "Epoch 4/5\n",
      "360/360 [==============================] - 8s 21ms/step - loss: 1.0944 - accuracy: 0.4758\n",
      "Epoch 5/5\n",
      "360/360 [==============================] - 8s 21ms/step - loss: 1.0957 - accuracy: 0.4758\n"
     ]
    },
    {
     "data": {
      "text/plain": [
       "<keras.callbacks.History at 0x2e8aabd90>"
      ]
     },
     "execution_count": 13,
     "metadata": {},
     "output_type": "execute_result"
    }
   ],
   "source": [
    "model.fit(xs, ys, batch_size=64, epochs=5)"
   ]
  },
  {
   "cell_type": "code",
   "execution_count": 14,
   "id": "986a8bc6",
   "metadata": {},
   "outputs": [
    {
     "name": "stdout",
     "output_type": "stream",
     "text": [
      "24/24 [==============================] - 0s 14ms/step - loss: 1.1054 - accuracy: 0.4733\n"
     ]
    },
    {
     "data": {
      "text/plain": [
       "[1.1053643226623535, 0.4732620418071747]"
      ]
     },
     "execution_count": 14,
     "metadata": {},
     "output_type": "execute_result"
    }
   ],
   "source": [
    "model.evaluate(xs_test, ys_test)"
   ]
  },
  {
   "cell_type": "code",
   "execution_count": 15,
   "id": "7ee3292d",
   "metadata": {},
   "outputs": [
    {
     "name": "stdout",
     "output_type": "stream",
     "text": [
      "24/24 [==============================] - 0s 6ms/step\n"
     ]
    }
   ],
   "source": [
    "y_test_prob = model.predict(xs_test)"
   ]
  },
  {
   "cell_type": "code",
   "execution_count": 16,
   "id": "c03280fe",
   "metadata": {},
   "outputs": [
    {
     "data": {
      "text/plain": [
       "array([[1.9036078e-04, 5.9997696e-01, 1.2883082e-01, 1.5891016e-01,\n",
       "        5.1801972e-02, 6.0289729e-02],\n",
       "       [2.1950775e-04, 5.9706056e-01, 1.2901311e-01, 1.5857264e-01,\n",
       "        5.3225517e-02, 6.1908718e-02],\n",
       "       [1.9035055e-04, 5.9998113e-01, 1.2883171e-01, 1.5891126e-01,\n",
       "        5.1799171e-02, 6.0286459e-02],\n",
       "       ...,\n",
       "       [1.9035685e-04, 5.9996456e-01, 1.2883602e-01, 1.5891658e-01,\n",
       "        5.1804069e-02, 6.0288481e-02],\n",
       "       [1.9035685e-04, 5.9996456e-01, 1.2883602e-01, 1.5891658e-01,\n",
       "        5.1804069e-02, 6.0288481e-02],\n",
       "       [1.9035685e-04, 5.9996456e-01, 1.2883602e-01, 1.5891658e-01,\n",
       "        5.1804069e-02, 6.0288481e-02]], dtype=float32)"
      ]
     },
     "execution_count": 16,
     "metadata": {},
     "output_type": "execute_result"
    }
   ],
   "source": [
    "y_test_prob"
   ]
  },
  {
   "cell_type": "markdown",
   "id": "cde8e3db",
   "metadata": {},
   "source": [
    "__END__"
   ]
  }
 ],
 "metadata": {
  "kernelspec": {
   "display_name": "face-prognosis",
   "language": "python",
   "name": "face-prognosis"
  },
  "language_info": {
   "codemirror_mode": {
    "name": "ipython",
    "version": 3
   },
   "file_extension": ".py",
   "mimetype": "text/x-python",
   "name": "python",
   "nbconvert_exporter": "python",
   "pygments_lexer": "ipython3",
   "version": "3.8.13"
  }
 },
 "nbformat": 4,
 "nbformat_minor": 5
}
