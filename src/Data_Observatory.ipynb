{
 "cells": [
  {
   "cell_type": "markdown",
   "id": "c3ffceac",
   "metadata": {},
   "source": [
    "# Notes"
   ]
  },
  {
   "cell_type": "markdown",
   "id": "941fce85",
   "metadata": {},
   "source": [
    "XXX"
   ]
  },
  {
   "cell_type": "code",
   "execution_count": 1,
   "id": "2167fbdb",
   "metadata": {},
   "outputs": [],
   "source": [
    "import os \n",
    "import re\n",
    "import csv\n",
    "import json\n",
    "from datetime import datetime\n",
    "\n",
    "import math\n",
    "import pandas as pd\n",
    "import numpy as np\n",
    "import tensorflow as tf\n",
    "from tensorflow.keras.preprocessing.sequence import pad_sequences\n"
   ]
  },
  {
   "cell_type": "markdown",
   "id": "e8c2277c",
   "metadata": {},
   "source": [
    "# Constants"
   ]
  },
  {
   "cell_type": "code",
   "execution_count": 2,
   "id": "eed45b66",
   "metadata": {},
   "outputs": [],
   "source": [
    "dir_data_root = os.path.join('..', 'data')\n",
    "dir_exercises = os.path.join(dir_data_root, 'json', 'exercises_raw')\n",
    "dir_patiens_sessions = os.path.join(dir_data_root, 'json', 'patients_sessions')"
   ]
  },
  {
   "cell_type": "markdown",
   "id": "e544c090",
   "metadata": {},
   "source": [
    "# Patient sessions"
   ]
  },
  {
   "cell_type": "code",
   "execution_count": 3,
   "id": "c246b51a",
   "metadata": {},
   "outputs": [],
   "source": [
    "#Read patient data one by one and add to one frame\n",
    "patients_sessions = {}\n",
    "for file_name in os.listdir(dir_patiens_sessions):\n",
    "    if file_name == '.DS_Store': continue\n",
    "        \n",
    "    id = file_name.split('.')[0]\n",
    "    sessions = json.load(open(os.path.join(dir_patiens_sessions, file_name), 'r'))\n",
    "    patients_sessions[id] = sessions\n",
    "    "
   ]
  },
  {
   "cell_type": "code",
   "execution_count": 4,
   "id": "39d27222",
   "metadata": {},
   "outputs": [
    {
     "name": "stdout",
     "output_type": "stream",
     "text": [
      "Overal number of patients: 81\n"
     ]
    }
   ],
   "source": [
    "print('Overal number of patients: %s' % len(patients_sessions))"
   ]
  },
  {
   "cell_type": "code",
   "execution_count": 5,
   "id": "d051277f",
   "metadata": {},
   "outputs": [
    {
     "name": "stdout",
     "output_type": "stream",
     "text": [
      "Overal number of sessions: 119\n"
     ]
    }
   ],
   "source": [
    "print('Overal number of sessions: %s' % (sum([len(s) for pid, s in patients_sessions.items()])))"
   ]
  },
  {
   "cell_type": "code",
   "execution_count": 11,
   "id": "579c8aef",
   "metadata": {},
   "outputs": [
    {
     "name": "stdout",
     "output_type": "stream",
     "text": [
      "Data collection started on: 2019-01-22 collected till: 2020-05-14\n"
     ]
    }
   ],
   "source": [
    "dates = []\n",
    "for patient_id, sessions in patients_sessions.items():\n",
    "    dates += [x['exercise_dates'] for x in sessions]\n",
    "    \n",
    "dates.sort()\n",
    "print('Data collection started on: %s collected till: %s' % (dates[0], dates[-1]))"
   ]
  },
  {
   "cell_type": "code",
   "execution_count": 9,
   "id": "3d28f56d",
   "metadata": {},
   "outputs": [
    {
     "name": "stdout",
     "output_type": "stream",
     "text": [
      "00000000082\n",
      "00000000057\n",
      "00000000016\n",
      "00000000036\n",
      "00000000077\n",
      "00000000076\n",
      "00000000060\n",
      "00000000037\n",
      "00000000040\n",
      "00000000056\n",
      "00000000083\n",
      "00000000051\n",
      "00000000046\n",
      "00000000011\n",
      "00000000050\n",
      "00000000085\n",
      "00000000027\n",
      "00000000070\n",
      "00000000066\n",
      "00000000049\n",
      "00000000008\n",
      "00000000073\n",
      "00000000065\n",
      "00000000032\n",
      "00000000045\n",
      "00000000004\n",
      "00000000069\n",
      "00000000068\n",
      "00000000029\n",
      "00000000005\n",
      "00000000013\n",
      "00000000044\n",
      "00000000033\n",
      "00000000025\n",
      "00000000048\n",
      "00000000043\n",
      "00000000055\n",
      "00000000079\n",
      "00000000080\n",
      "00000000038\n",
      "00000000059\n",
      "00000000022\n",
      "00000000075\n",
      "00000000063\n",
      "00000000034\n",
      "00000000074\n",
      "00000000058\n",
      "00000000039\n",
      "00000000081\n",
      "00000000042\n",
      "50\n"
     ]
    }
   ],
   "source": [
    "i = 0\n",
    "for patient_id, sessions in patients_sessions.items():\n",
    "    evaluations = [session['evaluation'] for session in sorted(sessions, key=lambda x: x['exercise_dates'])]\n",
    "    if len(sessions) != 1:  continue\n",
    "    #print('Patient: %s, number of sessions: %s, evaluations: %s' % (patient_id, len(sessions), ' '.join(map(str, evaluations))))\n",
    "    print(patient_id)\n",
    "    i += 1\n",
    "\n",
    "print(i)"
   ]
  },
  {
   "cell_type": "code",
   "execution_count": null,
   "id": "00ae3647",
   "metadata": {},
   "outputs": [],
   "source": []
  }
 ],
 "metadata": {
  "kernelspec": {
   "display_name": "face-prognosis",
   "language": "python",
   "name": "face-prognosis"
  },
  "language_info": {
   "codemirror_mode": {
    "name": "ipython",
    "version": 3
   },
   "file_extension": ".py",
   "mimetype": "text/x-python",
   "name": "python",
   "nbconvert_exporter": "python",
   "pygments_lexer": "ipython3",
   "version": "3.8.13"
  }
 },
 "nbformat": 4,
 "nbformat_minor": 5
}
