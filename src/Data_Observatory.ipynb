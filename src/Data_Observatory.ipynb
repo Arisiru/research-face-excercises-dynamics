{
 "cells": [
  {
   "cell_type": "markdown",
   "id": "c3ffceac",
   "metadata": {},
   "source": [
    "# Notes"
   ]
  },
  {
   "cell_type": "markdown",
   "id": "941fce85",
   "metadata": {},
   "source": [
    "XXX"
   ]
  },
  {
   "cell_type": "code",
   "execution_count": 1,
   "id": "2167fbdb",
   "metadata": {},
   "outputs": [],
   "source": [
    "import os \n",
    "import re\n",
    "import csv\n",
    "import json\n",
    "from datetime import datetime\n",
    "\n",
    "import math\n",
    "import pandas as pd\n",
    "import numpy as np\n",
    "import tensorflow as tf\n",
    "from tensorflow.keras.preprocessing.sequence import pad_sequences\n"
   ]
  },
  {
   "cell_type": "markdown",
   "id": "e8c2277c",
   "metadata": {},
   "source": [
    "# Constants"
   ]
  },
  {
   "cell_type": "code",
   "execution_count": 2,
   "id": "eed45b66",
   "metadata": {},
   "outputs": [],
   "source": [
    "dir_data_root = os.path.join('..', 'data')\n",
    "dir_exercises = os.path.join(dir_data_root, 'json', 'exercises_raw')\n",
    "dir_patiens_sessions = os.path.join(dir_data_root, 'json', 'patients_sessions')"
   ]
  },
  {
   "cell_type": "markdown",
   "id": "e544c090",
   "metadata": {},
   "source": [
    "# Patient sessions"
   ]
  },
  {
   "cell_type": "code",
   "execution_count": 7,
   "id": "c246b51a",
   "metadata": {},
   "outputs": [],
   "source": [
    "#Read patient data one by one and add to one frame\n",
    "patients_sessions = {}\n",
    "for file_name in os.listdir(dir_patiens_sessions):\n",
    "    if file_name == '.DS_Store': continue\n",
    "        \n",
    "    id = file_name.split('.')[0]\n",
    "    sessions = json.load(open(os.path.join(dir_patiens_sessions, file_name), 'r'))\n",
    "    patients_sessions[id] = sessions\n",
    "    "
   ]
  },
  {
   "cell_type": "code",
   "execution_count": 9,
   "id": "39d27222",
   "metadata": {},
   "outputs": [
    {
     "name": "stdout",
     "output_type": "stream",
     "text": [
      "Overal number of patients: 81\n"
     ]
    }
   ],
   "source": [
    "print('Overal number of patients: %s' % len(patients_sessions))"
   ]
  },
  {
   "cell_type": "code",
   "execution_count": 14,
   "id": "3d28f56d",
   "metadata": {},
   "outputs": [
    {
     "name": "stdout",
     "output_type": "stream",
     "text": [
      "Patient: 00000000082, number of sessions: 1, evaluations: 0\n",
      "Patient: 00000000057, number of sessions: 1, evaluations: 0\n",
      "Patient: 00000000000, number of sessions: 2, evaluations: 0 0\n",
      "Patient: 00000000016, number of sessions: 1, evaluations: 1\n",
      "Patient: 00000000041, number of sessions: 2, evaluations: 1 0\n",
      "Patient: 00000000036, number of sessions: 1, evaluations: 2\n",
      "Patient: 00000000061, number of sessions: 2, evaluations: 5 5\n",
      "Patient: 00000000077, number of sessions: 1, evaluations: 3\n",
      "Patient: 00000000020, number of sessions: 2, evaluations: 0 1\n",
      "Patient: 00000000076, number of sessions: 1, evaluations: 0\n",
      "Patient: 00000000060, number of sessions: 1, evaluations: 0\n",
      "Patient: 00000000037, number of sessions: 1, evaluations: 1\n",
      "Patient: 00000000040, number of sessions: 1, evaluations: 0\n",
      "Patient: 00000000017, number of sessions: 4, evaluations: 5 4 4 4\n",
      "Patient: 00000000001, number of sessions: 3, evaluations: 0 0 0\n",
      "Patient: 00000000056, number of sessions: 1, evaluations: 0\n",
      "Patient: 00000000083, number of sessions: 1, evaluations: 2\n",
      "Patient: 00000000030, number of sessions: 0, evaluations: \n",
      "Patient: 00000000067, number of sessions: 2, evaluations: 0 0\n",
      "Patient: 00000000071, number of sessions: 0, evaluations: \n",
      "Patient: 00000000026, number of sessions: 3, evaluations: 0 1 1\n",
      "Patient: 00000000051, number of sessions: 1, evaluations: 0\n",
      "Patient: 00000000006, number of sessions: 2, evaluations: 0 0\n",
      "Patient: 00000000010, number of sessions: 3, evaluations: 2 0 0\n",
      "Patient: 00000000047, number of sessions: 2, evaluations: 0 1\n",
      "Patient: 00000000046, number of sessions: 1, evaluations: 0\n",
      "Patient: 00000000011, number of sessions: 1, evaluations: 0\n",
      "Patient: 00000000007, number of sessions: 3, evaluations: 0 1 1\n",
      "Patient: 00000000050, number of sessions: 1, evaluations: 0\n",
      "Patient: 00000000085, number of sessions: 1, evaluations: 2\n",
      "Patient: 00000000027, number of sessions: 1, evaluations: 3\n",
      "Patient: 00000000070, number of sessions: 1, evaluations: 0\n",
      "Patient: 00000000066, number of sessions: 1, evaluations: 0\n",
      "Patient: 00000000031, number of sessions: 2, evaluations: 1 0\n",
      "Patient: 00000000049, number of sessions: 1, evaluations: 0\n",
      "Patient: 00000000008, number of sessions: 1, evaluations: 2\n",
      "Patient: 00000000073, number of sessions: 1, evaluations: 0\n",
      "Patient: 00000000065, number of sessions: 1, evaluations: 0\n",
      "Patient: 00000000032, number of sessions: 1, evaluations: 5\n",
      "Patient: 00000000045, number of sessions: 1, evaluations: 2\n",
      "Patient: 00000000012, number of sessions: 2, evaluations: 0 1\n",
      "Patient: 00000000004, number of sessions: 1, evaluations: 1\n",
      "Patient: 00000000053, number of sessions: 0, evaluations: \n",
      "Patient: 00000000028, number of sessions: 4, evaluations: 5 5 3 2\n",
      "Patient: 00000000069, number of sessions: 1, evaluations: 0\n",
      "Patient: 00000000068, number of sessions: 1, evaluations: 5\n",
      "Patient: 00000000029, number of sessions: 1, evaluations: 0\n",
      "Patient: 00000000052, number of sessions: 2, evaluations: 5 4\n",
      "Patient: 00000000005, number of sessions: 1, evaluations: 0\n",
      "Patient: 00000000013, number of sessions: 1, evaluations: 0\n",
      "Patient: 00000000044, number of sessions: 1, evaluations: 0\n",
      "Patient: 00000000033, number of sessions: 1, evaluations: 0\n",
      "Patient: 00000000064, number of sessions: 2, evaluations: 0 0\n",
      "Patient: 00000000072, number of sessions: 2, evaluations: 0 0\n",
      "Patient: 00000000025, number of sessions: 1, evaluations: 5\n",
      "Patient: 00000000009, number of sessions: 2, evaluations: 1 1\n",
      "Patient: 00000000048, number of sessions: 1, evaluations: 0\n",
      "Patient: 00000000043, number of sessions: 1, evaluations: 2\n",
      "Patient: 00000000014, number of sessions: 3, evaluations: 3 3 3\n",
      "Patient: 00000000002, number of sessions: 2, evaluations: 1 1\n",
      "Patient: 00000000055, number of sessions: 1, evaluations: 0\n",
      "Patient: 00000000079, number of sessions: 1, evaluations: 0\n",
      "Patient: 00000000080, number of sessions: 1, evaluations: 4\n",
      "Patient: 00000000038, number of sessions: 1, evaluations: 0\n",
      "Patient: 00000000018, number of sessions: 2, evaluations: 0 0\n",
      "Patient: 00000000059, number of sessions: 1, evaluations: 1\n",
      "Patient: 00000000022, number of sessions: 1, evaluations: 5\n",
      "Patient: 00000000075, number of sessions: 1, evaluations: 0\n",
      "Patient: 00000000063, number of sessions: 1, evaluations: 0\n",
      "Patient: 00000000034, number of sessions: 1, evaluations: 0\n",
      "Patient: 00000000035, number of sessions: 2, evaluations: 0 1\n",
      "Patient: 00000000074, number of sessions: 1, evaluations: 0\n",
      "Patient: 00000000023, number of sessions: 2, evaluations: 5 5\n",
      "Patient: 00000000058, number of sessions: 1, evaluations: 0\n",
      "Patient: 00000000019, number of sessions: 2, evaluations: 2 2\n",
      "Patient: 00000000039, number of sessions: 1, evaluations: 2\n",
      "Patient: 00000000081, number of sessions: 1, evaluations: 5\n",
      "Patient: 00000000078, number of sessions: 3, evaluations: 5 2 2\n",
      "Patient: 00000000003, number of sessions: 3, evaluations: 0 1 1\n",
      "Patient: 00000000015, number of sessions: 4, evaluations: 0 0 2 2\n",
      "Patient: 00000000042, number of sessions: 1, evaluations: 5\n"
     ]
    }
   ],
   "source": [
    "for patient_id, sessions in patients_sessions.items():\n",
    "    evaluations = [session['evaluation'] for session in sorted(sessions, key=lambda x: x['exercise_dates'])]\n",
    "    print('Patient: %s, number of sessions: %s, evaluations: %s' % (patient_id, len(sessions), ' '.join(map(str, evaluations))))"
   ]
  },
  {
   "cell_type": "code",
   "execution_count": null,
   "id": "00ae3647",
   "metadata": {},
   "outputs": [],
   "source": []
  }
 ],
 "metadata": {
  "kernelspec": {
   "display_name": "face-prognosis",
   "language": "python",
   "name": "face-prognosis"
  },
  "language_info": {
   "codemirror_mode": {
    "name": "ipython",
    "version": 3
   },
   "file_extension": ".py",
   "mimetype": "text/x-python",
   "name": "python",
   "nbconvert_exporter": "python",
   "pygments_lexer": "ipython3",
   "version": "3.8.13"
  }
 },
 "nbformat": 4,
 "nbformat_minor": 5
}
