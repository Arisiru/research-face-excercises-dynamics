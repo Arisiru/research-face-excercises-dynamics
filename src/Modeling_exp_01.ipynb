{
 "cells": [
  {
   "cell_type": "markdown",
   "id": "c3ffceac",
   "metadata": {},
   "source": [
    "# Notes"
   ]
  },
  {
   "cell_type": "markdown",
   "id": "941fce85",
   "metadata": {},
   "source": [
    "First iteration is to model: goal to have end to end pipeline from data to dynamics for a patient\n",
    "- Don't have test train split\n",
    "- Predict on training data\n",
    "- Entry is an exercise\n",
    "- Include exercise meta like https://pyimagesearch.com/2019/02/04/keras-multiple-inputs-and-mixed-data/ "
   ]
  },
  {
   "cell_type": "code",
   "execution_count": 1,
   "id": "2167fbdb",
   "metadata": {},
   "outputs": [],
   "source": [
    "import os \n",
    "import re\n",
    "import csv\n",
    "import json\n",
    "from datetime import datetime\n",
    "\n",
    "import math\n",
    "import pandas as pd\n",
    "import numpy as np\n",
    "import tensorflow as tf\n",
    "from tensorflow.keras.preprocessing.sequence import pad_sequences\n"
   ]
  },
  {
   "cell_type": "markdown",
   "id": "e8c2277c",
   "metadata": {},
   "source": [
    "# Constants"
   ]
  },
  {
   "cell_type": "code",
   "execution_count": 2,
   "id": "bb75db30",
   "metadata": {},
   "outputs": [],
   "source": [
    "SEQ_MAX_LEN = 600\n",
    "NUM_CLASSES = 6\n",
    "NUM_EXERCISES = 9\n",
    "NUM_FLAG_BS = 2"
   ]
  },
  {
   "cell_type": "code",
   "execution_count": 3,
   "id": "eed45b66",
   "metadata": {},
   "outputs": [],
   "source": [
    "dir_data_root = os.path.join('..', 'data')\n",
    "dir_exercises = os.path.join(dir_data_root, 'json', 'exercises_raw')\n",
    "dir_patiens_sessions = os.path.join(dir_data_root, 'json', 'patients_sessions')"
   ]
  },
  {
   "cell_type": "markdown",
   "id": "e544c090",
   "metadata": {},
   "source": [
    "# Data prep"
   ]
  },
  {
   "cell_type": "markdown",
   "id": "6ca3d18d",
   "metadata": {},
   "source": [
    "### Build training set"
   ]
  },
  {
   "cell_type": "code",
   "execution_count": 4,
   "id": "95d508f2",
   "metadata": {},
   "outputs": [],
   "source": [
    "def exercise_to_input(file_path):\n",
    "    with open(file_path, 'r') as f_r:\n",
    "        exercise = json.load(f_r)\n",
    "        \n",
    "        exercise_sequence = []\n",
    "\n",
    "        for poi in sorted(exercise['pois'].keys()):\n",
    "            sequences = exercise['pois'][poi]\n",
    "            exercise_sequence.append(sequences['xs'])\n",
    "            exercise_sequence.append(sequences['ys'])\n",
    "            exercise_sequence.append(sequences['zs'])\n",
    "    \n",
    "        exercise_sequence = pad_sequences(\n",
    "            exercise_sequence,\n",
    "            padding=\"pre\",\n",
    "            maxlen=SEQ_MAX_LEN)\n",
    "    \n",
    "    x_a_1 = [0] * NUM_EXERCISES\n",
    "    x_a_2 = [0] * NUM_FLAG_BS\n",
    "    x_a_1[exercise['meta']['id']] = 1\n",
    "    x_a_2[exercise['meta']['flag_before_surgery']] = 1\n",
    "\n",
    "    return x_a_1 + x_a_2, exercise_sequence, exercise['meta']['evaluation']"
   ]
  },
  {
   "cell_type": "code",
   "execution_count": 5,
   "id": "a93a7a24",
   "metadata": {},
   "outputs": [
    {
     "name": "stdout",
     "output_type": "stream",
     "text": [
      "(1029,)\n",
      "(1029, 11)\n",
      "(1029, 63, 600)\n"
     ]
    }
   ],
   "source": [
    "xslist_a = list()\n",
    "xslist_b = list()\n",
    "yslist = list()\n",
    "\n",
    "for file_name in os.listdir(dir_exercises):\n",
    "    file_path = os.path.join(dir_exercises, file_name)\n",
    "    \n",
    "    if file_name == '.DS_Store': continue\n",
    "\n",
    "    xs_a, xs_b, ys = exercise_to_input(file_path)\n",
    "    \n",
    "    yslist.append(ys)\n",
    "    xslist_a.append(xs_a)  \n",
    "    xslist_b.append(xs_b)\n",
    "    \n",
    "    #break\n",
    "            \n",
    "ys = np.array(yslist)\n",
    "xs_a = np.array(xslist_a)   \n",
    "xs_b = np.array(xslist_b) \n",
    "\n",
    "\n",
    "print(ys.shape)\n",
    "print(xs_a.shape)\n",
    "print(xs_b.shape)"
   ]
  },
  {
   "cell_type": "markdown",
   "id": "eeba3312",
   "metadata": {},
   "source": [
    "## Modeling"
   ]
  },
  {
   "cell_type": "code",
   "execution_count": 6,
   "id": "db63f1bb",
   "metadata": {},
   "outputs": [],
   "source": [
    "from tensorflow.keras.layers import Dense\n",
    "from tensorflow.keras.layers import LSTM\n",
    "from tensorflow.keras.layers import Conv1D\n",
    "from tensorflow.keras.layers import Conv2D\n",
    "from tensorflow.keras.layers import MaxPooling1D\n",
    "from tensorflow.keras.layers import MaxPooling2D\n",
    "from tensorflow.keras.layers import Flatten\n",
    "from tensorflow.keras.layers import Input\n",
    "from tensorflow.keras.layers import concatenate\n",
    "from tensorflow.keras.layers import BatchNormalization\n",
    "from tensorflow.keras.layers import Dropout\n",
    "from tensorflow.keras.models import Model\n",
    "from tensorflow.keras.optimizers import Adam"
   ]
  },
  {
   "cell_type": "raw",
   "id": "6552a330",
   "metadata": {},
   "source": [
    "model = models.Sequential()\n",
    "model.add(layers.Conv2D(32, (3, 3), activation='relu', input_shape=(32, 32, 3)))\n",
    "model.add(layers.MaxPooling2D((2, 2)))\n",
    "model.add(layers.Conv2D(64, (3, 3), activation='relu'))\n",
    "model.add(layers.MaxPooling2D((2, 2)))\n",
    "model.add(layers.Conv2D(64, (3, 3), activation='relu'))\n",
    "model.add(layers.Flatten())\n",
    "model.add(layers.Dense(64, activation='relu'))\n",
    "model.add(layers.Dense(10))\n",
    "Dense(128, activation='relu'),\n",
    "\n",
    "\n",
    "x = Conv2D(f, (3, 3), padding=\"same\")(x)\n",
    "x = Activation(\"relu\")(x)\n",
    "x = BatchNormalization(axis=chanDim)(x)\n",
    "x = MaxPooling2D(pool_size=(2, 2))(x)"
   ]
  },
  {
   "cell_type": "code",
   "execution_count": 7,
   "id": "29b2c732",
   "metadata": {},
   "outputs": [
    {
     "name": "stdout",
     "output_type": "stream",
     "text": [
      "Metal device set to: Apple M1\n"
     ]
    },
    {
     "name": "stderr",
     "output_type": "stream",
     "text": [
      "2023-04-10 19:09:23.837661: I tensorflow/core/common_runtime/pluggable_device/pluggable_device_factory.cc:306] Could not identify NUMA node of platform GPU ID 0, defaulting to 0. Your kernel may not have been built with NUMA support.\n",
      "2023-04-10 19:09:23.838137: I tensorflow/core/common_runtime/pluggable_device/pluggable_device_factory.cc:272] Created TensorFlow device (/job:localhost/replica:0/task:0/device:GPU:0 with 0 MB memory) -> physical PluggableDevice (device: 0, name: METAL, pci bus id: <undefined>)\n"
     ]
    },
    {
     "name": "stdout",
     "output_type": "stream",
     "text": [
      "Model: \"model_2\"\n",
      "__________________________________________________________________________________________________\n",
      " Layer (type)                   Output Shape         Param #     Connected to                     \n",
      "==================================================================================================\n",
      " input_2 (InputLayer)           [(None, 63, 600)]    0           []                               \n",
      "                                                                                                  \n",
      " conv1d (Conv1D)                (None, 63, 16)       28816       ['input_2[0][0]']                \n",
      "                                                                                                  \n",
      " batch_normalization (BatchNorm  (None, 63, 16)      64          ['conv1d[0][0]']                 \n",
      " alization)                                                                                       \n",
      "                                                                                                  \n",
      " max_pooling1d (MaxPooling1D)   (None, 31, 16)       0           ['batch_normalization[0][0]']    \n",
      "                                                                                                  \n",
      " conv1d_1 (Conv1D)              (None, 31, 32)       1568        ['max_pooling1d[0][0]']          \n",
      "                                                                                                  \n",
      " batch_normalization_1 (BatchNo  (None, 31, 32)      128         ['conv1d_1[0][0]']               \n",
      " rmalization)                                                                                     \n",
      "                                                                                                  \n",
      " max_pooling1d_1 (MaxPooling1D)  (None, 15, 32)      0           ['batch_normalization_1[0][0]']  \n",
      "                                                                                                  \n",
      " conv1d_2 (Conv1D)              (None, 15, 64)       6208        ['max_pooling1d_1[0][0]']        \n",
      "                                                                                                  \n",
      " batch_normalization_2 (BatchNo  (None, 15, 64)      256         ['conv1d_2[0][0]']               \n",
      " rmalization)                                                                                     \n",
      "                                                                                                  \n",
      " max_pooling1d_2 (MaxPooling1D)  (None, 7, 64)       0           ['batch_normalization_2[0][0]']  \n",
      "                                                                                                  \n",
      " conv1d_3 (Conv1D)              (None, 7, 64)        12352       ['max_pooling1d_2[0][0]']        \n",
      "                                                                                                  \n",
      " batch_normalization_3 (BatchNo  (None, 7, 64)       256         ['conv1d_3[0][0]']               \n",
      " rmalization)                                                                                     \n",
      "                                                                                                  \n",
      " max_pooling1d_3 (MaxPooling1D)  (None, 3, 64)       0           ['batch_normalization_3[0][0]']  \n",
      "                                                                                                  \n",
      " flatten (Flatten)              (None, 192)          0           ['max_pooling1d_3[0][0]']        \n",
      "                                                                                                  \n",
      " input_1 (InputLayer)           [(None, 11)]         0           []                               \n",
      "                                                                                                  \n",
      " dropout (Dropout)              (None, 192)          0           ['flatten[0][0]']                \n",
      "                                                                                                  \n",
      " dense (Dense)                  (None, 4)            48          ['input_1[0][0]']                \n",
      "                                                                                                  \n",
      " dense_1 (Dense)                (None, 128)          24704       ['dropout[0][0]']                \n",
      "                                                                                                  \n",
      " concatenate (Concatenate)      (None, 132)          0           ['dense[0][0]',                  \n",
      "                                                                  'dense_1[0][0]']                \n",
      "                                                                                                  \n",
      " dense_2 (Dense)                (None, 32)           4256        ['concatenate[0][0]']            \n",
      "                                                                                                  \n",
      " dense_3 (Dense)                (None, 6)            198         ['dense_2[0][0]']                \n",
      "                                                                                                  \n",
      "==================================================================================================\n",
      "Total params: 78,854\n",
      "Trainable params: 78,502\n",
      "Non-trainable params: 352\n",
      "__________________________________________________________________________________________________\n"
     ]
    },
    {
     "name": "stderr",
     "output_type": "stream",
     "text": [
      "/Users/alanchen/.local/share/virtualenvs/research-face-excercises-dynamics-o_HFBNSW/lib/python3.8/site-packages/keras/optimizers/optimizer_v2/adam.py:114: UserWarning: The `lr` argument is deprecated, use `learning_rate` instead.\n",
      "  super().__init__(name, **kwargs)\n"
     ]
    }
   ],
   "source": [
    "chanDim = -1\n",
    "    \n",
    "inputA = Input(shape=xs_a.shape[1:])\n",
    "inputB = Input(shape=xs_b.shape[1:])\n",
    "\n",
    "x_a = Dense(4, activation=\"relu\")(inputA)\n",
    "x_a = Model(inputs=inputA, outputs=x_a)\n",
    "\n",
    "#x_b = LSTM(64)(inputB)\n",
    "x_b = Conv1D(16, 3, padding='same', activation='relu')(inputB)\n",
    "x_b = BatchNormalization(axis=chanDim)(x_b)\n",
    "x_b = MaxPooling1D((2))(x_b)\n",
    "x_b = Conv1D(32, 3, padding='same', activation='relu')(x_b)\n",
    "x_b = BatchNormalization(axis=chanDim)(x_b)\n",
    "x_b = MaxPooling1D((2))(x_b)\n",
    "x_b = Conv1D(64, 3, padding='same', activation='relu')(x_b)\n",
    "x_b = BatchNormalization(axis=chanDim)(x_b)\n",
    "x_b = MaxPooling1D((2))(x_b)\n",
    "x_b = Conv1D(64, 3, padding='same', activation='relu')(x_b)\n",
    "x_b = BatchNormalization(axis=chanDim)(x_b)\n",
    "x_b = MaxPooling1D((2))(x_b)\n",
    "x_b = Flatten()(x_b)\n",
    "x_b = Dropout(0.5)(x_b)\n",
    "x_b = Dense(128, activation=\"relu\")(x_b)\n",
    "x_b = Model(inputs=inputB, outputs=x_b)\n",
    "\n",
    "combined = concatenate([x_a.output, x_b.output])\n",
    "x = Dense(32, activation=\"relu\")(combined)\n",
    "x = Dense(6, activation=\"softmax\")(x)\n",
    "model = Model(inputs=[x_a.input, x_b.input], outputs=x)\n",
    "\n",
    "model.compile(\n",
    "    loss=\"sparse_categorical_crossentropy\", \n",
    "    optimizer=Adam(lr=1e-3, decay=1e-3 / 200),\n",
    "    metrics=['accuracy']\n",
    ")\n",
    "\n",
    "model.summary()"
   ]
  },
  {
   "cell_type": "code",
   "execution_count": 8,
   "id": "82dd2364",
   "metadata": {},
   "outputs": [
    {
     "name": "stdout",
     "output_type": "stream",
     "text": [
      "{0, 1, 2, 3, 4, 5}\n"
     ]
    }
   ],
   "source": [
    "print(set(ys))"
   ]
  },
  {
   "cell_type": "code",
   "execution_count": 9,
   "id": "d1bca9ef",
   "metadata": {},
   "outputs": [],
   "source": [
    "weight_training_classes = {0: 0.32075471698113206, \n",
    "                           1: 1.1333333333333333,\n",
    "                           2: 1.3076923076923077, \n",
    "                           3: 3.4, \n",
    "                           4: 3.4,\n",
    "                           5: 1.5454545454545454}"
   ]
  },
  {
   "cell_type": "code",
   "execution_count": 10,
   "id": "7ebf4216",
   "metadata": {},
   "outputs": [
    {
     "name": "stdout",
     "output_type": "stream",
     "text": [
      "Epoch 1/100\n"
     ]
    },
    {
     "name": "stderr",
     "output_type": "stream",
     "text": [
      "2023-04-10 19:09:24.171414: W tensorflow/core/platform/profile_utils/cpu_utils.cc:128] Failed to get CPU frequency: 0 Hz\n",
      "2023-04-10 19:09:24.877253: I tensorflow/core/grappler/optimizers/custom_graph_optimizer_registry.cc:114] Plugin optimizer for device_type GPU is enabled.\n"
     ]
    },
    {
     "name": "stdout",
     "output_type": "stream",
     "text": [
      "129/129 [==============================] - ETA: 0s - loss: 2.1289 - accuracy: 0.1856"
     ]
    },
    {
     "name": "stderr",
     "output_type": "stream",
     "text": [
      "2023-04-10 19:09:28.140355: I tensorflow/core/grappler/optimizers/custom_graph_optimizer_registry.cc:114] Plugin optimizer for device_type GPU is enabled.\n"
     ]
    },
    {
     "name": "stdout",
     "output_type": "stream",
     "text": [
      "129/129 [==============================] - 5s 27ms/step - loss: 2.1289 - accuracy: 0.1856 - val_loss: 1.6873 - val_accuracy: 0.2206\n",
      "Epoch 2/100\n",
      "129/129 [==============================] - 3s 22ms/step - loss: 1.8445 - accuracy: 0.2187 - val_loss: 1.6349 - val_accuracy: 0.3469\n",
      "Epoch 3/100\n",
      "129/129 [==============================] - 3s 22ms/step - loss: 1.8040 - accuracy: 0.2255 - val_loss: 1.8159 - val_accuracy: 0.2449\n",
      "Epoch 4/100\n",
      "129/129 [==============================] - 3s 22ms/step - loss: 1.7977 - accuracy: 0.1808 - val_loss: 1.9579 - val_accuracy: 0.1565\n",
      "Epoch 5/100\n",
      "129/129 [==============================] - 3s 22ms/step - loss: 1.8179 - accuracy: 0.1846 - val_loss: 1.6443 - val_accuracy: 0.3576\n",
      "Epoch 6/100\n",
      "129/129 [==============================] - 3s 23ms/step - loss: 1.7730 - accuracy: 0.2177 - val_loss: 1.6449 - val_accuracy: 0.3324\n",
      "Epoch 7/100\n",
      "129/129 [==============================] - 4s 29ms/step - loss: 1.7523 - accuracy: 0.2362 - val_loss: 1.5460 - val_accuracy: 0.4354\n",
      "Epoch 8/100\n",
      "129/129 [==============================] - 3s 25ms/step - loss: 1.6872 - accuracy: 0.2799 - val_loss: 1.5216 - val_accuracy: 0.4140\n",
      "Epoch 9/100\n",
      "129/129 [==============================] - 3s 22ms/step - loss: 1.6642 - accuracy: 0.3110 - val_loss: 1.5633 - val_accuracy: 0.3751\n",
      "Epoch 10/100\n",
      "129/129 [==============================] - 3s 21ms/step - loss: 1.6161 - accuracy: 0.3392 - val_loss: 1.4264 - val_accuracy: 0.4286\n",
      "Epoch 11/100\n",
      "129/129 [==============================] - 3s 21ms/step - loss: 1.5620 - accuracy: 0.3586 - val_loss: 1.4320 - val_accuracy: 0.4538\n",
      "Epoch 12/100\n",
      "129/129 [==============================] - 3s 21ms/step - loss: 1.5767 - accuracy: 0.3625 - val_loss: 1.5583 - val_accuracy: 0.3324\n",
      "Epoch 13/100\n",
      "129/129 [==============================] - 3s 21ms/step - loss: 1.5509 - accuracy: 0.3751 - val_loss: 1.4191 - val_accuracy: 0.4237\n",
      "Epoch 14/100\n",
      "129/129 [==============================] - 3s 21ms/step - loss: 1.4829 - accuracy: 0.3955 - val_loss: 1.3192 - val_accuracy: 0.5131\n",
      "Epoch 15/100\n",
      "129/129 [==============================] - 3s 21ms/step - loss: 1.4796 - accuracy: 0.3907 - val_loss: 1.3006 - val_accuracy: 0.5083\n",
      "Epoch 16/100\n",
      "129/129 [==============================] - 3s 21ms/step - loss: 1.4805 - accuracy: 0.4033 - val_loss: 1.3813 - val_accuracy: 0.4218\n",
      "Epoch 17/100\n",
      "129/129 [==============================] - 3s 21ms/step - loss: 1.4306 - accuracy: 0.4189 - val_loss: 1.4032 - val_accuracy: 0.4820\n",
      "Epoch 18/100\n",
      "129/129 [==============================] - 3s 22ms/step - loss: 1.4657 - accuracy: 0.4130 - val_loss: 1.2775 - val_accuracy: 0.4947\n",
      "Epoch 19/100\n",
      "129/129 [==============================] - 3s 22ms/step - loss: 1.4304 - accuracy: 0.4130 - val_loss: 1.2989 - val_accuracy: 0.5073\n",
      "Epoch 20/100\n",
      "129/129 [==============================] - 3s 21ms/step - loss: 1.4034 - accuracy: 0.4140 - val_loss: 1.3109 - val_accuracy: 0.4849\n",
      "Epoch 21/100\n",
      "129/129 [==============================] - 3s 21ms/step - loss: 1.3741 - accuracy: 0.4354 - val_loss: 1.2686 - val_accuracy: 0.4704\n",
      "Epoch 22/100\n",
      "129/129 [==============================] - 3s 22ms/step - loss: 1.3474 - accuracy: 0.4218 - val_loss: 1.4235 - val_accuracy: 0.4198\n",
      "Epoch 23/100\n",
      "129/129 [==============================] - 3s 21ms/step - loss: 1.3121 - accuracy: 0.4393 - val_loss: 1.2697 - val_accuracy: 0.4772\n",
      "Epoch 24/100\n",
      "129/129 [==============================] - 3s 21ms/step - loss: 1.2775 - accuracy: 0.4412 - val_loss: 1.2156 - val_accuracy: 0.5121\n",
      "Epoch 25/100\n",
      "129/129 [==============================] - 3s 21ms/step - loss: 1.2327 - accuracy: 0.4568 - val_loss: 1.1596 - val_accuracy: 0.5355\n",
      "Epoch 26/100\n",
      "129/129 [==============================] - 3s 21ms/step - loss: 1.1873 - accuracy: 0.4791 - val_loss: 1.1336 - val_accuracy: 0.5588\n",
      "Epoch 27/100\n",
      "129/129 [==============================] - 3s 21ms/step - loss: 1.1988 - accuracy: 0.4859 - val_loss: 1.3420 - val_accuracy: 0.5015\n",
      "Epoch 28/100\n",
      "129/129 [==============================] - 3s 22ms/step - loss: 1.1442 - accuracy: 0.5015 - val_loss: 1.1091 - val_accuracy: 0.5015\n",
      "Epoch 29/100\n",
      "129/129 [==============================] - 3s 22ms/step - loss: 1.1513 - accuracy: 0.4917 - val_loss: 0.9855 - val_accuracy: 0.5860\n",
      "Epoch 30/100\n",
      "129/129 [==============================] - 3s 21ms/step - loss: 1.0539 - accuracy: 0.5160 - val_loss: 0.9391 - val_accuracy: 0.6307\n",
      "Epoch 31/100\n",
      "129/129 [==============================] - 3s 22ms/step - loss: 1.0167 - accuracy: 0.5432 - val_loss: 0.9800 - val_accuracy: 0.5918\n",
      "Epoch 32/100\n",
      "129/129 [==============================] - 3s 22ms/step - loss: 1.0204 - accuracy: 0.5287 - val_loss: 1.1104 - val_accuracy: 0.5102\n",
      "Epoch 33/100\n",
      "129/129 [==============================] - 3s 21ms/step - loss: 0.9946 - accuracy: 0.5442 - val_loss: 1.0563 - val_accuracy: 0.5500\n",
      "Epoch 34/100\n",
      "129/129 [==============================] - 3s 21ms/step - loss: 0.9882 - accuracy: 0.5481 - val_loss: 1.0190 - val_accuracy: 0.6200\n",
      "Epoch 35/100\n",
      "129/129 [==============================] - 3s 21ms/step - loss: 1.1215 - accuracy: 0.5034 - val_loss: 1.2427 - val_accuracy: 0.4840\n",
      "Epoch 36/100\n",
      "129/129 [==============================] - 3s 21ms/step - loss: 1.0838 - accuracy: 0.5316 - val_loss: 0.8803 - val_accuracy: 0.6735\n",
      "Epoch 37/100\n",
      "129/129 [==============================] - 3s 21ms/step - loss: 1.0295 - accuracy: 0.5617 - val_loss: 0.8981 - val_accuracy: 0.6725\n",
      "Epoch 38/100\n",
      "129/129 [==============================] - 3s 21ms/step - loss: 0.9404 - accuracy: 0.5850 - val_loss: 0.9072 - val_accuracy: 0.6871\n",
      "Epoch 39/100\n",
      "129/129 [==============================] - 3s 21ms/step - loss: 0.8957 - accuracy: 0.6064 - val_loss: 0.9259 - val_accuracy: 0.6443\n",
      "Epoch 40/100\n",
      "129/129 [==============================] - 3s 21ms/step - loss: 0.9205 - accuracy: 0.5938 - val_loss: 0.9184 - val_accuracy: 0.6336\n",
      "Epoch 41/100\n",
      "129/129 [==============================] - 3s 21ms/step - loss: 0.9006 - accuracy: 0.5782 - val_loss: 0.8709 - val_accuracy: 0.6521\n",
      "Epoch 42/100\n",
      "129/129 [==============================] - 3s 21ms/step - loss: 0.8566 - accuracy: 0.6054 - val_loss: 1.0495 - val_accuracy: 0.5792\n",
      "Epoch 43/100\n",
      "129/129 [==============================] - 3s 21ms/step - loss: 0.9808 - accuracy: 0.5617 - val_loss: 0.8917 - val_accuracy: 0.6696\n",
      "Epoch 44/100\n",
      "129/129 [==============================] - 3s 22ms/step - loss: 0.8889 - accuracy: 0.5957 - val_loss: 0.8360 - val_accuracy: 0.6861\n",
      "Epoch 45/100\n",
      "129/129 [==============================] - 3s 22ms/step - loss: 0.8003 - accuracy: 0.6278 - val_loss: 0.8282 - val_accuracy: 0.6667\n",
      "Epoch 46/100\n",
      "129/129 [==============================] - 3s 21ms/step - loss: 0.8231 - accuracy: 0.6122 - val_loss: 0.7875 - val_accuracy: 0.6997\n",
      "Epoch 47/100\n",
      "129/129 [==============================] - 3s 21ms/step - loss: 0.8602 - accuracy: 0.6171 - val_loss: 0.8800 - val_accuracy: 0.6803\n",
      "Epoch 48/100\n",
      "129/129 [==============================] - 3s 21ms/step - loss: 0.7326 - accuracy: 0.6511 - val_loss: 0.7451 - val_accuracy: 0.7104\n",
      "Epoch 49/100\n",
      "129/129 [==============================] - 3s 22ms/step - loss: 0.8113 - accuracy: 0.6278 - val_loss: 0.9305 - val_accuracy: 0.6161\n",
      "Epoch 50/100\n",
      "129/129 [==============================] - 3s 22ms/step - loss: 0.8041 - accuracy: 0.6259 - val_loss: 0.6701 - val_accuracy: 0.7532\n",
      "Epoch 51/100\n",
      "129/129 [==============================] - 3s 21ms/step - loss: 0.7043 - accuracy: 0.6657 - val_loss: 0.7386 - val_accuracy: 0.7026\n",
      "Epoch 52/100\n",
      "129/129 [==============================] - 3s 22ms/step - loss: 0.7664 - accuracy: 0.6550 - val_loss: 0.6300 - val_accuracy: 0.7823\n",
      "Epoch 53/100\n",
      "129/129 [==============================] - 3s 21ms/step - loss: 0.6654 - accuracy: 0.6958 - val_loss: 0.7050 - val_accuracy: 0.7046\n",
      "Epoch 54/100\n",
      "129/129 [==============================] - 3s 21ms/step - loss: 0.6783 - accuracy: 0.6861 - val_loss: 0.7507 - val_accuracy: 0.6919\n",
      "Epoch 55/100\n",
      "129/129 [==============================] - 3s 22ms/step - loss: 0.6388 - accuracy: 0.6871 - val_loss: 0.5795 - val_accuracy: 0.7979\n",
      "Epoch 56/100\n",
      "129/129 [==============================] - 3s 21ms/step - loss: 0.6814 - accuracy: 0.6783 - val_loss: 0.6241 - val_accuracy: 0.7561\n",
      "Epoch 57/100\n"
     ]
    },
    {
     "name": "stdout",
     "output_type": "stream",
     "text": [
      "129/129 [==============================] - 3s 21ms/step - loss: 0.6602 - accuracy: 0.7036 - val_loss: 0.6321 - val_accuracy: 0.7415\n",
      "Epoch 58/100\n",
      "129/129 [==============================] - 3s 21ms/step - loss: 0.7180 - accuracy: 0.6880 - val_loss: 0.6691 - val_accuracy: 0.7561\n",
      "Epoch 59/100\n",
      "129/129 [==============================] - 3s 21ms/step - loss: 0.7402 - accuracy: 0.6667 - val_loss: 0.6506 - val_accuracy: 0.7512\n",
      "Epoch 60/100\n",
      "129/129 [==============================] - 3s 21ms/step - loss: 0.7925 - accuracy: 0.6511 - val_loss: 0.6518 - val_accuracy: 0.7570\n",
      "Epoch 61/100\n",
      "129/129 [==============================] - 3s 22ms/step - loss: 0.7241 - accuracy: 0.6686 - val_loss: 0.6372 - val_accuracy: 0.7726\n",
      "Epoch 62/100\n",
      "129/129 [==============================] - 3s 22ms/step - loss: 0.5761 - accuracy: 0.7221 - val_loss: 0.7340 - val_accuracy: 0.7114\n",
      "Epoch 63/100\n",
      "129/129 [==============================] - 3s 22ms/step - loss: 0.6273 - accuracy: 0.7094 - val_loss: 0.6001 - val_accuracy: 0.7512\n",
      "Epoch 64/100\n",
      "129/129 [==============================] - 3s 21ms/step - loss: 0.6423 - accuracy: 0.7065 - val_loss: 0.5838 - val_accuracy: 0.7843\n",
      "Epoch 65/100\n",
      "129/129 [==============================] - 3s 21ms/step - loss: 0.6114 - accuracy: 0.7240 - val_loss: 0.6319 - val_accuracy: 0.7522\n",
      "Epoch 66/100\n",
      "129/129 [==============================] - 3s 21ms/step - loss: 0.6044 - accuracy: 0.7201 - val_loss: 0.5403 - val_accuracy: 0.7891\n",
      "Epoch 67/100\n",
      "129/129 [==============================] - 3s 21ms/step - loss: 0.4801 - accuracy: 0.7619 - val_loss: 0.7165 - val_accuracy: 0.7104\n",
      "Epoch 68/100\n",
      "129/129 [==============================] - 3s 21ms/step - loss: 0.5443 - accuracy: 0.7269 - val_loss: 0.4486 - val_accuracy: 0.8173\n",
      "Epoch 69/100\n",
      "129/129 [==============================] - 3s 21ms/step - loss: 0.5520 - accuracy: 0.7425 - val_loss: 0.5174 - val_accuracy: 0.8008\n",
      "Epoch 70/100\n",
      "129/129 [==============================] - 3s 21ms/step - loss: 0.5523 - accuracy: 0.7337 - val_loss: 0.6637 - val_accuracy: 0.7230\n",
      "Epoch 71/100\n",
      "129/129 [==============================] - 3s 21ms/step - loss: 0.5396 - accuracy: 0.7366 - val_loss: 0.5777 - val_accuracy: 0.7590\n",
      "Epoch 72/100\n",
      "129/129 [==============================] - 3s 21ms/step - loss: 0.5066 - accuracy: 0.7590 - val_loss: 0.4818 - val_accuracy: 0.7979\n",
      "Epoch 73/100\n",
      "129/129 [==============================] - 3s 21ms/step - loss: 0.4776 - accuracy: 0.7638 - val_loss: 0.4332 - val_accuracy: 0.8163\n",
      "Epoch 74/100\n",
      "129/129 [==============================] - 3s 21ms/step - loss: 0.5169 - accuracy: 0.7561 - val_loss: 0.4855 - val_accuracy: 0.7998\n",
      "Epoch 75/100\n",
      "129/129 [==============================] - 3s 21ms/step - loss: 0.5206 - accuracy: 0.7532 - val_loss: 0.5338 - val_accuracy: 0.7813\n",
      "Epoch 76/100\n",
      "129/129 [==============================] - 3s 22ms/step - loss: 0.4634 - accuracy: 0.7590 - val_loss: 0.4274 - val_accuracy: 0.8348\n",
      "Epoch 77/100\n",
      "129/129 [==============================] - 3s 23ms/step - loss: 0.4703 - accuracy: 0.7648 - val_loss: 0.4551 - val_accuracy: 0.8076\n",
      "Epoch 78/100\n",
      "129/129 [==============================] - 3s 23ms/step - loss: 0.4908 - accuracy: 0.7590 - val_loss: 0.4473 - val_accuracy: 0.8144\n",
      "Epoch 79/100\n",
      "129/129 [==============================] - 3s 22ms/step - loss: 0.4441 - accuracy: 0.7843 - val_loss: 0.3942 - val_accuracy: 0.8484\n",
      "Epoch 80/100\n",
      "129/129 [==============================] - 3s 22ms/step - loss: 0.4422 - accuracy: 0.7775 - val_loss: 0.5266 - val_accuracy: 0.7862\n",
      "Epoch 81/100\n",
      "129/129 [==============================] - 3s 22ms/step - loss: 0.4145 - accuracy: 0.7813 - val_loss: 0.4397 - val_accuracy: 0.8358\n",
      "Epoch 82/100\n",
      "129/129 [==============================] - 3s 22ms/step - loss: 0.4514 - accuracy: 0.7862 - val_loss: 0.3959 - val_accuracy: 0.8406\n",
      "Epoch 83/100\n",
      "129/129 [==============================] - 3s 21ms/step - loss: 0.4687 - accuracy: 0.7813 - val_loss: 0.4832 - val_accuracy: 0.8047\n",
      "Epoch 84/100\n",
      "129/129 [==============================] - 3s 21ms/step - loss: 0.3845 - accuracy: 0.7969 - val_loss: 0.2926 - val_accuracy: 0.8912\n",
      "Epoch 85/100\n",
      "129/129 [==============================] - 3s 21ms/step - loss: 0.3560 - accuracy: 0.8095 - val_loss: 0.3445 - val_accuracy: 0.8678\n",
      "Epoch 86/100\n",
      "129/129 [==============================] - 3s 22ms/step - loss: 0.3406 - accuracy: 0.8270 - val_loss: 0.3834 - val_accuracy: 0.8406\n",
      "Epoch 87/100\n",
      "129/129 [==============================] - 3s 21ms/step - loss: 0.3590 - accuracy: 0.8086 - val_loss: 0.4743 - val_accuracy: 0.8115\n",
      "Epoch 88/100\n",
      "129/129 [==============================] - 3s 21ms/step - loss: 0.4046 - accuracy: 0.7949 - val_loss: 0.3162 - val_accuracy: 0.8678\n",
      "Epoch 89/100\n",
      "129/129 [==============================] - 3s 21ms/step - loss: 0.2934 - accuracy: 0.8484 - val_loss: 0.4149 - val_accuracy: 0.8328\n",
      "Epoch 90/100\n",
      "129/129 [==============================] - 3s 22ms/step - loss: 0.4267 - accuracy: 0.8008 - val_loss: 0.3751 - val_accuracy: 0.8678\n",
      "Epoch 91/100\n",
      "129/129 [==============================] - 3s 21ms/step - loss: 0.3389 - accuracy: 0.8144 - val_loss: 0.3143 - val_accuracy: 0.8746\n",
      "Epoch 92/100\n",
      "129/129 [==============================] - 3s 21ms/step - loss: 0.3400 - accuracy: 0.8348 - val_loss: 0.3127 - val_accuracy: 0.8776\n",
      "Epoch 93/100\n",
      "129/129 [==============================] - 3s 22ms/step - loss: 0.4405 - accuracy: 0.8183 - val_loss: 0.3340 - val_accuracy: 0.8630\n",
      "Epoch 94/100\n",
      "129/129 [==============================] - 3s 22ms/step - loss: 0.3413 - accuracy: 0.8086 - val_loss: 0.3072 - val_accuracy: 0.8785\n",
      "Epoch 95/100\n",
      "129/129 [==============================] - 3s 21ms/step - loss: 0.3331 - accuracy: 0.8406 - val_loss: 0.3060 - val_accuracy: 0.8630\n",
      "Epoch 96/100\n",
      "129/129 [==============================] - 3s 21ms/step - loss: 0.3594 - accuracy: 0.8212 - val_loss: 0.3664 - val_accuracy: 0.8571\n",
      "Epoch 97/100\n",
      "129/129 [==============================] - 3s 22ms/step - loss: 0.3190 - accuracy: 0.8348 - val_loss: 0.3338 - val_accuracy: 0.8669\n",
      "Epoch 98/100\n",
      "129/129 [==============================] - 3s 22ms/step - loss: 0.3000 - accuracy: 0.8348 - val_loss: 0.2814 - val_accuracy: 0.8931\n",
      "Epoch 99/100\n",
      "129/129 [==============================] - 3s 22ms/step - loss: 0.3000 - accuracy: 0.8435 - val_loss: 0.2662 - val_accuracy: 0.8921\n",
      "Epoch 100/100\n",
      "129/129 [==============================] - 3s 22ms/step - loss: 0.2982 - accuracy: 0.8707 - val_loss: 0.2514 - val_accuracy: 0.8989\n"
     ]
    },
    {
     "data": {
      "text/plain": [
       "<keras.callbacks.History at 0x152dc94c0>"
      ]
     },
     "execution_count": 10,
     "metadata": {},
     "output_type": "execute_result"
    }
   ],
   "source": [
    "model.fit(\n",
    "    x=[xs_a, xs_b], y=ys, \n",
    "    validation_data=([xs_a, xs_b], ys),\n",
    "    batch_size=8, epochs=100,\n",
    "    class_weight=weight_training_classes)"
   ]
  },
  {
   "cell_type": "code",
   "execution_count": 11,
   "id": "e9a00ea5",
   "metadata": {},
   "outputs": [
    {
     "name": "stderr",
     "output_type": "stream",
     "text": [
      "2023-04-10 19:14:07.288055: I tensorflow/core/grappler/optimizers/custom_graph_optimizer_registry.cc:114] Plugin optimizer for device_type GPU is enabled.\n"
     ]
    },
    {
     "name": "stdout",
     "output_type": "stream",
     "text": [
      "              precision    recall  f1-score   support\n",
      "\n",
      "           0       1.00      0.80      0.89       490\n",
      "           1       0.87      0.98      0.92       180\n",
      "           2       0.79      0.99      0.88       135\n",
      "           3       0.93      0.98      0.95        52\n",
      "           4       0.79      1.00      0.88        45\n",
      "           5       0.84      1.00      0.91       127\n",
      "\n",
      "    accuracy                           0.90      1029\n",
      "   macro avg       0.87      0.96      0.91      1029\n",
      "weighted avg       0.92      0.90      0.90      1029\n",
      "\n"
     ]
    }
   ],
   "source": [
    "from sklearn.metrics import classification_report\n",
    "\n",
    "y_pred = model.predict([xs_a, xs_b],verbose=0)\n",
    "y_pred_bool = np.argmax(y_pred, axis=1)\n",
    "\n",
    "print(classification_report(ys, y_pred_bool))"
   ]
  },
  {
   "cell_type": "markdown",
   "id": "7657fdf8",
   "metadata": {},
   "source": [
    "# Patient dynamics"
   ]
  },
  {
   "cell_type": "code",
   "execution_count": 21,
   "id": "a07b130f",
   "metadata": {},
   "outputs": [],
   "source": [
    "from operator import attrgetter"
   ]
  },
  {
   "cell_type": "code",
   "execution_count": 57,
   "id": "13bc3df9",
   "metadata": {},
   "outputs": [],
   "source": [
    "patient_id = '00000000015'"
   ]
  },
  {
   "cell_type": "code",
   "execution_count": 58,
   "id": "51e15f84",
   "metadata": {},
   "outputs": [
    {
     "name": "stdout",
     "output_type": "stream",
     "text": [
      "[{'id': 0, 'exercise_dates': '2019-04-01', 'evaluation': 0, 'flag_before_surgery': 1, 'number_of_exercises': 1}, {'id': 1, 'exercise_dates': '2019-04-01', 'evaluation': 0, 'flag_before_surgery': 0, 'number_of_exercises': 9}, {'id': 2, 'exercise_dates': '2019-10-10', 'evaluation': 2, 'flag_before_surgery': 0, 'number_of_exercises': 9}, {'id': 3, 'exercise_dates': '2020-01-16', 'evaluation': 2, 'flag_before_surgery': 0, 'number_of_exercises': 9}]\n"
     ]
    }
   ],
   "source": [
    "sessions = []\n",
    "with open(os.path.join(dir_patiens_sessions, '%s.json' % patient_id), 'r') as f_r:\n",
    "    sessions = json.load(f_r)\n",
    "    \n",
    "print(sessions)"
   ]
  },
  {
   "cell_type": "code",
   "execution_count": 59,
   "id": "87c4fae8",
   "metadata": {},
   "outputs": [
    {
     "name": "stdout",
     "output_type": "stream",
     "text": [
      "[{'id': 0, 'exercise_dates': '2019-04-01', 'evaluation': 0, 'flag_before_surgery': 1, 'number_of_exercises': 1}, {'id': 1, 'exercise_dates': '2019-04-01', 'evaluation': 0, 'flag_before_surgery': 0, 'number_of_exercises': 9}, {'id': 2, 'exercise_dates': '2019-10-10', 'evaluation': 2, 'flag_before_surgery': 0, 'number_of_exercises': 9}, {'id': 3, 'exercise_dates': '2020-01-16', 'evaluation': 2, 'flag_before_surgery': 0, 'number_of_exercises': 9}]\n"
     ]
    }
   ],
   "source": [
    "sessions.sort(key=lambda x: x['exercise_dates'])\n",
    "print(sessions)"
   ]
  },
  {
   "cell_type": "code",
   "execution_count": 60,
   "id": "4a0e8a0a",
   "metadata": {},
   "outputs": [],
   "source": [
    "weights = [1.0, 2.0, 4.0, 8.0, 16.0, 32.0]\n",
    "exercises_number = 9"
   ]
  },
  {
   "cell_type": "code",
   "execution_count": 61,
   "id": "85421a49",
   "metadata": {},
   "outputs": [],
   "source": [
    "import matplotlib.pyplot as plt\n",
    "plt.style.use('_mpl-gallery')"
   ]
  },
  {
   "cell_type": "code",
   "execution_count": 62,
   "id": "16880c0a",
   "metadata": {},
   "outputs": [
    {
     "name": "stdout",
     "output_type": "stream",
     "text": [
      "1\n"
     ]
    },
    {
     "data": {
      "image/png": "[encoded data removed]",
      "text/plain": [
       "<Figure size 1500x200 with 9 Axes>"
      ]
     },
     "metadata": {},
     "output_type": "display_data"
    },
    {
     "data": {
      "image/png": "[encoded data removed]",
      "text/plain": [
       "<Figure size 400x200 with 2 Axes>"
      ]
     },
     "metadata": {},
     "output_type": "display_data"
    },
    {
     "name": "stdout",
     "output_type": "stream",
     "text": [
      "1\n"
     ]
    },
    {
     "data": {
      "image/png": "[encoded data removed]",
      "text/plain": [
       "<Figure size 1500x200 with 9 Axes>"
      ]
     },
     "metadata": {},
     "output_type": "display_data"
    },
    {
     "data": {
      "image/png": "[encoded data removed]",
      "text/plain": [
       "<Figure size 400x200 with 2 Axes>"
      ]
     },
     "metadata": {},
     "output_type": "display_data"
    },
    {
     "name": "stdout",
     "output_type": "stream",
     "text": [
      "3\n"
     ]
    },
    {
     "data": {
      "image/png": "[encoded data removed]",
      "text/plain": [
       "<Figure size 1500x200 with 9 Axes>"
      ]
     },
     "metadata": {},
     "output_type": "display_data"
    },
    {
     "data": {
      "image/png": "[encoded data removed]",
      "text/plain": [
       "<Figure size 400x200 with 2 Axes>"
      ]
     },
     "metadata": {},
     "output_type": "display_data"
    },
    {
     "name": "stdout",
     "output_type": "stream",
     "text": [
      "3\n"
     ]
    },
    {
     "data": {
      "image/png": "[encoded data removed]",
      "text/plain": [
       "<Figure size 1500x200 with 9 Axes>"
      ]
     },
     "metadata": {},
     "output_type": "display_data"
    },
    {
     "data": {
      "image/png": "[encoded data removed]",
      "text/plain": [
       "<Figure size 400x200 with 2 Axes>"
      ]
     },
     "metadata": {},
     "output_type": "display_data"
    },
    {
     "name": "stdout",
     "output_type": "stream",
     "text": [
      "[1.1949805225440713, 3.0762228933908773, 4.006768564409867, 3.998047800102995]\n"
     ]
    },
    {
     "data": {
      "image/png": "[encoded data removed]",
      "text/plain": [
       "<Figure size 400x200 with 1 Axes>"
      ]
     },
     "metadata": {},
     "output_type": "display_data"
    }
   ],
   "source": [
    "dynamic = []\n",
    "evaluations = []\n",
    "\n",
    "\n",
    "\n",
    "for session in sessions:\n",
    "    exercises_result = []\n",
    "    print(session['evaluation'] + 1) #from index to class\n",
    "    evaluations.append(session['evaluation'] + 1)\n",
    "\n",
    "    fig, axs = plt.subplots(1,9,figsize=(15,2)) \n",
    "\n",
    "    for exercise_id in range(session['number_of_exercises']):\n",
    "        xs_a, xs_b, ys = exercise_to_input(\n",
    "            os.path.join(\n",
    "                dir_exercises, '%s_%s_%s.json' % (\n",
    "                    patient_id, \n",
    "                    session['id'],\n",
    "                    exercise_id\n",
    "                )))\n",
    "        \n",
    "        xs_a = np.array([xs_a])   \n",
    "        xs_b = np.array([xs_b]) \n",
    "        \n",
    "        #print(xs_a.shape)\n",
    "        #print(xs_b.shape)\n",
    "        \n",
    "        \n",
    "        y_pred = model.predict([xs_a, xs_b], verbose=0)\n",
    "        exercises_result.append(list(y_pred[0]))\n",
    "        \n",
    "                \n",
    "        axs[exercise_id].bar(1 + np.arange(6), y_pred[0], width=1, edgecolor=\"white\", linewidth=0.7)\n",
    "\n",
    "        axs[exercise_id].set(\n",
    "            xlim=(0, 7), \n",
    "            xticks=np.arange(1, 7),\n",
    "            ylim=(0, 1))\n",
    "    \n",
    "    #average session \n",
    "    prediction = np.average(np.array(exercises_result), axis=0)\n",
    "    exercise_score = [y*w for y, w in zip(prediction,weights)]\n",
    "    dynamic.append(sum(exercise_score))\n",
    "    \n",
    "    fig, axs = plt.subplots(1,2,figsize=(4,2)) \n",
    "        \n",
    "    x = 1 + np.arange(6)\n",
    "    y_pred = y_pred[0]\n",
    "    y_score = exercise_score\n",
    "\n",
    "    axs[0].bar(x, y_pred, width=1, edgecolor=\"white\", linewidth=0.7)\n",
    "\n",
    "    axs[0].set(xlim=(0, 7), \n",
    "              xticks=np.arange(1, 7),\n",
    "              ylim=(0, 1), \n",
    "             )\n",
    "\n",
    "\n",
    "    axs[1].bar(x, y_score, width=1, edgecolor=\"white\", linewidth=0.7)\n",
    "    axs[1].set(xlim=(0, 7), \n",
    "              xticks=np.arange(1, 7),\n",
    "              ylim=(0, max(y_score) + 1), \n",
    "             )\n",
    "\n",
    "    plt.show()    \n",
    "        \n",
    "\n",
    "print(dynamic)\n",
    "fig, ax = plt.subplots(figsize=(4,2)) \n",
    "\n",
    "x = 1 + np.arange(len(sessions))\n",
    "y = dynamic\n",
    "\n",
    "#ax.bar(x, y, width=1, edgecolor=\"white\", linewidth=0.7)\n",
    "ax.plot(x, y, color='tab:blue')\n",
    "ax.bar(x, evaluations, color='tab:orange', edgecolor=\"white\", linewidth=0.7)\n",
    "\n",
    "ax.set(xlim=(0, len(sessions) + 1), \n",
    "          xticks=np.arange(1, len(sessions) + 1),\n",
    "          ylim=(0, max(7, max(y) + 1)), \n",
    "         )\n",
    "\n",
    "plt.show() "
   ]
  },
  {
   "cell_type": "markdown",
   "id": "cde8e3db",
   "metadata": {},
   "source": [
    "__END__"
   ]
  },
  {
   "cell_type": "code",
   "execution_count": null,
   "id": "ede2adb3",
   "metadata": {},
   "outputs": [],
   "source": []
  },
  {
   "cell_type": "code",
   "execution_count": null,
   "id": "39d27222",
   "metadata": {},
   "outputs": [],
   "source": []
  },
  {
   "cell_type": "code",
   "execution_count": null,
   "id": "0787a6b6",
   "metadata": {},
   "outputs": [],
   "source": []
  },
  {
   "cell_type": "code",
   "execution_count": null,
   "id": "fdbf7298",
   "metadata": {},
   "outputs": [],
   "source": []
  }
 ],
 "metadata": {
  "kernelspec": {
   "display_name": "face-prognosis",
   "language": "python",
   "name": "face-prognosis"
  },
  "language_info": {
   "codemirror_mode": {
    "name": "ipython",
    "version": 3
   },
   "file_extension": ".py",
   "mimetype": "text/x-python",
   "name": "python",
   "nbconvert_exporter": "python",
   "pygments_lexer": "ipython3",
   "version": "3.8.13"
  }
 },
 "nbformat": 4,
 "nbformat_minor": 5
}
