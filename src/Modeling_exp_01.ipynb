{
 "cells": [
  {
   "cell_type": "markdown",
   "id": "c3ffceac",
   "metadata": {},
   "source": [
    "# Notes"
   ]
  },
  {
   "cell_type": "markdown",
   "id": "941fce85",
   "metadata": {},
   "source": [
    "First iteration is to model: goal to have end to end pipeline from data to dynamics for a patient\n",
    "- Don't have test train split\n",
    "- Predict on training data\n",
    "- Entry is an exercise\n",
    "- Include exercise meta like https://pyimagesearch.com/2019/02/04/keras-multiple-inputs-and-mixed-data/ "
   ]
  },
  {
   "cell_type": "code",
   "execution_count": 1,
   "id": "2167fbdb",
   "metadata": {},
   "outputs": [],
   "source": [
    "import os \n",
    "import re\n",
    "import csv\n",
    "import json\n",
    "from datetime import datetime\n",
    "\n",
    "import math\n",
    "import pandas as pd\n",
    "import numpy as np\n",
    "import tensorflow as tf\n",
    "from tensorflow.keras.preprocessing.sequence import pad_sequences\n"
   ]
  },
  {
   "cell_type": "markdown",
   "id": "e8c2277c",
   "metadata": {},
   "source": [
    "# Constants"
   ]
  },
  {
   "cell_type": "code",
   "execution_count": 2,
   "id": "bb75db30",
   "metadata": {},
   "outputs": [],
   "source": [
    "SEQ_MAX_LEN = 600\n",
    "NUM_CLASSES = 6\n",
    "NUM_EXERCISES = 9\n",
    "NUM_FLAG_BS = 2"
   ]
  },
  {
   "cell_type": "code",
   "execution_count": 3,
   "id": "eed45b66",
   "metadata": {},
   "outputs": [],
   "source": [
    "dir_data_root = os.path.join('..', 'data')\n",
    "dir_exercises = os.path.join(dir_data_root, 'json', 'exercises_raw')\n",
    "dir_patiens_sessions = os.path.join(dir_data_root, 'json', 'patients_sessions')"
   ]
  },
  {
   "cell_type": "markdown",
   "id": "e544c090",
   "metadata": {},
   "source": [
    "# Data prep"
   ]
  },
  {
   "cell_type": "markdown",
   "id": "6ca3d18d",
   "metadata": {},
   "source": [
    "### Build training set"
   ]
  },
  {
   "cell_type": "code",
   "execution_count": 4,
   "id": "95d508f2",
   "metadata": {},
   "outputs": [],
   "source": [
    "def exercise_to_input(file_path):\n",
    "    with open(file_path, 'r') as f_r:\n",
    "        exercise = json.load(f_r)\n",
    "        \n",
    "        exercise_sequence = []\n",
    "\n",
    "        for poi in sorted(exercise['pois'].keys()):\n",
    "            sequences = exercise['pois'][poi]\n",
    "            exercise_sequence.append(sequences['xs'])\n",
    "            exercise_sequence.append(sequences['ys'])\n",
    "            exercise_sequence.append(sequences['zs'])\n",
    "    \n",
    "        exercise_sequence = pad_sequences(\n",
    "            exercise_sequence,\n",
    "            padding=\"pre\",\n",
    "            maxlen=SEQ_MAX_LEN)\n",
    "    \n",
    "    x_a_1 = [0] * NUM_EXERCISES\n",
    "    x_a_2 = [0] * NUM_FLAG_BS\n",
    "    x_a_1[exercise['meta']['id']] = 1\n",
    "    x_a_2[exercise['meta']['flag_before_surgery']] = 1\n",
    "\n",
    "    return x_a_1 + x_a_2, exercise_sequence, exercise['meta']['evaluation']"
   ]
  },
  {
   "cell_type": "code",
   "execution_count": 5,
   "id": "a93a7a24",
   "metadata": {},
   "outputs": [
    {
     "name": "stdout",
     "output_type": "stream",
     "text": [
      "(1029,)\n",
      "(1029, 11)\n",
      "(1029, 63, 600)\n"
     ]
    }
   ],
   "source": [
    "xslist_a = list()\n",
    "xslist_b = list()\n",
    "yslist = list()\n",
    "\n",
    "for file_name in os.listdir(dir_exercises):\n",
    "    file_path = os.path.join(dir_exercises, file_name)\n",
    "    \n",
    "    if file_name == '.DS_Store': continue\n",
    "\n",
    "    xs_a, xs_b, ys = exercise_to_input(file_path)\n",
    "    \n",
    "    yslist.append(ys)\n",
    "    xslist_a.append(xs_a)  \n",
    "    xslist_b.append(xs_b)\n",
    "    \n",
    "    #break\n",
    "            \n",
    "ys = np.array(yslist)\n",
    "xs_a = np.array(xslist_a)   \n",
    "xs_b = np.array(xslist_b) \n",
    "\n",
    "\n",
    "print(ys.shape)\n",
    "print(xs_a.shape)\n",
    "print(xs_b.shape)"
   ]
  },
  {
   "cell_type": "markdown",
   "id": "eeba3312",
   "metadata": {},
   "source": [
    "## Modeling"
   ]
  },
  {
   "cell_type": "code",
   "execution_count": 6,
   "id": "db63f1bb",
   "metadata": {},
   "outputs": [],
   "source": [
    "from tensorflow.keras.layers import Dense\n",
    "from tensorflow.keras.layers import LSTM\n",
    "from tensorflow.keras.layers import Conv1D\n",
    "from tensorflow.keras.layers import Conv2D\n",
    "from tensorflow.keras.layers import MaxPooling1D\n",
    "from tensorflow.keras.layers import MaxPooling2D\n",
    "from tensorflow.keras.layers import Flatten\n",
    "from tensorflow.keras.layers import Input\n",
    "from tensorflow.keras.layers import concatenate\n",
    "from tensorflow.keras.layers import BatchNormalization\n",
    "from tensorflow.keras.layers import Dropout\n",
    "from tensorflow.keras.models import Model\n",
    "from tensorflow.keras.optimizers import Adam"
   ]
  },
  {
   "cell_type": "raw",
   "id": "6552a330",
   "metadata": {},
   "source": [
    "model = models.Sequential()\n",
    "model.add(layers.Conv2D(32, (3, 3), activation='relu', input_shape=(32, 32, 3)))\n",
    "model.add(layers.MaxPooling2D((2, 2)))\n",
    "model.add(layers.Conv2D(64, (3, 3), activation='relu'))\n",
    "model.add(layers.MaxPooling2D((2, 2)))\n",
    "model.add(layers.Conv2D(64, (3, 3), activation='relu'))\n",
    "model.add(layers.Flatten())\n",
    "model.add(layers.Dense(64, activation='relu'))\n",
    "model.add(layers.Dense(10))\n",
    "Dense(128, activation='relu'),\n",
    "\n",
    "\n",
    "x = Conv2D(f, (3, 3), padding=\"same\")(x)\n",
    "x = Activation(\"relu\")(x)\n",
    "x = BatchNormalization(axis=chanDim)(x)\n",
    "x = MaxPooling2D(pool_size=(2, 2))(x)"
   ]
  },
  {
   "cell_type": "code",
   "execution_count": 7,
   "id": "29b2c732",
   "metadata": {},
   "outputs": [
    {
     "name": "stdout",
     "output_type": "stream",
     "text": [
      "Metal device set to: Apple M1\n"
     ]
    },
    {
     "name": "stderr",
     "output_type": "stream",
     "text": [
      "2023-04-01 16:56:14.112534: I tensorflow/core/common_runtime/pluggable_device/pluggable_device_factory.cc:306] Could not identify NUMA node of platform GPU ID 0, defaulting to 0. Your kernel may not have been built with NUMA support.\n",
      "2023-04-01 16:56:14.112633: I tensorflow/core/common_runtime/pluggable_device/pluggable_device_factory.cc:272] Created TensorFlow device (/job:localhost/replica:0/task:0/device:GPU:0 with 0 MB memory) -> physical PluggableDevice (device: 0, name: METAL, pci bus id: <undefined>)\n"
     ]
    },
    {
     "name": "stdout",
     "output_type": "stream",
     "text": [
      "Model: \"model_2\"\n",
      "__________________________________________________________________________________________________\n",
      " Layer (type)                   Output Shape         Param #     Connected to                     \n",
      "==================================================================================================\n",
      " input_2 (InputLayer)           [(None, 63, 600)]    0           []                               \n",
      "                                                                                                  \n",
      " conv1d (Conv1D)                (None, 63, 16)       28816       ['input_2[0][0]']                \n",
      "                                                                                                  \n",
      " batch_normalization (BatchNorm  (None, 63, 16)      64          ['conv1d[0][0]']                 \n",
      " alization)                                                                                       \n",
      "                                                                                                  \n",
      " max_pooling1d (MaxPooling1D)   (None, 31, 16)       0           ['batch_normalization[0][0]']    \n",
      "                                                                                                  \n",
      " conv1d_1 (Conv1D)              (None, 31, 32)       1568        ['max_pooling1d[0][0]']          \n",
      "                                                                                                  \n",
      " batch_normalization_1 (BatchNo  (None, 31, 32)      128         ['conv1d_1[0][0]']               \n",
      " rmalization)                                                                                     \n",
      "                                                                                                  \n",
      " max_pooling1d_1 (MaxPooling1D)  (None, 15, 32)      0           ['batch_normalization_1[0][0]']  \n",
      "                                                                                                  \n",
      " conv1d_2 (Conv1D)              (None, 15, 64)       6208        ['max_pooling1d_1[0][0]']        \n",
      "                                                                                                  \n",
      " batch_normalization_2 (BatchNo  (None, 15, 64)      256         ['conv1d_2[0][0]']               \n",
      " rmalization)                                                                                     \n",
      "                                                                                                  \n",
      " max_pooling1d_2 (MaxPooling1D)  (None, 7, 64)       0           ['batch_normalization_2[0][0]']  \n",
      "                                                                                                  \n",
      " conv1d_3 (Conv1D)              (None, 7, 64)        12352       ['max_pooling1d_2[0][0]']        \n",
      "                                                                                                  \n",
      " batch_normalization_3 (BatchNo  (None, 7, 64)       256         ['conv1d_3[0][0]']               \n",
      " rmalization)                                                                                     \n",
      "                                                                                                  \n",
      " max_pooling1d_3 (MaxPooling1D)  (None, 3, 64)       0           ['batch_normalization_3[0][0]']  \n",
      "                                                                                                  \n",
      " flatten (Flatten)              (None, 192)          0           ['max_pooling1d_3[0][0]']        \n",
      "                                                                                                  \n",
      " input_1 (InputLayer)           [(None, 11)]         0           []                               \n",
      "                                                                                                  \n",
      " dropout (Dropout)              (None, 192)          0           ['flatten[0][0]']                \n",
      "                                                                                                  \n",
      " dense (Dense)                  (None, 4)            48          ['input_1[0][0]']                \n",
      "                                                                                                  \n",
      " dense_1 (Dense)                (None, 128)          24704       ['dropout[0][0]']                \n",
      "                                                                                                  \n",
      " concatenate (Concatenate)      (None, 132)          0           ['dense[0][0]',                  \n",
      "                                                                  'dense_1[0][0]']                \n",
      "                                                                                                  \n",
      " dense_2 (Dense)                (None, 32)           4256        ['concatenate[0][0]']            \n",
      "                                                                                                  \n",
      " dense_3 (Dense)                (None, 6)            198         ['dense_2[0][0]']                \n",
      "                                                                                                  \n",
      "==================================================================================================\n",
      "Total params: 78,854\n",
      "Trainable params: 78,502\n",
      "Non-trainable params: 352\n",
      "__________________________________________________________________________________________________\n"
     ]
    },
    {
     "name": "stderr",
     "output_type": "stream",
     "text": [
      "/Users/alanchen/.local/share/virtualenvs/research-face-excercises-dynamics-o_HFBNSW/lib/python3.8/site-packages/keras/optimizers/optimizer_v2/adam.py:114: UserWarning: The `lr` argument is deprecated, use `learning_rate` instead.\n",
      "  super().__init__(name, **kwargs)\n"
     ]
    }
   ],
   "source": [
    "chanDim = -1\n",
    "    \n",
    "inputA = Input(shape=xs_a.shape[1:])\n",
    "inputB = Input(shape=xs_b.shape[1:])\n",
    "\n",
    "x_a = Dense(4, activation=\"relu\")(inputA)\n",
    "x_a = Model(inputs=inputA, outputs=x_a)\n",
    "\n",
    "#x_b = LSTM(64)(inputB)\n",
    "x_b = Conv1D(16, 3, padding='same', activation='relu')(inputB)\n",
    "x_b = BatchNormalization(axis=chanDim)(x_b)\n",
    "x_b = MaxPooling1D((2))(x_b)\n",
    "x_b = Conv1D(32, 3, padding='same', activation='relu')(x_b)\n",
    "x_b = BatchNormalization(axis=chanDim)(x_b)\n",
    "x_b = MaxPooling1D((2))(x_b)\n",
    "x_b = Conv1D(64, 3, padding='same', activation='relu')(x_b)\n",
    "x_b = BatchNormalization(axis=chanDim)(x_b)\n",
    "x_b = MaxPooling1D((2))(x_b)\n",
    "x_b = Conv1D(64, 3, padding='same', activation='relu')(x_b)\n",
    "x_b = BatchNormalization(axis=chanDim)(x_b)\n",
    "x_b = MaxPooling1D((2))(x_b)\n",
    "x_b = Flatten()(x_b)\n",
    "x_b = Dropout(0.5)(x_b)\n",
    "x_b = Dense(128, activation=\"relu\")(x_b)\n",
    "x_b = Model(inputs=inputB, outputs=x_b)\n",
    "\n",
    "combined = concatenate([x_a.output, x_b.output])\n",
    "x = Dense(32, activation=\"relu\")(combined)\n",
    "x = Dense(6, activation=\"softmax\")(x)\n",
    "model = Model(inputs=[x_a.input, x_b.input], outputs=x)\n",
    "\n",
    "model.compile(\n",
    "    loss=\"sparse_categorical_crossentropy\", \n",
    "    optimizer=Adam(lr=1e-3, decay=1e-3 / 200),\n",
    "    metrics=['accuracy']\n",
    ")\n",
    "\n",
    "model.summary()"
   ]
  },
  {
   "cell_type": "code",
   "execution_count": 8,
   "id": "82dd2364",
   "metadata": {},
   "outputs": [
    {
     "name": "stdout",
     "output_type": "stream",
     "text": [
      "{0, 1, 2, 3, 4, 5}\n"
     ]
    }
   ],
   "source": [
    "print(set(ys))"
   ]
  },
  {
   "cell_type": "code",
   "execution_count": 9,
   "id": "d1bca9ef",
   "metadata": {},
   "outputs": [],
   "source": [
    "weight_training_classes = {0: 0.32075471698113206, \n",
    "                           1: 1.1333333333333333,\n",
    "                           2: 1.3076923076923077, \n",
    "                           3: 3.4, \n",
    "                           4: 3.4,\n",
    "                           5: 1.5454545454545454}"
   ]
  },
  {
   "cell_type": "code",
   "execution_count": 10,
   "id": "7ebf4216",
   "metadata": {},
   "outputs": [
    {
     "name": "stdout",
     "output_type": "stream",
     "text": [
      "Epoch 1/100\n"
     ]
    },
    {
     "name": "stderr",
     "output_type": "stream",
     "text": [
      "2023-04-01 16:56:14.448754: W tensorflow/core/platform/profile_utils/cpu_utils.cc:128] Failed to get CPU frequency: 0 Hz\n",
      "2023-04-01 16:56:15.188669: I tensorflow/core/grappler/optimizers/custom_graph_optimizer_registry.cc:114] Plugin optimizer for device_type GPU is enabled.\n"
     ]
    },
    {
     "name": "stdout",
     "output_type": "stream",
     "text": [
      "129/129 [==============================] - ETA: 0s - loss: 2.0317 - accuracy: 0.1944"
     ]
    },
    {
     "name": "stderr",
     "output_type": "stream",
     "text": [
      "2023-04-01 16:56:18.445010: I tensorflow/core/grappler/optimizers/custom_graph_optimizer_registry.cc:114] Plugin optimizer for device_type GPU is enabled.\n"
     ]
    },
    {
     "name": "stdout",
     "output_type": "stream",
     "text": [
      "129/129 [==============================] - 5s 27ms/step - loss: 2.0317 - accuracy: 0.1944 - val_loss: 1.7981 - val_accuracy: 0.1477\n",
      "Epoch 2/100\n",
      "129/129 [==============================] - 3s 22ms/step - loss: 1.9064 - accuracy: 0.1419 - val_loss: 1.7972 - val_accuracy: 0.1613\n",
      "Epoch 3/100\n",
      "129/129 [==============================] - 3s 22ms/step - loss: 1.8394 - accuracy: 0.1555 - val_loss: 1.7964 - val_accuracy: 0.1856\n",
      "Epoch 4/100\n",
      "129/129 [==============================] - 3s 22ms/step - loss: 1.7841 - accuracy: 0.1710 - val_loss: 1.7422 - val_accuracy: 0.1924\n",
      "Epoch 5/100\n",
      "129/129 [==============================] - 3s 22ms/step - loss: 1.7724 - accuracy: 0.1633 - val_loss: 1.6771 - val_accuracy: 0.1623\n",
      "Epoch 6/100\n",
      "129/129 [==============================] - 3s 22ms/step - loss: 1.7591 - accuracy: 0.1633 - val_loss: 1.7710 - val_accuracy: 0.1584\n",
      "Epoch 7/100\n",
      "129/129 [==============================] - 3s 22ms/step - loss: 1.7602 - accuracy: 0.1876 - val_loss: 1.6840 - val_accuracy: 0.2449\n",
      "Epoch 8/100\n",
      "129/129 [==============================] - 3s 22ms/step - loss: 1.8051 - accuracy: 0.1846 - val_loss: 1.7705 - val_accuracy: 0.1642\n",
      "Epoch 9/100\n",
      "129/129 [==============================] - 3s 22ms/step - loss: 1.7689 - accuracy: 0.1788 - val_loss: 1.6906 - val_accuracy: 0.1914\n",
      "Epoch 10/100\n",
      "129/129 [==============================] - 3s 22ms/step - loss: 1.7670 - accuracy: 0.1905 - val_loss: 1.6970 - val_accuracy: 0.2682\n",
      "Epoch 11/100\n",
      "129/129 [==============================] - 3s 22ms/step - loss: 1.7005 - accuracy: 0.2585 - val_loss: 1.7433 - val_accuracy: 0.2089\n",
      "Epoch 12/100\n",
      "129/129 [==============================] - 3s 22ms/step - loss: 1.7200 - accuracy: 0.2702 - val_loss: 1.7016 - val_accuracy: 0.2138\n",
      "Epoch 13/100\n",
      "129/129 [==============================] - 3s 22ms/step - loss: 1.7083 - accuracy: 0.2051 - val_loss: 1.7210 - val_accuracy: 0.2235\n",
      "Epoch 14/100\n",
      "129/129 [==============================] - 3s 22ms/step - loss: 1.6812 - accuracy: 0.2157 - val_loss: 1.6293 - val_accuracy: 0.2711\n",
      "Epoch 15/100\n",
      "129/129 [==============================] - 3s 22ms/step - loss: 1.6340 - accuracy: 0.2274 - val_loss: 1.6701 - val_accuracy: 0.2293\n",
      "Epoch 16/100\n",
      "129/129 [==============================] - 3s 23ms/step - loss: 1.6645 - accuracy: 0.2187 - val_loss: 1.5544 - val_accuracy: 0.3625\n",
      "Epoch 17/100\n",
      "129/129 [==============================] - 3s 24ms/step - loss: 1.6252 - accuracy: 0.3061 - val_loss: 1.6354 - val_accuracy: 0.3256\n",
      "Epoch 18/100\n",
      "129/129 [==============================] - 3s 22ms/step - loss: 1.5927 - accuracy: 0.3042 - val_loss: 1.5217 - val_accuracy: 0.4169\n",
      "Epoch 19/100\n",
      "129/129 [==============================] - 3s 22ms/step - loss: 1.5949 - accuracy: 0.3392 - val_loss: 1.4578 - val_accuracy: 0.3946\n",
      "Epoch 20/100\n",
      "129/129 [==============================] - 3s 22ms/step - loss: 1.4963 - accuracy: 0.3751 - val_loss: 1.4864 - val_accuracy: 0.4082\n",
      "Epoch 21/100\n",
      "129/129 [==============================] - 3s 22ms/step - loss: 1.5265 - accuracy: 0.4072 - val_loss: 1.4006 - val_accuracy: 0.4558\n",
      "Epoch 22/100\n",
      "129/129 [==============================] - 3s 22ms/step - loss: 1.4720 - accuracy: 0.3819 - val_loss: 1.4454 - val_accuracy: 0.4208\n",
      "Epoch 23/100\n",
      "129/129 [==============================] - 3s 22ms/step - loss: 1.4316 - accuracy: 0.4218 - val_loss: 1.3914 - val_accuracy: 0.4665\n",
      "Epoch 24/100\n",
      "129/129 [==============================] - 3s 22ms/step - loss: 1.4204 - accuracy: 0.4412 - val_loss: 1.2891 - val_accuracy: 0.5053\n",
      "Epoch 25/100\n",
      "129/129 [==============================] - 3s 22ms/step - loss: 1.4244 - accuracy: 0.4276 - val_loss: 1.2970 - val_accuracy: 0.4801\n",
      "Epoch 26/100\n",
      "129/129 [==============================] - 3s 22ms/step - loss: 1.3743 - accuracy: 0.4597 - val_loss: 1.3291 - val_accuracy: 0.4849\n",
      "Epoch 27/100\n",
      "129/129 [==============================] - 3s 22ms/step - loss: 1.3655 - accuracy: 0.4713 - val_loss: 1.2553 - val_accuracy: 0.5180\n",
      "Epoch 28/100\n",
      "129/129 [==============================] - 3s 22ms/step - loss: 1.3608 - accuracy: 0.4606 - val_loss: 1.2908 - val_accuracy: 0.4947\n",
      "Epoch 29/100\n",
      "129/129 [==============================] - 3s 22ms/step - loss: 1.3452 - accuracy: 0.4402 - val_loss: 1.2407 - val_accuracy: 0.5190\n",
      "Epoch 30/100\n",
      "129/129 [==============================] - 3s 23ms/step - loss: 1.3143 - accuracy: 0.4538 - val_loss: 1.2579 - val_accuracy: 0.5248\n",
      "Epoch 31/100\n",
      "129/129 [==============================] - 3s 24ms/step - loss: 1.2895 - accuracy: 0.4820 - val_loss: 1.2571 - val_accuracy: 0.4976\n",
      "Epoch 32/100\n",
      "129/129 [==============================] - 3s 23ms/step - loss: 1.2959 - accuracy: 0.4373 - val_loss: 1.1514 - val_accuracy: 0.5452\n",
      "Epoch 33/100\n",
      "129/129 [==============================] - 3s 24ms/step - loss: 1.2029 - accuracy: 0.4636 - val_loss: 1.2266 - val_accuracy: 0.5238\n",
      "Epoch 34/100\n",
      "129/129 [==============================] - 3s 22ms/step - loss: 1.2212 - accuracy: 0.4869 - val_loss: 1.1499 - val_accuracy: 0.5364\n",
      "Epoch 35/100\n",
      "129/129 [==============================] - 3s 22ms/step - loss: 1.1364 - accuracy: 0.4976 - val_loss: 1.0678 - val_accuracy: 0.5675\n",
      "Epoch 36/100\n",
      "129/129 [==============================] - 3s 22ms/step - loss: 1.1487 - accuracy: 0.4937 - val_loss: 1.1430 - val_accuracy: 0.5637\n",
      "Epoch 37/100\n",
      "129/129 [==============================] - 3s 22ms/step - loss: 1.1400 - accuracy: 0.5092 - val_loss: 1.0646 - val_accuracy: 0.5646\n",
      "Epoch 38/100\n",
      "129/129 [==============================] - 3s 22ms/step - loss: 1.1069 - accuracy: 0.5345 - val_loss: 1.1102 - val_accuracy: 0.5034\n",
      "Epoch 39/100\n",
      "129/129 [==============================] - 3s 22ms/step - loss: 1.1137 - accuracy: 0.5248 - val_loss: 1.0656 - val_accuracy: 0.5442\n",
      "Epoch 40/100\n",
      "129/129 [==============================] - 3s 23ms/step - loss: 1.1066 - accuracy: 0.5238 - val_loss: 1.1109 - val_accuracy: 0.5491\n",
      "Epoch 41/100\n",
      "129/129 [==============================] - 3s 22ms/step - loss: 1.1575 - accuracy: 0.5112 - val_loss: 1.1393 - val_accuracy: 0.5053\n",
      "Epoch 42/100\n",
      "129/129 [==============================] - 3s 22ms/step - loss: 1.0842 - accuracy: 0.5092 - val_loss: 1.0045 - val_accuracy: 0.5909\n",
      "Epoch 43/100\n",
      "129/129 [==============================] - 3s 22ms/step - loss: 1.0330 - accuracy: 0.5471 - val_loss: 1.0736 - val_accuracy: 0.5491\n",
      "Epoch 44/100\n",
      "129/129 [==============================] - 3s 25ms/step - loss: 0.9821 - accuracy: 0.5452 - val_loss: 1.0673 - val_accuracy: 0.5773\n",
      "Epoch 45/100\n",
      "129/129 [==============================] - 3s 24ms/step - loss: 0.9850 - accuracy: 0.5539 - val_loss: 0.9039 - val_accuracy: 0.6229\n",
      "Epoch 46/100\n",
      "129/129 [==============================] - 3s 23ms/step - loss: 1.0021 - accuracy: 0.5967 - val_loss: 0.9576 - val_accuracy: 0.6307\n",
      "Epoch 47/100\n",
      "129/129 [==============================] - 4s 27ms/step - loss: 0.9705 - accuracy: 0.5743 - val_loss: 0.9201 - val_accuracy: 0.6268\n",
      "Epoch 48/100\n",
      "129/129 [==============================] - 3s 22ms/step - loss: 0.9512 - accuracy: 0.5734 - val_loss: 0.9684 - val_accuracy: 0.6190\n",
      "Epoch 49/100\n",
      "129/129 [==============================] - 3s 22ms/step - loss: 0.9271 - accuracy: 0.5957 - val_loss: 0.8381 - val_accuracy: 0.6657\n",
      "Epoch 50/100\n",
      "129/129 [==============================] - 3s 21ms/step - loss: 0.9130 - accuracy: 0.5821 - val_loss: 0.8893 - val_accuracy: 0.6599\n",
      "Epoch 51/100\n",
      "129/129 [==============================] - 3s 22ms/step - loss: 0.9360 - accuracy: 0.5889 - val_loss: 1.0706 - val_accuracy: 0.5918\n",
      "Epoch 52/100\n",
      "129/129 [==============================] - 3s 25ms/step - loss: 0.8993 - accuracy: 0.5860 - val_loss: 0.8077 - val_accuracy: 0.6579\n",
      "Epoch 53/100\n",
      "129/129 [==============================] - 3s 24ms/step - loss: 0.8171 - accuracy: 0.6239 - val_loss: 0.8363 - val_accuracy: 0.6725\n",
      "Epoch 54/100\n",
      "129/129 [==============================] - 3s 24ms/step - loss: 0.8754 - accuracy: 0.6181 - val_loss: 0.8290 - val_accuracy: 0.6608\n",
      "Epoch 55/100\n",
      "129/129 [==============================] - 3s 23ms/step - loss: 0.8842 - accuracy: 0.5821 - val_loss: 0.8283 - val_accuracy: 0.6754\n",
      "Epoch 56/100\n",
      "129/129 [==============================] - 3s 21ms/step - loss: 0.8432 - accuracy: 0.6249 - val_loss: 0.8393 - val_accuracy: 0.7007\n",
      "Epoch 57/100\n"
     ]
    },
    {
     "name": "stdout",
     "output_type": "stream",
     "text": [
      "129/129 [==============================] - 3s 22ms/step - loss: 0.7827 - accuracy: 0.6424 - val_loss: 0.7766 - val_accuracy: 0.7046\n",
      "Epoch 58/100\n",
      "129/129 [==============================] - 3s 22ms/step - loss: 0.7534 - accuracy: 0.6404 - val_loss: 0.7521 - val_accuracy: 0.6997\n",
      "Epoch 59/100\n",
      "129/129 [==============================] - 3s 21ms/step - loss: 0.8112 - accuracy: 0.6122 - val_loss: 0.6993 - val_accuracy: 0.7201\n",
      "Epoch 60/100\n",
      "129/129 [==============================] - 3s 21ms/step - loss: 0.7311 - accuracy: 0.6628 - val_loss: 0.6877 - val_accuracy: 0.7415\n",
      "Epoch 61/100\n",
      "129/129 [==============================] - 3s 22ms/step - loss: 0.7686 - accuracy: 0.6550 - val_loss: 0.7258 - val_accuracy: 0.6978\n",
      "Epoch 62/100\n",
      "129/129 [==============================] - 3s 21ms/step - loss: 0.6575 - accuracy: 0.6774 - val_loss: 0.7552 - val_accuracy: 0.6861\n",
      "Epoch 63/100\n",
      "129/129 [==============================] - 3s 22ms/step - loss: 0.6584 - accuracy: 0.6676 - val_loss: 0.7818 - val_accuracy: 0.6890\n",
      "Epoch 64/100\n",
      "129/129 [==============================] - 3s 21ms/step - loss: 0.6158 - accuracy: 0.6803 - val_loss: 0.6290 - val_accuracy: 0.7551\n",
      "Epoch 65/100\n",
      "129/129 [==============================] - 3s 21ms/step - loss: 0.6948 - accuracy: 0.6589 - val_loss: 0.9120 - val_accuracy: 0.6327\n",
      "Epoch 66/100\n",
      "129/129 [==============================] - 3s 21ms/step - loss: 0.6784 - accuracy: 0.6667 - val_loss: 0.6653 - val_accuracy: 0.7454\n",
      "Epoch 67/100\n",
      "129/129 [==============================] - 3s 21ms/step - loss: 0.6719 - accuracy: 0.6851 - val_loss: 0.6432 - val_accuracy: 0.7386\n",
      "Epoch 68/100\n",
      "129/129 [==============================] - 3s 21ms/step - loss: 0.6422 - accuracy: 0.6919 - val_loss: 0.7183 - val_accuracy: 0.7269\n",
      "Epoch 69/100\n",
      "129/129 [==============================] - 3s 21ms/step - loss: 0.5852 - accuracy: 0.7123 - val_loss: 0.5668 - val_accuracy: 0.7784\n",
      "Epoch 70/100\n",
      "129/129 [==============================] - 3s 21ms/step - loss: 0.6019 - accuracy: 0.7094 - val_loss: 0.5650 - val_accuracy: 0.7794\n",
      "Epoch 71/100\n",
      "129/129 [==============================] - 3s 21ms/step - loss: 0.7403 - accuracy: 0.6715 - val_loss: 0.5862 - val_accuracy: 0.7638\n",
      "Epoch 72/100\n",
      "129/129 [==============================] - 3s 21ms/step - loss: 0.6339 - accuracy: 0.6803 - val_loss: 0.6046 - val_accuracy: 0.7366\n",
      "Epoch 73/100\n",
      "129/129 [==============================] - 3s 21ms/step - loss: 0.5721 - accuracy: 0.7240 - val_loss: 0.5788 - val_accuracy: 0.7784\n",
      "Epoch 74/100\n",
      "129/129 [==============================] - 3s 21ms/step - loss: 0.5982 - accuracy: 0.7065 - val_loss: 0.5742 - val_accuracy: 0.7707\n",
      "Epoch 75/100\n",
      "129/129 [==============================] - 3s 21ms/step - loss: 0.5737 - accuracy: 0.7153 - val_loss: 0.6199 - val_accuracy: 0.7726\n",
      "Epoch 76/100\n",
      "129/129 [==============================] - 3s 21ms/step - loss: 0.6098 - accuracy: 0.7104 - val_loss: 0.6802 - val_accuracy: 0.7172\n",
      "Epoch 77/100\n",
      "129/129 [==============================] - 3s 22ms/step - loss: 0.6402 - accuracy: 0.6997 - val_loss: 0.6081 - val_accuracy: 0.7638\n",
      "Epoch 78/100\n",
      "129/129 [==============================] - 3s 21ms/step - loss: 0.5622 - accuracy: 0.7055 - val_loss: 0.5422 - val_accuracy: 0.7881\n",
      "Epoch 79/100\n",
      "129/129 [==============================] - 3s 21ms/step - loss: 0.5829 - accuracy: 0.7259 - val_loss: 0.5508 - val_accuracy: 0.7979\n",
      "Epoch 80/100\n",
      "129/129 [==============================] - 3s 21ms/step - loss: 0.4829 - accuracy: 0.7502 - val_loss: 0.5103 - val_accuracy: 0.8017\n",
      "Epoch 81/100\n",
      "129/129 [==============================] - 3s 21ms/step - loss: 0.5304 - accuracy: 0.7298 - val_loss: 0.7751 - val_accuracy: 0.6880\n",
      "Epoch 82/100\n",
      "129/129 [==============================] - 3s 21ms/step - loss: 0.5348 - accuracy: 0.7298 - val_loss: 0.5096 - val_accuracy: 0.7765\n",
      "Epoch 83/100\n",
      "129/129 [==============================] - 3s 22ms/step - loss: 0.4943 - accuracy: 0.7483 - val_loss: 0.5285 - val_accuracy: 0.7959\n",
      "Epoch 84/100\n",
      "129/129 [==============================] - 3s 21ms/step - loss: 0.4535 - accuracy: 0.7502 - val_loss: 0.5017 - val_accuracy: 0.8037\n",
      "Epoch 85/100\n",
      "129/129 [==============================] - 3s 21ms/step - loss: 0.4943 - accuracy: 0.7600 - val_loss: 0.5684 - val_accuracy: 0.7755\n",
      "Epoch 86/100\n",
      "129/129 [==============================] - 3s 21ms/step - loss: 0.6095 - accuracy: 0.7328 - val_loss: 1.1086 - val_accuracy: 0.6327\n",
      "Epoch 87/100\n",
      "129/129 [==============================] - 3s 21ms/step - loss: 0.6787 - accuracy: 0.6900 - val_loss: 0.5400 - val_accuracy: 0.8027\n",
      "Epoch 88/100\n",
      "129/129 [==============================] - 3s 21ms/step - loss: 0.4742 - accuracy: 0.7502 - val_loss: 0.4711 - val_accuracy: 0.8192\n",
      "Epoch 89/100\n",
      "129/129 [==============================] - 3s 21ms/step - loss: 0.4640 - accuracy: 0.7600 - val_loss: 0.4505 - val_accuracy: 0.8299\n",
      "Epoch 90/100\n",
      "129/129 [==============================] - 3s 21ms/step - loss: 0.4833 - accuracy: 0.7532 - val_loss: 0.5685 - val_accuracy: 0.7765\n",
      "Epoch 91/100\n",
      "129/129 [==============================] - 3s 21ms/step - loss: 0.4418 - accuracy: 0.7707 - val_loss: 0.5385 - val_accuracy: 0.7765\n",
      "Epoch 92/100\n",
      "129/129 [==============================] - 3s 21ms/step - loss: 0.4291 - accuracy: 0.7784 - val_loss: 0.5653 - val_accuracy: 0.7765\n",
      "Epoch 93/100\n",
      "129/129 [==============================] - 3s 21ms/step - loss: 0.4602 - accuracy: 0.7852 - val_loss: 0.4862 - val_accuracy: 0.7949\n",
      "Epoch 94/100\n",
      "129/129 [==============================] - 3s 21ms/step - loss: 0.4911 - accuracy: 0.7600 - val_loss: 0.4118 - val_accuracy: 0.8328\n",
      "Epoch 95/100\n",
      "129/129 [==============================] - 3s 21ms/step - loss: 0.4487 - accuracy: 0.7891 - val_loss: 0.5065 - val_accuracy: 0.8056\n",
      "Epoch 96/100\n",
      "129/129 [==============================] - 3s 21ms/step - loss: 0.4092 - accuracy: 0.7901 - val_loss: 0.3727 - val_accuracy: 0.8416\n",
      "Epoch 97/100\n",
      "129/129 [==============================] - 3s 21ms/step - loss: 0.3794 - accuracy: 0.7998 - val_loss: 0.3918 - val_accuracy: 0.8542\n",
      "Epoch 98/100\n",
      "129/129 [==============================] - 3s 22ms/step - loss: 0.4081 - accuracy: 0.7930 - val_loss: 0.4680 - val_accuracy: 0.8154\n",
      "Epoch 99/100\n",
      "129/129 [==============================] - 3s 21ms/step - loss: 0.3969 - accuracy: 0.7920 - val_loss: 0.3805 - val_accuracy: 0.8591\n",
      "Epoch 100/100\n",
      "129/129 [==============================] - 3s 21ms/step - loss: 0.4609 - accuracy: 0.7687 - val_loss: 0.4729 - val_accuracy: 0.8144\n"
     ]
    },
    {
     "data": {
      "text/plain": [
       "<keras.callbacks.History at 0x16bf8a2b0>"
      ]
     },
     "execution_count": 10,
     "metadata": {},
     "output_type": "execute_result"
    }
   ],
   "source": [
    "model.fit(\n",
    "    x=[xs_a, xs_b], y=ys, \n",
    "    validation_data=([xs_a, xs_b], ys),\n",
    "    batch_size=8, epochs=100,\n",
    "    class_weight=weight_training_classes)"
   ]
  },
  {
   "cell_type": "code",
   "execution_count": 11,
   "id": "e9a00ea5",
   "metadata": {},
   "outputs": [
    {
     "name": "stderr",
     "output_type": "stream",
     "text": [
      "2023-04-01 17:01:00.825530: I tensorflow/core/grappler/optimizers/custom_graph_optimizer_registry.cc:114] Plugin optimizer for device_type GPU is enabled.\n"
     ]
    },
    {
     "name": "stdout",
     "output_type": "stream",
     "text": [
      "              precision    recall  f1-score   support\n",
      "\n",
      "           0       0.99      0.70      0.82       490\n",
      "           1       0.71      0.96      0.82       180\n",
      "           2       0.70      0.87      0.77       135\n",
      "           3       0.70      0.98      0.82        52\n",
      "           4       0.80      0.96      0.87        45\n",
      "           5       0.76      0.87      0.81       127\n",
      "\n",
      "    accuracy                           0.81      1029\n",
      "   macro avg       0.78      0.89      0.82      1029\n",
      "weighted avg       0.85      0.81      0.82      1029\n",
      "\n"
     ]
    }
   ],
   "source": [
    "from sklearn.metrics import classification_report\n",
    "\n",
    "y_pred = model.predict([xs_a, xs_b],verbose=0)\n",
    "y_pred_bool = np.argmax(y_pred, axis=1)\n",
    "\n",
    "print(classification_report(ys, y_pred_bool))"
   ]
  },
  {
   "cell_type": "markdown",
   "id": "7657fdf8",
   "metadata": {},
   "source": [
    "# Patient dynamics"
   ]
  },
  {
   "cell_type": "raw",
   "id": "2ee79368",
   "metadata": {},
   "source": [
    "todo predict for one patient for all sessions\n",
    "get average for all exercises\n",
    "show dynamics for all sessions\n"
   ]
  },
  {
   "cell_type": "code",
   "execution_count": 12,
   "id": "a07b130f",
   "metadata": {},
   "outputs": [],
   "source": [
    "from operator import attrgetter"
   ]
  },
  {
   "cell_type": "code",
   "execution_count": 13,
   "id": "13bc3df9",
   "metadata": {},
   "outputs": [],
   "source": [
    "patient_id = '00000000017'"
   ]
  },
  {
   "cell_type": "code",
   "execution_count": 14,
   "id": "51e15f84",
   "metadata": {},
   "outputs": [
    {
     "name": "stdout",
     "output_type": "stream",
     "text": [
      "[{'id': 0, 'exercise_dates': '2020-03-05', 'evaluation': 4, 'flag_before_surgery': 0, 'number_of_exercises': 9}, {'id': 1, 'exercise_dates': '2019-12-12', 'evaluation': 4, 'flag_before_surgery': 0, 'number_of_exercises': 9}, {'id': 2, 'exercise_dates': '2019-04-04', 'evaluation': 5, 'flag_before_surgery': 0, 'number_of_exercises': 9}, {'id': 3, 'exercise_dates': '2019-07-11', 'evaluation': 4, 'flag_before_surgery': 0, 'number_of_exercises': 9}]\n"
     ]
    }
   ],
   "source": [
    "sessions = []\n",
    "with open(os.path.join(dir_patiens_sessions, '%s.json' % patient_id), 'r') as f_r:\n",
    "    sessions = json.load(f_r)\n",
    "    \n",
    "print(sessions)"
   ]
  },
  {
   "cell_type": "code",
   "execution_count": 15,
   "id": "87c4fae8",
   "metadata": {},
   "outputs": [
    {
     "name": "stdout",
     "output_type": "stream",
     "text": [
      "[{'id': 2, 'exercise_dates': '2019-04-04', 'evaluation': 5, 'flag_before_surgery': 0, 'number_of_exercises': 9}, {'id': 3, 'exercise_dates': '2019-07-11', 'evaluation': 4, 'flag_before_surgery': 0, 'number_of_exercises': 9}, {'id': 1, 'exercise_dates': '2019-12-12', 'evaluation': 4, 'flag_before_surgery': 0, 'number_of_exercises': 9}, {'id': 0, 'exercise_dates': '2020-03-05', 'evaluation': 4, 'flag_before_surgery': 0, 'number_of_exercises': 9}]\n"
     ]
    }
   ],
   "source": [
    "sessions.sort(key=lambda x: x['exercise_dates'])\n",
    "print(sessions)"
   ]
  },
  {
   "cell_type": "code",
   "execution_count": 16,
   "id": "4a0e8a0a",
   "metadata": {},
   "outputs": [],
   "source": [
    "weights = [0.0, 1.0, 2.0, 4.0, 8.0, 16.0]\n",
    "exercises_number = 9"
   ]
  },
  {
   "cell_type": "code",
   "execution_count": 17,
   "id": "85421a49",
   "metadata": {},
   "outputs": [],
   "source": [
    "import matplotlib.pyplot as plt\n",
    "plt.style.use('_mpl-gallery')"
   ]
  },
  {
   "cell_type": "code",
   "execution_count": 18,
   "id": "16880c0a",
   "metadata": {},
   "outputs": [
    {
     "name": "stdout",
     "output_type": "stream",
     "text": [
      "6\n"
     ]
    },
    {
     "data": {
      "image/png": "[encoded data removed]",
      "text/plain": [
       "<Figure size 400x200 with 2 Axes>"
      ]
     },
     "metadata": {},
     "output_type": "display_data"
    },
    {
     "name": "stdout",
     "output_type": "stream",
     "text": [
      "5\n"
     ]
    },
    {
     "data": {
      "image/png": "[encoded data removed]",
      "text/plain": [
       "<Figure size 400x200 with 2 Axes>"
      ]
     },
     "metadata": {},
     "output_type": "display_data"
    },
    {
     "name": "stdout",
     "output_type": "stream",
     "text": [
      "5\n"
     ]
    },
    {
     "data": {
      "image/png": "[encoded data removed]",
      "text/plain": [
       "<Figure size 400x200 with 2 Axes>"
      ]
     },
     "metadata": {},
     "output_type": "display_data"
    },
    {
     "name": "stdout",
     "output_type": "stream",
     "text": [
      "5\n"
     ]
    },
    {
     "data": {
      "image/png": "[encoded data removed]",
      "text/plain": [
       "<Figure size 400x200 with 2 Axes>"
      ]
     },
     "metadata": {},
     "output_type": "display_data"
    },
    {
     "name": "stdout",
     "output_type": "stream",
     "text": [
      "[14.08118040394038, 8.30512298468966, 7.9877469558268785, 9.388856928795576]\n"
     ]
    },
    {
     "data": {
      "image/png": "[encoded data removed]",
      "text/plain": [
       "<Figure size 400x200 with 1 Axes>"
      ]
     },
     "metadata": {},
     "output_type": "display_data"
    }
   ],
   "source": [
    "dynamic = []\n",
    "\n",
    "for session in sessions:\n",
    "    exercises_result = []\n",
    "    print(session['evaluation'] + 1) #from index to class\n",
    "    for exercise_id in range(session['number_of_exercises']):\n",
    "        xs_a, xs_b, ys = exercise_to_input(\n",
    "            os.path.join(\n",
    "                dir_exercises, '%s_%s_%s.json' % (\n",
    "                    patient_id, \n",
    "                    session['id'],\n",
    "                    exercise_id\n",
    "                )))\n",
    "        \n",
    "        xs_a = np.array([xs_a])   \n",
    "        xs_b = np.array([xs_b]) \n",
    "        \n",
    "        #print(xs_a.shape)\n",
    "        #print(xs_b.shape)\n",
    "        \n",
    "        \n",
    "        y_pred = model.predict([xs_a, xs_b], verbose=0)\n",
    "        exercises_result.append(list(y_pred[0]))\n",
    "    \n",
    "    #average session \n",
    "    prediction = np.average(np.array(exercises_result), axis=0)\n",
    "    exercise_score = [y*w for y, w in zip(prediction,weights)]\n",
    "    dynamic.append(sum(exercise_score))\n",
    "    \n",
    "    fig, axs = plt.subplots(1,2,figsize=(4,2)) \n",
    "        \n",
    "    x = 1 + np.arange(6)\n",
    "    y_pred = y_pred[0]\n",
    "    y_score = exercise_score\n",
    "\n",
    "    axs[0].bar(x, y_pred, width=1, edgecolor=\"white\", linewidth=0.7)\n",
    "\n",
    "    axs[0].set(xlim=(0, 7), \n",
    "              xticks=np.arange(1, 7),\n",
    "              ylim=(0, 1), \n",
    "             )\n",
    "\n",
    "\n",
    "    axs[1].bar(x, y_score, width=1, edgecolor=\"white\", linewidth=0.7)\n",
    "    axs[1].set(xlim=(0, 7), \n",
    "              xticks=np.arange(1, 7),\n",
    "              ylim=(0, 30), \n",
    "             )\n",
    "\n",
    "    plt.show()    \n",
    "        \n",
    "\n",
    "print(dynamic)\n",
    "fig, ax = plt.subplots(figsize=(4,2)) \n",
    "\n",
    "x = 1 + np.arange(len(sessions))\n",
    "y = dynamic\n",
    "\n",
    "#ax.bar(x, y, width=1, edgecolor=\"white\", linewidth=0.7)\n",
    "ax.plot(x, y, color='tab:blue')\n",
    "ax.bar(x, [6,5,5,5], color='tab:orange', edgecolor=\"white\", linewidth=0.7)\n",
    "\n",
    "ax.set(xlim=(0, len(sessions) + 1), \n",
    "          xticks=np.arange(1, len(sessions) + 1),\n",
    "          ylim=(0, 15), \n",
    "         )\n",
    "\n",
    "plt.show() "
   ]
  },
  {
   "cell_type": "markdown",
   "id": "cde8e3db",
   "metadata": {},
   "source": [
    "__END__"
   ]
  },
  {
   "cell_type": "code",
   "execution_count": null,
   "id": "ede2adb3",
   "metadata": {},
   "outputs": [],
   "source": []
  },
  {
   "cell_type": "code",
   "execution_count": null,
   "id": "39d27222",
   "metadata": {},
   "outputs": [],
   "source": []
  }
 ],
 "metadata": {
  "kernelspec": {
   "display_name": "face-prognosis",
   "language": "python",
   "name": "face-prognosis"
  },
  "language_info": {
   "codemirror_mode": {
    "name": "ipython",
    "version": 3
   },
   "file_extension": ".py",
   "mimetype": "text/x-python",
   "name": "python",
   "nbconvert_exporter": "python",
   "pygments_lexer": "ipython3",
   "version": "3.8.13"
  }
 },
 "nbformat": 4,
 "nbformat_minor": 5
}
