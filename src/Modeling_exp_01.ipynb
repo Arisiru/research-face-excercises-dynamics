{
 "cells": [
  {
   "cell_type": "markdown",
   "id": "c3ffceac",
   "metadata": {},
   "source": [
    "# Notes"
   ]
  },
  {
   "cell_type": "markdown",
   "id": "941fce85",
   "metadata": {},
   "source": [
    "First iteration is to model: goal to have end to end pipeline from data to dynamics for a patient\n",
    "- Don't have test train split\n",
    "- Predict on training data\n",
    "- Entry is an exercise\n",
    "- Include exercise meta like https://pyimagesearch.com/2019/02/04/keras-multiple-inputs-and-mixed-data/ "
   ]
  },
  {
   "cell_type": "code",
   "execution_count": 1,
   "id": "2167fbdb",
   "metadata": {},
   "outputs": [],
   "source": [
    "import os \n",
    "import re\n",
    "import csv\n",
    "import json\n",
    "from datetime import datetime\n",
    "\n",
    "import math\n",
    "import pandas as pd\n",
    "import numpy as np\n",
    "import tensorflow as tf\n",
    "from tensorflow.keras.preprocessing.sequence import pad_sequences\n"
   ]
  },
  {
   "cell_type": "markdown",
   "id": "e8c2277c",
   "metadata": {},
   "source": [
    "# Constants"
   ]
  },
  {
   "cell_type": "code",
   "execution_count": 2,
   "id": "bb75db30",
   "metadata": {},
   "outputs": [],
   "source": [
    "SEQ_MAX_LEN = 600"
   ]
  },
  {
   "cell_type": "code",
   "execution_count": 3,
   "id": "eed45b66",
   "metadata": {},
   "outputs": [],
   "source": [
    "dir_data_root = os.path.join('..', 'data')\n",
    "dir_exercises = os.path.join(dir_data_root, 'json', 'exercises_raw')\n",
    "dir_patiens_sessions = os.path.join(dir_data_root, 'json', 'patients_sessions')"
   ]
  },
  {
   "cell_type": "markdown",
   "id": "e544c090",
   "metadata": {},
   "source": [
    "# Data prep"
   ]
  },
  {
   "cell_type": "markdown",
   "id": "6ca3d18d",
   "metadata": {},
   "source": [
    "### Build training set"
   ]
  },
  {
   "cell_type": "code",
   "execution_count": 4,
   "id": "95d508f2",
   "metadata": {},
   "outputs": [],
   "source": [
    "def exercise_to_input(file_path):\n",
    "    with open(file_path, 'r') as f_r:\n",
    "        exercise = json.load(f_r)\n",
    "        \n",
    "        exercise_sequence = []\n",
    "\n",
    "        for poi in sorted(exercise['pois'].keys()):\n",
    "            sequences = exercise['pois'][poi]\n",
    "            exercise_sequence.append(sequences['xs'])\n",
    "            exercise_sequence.append(sequences['ys'])\n",
    "            exercise_sequence.append(sequences['zs'])\n",
    "    \n",
    "        exercise_sequence = pad_sequences(\n",
    "            exercise_sequence,\n",
    "            padding=\"pre\",\n",
    "            maxlen=SEQ_MAX_LEN)\n",
    "    \n",
    "    return exercise['meta']['id'], exercise_sequence, exercise['meta']['evaluation'] - 1"
   ]
  },
  {
   "cell_type": "code",
   "execution_count": 5,
   "id": "a93a7a24",
   "metadata": {},
   "outputs": [
    {
     "name": "stdout",
     "output_type": "stream",
     "text": [
      "Metal device set to: Apple M1\n",
      "(1029,)\n",
      "(1029, 9)\n",
      "(1029, 63, 600)\n"
     ]
    },
    {
     "name": "stderr",
     "output_type": "stream",
     "text": [
      "2023-03-31 23:57:34.486381: I tensorflow/core/common_runtime/pluggable_device/pluggable_device_factory.cc:306] Could not identify NUMA node of platform GPU ID 0, defaulting to 0. Your kernel may not have been built with NUMA support.\n",
      "2023-03-31 23:57:34.486466: I tensorflow/core/common_runtime/pluggable_device/pluggable_device_factory.cc:272] Created TensorFlow device (/job:localhost/replica:0/task:0/device:GPU:0 with 0 MB memory) -> physical PluggableDevice (device: 0, name: METAL, pci bus id: <undefined>)\n"
     ]
    }
   ],
   "source": [
    "xslist_a = list()\n",
    "xslist_b = list()\n",
    "yslist = list()\n",
    "\n",
    "for file_name in os.listdir(dir_exercises):\n",
    "    xs_a, xs_b, ys = exercise_to_input(os.path.join(dir_exercises, file_name))\n",
    "    \n",
    "    yslist.append(ys)\n",
    "    xslist_a.append(xs_a)  \n",
    "    xslist_b.append(xs_b)\n",
    "\n",
    "depth = len(set(xslist_a))\n",
    "            \n",
    "ys = np.array(yslist)\n",
    "xs_a = tf.one_hot(xslist_a, depth)   \n",
    "xs_b = np.array(xslist_b) \n",
    "\n",
    "\n",
    "print(ys.shape)\n",
    "print(xs_a.shape)\n",
    "print(xs_b.shape)"
   ]
  },
  {
   "cell_type": "markdown",
   "id": "eeba3312",
   "metadata": {},
   "source": [
    "## Modeling"
   ]
  },
  {
   "cell_type": "code",
   "execution_count": 6,
   "id": "db63f1bb",
   "metadata": {},
   "outputs": [],
   "source": [
    "from tensorflow.keras.layers import Dense\n",
    "from tensorflow.keras.layers import LSTM\n",
    "from tensorflow.keras.layers import Input\n",
    "from tensorflow.keras.layers import concatenate\n",
    "from tensorflow.keras.models import Model\n",
    "from tensorflow.keras.optimizers import Adam"
   ]
  },
  {
   "cell_type": "code",
   "execution_count": 7,
   "id": "29b2c732",
   "metadata": {},
   "outputs": [
    {
     "name": "stdout",
     "output_type": "stream",
     "text": [
      "Model: \"model_2\"\n",
      "__________________________________________________________________________________________________\n",
      " Layer (type)                   Output Shape         Param #     Connected to                     \n",
      "==================================================================================================\n",
      " input_2 (InputLayer)           [(None, 63, 600)]    0           []                               \n",
      "                                                                                                  \n",
      " input_1 (InputLayer)           [(None, 9)]          0           []                               \n",
      "                                                                                                  \n",
      " lstm (LSTM)                    (None, 64)           170240      ['input_2[0][0]']                \n",
      "                                                                                                  \n",
      " dense (Dense)                  (None, 4)            40          ['input_1[0][0]']                \n",
      "                                                                                                  \n",
      " dense_1 (Dense)                (None, 32)           2080        ['lstm[0][0]']                   \n",
      "                                                                                                  \n",
      " concatenate (Concatenate)      (None, 36)           0           ['dense[0][0]',                  \n",
      "                                                                  'dense_1[0][0]']                \n",
      "                                                                                                  \n",
      " dense_2 (Dense)                (None, 16)           592         ['concatenate[0][0]']            \n",
      "                                                                                                  \n",
      " dense_3 (Dense)                (None, 6)            102         ['dense_2[0][0]']                \n",
      "                                                                                                  \n",
      " dense_4 (Dense)                (None, 6)            42          ['dense_3[0][0]']                \n",
      "                                                                                                  \n",
      "==================================================================================================\n",
      "Total params: 173,096\n",
      "Trainable params: 173,096\n",
      "Non-trainable params: 0\n",
      "__________________________________________________________________________________________________\n"
     ]
    },
    {
     "name": "stderr",
     "output_type": "stream",
     "text": [
      "/Users/alanchen/.local/share/virtualenvs/research-face-excercises-dynamics-o_HFBNSW/lib/python3.8/site-packages/keras/optimizers/optimizer_v2/adam.py:114: UserWarning: The `lr` argument is deprecated, use `learning_rate` instead.\n",
      "  super().__init__(name, **kwargs)\n"
     ]
    }
   ],
   "source": [
    "inputA = Input(shape=xs_a.shape[1:])\n",
    "inputB = Input(shape=xs_b.shape[1:])\n",
    "\n",
    "x_a = Dense(4, activation=\"relu\")(inputA)\n",
    "x_a = Model(inputs=inputA, outputs=x_a)\n",
    "\n",
    "x_b = LSTM(64)(inputB)\n",
    "x_b = Dense(32, activation=\"relu\")(x_b)\n",
    "x_b = Model(inputs=inputB, outputs=x_b)\n",
    "\n",
    "combined = concatenate([x_a.output, x_b.output])\n",
    "x = Dense(16, activation=\"relu\")(combined)\n",
    "x = Dense(6, activation=\"relu\")(x)\n",
    "x = Dense(6, activation=\"softmax\")(x)\n",
    "model = Model(inputs=[x_a.input, x_b.input], outputs=x)\n",
    "\n",
    "model.compile(\n",
    "    loss=\"sparse_categorical_crossentropy\", \n",
    "    optimizer=Adam(lr=1e-3, decay=1e-3 / 200),\n",
    "    metrics=['accuracy']\n",
    ")\n",
    "\n",
    "model.summary()"
   ]
  },
  {
   "cell_type": "code",
   "execution_count": 8,
   "id": "82dd2364",
   "metadata": {},
   "outputs": [
    {
     "name": "stdout",
     "output_type": "stream",
     "text": [
      "{0, 1, 2, 3, 4, 5}\n"
     ]
    }
   ],
   "source": [
    "print(set(ys))"
   ]
  },
  {
   "cell_type": "code",
   "execution_count": 9,
   "id": "d1bca9ef",
   "metadata": {},
   "outputs": [],
   "source": [
    "weight_training_classes = {0: 0.32075471698113206, \n",
    "                           1: 1.1333333333333333,\n",
    "                           2: 1.3076923076923077, \n",
    "                           3: 3.4, \n",
    "                           4: 3.4,\n",
    "                           5: 1.5454545454545454}"
   ]
  },
  {
   "cell_type": "code",
   "execution_count": 10,
   "id": "7ebf4216",
   "metadata": {},
   "outputs": [
    {
     "name": "stdout",
     "output_type": "stream",
     "text": [
      "Epoch 1/20\n"
     ]
    },
    {
     "name": "stderr",
     "output_type": "stream",
     "text": [
      "2023-03-31 23:57:34.888595: W tensorflow/core/platform/profile_utils/cpu_utils.cc:128] Failed to get CPU frequency: 0 Hz\n",
      "2023-03-31 23:57:35.771416: I tensorflow/core/grappler/optimizers/custom_graph_optimizer_registry.cc:114] Plugin optimizer for device_type GPU is enabled.\n",
      "2023-03-31 23:57:35.926164: I tensorflow/core/grappler/optimizers/custom_graph_optimizer_registry.cc:114] Plugin optimizer for device_type GPU is enabled.\n",
      "2023-03-31 23:57:36.355356: I tensorflow/core/grappler/optimizers/custom_graph_optimizer_registry.cc:114] Plugin optimizer for device_type GPU is enabled.\n"
     ]
    },
    {
     "name": "stdout",
     "output_type": "stream",
     "text": [
      "129/129 [==============================] - ETA: 0s - loss: 1.8657 - accuracy: 0.1526"
     ]
    },
    {
     "name": "stderr",
     "output_type": "stream",
     "text": [
      "2023-03-31 23:57:40.296662: I tensorflow/core/grappler/optimizers/custom_graph_optimizer_registry.cc:114] Plugin optimizer for device_type GPU is enabled.\n",
      "2023-03-31 23:57:40.359200: I tensorflow/core/grappler/optimizers/custom_graph_optimizer_registry.cc:114] Plugin optimizer for device_type GPU is enabled.\n"
     ]
    },
    {
     "name": "stdout",
     "output_type": "stream",
     "text": [
      "129/129 [==============================] - 7s 44ms/step - loss: 1.8657 - accuracy: 0.1526 - val_loss: 1.7797 - val_accuracy: 0.3926\n",
      "Epoch 2/20\n",
      "129/129 [==============================] - 5s 37ms/step - loss: 1.8479 - accuracy: 0.1895 - val_loss: 1.7988 - val_accuracy: 0.1895\n",
      "Epoch 3/20\n",
      "129/129 [==============================] - 5s 36ms/step - loss: 1.8444 - accuracy: 0.1399 - val_loss: 1.8122 - val_accuracy: 0.1720\n",
      "Epoch 4/20\n",
      "129/129 [==============================] - 5s 36ms/step - loss: 1.8377 - accuracy: 0.1545 - val_loss: 1.8070 - val_accuracy: 0.1672\n",
      "Epoch 5/20\n",
      "129/129 [==============================] - 5s 36ms/step - loss: 1.8215 - accuracy: 0.1808 - val_loss: 1.8077 - val_accuracy: 0.1798\n",
      "Epoch 6/20\n",
      "129/129 [==============================] - 5s 36ms/step - loss: 1.8233 - accuracy: 0.1555 - val_loss: 1.7985 - val_accuracy: 0.1759\n",
      "Epoch 7/20\n",
      "129/129 [==============================] - 5s 36ms/step - loss: 1.8073 - accuracy: 0.1642 - val_loss: 1.8169 - val_accuracy: 0.1633\n",
      "Epoch 8/20\n",
      "129/129 [==============================] - 5s 36ms/step - loss: 1.7927 - accuracy: 0.1876 - val_loss: 1.7871 - val_accuracy: 0.1361\n",
      "Epoch 9/20\n",
      "129/129 [==============================] - 5s 37ms/step - loss: 1.7905 - accuracy: 0.1798 - val_loss: 1.8029 - val_accuracy: 0.1876\n",
      "Epoch 10/20\n",
      "129/129 [==============================] - 5s 36ms/step - loss: 1.7934 - accuracy: 0.1866 - val_loss: 1.8003 - val_accuracy: 0.1846\n",
      "Epoch 11/20\n",
      "129/129 [==============================] - 5s 36ms/step - loss: 1.7860 - accuracy: 0.1730 - val_loss: 1.7950 - val_accuracy: 0.1924\n",
      "Epoch 12/20\n",
      "129/129 [==============================] - 5s 36ms/step - loss: 1.7740 - accuracy: 0.1953 - val_loss: 1.8041 - val_accuracy: 0.1895\n",
      "Epoch 13/20\n",
      "129/129 [==============================] - 5s 37ms/step - loss: 1.7627 - accuracy: 0.1934 - val_loss: 1.7725 - val_accuracy: 0.2021\n",
      "Epoch 14/20\n",
      "129/129 [==============================] - 5s 36ms/step - loss: 1.7705 - accuracy: 0.1973 - val_loss: 1.7916 - val_accuracy: 0.1895\n",
      "Epoch 15/20\n",
      "129/129 [==============================] - 5s 36ms/step - loss: 1.7641 - accuracy: 0.1876 - val_loss: 1.7837 - val_accuracy: 0.1934\n",
      "Epoch 16/20\n",
      "129/129 [==============================] - 5s 37ms/step - loss: 1.7554 - accuracy: 0.1895 - val_loss: 1.7698 - val_accuracy: 0.1866\n",
      "Epoch 17/20\n",
      "129/129 [==============================] - 5s 36ms/step - loss: 1.7610 - accuracy: 0.1856 - val_loss: 1.7615 - val_accuracy: 0.1963\n",
      "Epoch 18/20\n",
      "129/129 [==============================] - 5s 37ms/step - loss: 1.7570 - accuracy: 0.1924 - val_loss: 1.7621 - val_accuracy: 0.1944\n",
      "Epoch 19/20\n",
      "129/129 [==============================] - 5s 36ms/step - loss: 1.7524 - accuracy: 0.1944 - val_loss: 1.7620 - val_accuracy: 0.1944\n",
      "Epoch 20/20\n",
      "129/129 [==============================] - 5s 37ms/step - loss: 1.7501 - accuracy: 0.1924 - val_loss: 1.7558 - val_accuracy: 0.1934\n"
     ]
    },
    {
     "data": {
      "text/plain": [
       "<keras.callbacks.History at 0x29bad0370>"
      ]
     },
     "execution_count": 10,
     "metadata": {},
     "output_type": "execute_result"
    }
   ],
   "source": [
    "model.fit(\n",
    "    x=[xs_a, xs_b], y=ys, \n",
    "    validation_data=([xs_a, xs_b], ys),\n",
    "    batch_size=8, epochs=20,\n",
    "    class_weight=weight_training_classes)"
   ]
  },
  {
   "cell_type": "code",
   "execution_count": 11,
   "id": "e9a00ea5",
   "metadata": {},
   "outputs": [
    {
     "name": "stdout",
     "output_type": "stream",
     "text": [
      "\r",
      " 1/33 [..............................] - ETA: 11s"
     ]
    },
    {
     "name": "stderr",
     "output_type": "stream",
     "text": [
      "2023-03-31 23:59:11.877078: I tensorflow/core/grappler/optimizers/custom_graph_optimizer_registry.cc:114] Plugin optimizer for device_type GPU is enabled.\n",
      "2023-03-31 23:59:11.933564: I tensorflow/core/grappler/optimizers/custom_graph_optimizer_registry.cc:114] Plugin optimizer for device_type GPU is enabled.\n"
     ]
    },
    {
     "name": "stdout",
     "output_type": "stream",
     "text": [
      "33/33 [==============================] - 1s 14ms/step\n",
      "              precision    recall  f1-score   support\n",
      "\n",
      "           0       0.00      0.00      0.00       490\n",
      "           1       0.20      0.89      0.32       180\n",
      "           2       0.00      0.00      0.00       135\n",
      "           3       0.13      0.46      0.20        52\n",
      "           4       0.00      0.00      0.00        45\n",
      "           5       0.47      0.12      0.19       127\n",
      "\n",
      "    accuracy                           0.19      1029\n",
      "   macro avg       0.13      0.24      0.12      1029\n",
      "weighted avg       0.10      0.19      0.09      1029\n",
      "\n"
     ]
    },
    {
     "name": "stderr",
     "output_type": "stream",
     "text": [
      "/Users/alanchen/.local/share/virtualenvs/research-face-excercises-dynamics-o_HFBNSW/lib/python3.8/site-packages/sklearn/metrics/_classification.py:1344: UndefinedMetricWarning: Precision and F-score are ill-defined and being set to 0.0 in labels with no predicted samples. Use `zero_division` parameter to control this behavior.\n",
      "  _warn_prf(average, modifier, msg_start, len(result))\n",
      "/Users/alanchen/.local/share/virtualenvs/research-face-excercises-dynamics-o_HFBNSW/lib/python3.8/site-packages/sklearn/metrics/_classification.py:1344: UndefinedMetricWarning: Precision and F-score are ill-defined and being set to 0.0 in labels with no predicted samples. Use `zero_division` parameter to control this behavior.\n",
      "  _warn_prf(average, modifier, msg_start, len(result))\n",
      "/Users/alanchen/.local/share/virtualenvs/research-face-excercises-dynamics-o_HFBNSW/lib/python3.8/site-packages/sklearn/metrics/_classification.py:1344: UndefinedMetricWarning: Precision and F-score are ill-defined and being set to 0.0 in labels with no predicted samples. Use `zero_division` parameter to control this behavior.\n",
      "  _warn_prf(average, modifier, msg_start, len(result))\n"
     ]
    }
   ],
   "source": [
    "from sklearn.metrics import classification_report\n",
    "\n",
    "y_pred = model.predict([xs_a, xs_b],verbose=1)\n",
    "y_pred_bool = np.argmax(y_pred, axis=1)\n",
    "\n",
    "print(classification_report(ys, y_pred_bool))"
   ]
  },
  {
   "cell_type": "markdown",
   "id": "7657fdf8",
   "metadata": {},
   "source": [
    "# Patient dynamics"
   ]
  },
  {
   "cell_type": "raw",
   "id": "2ee79368",
   "metadata": {},
   "source": [
    "todo predict for one patient for all sessions\n",
    "get average for all exercises\n",
    "show dynamics for all sessions\n"
   ]
  },
  {
   "cell_type": "code",
   "execution_count": 12,
   "id": "a07b130f",
   "metadata": {},
   "outputs": [],
   "source": [
    "from operator import attrgetter"
   ]
  },
  {
   "cell_type": "code",
   "execution_count": 25,
   "id": "13bc3df9",
   "metadata": {},
   "outputs": [],
   "source": [
    "patient_id = '00000000017'"
   ]
  },
  {
   "cell_type": "code",
   "execution_count": 26,
   "id": "51e15f84",
   "metadata": {},
   "outputs": [
    {
     "name": "stdout",
     "output_type": "stream",
     "text": [
      "[{'id': 0, 'exercise_dates': '2020-03-05', 'evaluation': 5, 'flag_before_surgery': 0, 'number_of_exercises': 9}, {'id': 1, 'exercise_dates': '2019-12-12', 'evaluation': 5, 'flag_before_surgery': 0, 'number_of_exercises': 9}, {'id': 2, 'exercise_dates': '2019-04-04', 'evaluation': 6, 'flag_before_surgery': 0, 'number_of_exercises': 9}, {'id': 3, 'exercise_dates': '2019-07-11', 'evaluation': 5, 'flag_before_surgery': 0, 'number_of_exercises': 9}]\n"
     ]
    }
   ],
   "source": [
    "sessions = []\n",
    "with open(os.path.join(dir_patiens_sessions, '%s.json' % patient_id), 'r') as f_r:\n",
    "    sessions = json.load(f_r)\n",
    "    \n",
    "print(sessions)"
   ]
  },
  {
   "cell_type": "code",
   "execution_count": 27,
   "id": "87c4fae8",
   "metadata": {},
   "outputs": [
    {
     "name": "stdout",
     "output_type": "stream",
     "text": [
      "[{'id': 2, 'exercise_dates': '2019-04-04', 'evaluation': 6, 'flag_before_surgery': 0, 'number_of_exercises': 9}, {'id': 3, 'exercise_dates': '2019-07-11', 'evaluation': 5, 'flag_before_surgery': 0, 'number_of_exercises': 9}, {'id': 1, 'exercise_dates': '2019-12-12', 'evaluation': 5, 'flag_before_surgery': 0, 'number_of_exercises': 9}, {'id': 0, 'exercise_dates': '2020-03-05', 'evaluation': 5, 'flag_before_surgery': 0, 'number_of_exercises': 9}]\n"
     ]
    }
   ],
   "source": [
    "sessions.sort(key=lambda x: x['exercise_dates'])\n",
    "print(sessions)"
   ]
  },
  {
   "cell_type": "code",
   "execution_count": 28,
   "id": "4a0e8a0a",
   "metadata": {},
   "outputs": [],
   "source": [
    "weights = [2.0, 4.0, 6.0, 8.0, 10.0, 12.0]\n",
    "exercises_number = 9"
   ]
  },
  {
   "cell_type": "code",
   "execution_count": 29,
   "id": "85421a49",
   "metadata": {},
   "outputs": [],
   "source": [
    "import matplotlib.pyplot as plt\n",
    "plt.style.use('_mpl-gallery')"
   ]
  },
  {
   "cell_type": "code",
   "execution_count": 30,
   "id": "16880c0a",
   "metadata": {},
   "outputs": [
    {
     "name": "stdout",
     "output_type": "stream",
     "text": [
      "6\n"
     ]
    },
    {
     "data": {
      "image/png": "[encoded data removed]",
      "text/plain": [
       "<Figure size 400x200 with 2 Axes>"
      ]
     },
     "metadata": {},
     "output_type": "display_data"
    },
    {
     "name": "stdout",
     "output_type": "stream",
     "text": [
      "5\n"
     ]
    },
    {
     "data": {
      "image/png": "[encoded data removed]",
      "text/plain": [
       "<Figure size 400x200 with 2 Axes>"
      ]
     },
     "metadata": {},
     "output_type": "display_data"
    },
    {
     "name": "stdout",
     "output_type": "stream",
     "text": [
      "5\n"
     ]
    },
    {
     "data": {
      "image/png": "[encoded data removed]",
      "text/plain": [
       "<Figure size 400x200 with 2 Axes>"
      ]
     },
     "metadata": {},
     "output_type": "display_data"
    },
    {
     "name": "stdout",
     "output_type": "stream",
     "text": [
      "5\n"
     ]
    },
    {
     "data": {
      "image/png": "[encoded data removed]",
      "text/plain": [
       "<Figure size 400x200 with 2 Axes>"
      ]
     },
     "metadata": {},
     "output_type": "display_data"
    },
    {
     "name": "stdout",
     "output_type": "stream",
     "text": [
      "[6.901362210512161, 6.910412013530731, 6.90903040766716, 6.927264630794525]\n"
     ]
    },
    {
     "data": {
      "image/png": "[encoded data removed]",
      "text/plain": [
       "<Figure size 400x200 with 1 Axes>"
      ]
     },
     "metadata": {},
     "output_type": "display_data"
    }
   ],
   "source": [
    "dynamic = []\n",
    "\n",
    "for session in sessions:\n",
    "    exercises_result = []\n",
    "    print(session['evaluation'])\n",
    "    for exercise_id in range(1, session['number_of_exercises']+1):\n",
    "        xs_a, xs_b, ys = exercise_to_input(\n",
    "            os.path.join(\n",
    "                dir_exercises, '%s_%s_%s.json' % (\n",
    "                    patient_id, \n",
    "                    session['id'],\n",
    "                    exercise_id\n",
    "                )))\n",
    "        \n",
    "        xs_a = tf.one_hot([xs_a], depth)   \n",
    "        xs_b = np.array([xs_b]) \n",
    "        \n",
    "        #print(xs_a.shape)\n",
    "        #print(xs_b.shape)\n",
    "        \n",
    "        \n",
    "        y_pred = model.predict([xs_a, xs_b], verbose=0)\n",
    "        exercises_result.append(list(y_pred[0]))\n",
    "    \n",
    "    #average session \n",
    "    prediction = np.average(np.array(exercises_result), axis=0)\n",
    "    exercise_score = [y*w for y, w in zip(prediction,weights)]\n",
    "    dynamic.append(sum(exercise_score))\n",
    "    \n",
    "    fig, axs = plt.subplots(1,2,figsize=(4,2)) \n",
    "        \n",
    "    x = 1 + np.arange(6)\n",
    "    y_pred = y_pred[0]\n",
    "    y_score = exercise_score\n",
    "\n",
    "    axs[0].bar(x, y_pred, width=1, edgecolor=\"white\", linewidth=0.7)\n",
    "\n",
    "    axs[0].set(xlim=(0, 7), \n",
    "              xticks=np.arange(1, 7),\n",
    "              ylim=(0, 1), \n",
    "             )\n",
    "\n",
    "\n",
    "    axs[1].bar(x, y_score, width=1, edgecolor=\"white\", linewidth=0.7)\n",
    "    axs[1].set(xlim=(0, 7), \n",
    "              xticks=np.arange(1, 7),\n",
    "              ylim=(0, 3), \n",
    "             )\n",
    "\n",
    "    plt.show()    \n",
    "        \n",
    "\n",
    "print(dynamic)\n",
    "fig, ax = plt.subplots(figsize=(4,2)) \n",
    "\n",
    "x = 1 + np.arange(len(sessions))\n",
    "y = dynamic\n",
    "\n",
    "ax.bar(x, y, width=1, edgecolor=\"white\", linewidth=0.7)\n",
    "\n",
    "ax.set(xlim=(0, len(sessions) + 1), \n",
    "          xticks=np.arange(1, len(sessions) + 1),\n",
    "          ylim=(0, 10), \n",
    "         )\n",
    "\n",
    "plt.show() "
   ]
  },
  {
   "cell_type": "markdown",
   "id": "cde8e3db",
   "metadata": {},
   "source": [
    "__END__"
   ]
  },
  {
   "cell_type": "code",
   "execution_count": null,
   "id": "ede2adb3",
   "metadata": {},
   "outputs": [],
   "source": []
  }
 ],
 "metadata": {
  "kernelspec": {
   "display_name": "face-prognosis",
   "language": "python",
   "name": "face-prognosis"
  },
  "language_info": {
   "codemirror_mode": {
    "name": "ipython",
    "version": 3
   },
   "file_extension": ".py",
   "mimetype": "text/x-python",
   "name": "python",
   "nbconvert_exporter": "python",
   "pygments_lexer": "ipython3",
   "version": "3.8.13"
  }
 },
 "nbformat": 4,
 "nbformat_minor": 5
}
