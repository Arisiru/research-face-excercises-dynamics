{
 "cells": [
  {
   "cell_type": "markdown",
   "id": "c3ffceac",
   "metadata": {},
   "source": [
    "# Notes"
   ]
  },
  {
   "cell_type": "markdown",
   "id": "941fce85",
   "metadata": {},
   "source": [
    "First iteration is to model: goal to have end to end pipeline from data to dynamics for a patient\n",
    "- Don't have test train split\n",
    "- Predict on training data\n",
    "- Entry is an exercise\n",
    "- Include exercise meta like https://pyimagesearch.com/2019/02/04/keras-multiple-inputs-and-mixed-data/ "
   ]
  },
  {
   "cell_type": "code",
   "execution_count": 1,
   "id": "2167fbdb",
   "metadata": {
    "scrolled": true
   },
   "outputs": [],
   "source": [
    "import os \n",
    "import re\n",
    "import csv\n",
    "import json\n",
    "from datetime import datetime\n",
    "\n",
    "import math\n",
    "import pandas as pd\n",
    "import numpy as np\n",
    "import tensorflow as tf\n",
    "from tensorflow.keras.preprocessing.sequence import pad_sequences\n",
    "\n",
    "from sklearn.metrics import classification_report"
   ]
  },
  {
   "cell_type": "markdown",
   "id": "e8c2277c",
   "metadata": {},
   "source": [
    "# Constants"
   ]
  },
  {
   "cell_type": "code",
   "execution_count": 2,
   "id": "bb75db30",
   "metadata": {
    "scrolled": true
   },
   "outputs": [],
   "source": [
    "SEQ_MAX_LEN = 600\n",
    "NUM_CLASSES = 6\n",
    "NUM_EXERCISES = 9\n",
    "NUM_FLAG_BS = 2"
   ]
  },
  {
   "cell_type": "code",
   "execution_count": 3,
   "id": "eed45b66",
   "metadata": {
    "scrolled": true
   },
   "outputs": [],
   "source": [
    "dir_data_root = os.path.join('..', 'data')\n",
    "dir_exercises = os.path.join(dir_data_root, 'json', 'exercises_raw')\n",
    "dir_exercises_augmented = os.path.join(dir_data_root, 'json', 'exercises_augmented')\n",
    "dir_patiens_sessions = os.path.join(dir_data_root, 'json', 'patients_sessions')"
   ]
  },
  {
   "cell_type": "markdown",
   "id": "e544c090",
   "metadata": {},
   "source": [
    "# Data prep"
   ]
  },
  {
   "cell_type": "markdown",
   "id": "6ca3d18d",
   "metadata": {},
   "source": [
    "### Build training set"
   ]
  },
  {
   "cell_type": "code",
   "execution_count": 4,
   "id": "95d508f2",
   "metadata": {
    "scrolled": true
   },
   "outputs": [],
   "source": [
    "def exercise_to_input(file_path):\n",
    "    with open(file_path, 'r') as f_r:\n",
    "        exercise = json.load(f_r)\n",
    "        \n",
    "        exercise_sequence = []\n",
    "\n",
    "        for poi in sorted(exercise['pois'].keys()):\n",
    "            sequences = exercise['pois'][poi]\n",
    "            exercise_sequence.append(sequences['xs'])\n",
    "            exercise_sequence.append(sequences['ys'])\n",
    "            exercise_sequence.append(sequences['zs'])\n",
    "    \n",
    "        exercise_sequence = pad_sequences(\n",
    "            exercise_sequence,\n",
    "            padding=\"pre\",\n",
    "            maxlen=SEQ_MAX_LEN)\n",
    "    \n",
    "    x_a_1 = [0] * NUM_EXERCISES\n",
    "    x_a_2 = [0] * NUM_FLAG_BS\n",
    "    x_a_1[exercise['meta']['id']] = 1\n",
    "    x_a_2[exercise['meta']['flag_before_surgery']] = 1\n",
    "\n",
    "    return x_a_1 + x_a_2, exercise_sequence, exercise['meta']['evaluation']"
   ]
  },
  {
   "cell_type": "code",
   "execution_count": 5,
   "id": "a93a7a24",
   "metadata": {
    "scrolled": true
   },
   "outputs": [
    {
     "name": "stdout",
     "output_type": "stream",
     "text": [
      "(8592,)\n",
      "(8592, 11)\n",
      "(8592, 63, 600)\n"
     ]
    }
   ],
   "source": [
    "xslist_a = list()\n",
    "xslist_b = list()\n",
    "yslist = list()\n",
    "\n",
    "exercises_sources = [\n",
    "    dir_exercises,\n",
    "    dir_exercises_augmented\n",
    "]\n",
    "\n",
    "for exercise_source in exercises_sources:\n",
    "    for file_name in os.listdir(exercise_source):\n",
    "        file_path = os.path.join(exercise_source, file_name)\n",
    "\n",
    "        if file_name == '.DS_Store': continue\n",
    "\n",
    "        xs_a, xs_b, ys = exercise_to_input(file_path)\n",
    "\n",
    "        yslist.append(ys)\n",
    "        xslist_a.append(xs_a)  \n",
    "        xslist_b.append(xs_b)\n",
    "\n",
    "        #break\n",
    "            \n",
    "ys = np.array(yslist)\n",
    "xs_a = np.array(xslist_a)   \n",
    "xs_b = np.array(xslist_b) \n",
    "\n",
    "\n",
    "print(ys.shape)\n",
    "print(xs_a.shape)\n",
    "print(xs_b.shape)"
   ]
  },
  {
   "cell_type": "raw",
   "id": "ab6ea1d4",
   "metadata": {},
   "source": [
    "was \n",
    "(1029,)\n",
    "(1029, 11)\n",
    "(1029, 63, 600)"
   ]
  },
  {
   "cell_type": "markdown",
   "id": "eeba3312",
   "metadata": {},
   "source": [
    "## Modeling"
   ]
  },
  {
   "cell_type": "code",
   "execution_count": 6,
   "id": "db63f1bb",
   "metadata": {
    "scrolled": true
   },
   "outputs": [],
   "source": [
    "from tensorflow.keras.layers import Dense\n",
    "from tensorflow.keras.layers import LSTM\n",
    "from tensorflow.keras.layers import Conv1D\n",
    "from tensorflow.keras.layers import Conv2D\n",
    "from tensorflow.keras.layers import MaxPooling1D\n",
    "from tensorflow.keras.layers import MaxPooling2D\n",
    "from tensorflow.keras.layers import Flatten\n",
    "from tensorflow.keras.layers import Input\n",
    "from tensorflow.keras.layers import concatenate\n",
    "from tensorflow.keras.layers import BatchNormalization\n",
    "from tensorflow.keras.layers import Dropout\n",
    "from tensorflow.keras.models import Model\n",
    "from tensorflow.keras.optimizers import Adam"
   ]
  },
  {
   "cell_type": "code",
   "execution_count": 7,
   "id": "29b2c732",
   "metadata": {
    "scrolled": true
   },
   "outputs": [],
   "source": [
    "def get_model():\n",
    "    chanDim = -1\n",
    "\n",
    "    inputA = Input(shape=xs_a.shape[1:])\n",
    "    inputB = Input(shape=xs_b.shape[1:])\n",
    "\n",
    "    x_a = Dense(4, activation=\"relu\")(inputA)\n",
    "    x_a = Model(inputs=inputA, outputs=x_a)\n",
    "\n",
    "    #x_b = LSTM(64)(inputB)\n",
    "    x_b = Conv1D(16, 3, padding='same', activation='relu')(inputB)\n",
    "    x_b = BatchNormalization(axis=chanDim)(x_b)\n",
    "    x_b = MaxPooling1D((2))(x_b)\n",
    "    x_b = Conv1D(32, 3, padding='same', activation='relu')(x_b)\n",
    "    x_b = BatchNormalization(axis=chanDim)(x_b)\n",
    "    x_b = MaxPooling1D((2))(x_b)\n",
    "    x_b = Conv1D(64, 3, padding='same', activation='relu')(x_b)\n",
    "    x_b = BatchNormalization(axis=chanDim)(x_b)\n",
    "    x_b = MaxPooling1D((2))(x_b)\n",
    "    x_b = Conv1D(64, 3, padding='same', activation='relu')(x_b)\n",
    "    x_b = BatchNormalization(axis=chanDim)(x_b)\n",
    "    x_b = MaxPooling1D((2))(x_b)\n",
    "    x_b = Flatten()(x_b)\n",
    "    x_b = Dropout(0.5)(x_b)\n",
    "    x_b = Dense(128, activation=\"relu\")(x_b)\n",
    "    x_b = Model(inputs=inputB, outputs=x_b)\n",
    "\n",
    "    combined = concatenate([x_a.output, x_b.output])\n",
    "    x = Dense(32, activation=\"relu\")(combined)\n",
    "    x = Dense(6, activation=\"softmax\")(x)\n",
    "    model = Model(inputs=[x_a.input, x_b.input], outputs=x)\n",
    "\n",
    "    model.compile(\n",
    "        loss=\"sparse_categorical_crossentropy\", \n",
    "        optimizer=Adam(learning_rate=1e-3, decay=1e-3 / 200),\n",
    "        metrics=['accuracy']\n",
    "    )\n",
    "    \n",
    "    return model"
   ]
  },
  {
   "cell_type": "code",
   "execution_count": 8,
   "id": "2377d19f",
   "metadata": {},
   "outputs": [
    {
     "name": "stdout",
     "output_type": "stream",
     "text": [
      "Metal device set to: Apple M1\n"
     ]
    },
    {
     "name": "stderr",
     "output_type": "stream",
     "text": [
      "2023-06-08 12:11:54.906674: I tensorflow/core/common_runtime/pluggable_device/pluggable_device_factory.cc:306] Could not identify NUMA node of platform GPU ID 0, defaulting to 0. Your kernel may not have been built with NUMA support.\n",
      "2023-06-08 12:11:54.906791: I tensorflow/core/common_runtime/pluggable_device/pluggable_device_factory.cc:272] Created TensorFlow device (/job:localhost/replica:0/task:0/device:GPU:0 with 0 MB memory) -> physical PluggableDevice (device: 0, name: METAL, pci bus id: <undefined>)\n"
     ]
    },
    {
     "name": "stdout",
     "output_type": "stream",
     "text": [
      "Model: \"model_2\"\n",
      "__________________________________________________________________________________________________\n",
      " Layer (type)                   Output Shape         Param #     Connected to                     \n",
      "==================================================================================================\n",
      " input_2 (InputLayer)           [(None, 63, 600)]    0           []                               \n",
      "                                                                                                  \n",
      " conv1d (Conv1D)                (None, 63, 16)       28816       ['input_2[0][0]']                \n",
      "                                                                                                  \n",
      " batch_normalization (BatchNorm  (None, 63, 16)      64          ['conv1d[0][0]']                 \n",
      " alization)                                                                                       \n",
      "                                                                                                  \n",
      " max_pooling1d (MaxPooling1D)   (None, 31, 16)       0           ['batch_normalization[0][0]']    \n",
      "                                                                                                  \n",
      " conv1d_1 (Conv1D)              (None, 31, 32)       1568        ['max_pooling1d[0][0]']          \n",
      "                                                                                                  \n",
      " batch_normalization_1 (BatchNo  (None, 31, 32)      128         ['conv1d_1[0][0]']               \n",
      " rmalization)                                                                                     \n",
      "                                                                                                  \n",
      " max_pooling1d_1 (MaxPooling1D)  (None, 15, 32)      0           ['batch_normalization_1[0][0]']  \n",
      "                                                                                                  \n",
      " conv1d_2 (Conv1D)              (None, 15, 64)       6208        ['max_pooling1d_1[0][0]']        \n",
      "                                                                                                  \n",
      " batch_normalization_2 (BatchNo  (None, 15, 64)      256         ['conv1d_2[0][0]']               \n",
      " rmalization)                                                                                     \n",
      "                                                                                                  \n",
      " max_pooling1d_2 (MaxPooling1D)  (None, 7, 64)       0           ['batch_normalization_2[0][0]']  \n",
      "                                                                                                  \n",
      " conv1d_3 (Conv1D)              (None, 7, 64)        12352       ['max_pooling1d_2[0][0]']        \n",
      "                                                                                                  \n",
      " batch_normalization_3 (BatchNo  (None, 7, 64)       256         ['conv1d_3[0][0]']               \n",
      " rmalization)                                                                                     \n",
      "                                                                                                  \n",
      " max_pooling1d_3 (MaxPooling1D)  (None, 3, 64)       0           ['batch_normalization_3[0][0]']  \n",
      "                                                                                                  \n",
      " flatten (Flatten)              (None, 192)          0           ['max_pooling1d_3[0][0]']        \n",
      "                                                                                                  \n",
      " input_1 (InputLayer)           [(None, 11)]         0           []                               \n",
      "                                                                                                  \n",
      " dropout (Dropout)              (None, 192)          0           ['flatten[0][0]']                \n",
      "                                                                                                  \n",
      " dense (Dense)                  (None, 4)            48          ['input_1[0][0]']                \n",
      "                                                                                                  \n",
      " dense_1 (Dense)                (None, 128)          24704       ['dropout[0][0]']                \n",
      "                                                                                                  \n",
      " concatenate (Concatenate)      (None, 132)          0           ['dense[0][0]',                  \n",
      "                                                                  'dense_1[0][0]']                \n",
      "                                                                                                  \n",
      " dense_2 (Dense)                (None, 32)           4256        ['concatenate[0][0]']            \n",
      "                                                                                                  \n",
      " dense_3 (Dense)                (None, 6)            198         ['dense_2[0][0]']                \n",
      "                                                                                                  \n",
      "==================================================================================================\n",
      "Total params: 78,854\n",
      "Trainable params: 78,502\n",
      "Non-trainable params: 352\n",
      "__________________________________________________________________________________________________\n"
     ]
    }
   ],
   "source": [
    "test_model = get_model()\n",
    "test_model.summary()"
   ]
  },
  {
   "cell_type": "code",
   "execution_count": 9,
   "id": "82dd2364",
   "metadata": {
    "scrolled": true
   },
   "outputs": [
    {
     "name": "stdout",
     "output_type": "stream",
     "text": [
      "{0, 1, 2, 3, 4, 5}\n"
     ]
    }
   ],
   "source": [
    "print(set(ys))"
   ]
  },
  {
   "cell_type": "code",
   "execution_count": 10,
   "id": "d1bca9ef",
   "metadata": {
    "scrolled": true
   },
   "outputs": [],
   "source": [
    "weight_training_classes = {0: 0.32075471698113206, \n",
    "                           1: 1.1333333333333333,\n",
    "                           2: 1.3076923076923077, \n",
    "                           3: 3.4, \n",
    "                           4: 3.4,\n",
    "                           5: 1.5454545454545454}"
   ]
  },
  {
   "cell_type": "markdown",
   "id": "accfe635",
   "metadata": {},
   "source": [
    "### K-fold evaluation"
   ]
  },
  {
   "cell_type": "code",
   "execution_count": 11,
   "id": "3c142f3a",
   "metadata": {},
   "outputs": [],
   "source": [
    "k = 5\n",
    "train = 0.8\n",
    "val = 0.2\n",
    "test = 0.2"
   ]
  },
  {
   "cell_type": "code",
   "execution_count": 12,
   "id": "8aacb4ee",
   "metadata": {},
   "outputs": [],
   "source": [
    "VERBOSE = 0\n",
    "EPOCHS = 100\n",
    "BATCH_SIZE = 8"
   ]
  },
  {
   "cell_type": "code",
   "execution_count": 13,
   "id": "3f377532",
   "metadata": {},
   "outputs": [],
   "source": [
    "from sklearn.model_selection import KFold"
   ]
  },
  {
   "cell_type": "code",
   "execution_count": 14,
   "id": "8f442eac",
   "metadata": {},
   "outputs": [],
   "source": [
    "def get_k_indx(k, n):\n",
    "\n",
    "    k_fold = KFold(n_splits=k)\n",
    "    train_ = []\n",
    "    val_ = []\n",
    "    test_ = []\n",
    "    indx = []\n",
    "\n",
    "    for train_indices, test_indices in k_fold.split(ys):\n",
    "        n_k = len(train_indices)\n",
    "        val_split = int(n_k * train)\n",
    "        indx.append([train_indices[:val_split],train_indices[val_split + 1:], test_indices])\n",
    "    \n",
    "    return indx"
   ]
  },
  {
   "cell_type": "raw",
   "id": "cf2f0ddd",
   "metadata": {},
   "source": [
    "print(get_k_indx(k, len(ys)))"
   ]
  },
  {
   "cell_type": "code",
   "execution_count": 15,
   "id": "7ebf4216",
   "metadata": {
    "scrolled": false
   },
   "outputs": [
    {
     "name": "stderr",
     "output_type": "stream",
     "text": [
      "2023-06-08 12:11:55.887720: W tensorflow/core/platform/profile_utils/cpu_utils.cc:128] Failed to get CPU frequency: 0 Hz\n",
      "2023-06-08 12:11:56.602730: I tensorflow/core/grappler/optimizers/custom_graph_optimizer_registry.cc:114] Plugin optimizer for device_type GPU is enabled.\n",
      "2023-06-08 12:12:09.274710: I tensorflow/core/grappler/optimizers/custom_graph_optimizer_registry.cc:114] Plugin optimizer for device_type GPU is enabled.\n",
      "2023-06-08 12:31:24.023871: I tensorflow/core/grappler/optimizers/custom_graph_optimizer_registry.cc:114] Plugin optimizer for device_type GPU is enabled.\n"
     ]
    },
    {
     "name": "stdout",
     "output_type": "stream",
     "text": [
      "              precision    recall  f1-score   support\n",
      "\n",
      "           0       0.99      0.92      0.95       773\n",
      "           1       0.93      0.96      0.94       272\n",
      "           2       0.88      0.99      0.93       283\n",
      "           3       0.97      0.98      0.97        97\n",
      "           4       0.95      0.96      0.96       104\n",
      "           5       0.94      0.96      0.95       190\n",
      "\n",
      "    accuracy                           0.95      1719\n",
      "   macro avg       0.94      0.96      0.95      1719\n",
      "weighted avg       0.95      0.95      0.95      1719\n",
      "\n"
     ]
    },
    {
     "name": "stderr",
     "output_type": "stream",
     "text": [
      "2023-06-08 12:31:26.314112: I tensorflow/core/grappler/optimizers/custom_graph_optimizer_registry.cc:114] Plugin optimizer for device_type GPU is enabled.\n",
      "2023-06-08 12:31:38.508588: I tensorflow/core/grappler/optimizers/custom_graph_optimizer_registry.cc:114] Plugin optimizer for device_type GPU is enabled.\n",
      "2023-06-08 12:51:12.365696: I tensorflow/core/grappler/optimizers/custom_graph_optimizer_registry.cc:114] Plugin optimizer for device_type GPU is enabled.\n"
     ]
    },
    {
     "name": "stdout",
     "output_type": "stream",
     "text": [
      "              precision    recall  f1-score   support\n",
      "\n",
      "           0       0.96      0.84      0.90       781\n",
      "           1       0.78      0.92      0.84       283\n",
      "           2       0.80      0.91      0.85       267\n",
      "           3       0.89      0.89      0.89       112\n",
      "           4       0.86      0.93      0.89       105\n",
      "           5       0.88      0.92      0.90       171\n",
      "\n",
      "    accuracy                           0.88      1719\n",
      "   macro avg       0.86      0.90      0.88      1719\n",
      "weighted avg       0.89      0.88      0.88      1719\n",
      "\n"
     ]
    },
    {
     "name": "stderr",
     "output_type": "stream",
     "text": [
      "2023-06-08 12:51:14.394893: I tensorflow/core/grappler/optimizers/custom_graph_optimizer_registry.cc:114] Plugin optimizer for device_type GPU is enabled.\n",
      "2023-06-08 12:51:27.848982: I tensorflow/core/grappler/optimizers/custom_graph_optimizer_registry.cc:114] Plugin optimizer for device_type GPU is enabled.\n",
      "2023-06-08 13:11:06.496777: I tensorflow/core/grappler/optimizers/custom_graph_optimizer_registry.cc:114] Plugin optimizer for device_type GPU is enabled.\n"
     ]
    },
    {
     "name": "stdout",
     "output_type": "stream",
     "text": [
      "              precision    recall  f1-score   support\n",
      "\n",
      "           0       0.98      0.93      0.96       760\n",
      "           1       0.93      0.97      0.95       269\n",
      "           2       0.97      0.97      0.97       301\n",
      "           3       0.97      0.99      0.98        87\n",
      "           4       0.91      0.99      0.95        87\n",
      "           5       0.92      0.98      0.95       214\n",
      "\n",
      "    accuracy                           0.96      1718\n",
      "   macro avg       0.95      0.97      0.96      1718\n",
      "weighted avg       0.96      0.96      0.96      1718\n",
      "\n"
     ]
    },
    {
     "name": "stderr",
     "output_type": "stream",
     "text": [
      "2023-06-08 13:11:08.459396: I tensorflow/core/grappler/optimizers/custom_graph_optimizer_registry.cc:114] Plugin optimizer for device_type GPU is enabled.\n",
      "2023-06-08 13:11:21.026488: I tensorflow/core/grappler/optimizers/custom_graph_optimizer_registry.cc:114] Plugin optimizer for device_type GPU is enabled.\n",
      "2023-06-08 13:30:34.258275: I tensorflow/core/grappler/optimizers/custom_graph_optimizer_registry.cc:114] Plugin optimizer for device_type GPU is enabled.\n"
     ]
    },
    {
     "name": "stdout",
     "output_type": "stream",
     "text": [
      "              precision    recall  f1-score   support\n",
      "\n",
      "           0       0.99      0.95      0.97       767\n",
      "           1       0.93      0.99      0.96       293\n",
      "           2       0.94      0.98      0.96       280\n",
      "           3       0.98      0.98      0.98        99\n",
      "           4       0.92      0.96      0.94       101\n",
      "           5       0.97      0.99      0.98       178\n",
      "\n",
      "    accuracy                           0.97      1718\n",
      "   macro avg       0.96      0.97      0.96      1718\n",
      "weighted avg       0.97      0.97      0.97      1718\n",
      "\n"
     ]
    },
    {
     "name": "stderr",
     "output_type": "stream",
     "text": [
      "2023-06-08 13:30:37.108737: I tensorflow/core/grappler/optimizers/custom_graph_optimizer_registry.cc:114] Plugin optimizer for device_type GPU is enabled.\n",
      "2023-06-08 13:30:50.207528: I tensorflow/core/grappler/optimizers/custom_graph_optimizer_registry.cc:114] Plugin optimizer for device_type GPU is enabled.\n",
      "2023-06-08 13:50:48.641817: I tensorflow/core/grappler/optimizers/custom_graph_optimizer_registry.cc:114] Plugin optimizer for device_type GPU is enabled.\n"
     ]
    },
    {
     "name": "stdout",
     "output_type": "stream",
     "text": [
      "              precision    recall  f1-score   support\n",
      "\n",
      "           0       0.98      0.90      0.94       775\n",
      "           1       0.88      0.96      0.92       271\n",
      "           2       0.89      0.95      0.92       277\n",
      "           3       0.89      0.96      0.92       101\n",
      "           4       0.93      0.96      0.94       107\n",
      "           5       0.89      0.95      0.92       187\n",
      "\n",
      "    accuracy                           0.93      1718\n",
      "   macro avg       0.91      0.95      0.93      1718\n",
      "weighted avg       0.93      0.93      0.93      1718\n",
      "\n"
     ]
    }
   ],
   "source": [
    "indxs = get_k_indx(k, len(ys))\n",
    "\n",
    "for i in range(k):\n",
    "    train_indx, val_indx, test_indx  = indxs[i]\n",
    "    xs_a_i = xs_a[train_indx]\n",
    "    xs_a_i_val = xs_a[val_indx]\n",
    "    xs_a_i_test = xs_a[test_indx]\n",
    "    \n",
    "    xs_b_i = xs_b[train_indx]\n",
    "    xs_b_i_val = xs_b[val_indx]\n",
    "    xs_b_i_test = xs_b[test_indx]\n",
    "    \n",
    "    ys_i = ys[train_indx]\n",
    "    ys_i_val = ys[val_indx]\n",
    "    ys_i_test = ys[test_indx]\n",
    "\n",
    "    model = get_model()\n",
    "\n",
    "    model.fit(\n",
    "        x=[xs_a_i, xs_b_i], y=ys_i, \n",
    "        validation_data=([xs_a_i_val, xs_b_i_val], ys_i_val),\n",
    "        batch_size=BATCH_SIZE, epochs=EPOCHS,\n",
    "        class_weight=weight_training_classes,\n",
    "        verbose=VERBOSE)\n",
    "    \n",
    "    \n",
    "    \n",
    "    y_pred = model.predict([xs_a_i_test, xs_b_i_test],verbose=0)\n",
    "    y_pred_bool = np.argmax(y_pred, axis=1)\n",
    "\n",
    "    print(classification_report(ys_i_test, y_pred_bool))"
   ]
  },
  {
   "cell_type": "code",
   "execution_count": 27,
   "id": "e1c0fa64",
   "metadata": {},
   "outputs": [
    {
     "name": "stdout",
     "output_type": "stream",
     "text": [
      "0.852\n",
      "0.9359999999999999\n"
     ]
    }
   ],
   "source": [
    "import statistics\n",
    "\n",
    "print(statistics.mean([0.88, 0.91, 0.69, 0.90, 0.88]))\n",
    "print(statistics.mean([0.95, 0.88, 0.96, 0.96, 0.93]))"
   ]
  },
  {
   "cell_type": "markdown",
   "id": "7657fdf8",
   "metadata": {},
   "source": [
    "# Patient dynamics"
   ]
  },
  {
   "cell_type": "code",
   "execution_count": 17,
   "id": "a07b130f",
   "metadata": {
    "scrolled": true
   },
   "outputs": [],
   "source": [
    "from operator import attrgetter"
   ]
  },
  {
   "cell_type": "code",
   "execution_count": 18,
   "id": "85421a49",
   "metadata": {
    "scrolled": true
   },
   "outputs": [],
   "source": [
    "import matplotlib.pyplot as plt\n",
    "plt.style.use('_mpl-gallery')"
   ]
  },
  {
   "cell_type": "code",
   "execution_count": 19,
   "id": "79494615",
   "metadata": {
    "scrolled": true
   },
   "outputs": [],
   "source": [
    "weights = [1.0, 2.0, 4.0, 8.0, 16.0, 32.0]\n",
    "exercises_number = 9"
   ]
  },
  {
   "cell_type": "markdown",
   "id": "cd8bc919",
   "metadata": {},
   "source": [
    "## Single patient with details"
   ]
  },
  {
   "cell_type": "code",
   "execution_count": 20,
   "id": "13bc3df9",
   "metadata": {
    "scrolled": true
   },
   "outputs": [],
   "source": [
    "patient_id = '00000000020'"
   ]
  },
  {
   "cell_type": "code",
   "execution_count": 21,
   "id": "51e15f84",
   "metadata": {
    "scrolled": true
   },
   "outputs": [
    {
     "name": "stdout",
     "output_type": "stream",
     "text": [
      "[{'id': 0, 'exercise_dates': '2019-06-03', 'evaluation': 0, 'flag_before_surgery': 1, 'number_of_exercises': 9}, {'id': 1, 'exercise_dates': '2019-08-29', 'evaluation': 1, 'flag_before_surgery': 1, 'number_of_exercises': 9}, {'id': 2, 'exercise_dates': '2019-12-30', 'evaluation': 0, 'flag_before_surgery': 1, 'number_of_exercises': 9}]\n"
     ]
    }
   ],
   "source": [
    "sessions = []\n",
    "with open(os.path.join(dir_patiens_sessions, '%s.json' % patient_id), 'r') as f_r:\n",
    "    sessions = json.load(f_r)\n",
    "    \n",
    "print(sessions)"
   ]
  },
  {
   "cell_type": "code",
   "execution_count": 22,
   "id": "87c4fae8",
   "metadata": {
    "scrolled": true
   },
   "outputs": [
    {
     "name": "stdout",
     "output_type": "stream",
     "text": [
      "[{'id': 0, 'exercise_dates': '2019-06-03', 'evaluation': 0, 'flag_before_surgery': 1, 'number_of_exercises': 9}, {'id': 1, 'exercise_dates': '2019-08-29', 'evaluation': 1, 'flag_before_surgery': 1, 'number_of_exercises': 9}, {'id': 2, 'exercise_dates': '2019-12-30', 'evaluation': 0, 'flag_before_surgery': 1, 'number_of_exercises': 9}]\n"
     ]
    }
   ],
   "source": [
    "sessions.sort(key=lambda x: x['exercise_dates'])\n",
    "print(sessions)"
   ]
  },
  {
   "cell_type": "code",
   "execution_count": 23,
   "id": "16880c0a",
   "metadata": {
    "scrolled": true
   },
   "outputs": [
    {
     "name": "stdout",
     "output_type": "stream",
     "text": [
      "1\n"
     ]
    },
    {
     "data": {
      "image/png": "[encoded data removed]",
      "text/plain": [
       "<Figure size 1500x200 with 9 Axes>"
      ]
     },
     "metadata": {},
     "output_type": "display_data"
    },
    {
     "data": {
      "image/png": "[encoded data removed]",
      "text/plain": [
       "<Figure size 400x200 with 2 Axes>"
      ]
     },
     "metadata": {},
     "output_type": "display_data"
    },
    {
     "name": "stdout",
     "output_type": "stream",
     "text": [
      "2\n"
     ]
    },
    {
     "data": {
      "image/png": "[encoded data removed]",
      "text/plain": [
       "<Figure size 1500x200 with 9 Axes>"
      ]
     },
     "metadata": {},
     "output_type": "display_data"
    },
    {
     "data": {
      "image/png": "[encoded data removed]",
      "text/plain": [
       "<Figure size 400x200 with 2 Axes>"
      ]
     },
     "metadata": {},
     "output_type": "display_data"
    },
    {
     "name": "stdout",
     "output_type": "stream",
     "text": [
      "1\n"
     ]
    },
    {
     "data": {
      "image/png": "[encoded data removed]",
      "text/plain": [
       "<Figure size 1500x200 with 9 Axes>"
      ]
     },
     "metadata": {},
     "output_type": "display_data"
    },
    {
     "data": {
      "image/png": "[encoded data removed]",
      "text/plain": [
       "<Figure size 400x200 with 2 Axes>"
      ]
     },
     "metadata": {},
     "output_type": "display_data"
    },
    {
     "name": "stdout",
     "output_type": "stream",
     "text": [
      "[1.0574393893825231, 1.9297509394704466, 1.2075582549074584]\n"
     ]
    },
    {
     "data": {
      "image/png": "[encoded data removed]",
      "text/plain": [
       "<Figure size 400x200 with 1 Axes>"
      ]
     },
     "metadata": {},
     "output_type": "display_data"
    }
   ],
   "source": [
    "dynamic = []\n",
    "evaluations = []\n",
    "\n",
    "for session in sessions:\n",
    "    exercises_result = []\n",
    "    print(session['evaluation'] + 1) #from index to class\n",
    "    evaluations.append(session['evaluation'] + 1)\n",
    "\n",
    "    fig, axs = plt.subplots(1,9,figsize=(15,2)) \n",
    "\n",
    "    for exercise_id in range(exercises_number):\n",
    "        file_name = os.path.join(\n",
    "            dir_exercises, '%s_%s_%s.json' % (\n",
    "                patient_id, \n",
    "                session['id'],\n",
    "                exercise_id))\n",
    "        \n",
    "        if not os.path.isfile(file_name):\n",
    "            continue\n",
    "            \n",
    "        xs_a, xs_b, ys = exercise_to_input(file_name)\n",
    "        \n",
    "        xs_a = np.array([xs_a])   \n",
    "        xs_b = np.array([xs_b]) \n",
    "        \n",
    "        #print(xs_a.shape)\n",
    "        #print(xs_b.shape)\n",
    "        \n",
    "        \n",
    "        y_pred = model.predict([xs_a, xs_b], verbose=0)\n",
    "        exercises_result.append(list(y_pred[0]))\n",
    "        \n",
    "                \n",
    "        axs[exercise_id].bar(1 + np.arange(6), y_pred[0], width=1, edgecolor=\"white\", linewidth=0.7)\n",
    "\n",
    "        axs[exercise_id].set(\n",
    "            xlim=(0, 7), \n",
    "            xticks=np.arange(1, 7),\n",
    "            ylim=(0, 1))\n",
    "    \n",
    "    #average session \n",
    "    prediction = np.average(np.array(exercises_result), axis=0)\n",
    "    exercise_score = [y*w for y, w in zip(prediction,weights)]\n",
    "    dynamic.append(sum(exercise_score))\n",
    "    \n",
    "    fig, axs = plt.subplots(1,2,figsize=(4,2)) \n",
    "        \n",
    "    x = 1 + np.arange(6)\n",
    "    y_pred = y_pred[0]\n",
    "    y_score = exercise_score\n",
    "\n",
    "    axs[0].bar(x, y_pred, width=1, edgecolor=\"white\", linewidth=0.7)\n",
    "\n",
    "    axs[0].set(xlim=(0, 7), \n",
    "              xticks=np.arange(1, 7),\n",
    "              ylim=(0, 1), \n",
    "             )\n",
    "\n",
    "\n",
    "    axs[1].bar(x, y_score, width=1, edgecolor=\"white\", linewidth=0.7)\n",
    "    axs[1].set(xlim=(0, 7), \n",
    "              xticks=np.arange(1, 7),\n",
    "              ylim=(0, max(y_score) + 1), \n",
    "             )\n",
    "\n",
    "    plt.show()    \n",
    "        \n",
    "\n",
    "print(dynamic)\n",
    "fig, ax = plt.subplots(figsize=(4,2)) \n",
    "\n",
    "x = 1 + np.arange(len(sessions))\n",
    "y = dynamic\n",
    "\n",
    "#ax.bar(x, y, width=1, edgecolor=\"white\", linewidth=0.7)\n",
    "ax.plot(x, y, color='tab:blue')\n",
    "ax.bar(x, evaluations, color='tab:orange', edgecolor=\"white\", linewidth=0.7)\n",
    "\n",
    "ax.set(xlim=(0, len(sessions) + 1), \n",
    "          xticks=np.arange(1, len(sessions) + 1),\n",
    "          ylim=(0, max(7, max(y) + 1)), \n",
    "         )\n",
    "\n",
    "plt.show() "
   ]
  },
  {
   "cell_type": "markdown",
   "id": "0af1fedb",
   "metadata": {},
   "source": [
    "## Patients Dynamics: Multiple Patients"
   ]
  },
  {
   "cell_type": "code",
   "execution_count": 24,
   "id": "653be2ee",
   "metadata": {
    "scrolled": true
   },
   "outputs": [],
   "source": [
    "def get_fine_score(patient_id):\n",
    "    sessions = []\n",
    "    fine_score = []\n",
    "    evaluations = []\n",
    "\n",
    "    with open(os.path.join(dir_patiens_sessions, '%s.json' % patient_id), 'r') as f_r:\n",
    "        sessions = json.load(f_r)\n",
    "        \n",
    "    sessions.sort(key=lambda x: x['exercise_dates'])\n",
    "    \n",
    "    for session in sessions:\n",
    "        exercises_result = []\n",
    "        evaluations.append(session['evaluation'] + 1)\n",
    "    \n",
    "        for exercise_id in range(exercises_number):\n",
    "            file_name = os.path.join(\n",
    "                dir_exercises, '%s_%s_%s.json' % (\n",
    "                    patient_id, \n",
    "                    session['id'],\n",
    "                    exercise_id))\n",
    "\n",
    "            if not os.path.isfile(file_name):\n",
    "                continue\n",
    "\n",
    "            xs_a, xs_b, ys = exercise_to_input(file_name)\n",
    "\n",
    "            xs_a = np.array([xs_a])   \n",
    "            xs_b = np.array([xs_b]) \n",
    "\n",
    "            y_pred = model.predict([xs_a, xs_b], verbose=0)\n",
    "            exercises_result.append(list(y_pred[0]))\n",
    "\n",
    "        #average session \n",
    "        prediction = np.average(np.array(exercises_result), axis=0)\n",
    "        exercise_score = [y*w for y, w in zip(prediction,weights)]\n",
    "        fine_score.append(sum(exercise_score))\n",
    "        \n",
    "    return fine_score, evaluations"
   ]
  },
  {
   "cell_type": "code",
   "execution_count": 25,
   "id": "39d27222",
   "metadata": {
    "scrolled": true
   },
   "outputs": [],
   "source": [
    "patients = [\n",
    "    '00000000034',\n",
    "    '00000000074',\n",
    "    '00000000058',\n",
    "    '00000000039',\n",
    "    '00000000081',\n",
    "    '00000000042',\n",
    "]"
   ]
  },
  {
   "cell_type": "code",
   "execution_count": 26,
   "id": "0787a6b6",
   "metadata": {
    "scrolled": false
   },
   "outputs": [
    {
     "data": {
      "image/png": "[encoded data removed]",
      "text/plain": [
       "<Figure size 400x200 with 1 Axes>"
      ]
     },
     "metadata": {},
     "output_type": "display_data"
    },
    {
     "data": {
      "image/png": "[encoded data removed]",
      "text/plain": [
       "<Figure size 400x200 with 1 Axes>"
      ]
     },
     "metadata": {},
     "output_type": "display_data"
    },
    {
     "data": {
      "image/png": "[encoded data removed]",
      "text/plain": [
       "<Figure size 400x200 with 1 Axes>"
      ]
     },
     "metadata": {},
     "output_type": "display_data"
    },
    {
     "data": {
      "image/png": "[encoded data removed]",
      "text/plain": [
       "<Figure size 400x200 with 1 Axes>"
      ]
     },
     "metadata": {},
     "output_type": "display_data"
    },
    {
     "data": {
      "image/png": "[encoded data removed]",
      "text/plain": [
       "<Figure size 400x200 with 1 Axes>"
      ]
     },
     "metadata": {},
     "output_type": "display_data"
    },
    {
     "data": {
      "image/png": "[encoded data removed]",
      "text/plain": [
       "<Figure size 400x200 with 1 Axes>"
      ]
     },
     "metadata": {},
     "output_type": "display_data"
    }
   ],
   "source": [
    "for patient_id in patients:\n",
    "    fine_score, evaluations = get_fine_score(patient_id)\n",
    "    fig, ax = plt.subplots(figsize=(4,2)) \n",
    "\n",
    "    x = 1 + np.arange(len(evaluations))\n",
    "\n",
    "    ax.plot(x, fine_score, color='tab:blue', marker='D')\n",
    "    ax.bar(x, evaluations, color='tab:orange', edgecolor='white', linewidth=0.7)\n",
    "\n",
    "    ax.set(\n",
    "        xlim=(0, len(sessions) + 1), \n",
    "        xticks=np.arange(1, len(sessions) + 1),\n",
    "        ylim=(0, max(7, max(fine_score) + 1)),\n",
    "        xlabel='Sessions',\n",
    "        ylabel='Scores',\n",
    "        title='%s: HB scores %s ' % (patient_id, ', '.join(map(str, evaluations)))\n",
    "    )\n",
    "\n",
    "plt.show() "
   ]
  },
  {
   "cell_type": "markdown",
   "id": "cde8e3db",
   "metadata": {},
   "source": [
    "__END__"
   ]
  },
  {
   "cell_type": "code",
   "execution_count": null,
   "id": "fdbf7298",
   "metadata": {
    "scrolled": true
   },
   "outputs": [],
   "source": []
  }
 ],
 "metadata": {
  "kernelspec": {
   "display_name": "face-prognosis",
   "language": "python",
   "name": "face-prognosis"
  },
  "language_info": {
   "codemirror_mode": {
    "name": "ipython",
    "version": 3
   },
   "file_extension": ".py",
   "mimetype": "text/x-python",
   "name": "python",
   "nbconvert_exporter": "python",
   "pygments_lexer": "ipython3",
   "version": "3.8.13"
  }
 },
 "nbformat": 4,
 "nbformat_minor": 5
}
