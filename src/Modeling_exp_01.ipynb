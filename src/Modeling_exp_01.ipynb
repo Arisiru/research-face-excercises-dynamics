{
 "cells": [
  {
   "cell_type": "markdown",
   "id": "c3ffceac",
   "metadata": {},
   "source": [
    "# Notes"
   ]
  },
  {
   "cell_type": "markdown",
   "id": "941fce85",
   "metadata": {},
   "source": [
    "First iteration is to model: goal to have end to end pipeline from data to dynamics for a patient\n",
    "- Don't have test train split\n",
    "- Predict on training data\n",
    "- Entry is an exercise\n",
    "- Include exercise meta like https://pyimagesearch.com/2019/02/04/keras-multiple-inputs-and-mixed-data/ "
   ]
  },
  {
   "cell_type": "code",
   "execution_count": 1,
   "id": "2167fbdb",
   "metadata": {
    "scrolled": true
   },
   "outputs": [],
   "source": [
    "import os \n",
    "import re\n",
    "import csv\n",
    "import json\n",
    "from datetime import datetime\n",
    "\n",
    "import math\n",
    "import pandas as pd\n",
    "import numpy as np\n",
    "import tensorflow as tf\n",
    "from tensorflow.keras.preprocessing.sequence import pad_sequences\n"
   ]
  },
  {
   "cell_type": "markdown",
   "id": "e8c2277c",
   "metadata": {},
   "source": [
    "# Constants"
   ]
  },
  {
   "cell_type": "code",
   "execution_count": 2,
   "id": "bb75db30",
   "metadata": {
    "scrolled": true
   },
   "outputs": [],
   "source": [
    "SEQ_MAX_LEN = 600\n",
    "NUM_CLASSES = 6\n",
    "NUM_EXERCISES = 9\n",
    "NUM_FLAG_BS = 2"
   ]
  },
  {
   "cell_type": "code",
   "execution_count": 3,
   "id": "eed45b66",
   "metadata": {
    "scrolled": true
   },
   "outputs": [],
   "source": [
    "dir_data_root = os.path.join('..', 'data')\n",
    "dir_exercises = os.path.join(dir_data_root, 'json', 'exercises_raw')\n",
    "dir_exercises = os.path.join(dir_data_root, 'json', 'exercises_raw')\n",
    "dir_patiens_sessions = os.path.join(dir_data_root, 'json', 'patients_sessions')"
   ]
  },
  {
   "cell_type": "markdown",
   "id": "e544c090",
   "metadata": {},
   "source": [
    "# Data prep"
   ]
  },
  {
   "cell_type": "markdown",
   "id": "6ca3d18d",
   "metadata": {},
   "source": [
    "### Build training set"
   ]
  },
  {
   "cell_type": "code",
   "execution_count": 4,
   "id": "95d508f2",
   "metadata": {
    "scrolled": true
   },
   "outputs": [],
   "source": [
    "def exercise_to_input(file_path):\n",
    "    with open(file_path, 'r') as f_r:\n",
    "        exercise = json.load(f_r)\n",
    "        \n",
    "        exercise_sequence = []\n",
    "\n",
    "        for poi in sorted(exercise['pois'].keys()):\n",
    "            sequences = exercise['pois'][poi]\n",
    "            exercise_sequence.append(sequences['xs'])\n",
    "            exercise_sequence.append(sequences['ys'])\n",
    "            exercise_sequence.append(sequences['zs'])\n",
    "    \n",
    "        exercise_sequence = pad_sequences(\n",
    "            exercise_sequence,\n",
    "            padding=\"pre\",\n",
    "            maxlen=SEQ_MAX_LEN)\n",
    "    \n",
    "    x_a_1 = [0] * NUM_EXERCISES\n",
    "    x_a_2 = [0] * NUM_FLAG_BS\n",
    "    x_a_1[exercise['meta']['id']] = 1\n",
    "    x_a_2[exercise['meta']['flag_before_surgery']] = 1\n",
    "\n",
    "    return x_a_1 + x_a_2, exercise_sequence, exercise['meta']['evaluation']"
   ]
  },
  {
   "cell_type": "code",
   "execution_count": 5,
   "id": "a93a7a24",
   "metadata": {
    "scrolled": true
   },
   "outputs": [
    {
     "name": "stdout",
     "output_type": "stream",
     "text": [
      "(1029,)\n",
      "(1029, 11)\n",
      "(1029, 63, 600)\n"
     ]
    }
   ],
   "source": [
    "xslist_a = list()\n",
    "xslist_b = list()\n",
    "yslist = list()\n",
    "\n",
    "for file_name in os.listdir(dir_exercises):\n",
    "    file_path = os.path.join(dir_exercises, file_name)\n",
    "    \n",
    "    if file_name == '.DS_Store': continue\n",
    "\n",
    "    xs_a, xs_b, ys = exercise_to_input(file_path)\n",
    "    \n",
    "    yslist.append(ys)\n",
    "    xslist_a.append(xs_a)  \n",
    "    xslist_b.append(xs_b)\n",
    "    \n",
    "    #break\n",
    "            \n",
    "ys = np.array(yslist)\n",
    "xs_a = np.array(xslist_a)   \n",
    "xs_b = np.array(xslist_b) \n",
    "\n",
    "\n",
    "print(ys.shape)\n",
    "print(xs_a.shape)\n",
    "print(xs_b.shape)"
   ]
  },
  {
   "cell_type": "markdown",
   "id": "eeba3312",
   "metadata": {},
   "source": [
    "## Modeling"
   ]
  },
  {
   "cell_type": "code",
   "execution_count": 6,
   "id": "db63f1bb",
   "metadata": {
    "scrolled": true
   },
   "outputs": [],
   "source": [
    "from tensorflow.keras.layers import Dense\n",
    "from tensorflow.keras.layers import LSTM\n",
    "from tensorflow.keras.layers import Conv1D\n",
    "from tensorflow.keras.layers import Conv2D\n",
    "from tensorflow.keras.layers import MaxPooling1D\n",
    "from tensorflow.keras.layers import MaxPooling2D\n",
    "from tensorflow.keras.layers import Flatten\n",
    "from tensorflow.keras.layers import Input\n",
    "from tensorflow.keras.layers import concatenate\n",
    "from tensorflow.keras.layers import BatchNormalization\n",
    "from tensorflow.keras.layers import Dropout\n",
    "from tensorflow.keras.models import Model\n",
    "from tensorflow.keras.optimizers import Adam"
   ]
  },
  {
   "cell_type": "code",
   "execution_count": 7,
   "id": "29b2c732",
   "metadata": {
    "scrolled": true
   },
   "outputs": [
    {
     "name": "stdout",
     "output_type": "stream",
     "text": [
      "Metal device set to: Apple M1\n"
     ]
    },
    {
     "name": "stderr",
     "output_type": "stream",
     "text": [
      "2023-04-17 08:51:35.612429: I tensorflow/core/common_runtime/pluggable_device/pluggable_device_factory.cc:306] Could not identify NUMA node of platform GPU ID 0, defaulting to 0. Your kernel may not have been built with NUMA support.\n",
      "2023-04-17 08:51:35.612822: I tensorflow/core/common_runtime/pluggable_device/pluggable_device_factory.cc:272] Created TensorFlow device (/job:localhost/replica:0/task:0/device:GPU:0 with 0 MB memory) -> physical PluggableDevice (device: 0, name: METAL, pci bus id: <undefined>)\n",
      "/Users/alanchen/.local/share/virtualenvs/research-face-excercises-dynamics-o_HFBNSW/lib/python3.8/site-packages/keras/optimizers/optimizer_v2/adam.py:114: UserWarning: The `lr` argument is deprecated, use `learning_rate` instead.\n",
      "  super().__init__(name, **kwargs)\n"
     ]
    },
    {
     "name": "stdout",
     "output_type": "stream",
     "text": [
      "Model: \"model_2\"\n",
      "__________________________________________________________________________________________________\n",
      " Layer (type)                   Output Shape         Param #     Connected to                     \n",
      "==================================================================================================\n",
      " input_2 (InputLayer)           [(None, 63, 600)]    0           []                               \n",
      "                                                                                                  \n",
      " conv1d (Conv1D)                (None, 63, 16)       28816       ['input_2[0][0]']                \n",
      "                                                                                                  \n",
      " batch_normalization (BatchNorm  (None, 63, 16)      64          ['conv1d[0][0]']                 \n",
      " alization)                                                                                       \n",
      "                                                                                                  \n",
      " max_pooling1d (MaxPooling1D)   (None, 31, 16)       0           ['batch_normalization[0][0]']    \n",
      "                                                                                                  \n",
      " conv1d_1 (Conv1D)              (None, 31, 32)       1568        ['max_pooling1d[0][0]']          \n",
      "                                                                                                  \n",
      " batch_normalization_1 (BatchNo  (None, 31, 32)      128         ['conv1d_1[0][0]']               \n",
      " rmalization)                                                                                     \n",
      "                                                                                                  \n",
      " max_pooling1d_1 (MaxPooling1D)  (None, 15, 32)      0           ['batch_normalization_1[0][0]']  \n",
      "                                                                                                  \n",
      " conv1d_2 (Conv1D)              (None, 15, 64)       6208        ['max_pooling1d_1[0][0]']        \n",
      "                                                                                                  \n",
      " batch_normalization_2 (BatchNo  (None, 15, 64)      256         ['conv1d_2[0][0]']               \n",
      " rmalization)                                                                                     \n",
      "                                                                                                  \n",
      " max_pooling1d_2 (MaxPooling1D)  (None, 7, 64)       0           ['batch_normalization_2[0][0]']  \n",
      "                                                                                                  \n",
      " conv1d_3 (Conv1D)              (None, 7, 64)        12352       ['max_pooling1d_2[0][0]']        \n",
      "                                                                                                  \n",
      " batch_normalization_3 (BatchNo  (None, 7, 64)       256         ['conv1d_3[0][0]']               \n",
      " rmalization)                                                                                     \n",
      "                                                                                                  \n",
      " max_pooling1d_3 (MaxPooling1D)  (None, 3, 64)       0           ['batch_normalization_3[0][0]']  \n",
      "                                                                                                  \n",
      " flatten (Flatten)              (None, 192)          0           ['max_pooling1d_3[0][0]']        \n",
      "                                                                                                  \n",
      " input_1 (InputLayer)           [(None, 11)]         0           []                               \n",
      "                                                                                                  \n",
      " dropout (Dropout)              (None, 192)          0           ['flatten[0][0]']                \n",
      "                                                                                                  \n",
      " dense (Dense)                  (None, 4)            48          ['input_1[0][0]']                \n",
      "                                                                                                  \n",
      " dense_1 (Dense)                (None, 128)          24704       ['dropout[0][0]']                \n",
      "                                                                                                  \n",
      " concatenate (Concatenate)      (None, 132)          0           ['dense[0][0]',                  \n",
      "                                                                  'dense_1[0][0]']                \n",
      "                                                                                                  \n",
      " dense_2 (Dense)                (None, 32)           4256        ['concatenate[0][0]']            \n",
      "                                                                                                  \n",
      " dense_3 (Dense)                (None, 6)            198         ['dense_2[0][0]']                \n",
      "                                                                                                  \n",
      "==================================================================================================\n",
      "Total params: 78,854\n",
      "Trainable params: 78,502\n",
      "Non-trainable params: 352\n",
      "__________________________________________________________________________________________________\n"
     ]
    }
   ],
   "source": [
    "chanDim = -1\n",
    "    \n",
    "inputA = Input(shape=xs_a.shape[1:])\n",
    "inputB = Input(shape=xs_b.shape[1:])\n",
    "\n",
    "x_a = Dense(4, activation=\"relu\")(inputA)\n",
    "x_a = Model(inputs=inputA, outputs=x_a)\n",
    "\n",
    "#x_b = LSTM(64)(inputB)\n",
    "x_b = Conv1D(16, 3, padding='same', activation='relu')(inputB)\n",
    "x_b = BatchNormalization(axis=chanDim)(x_b)\n",
    "x_b = MaxPooling1D((2))(x_b)\n",
    "x_b = Conv1D(32, 3, padding='same', activation='relu')(x_b)\n",
    "x_b = BatchNormalization(axis=chanDim)(x_b)\n",
    "x_b = MaxPooling1D((2))(x_b)\n",
    "x_b = Conv1D(64, 3, padding='same', activation='relu')(x_b)\n",
    "x_b = BatchNormalization(axis=chanDim)(x_b)\n",
    "x_b = MaxPooling1D((2))(x_b)\n",
    "x_b = Conv1D(64, 3, padding='same', activation='relu')(x_b)\n",
    "x_b = BatchNormalization(axis=chanDim)(x_b)\n",
    "x_b = MaxPooling1D((2))(x_b)\n",
    "x_b = Flatten()(x_b)\n",
    "x_b = Dropout(0.5)(x_b)\n",
    "x_b = Dense(128, activation=\"relu\")(x_b)\n",
    "x_b = Model(inputs=inputB, outputs=x_b)\n",
    "\n",
    "combined = concatenate([x_a.output, x_b.output])\n",
    "x = Dense(32, activation=\"relu\")(combined)\n",
    "x = Dense(6, activation=\"softmax\")(x)\n",
    "model = Model(inputs=[x_a.input, x_b.input], outputs=x)\n",
    "\n",
    "model.compile(\n",
    "    loss=\"sparse_categorical_crossentropy\", \n",
    "    optimizer=Adam(lr=1e-3, decay=1e-3 / 200),\n",
    "    metrics=['accuracy']\n",
    ")\n",
    "\n",
    "model.summary()"
   ]
  },
  {
   "cell_type": "code",
   "execution_count": 8,
   "id": "82dd2364",
   "metadata": {
    "scrolled": true
   },
   "outputs": [
    {
     "name": "stdout",
     "output_type": "stream",
     "text": [
      "{0, 1, 2, 3, 4, 5}\n"
     ]
    }
   ],
   "source": [
    "print(set(ys))"
   ]
  },
  {
   "cell_type": "code",
   "execution_count": 9,
   "id": "d1bca9ef",
   "metadata": {
    "scrolled": true
   },
   "outputs": [],
   "source": [
    "weight_training_classes = {0: 0.32075471698113206, \n",
    "                           1: 1.1333333333333333,\n",
    "                           2: 1.3076923076923077, \n",
    "                           3: 3.4, \n",
    "                           4: 3.4,\n",
    "                           5: 1.5454545454545454}"
   ]
  },
  {
   "cell_type": "code",
   "execution_count": 10,
   "id": "7ebf4216",
   "metadata": {
    "scrolled": false
   },
   "outputs": [
    {
     "name": "stdout",
     "output_type": "stream",
     "text": [
      "Epoch 1/100\n"
     ]
    },
    {
     "name": "stderr",
     "output_type": "stream",
     "text": [
      "2023-04-17 08:51:35.934488: W tensorflow/core/platform/profile_utils/cpu_utils.cc:128] Failed to get CPU frequency: 0 Hz\n",
      "2023-04-17 08:51:36.644895: I tensorflow/core/grappler/optimizers/custom_graph_optimizer_registry.cc:114] Plugin optimizer for device_type GPU is enabled.\n"
     ]
    },
    {
     "name": "stdout",
     "output_type": "stream",
     "text": [
      "129/129 [==============================] - ETA: 0s - loss: 1.9995 - accuracy: 0.1837"
     ]
    },
    {
     "name": "stderr",
     "output_type": "stream",
     "text": [
      "2023-04-17 08:51:39.847472: I tensorflow/core/grappler/optimizers/custom_graph_optimizer_registry.cc:114] Plugin optimizer for device_type GPU is enabled.\n"
     ]
    },
    {
     "name": "stdout",
     "output_type": "stream",
     "text": [
      "129/129 [==============================] - 5s 26ms/step - loss: 1.9995 - accuracy: 0.1837 - val_loss: 1.6974 - val_accuracy: 0.1652\n",
      "Epoch 2/100\n",
      "129/129 [==============================] - 3s 22ms/step - loss: 1.8901 - accuracy: 0.1749 - val_loss: 1.7462 - val_accuracy: 0.1914\n",
      "Epoch 3/100\n",
      "129/129 [==============================] - 3s 21ms/step - loss: 1.8139 - accuracy: 0.1827 - val_loss: 1.7146 - val_accuracy: 0.2157\n",
      "Epoch 4/100\n",
      "129/129 [==============================] - 3s 21ms/step - loss: 1.7920 - accuracy: 0.2080 - val_loss: 1.6694 - val_accuracy: 0.2293\n",
      "Epoch 5/100\n",
      "129/129 [==============================] - 3s 22ms/step - loss: 1.8051 - accuracy: 0.2080 - val_loss: 1.8578 - val_accuracy: 0.1487\n",
      "Epoch 6/100\n",
      "129/129 [==============================] - 3s 21ms/step - loss: 1.7578 - accuracy: 0.2177 - val_loss: 1.7711 - val_accuracy: 0.1623\n",
      "Epoch 7/100\n",
      "129/129 [==============================] - 3s 21ms/step - loss: 1.7768 - accuracy: 0.1720 - val_loss: 1.6295 - val_accuracy: 0.2750\n",
      "Epoch 8/100\n",
      "129/129 [==============================] - 3s 21ms/step - loss: 1.7712 - accuracy: 0.2031 - val_loss: 1.7469 - val_accuracy: 0.2031\n",
      "Epoch 9/100\n",
      "129/129 [==============================] - 3s 21ms/step - loss: 1.7487 - accuracy: 0.2060 - val_loss: 1.6157 - val_accuracy: 0.2925\n",
      "Epoch 10/100\n",
      "129/129 [==============================] - 3s 21ms/step - loss: 1.7069 - accuracy: 0.2293 - val_loss: 1.6970 - val_accuracy: 0.2663\n",
      "Epoch 11/100\n",
      "129/129 [==============================] - 3s 21ms/step - loss: 1.7175 - accuracy: 0.2362 - val_loss: 1.7057 - val_accuracy: 0.2896\n",
      "Epoch 12/100\n",
      "129/129 [==============================] - 3s 21ms/step - loss: 1.6943 - accuracy: 0.2750 - val_loss: 1.6269 - val_accuracy: 0.2993\n",
      "Epoch 13/100\n",
      "129/129 [==============================] - 3s 22ms/step - loss: 1.6307 - accuracy: 0.3100 - val_loss: 1.8125 - val_accuracy: 0.2187\n",
      "Epoch 14/100\n",
      "129/129 [==============================] - 3s 23ms/step - loss: 1.6237 - accuracy: 0.3401 - val_loss: 1.5703 - val_accuracy: 0.3100\n",
      "Epoch 15/100\n",
      "129/129 [==============================] - 3s 22ms/step - loss: 1.5655 - accuracy: 0.3460 - val_loss: 1.4573 - val_accuracy: 0.4393\n",
      "Epoch 16/100\n",
      "129/129 [==============================] - 3s 21ms/step - loss: 1.5634 - accuracy: 0.4121 - val_loss: 1.4780 - val_accuracy: 0.3819\n",
      "Epoch 17/100\n",
      "129/129 [==============================] - 3s 22ms/step - loss: 1.4641 - accuracy: 0.4189 - val_loss: 1.4838 - val_accuracy: 0.4169\n",
      "Epoch 18/100\n",
      "129/129 [==============================] - 3s 23ms/step - loss: 1.5038 - accuracy: 0.3780 - val_loss: 1.4249 - val_accuracy: 0.4344\n",
      "Epoch 19/100\n",
      "129/129 [==============================] - 3s 22ms/step - loss: 1.4604 - accuracy: 0.4111 - val_loss: 1.2856 - val_accuracy: 0.5160\n",
      "Epoch 20/100\n",
      "129/129 [==============================] - 3s 21ms/step - loss: 1.4356 - accuracy: 0.4052 - val_loss: 1.3382 - val_accuracy: 0.4762\n",
      "Epoch 21/100\n",
      "129/129 [==============================] - 3s 21ms/step - loss: 1.4195 - accuracy: 0.4363 - val_loss: 1.4197 - val_accuracy: 0.4295\n",
      "Epoch 22/100\n",
      "129/129 [==============================] - 3s 22ms/step - loss: 1.4251 - accuracy: 0.4247 - val_loss: 1.3823 - val_accuracy: 0.4538\n",
      "Epoch 23/100\n",
      "129/129 [==============================] - 3s 22ms/step - loss: 1.3778 - accuracy: 0.4344 - val_loss: 1.3486 - val_accuracy: 0.4451\n",
      "Epoch 24/100\n",
      "129/129 [==============================] - 3s 21ms/step - loss: 1.3389 - accuracy: 0.4480 - val_loss: 1.3248 - val_accuracy: 0.4742\n",
      "Epoch 25/100\n",
      "129/129 [==============================] - 3s 22ms/step - loss: 1.3378 - accuracy: 0.4315 - val_loss: 1.3376 - val_accuracy: 0.4500\n",
      "Epoch 26/100\n",
      "129/129 [==============================] - 3s 22ms/step - loss: 1.2956 - accuracy: 0.4393 - val_loss: 1.2015 - val_accuracy: 0.5296\n",
      "Epoch 27/100\n",
      "129/129 [==============================] - 3s 21ms/step - loss: 1.2837 - accuracy: 0.4490 - val_loss: 1.3108 - val_accuracy: 0.4985\n",
      "Epoch 28/100\n",
      "129/129 [==============================] - 3s 21ms/step - loss: 1.2640 - accuracy: 0.4480 - val_loss: 1.3030 - val_accuracy: 0.4597\n",
      "Epoch 29/100\n",
      "129/129 [==============================] - 3s 21ms/step - loss: 1.1902 - accuracy: 0.4830 - val_loss: 1.1440 - val_accuracy: 0.5666\n",
      "Epoch 30/100\n",
      "129/129 [==============================] - 3s 22ms/step - loss: 1.2345 - accuracy: 0.4859 - val_loss: 1.1528 - val_accuracy: 0.5403\n",
      "Epoch 31/100\n",
      "129/129 [==============================] - 3s 22ms/step - loss: 1.2377 - accuracy: 0.4674 - val_loss: 1.2392 - val_accuracy: 0.5228\n",
      "Epoch 32/100\n",
      "129/129 [==============================] - 3s 22ms/step - loss: 1.1618 - accuracy: 0.5044 - val_loss: 1.1804 - val_accuracy: 0.5306\n",
      "Epoch 33/100\n",
      "129/129 [==============================] - 3s 22ms/step - loss: 1.2174 - accuracy: 0.4801 - val_loss: 1.2296 - val_accuracy: 0.4966\n",
      "Epoch 34/100\n",
      "129/129 [==============================] - 3s 21ms/step - loss: 1.1295 - accuracy: 0.5024 - val_loss: 1.1173 - val_accuracy: 0.5685\n",
      "Epoch 35/100\n",
      "129/129 [==============================] - 3s 21ms/step - loss: 1.1851 - accuracy: 0.5160 - val_loss: 1.4500 - val_accuracy: 0.4130\n",
      "Epoch 36/100\n",
      "129/129 [==============================] - 3s 22ms/step - loss: 1.1341 - accuracy: 0.4985 - val_loss: 1.0451 - val_accuracy: 0.5831\n",
      "Epoch 37/100\n",
      "129/129 [==============================] - 3s 22ms/step - loss: 1.0945 - accuracy: 0.5258 - val_loss: 1.0720 - val_accuracy: 0.5821\n",
      "Epoch 38/100\n",
      "129/129 [==============================] - 3s 22ms/step - loss: 1.0179 - accuracy: 0.5530 - val_loss: 1.1479 - val_accuracy: 0.5617\n",
      "Epoch 39/100\n",
      "129/129 [==============================] - 3s 22ms/step - loss: 1.0573 - accuracy: 0.5452 - val_loss: 1.0717 - val_accuracy: 0.5763\n",
      "Epoch 40/100\n",
      "129/129 [==============================] - 3s 22ms/step - loss: 1.0192 - accuracy: 0.5491 - val_loss: 1.0360 - val_accuracy: 0.5909\n",
      "Epoch 41/100\n",
      "129/129 [==============================] - 3s 22ms/step - loss: 0.9865 - accuracy: 0.5695 - val_loss: 0.9625 - val_accuracy: 0.6220\n",
      "Epoch 42/100\n",
      "129/129 [==============================] - 3s 24ms/step - loss: 0.9942 - accuracy: 0.5569 - val_loss: 1.0553 - val_accuracy: 0.6064\n",
      "Epoch 43/100\n",
      "129/129 [==============================] - 3s 21ms/step - loss: 1.0495 - accuracy: 0.5248 - val_loss: 1.0546 - val_accuracy: 0.5870\n",
      "Epoch 44/100\n",
      "129/129 [==============================] - 3s 21ms/step - loss: 1.0225 - accuracy: 0.5666 - val_loss: 1.0121 - val_accuracy: 0.5743\n",
      "Epoch 45/100\n",
      "129/129 [==============================] - 3s 22ms/step - loss: 0.9507 - accuracy: 0.5675 - val_loss: 0.8741 - val_accuracy: 0.6589\n",
      "Epoch 46/100\n",
      "129/129 [==============================] - 3s 22ms/step - loss: 0.9030 - accuracy: 0.5996 - val_loss: 1.0797 - val_accuracy: 0.6035\n",
      "Epoch 47/100\n",
      "129/129 [==============================] - 3s 22ms/step - loss: 0.9787 - accuracy: 0.5938 - val_loss: 0.9371 - val_accuracy: 0.6239\n",
      "Epoch 48/100\n",
      "129/129 [==============================] - 3s 22ms/step - loss: 0.9578 - accuracy: 0.5617 - val_loss: 0.8972 - val_accuracy: 0.6657\n",
      "Epoch 49/100\n",
      "129/129 [==============================] - 3s 22ms/step - loss: 0.9181 - accuracy: 0.6006 - val_loss: 0.9806 - val_accuracy: 0.6152\n",
      "Epoch 50/100\n",
      "129/129 [==============================] - 3s 21ms/step - loss: 0.8953 - accuracy: 0.6016 - val_loss: 0.8706 - val_accuracy: 0.6608\n",
      "Epoch 51/100\n",
      "129/129 [==============================] - 3s 22ms/step - loss: 0.8745 - accuracy: 0.5860 - val_loss: 0.7913 - val_accuracy: 0.6851\n",
      "Epoch 52/100\n",
      "129/129 [==============================] - 3s 21ms/step - loss: 0.8023 - accuracy: 0.6424 - val_loss: 0.7856 - val_accuracy: 0.7172\n",
      "Epoch 53/100\n",
      "129/129 [==============================] - 3s 22ms/step - loss: 0.8473 - accuracy: 0.6210 - val_loss: 0.7919 - val_accuracy: 0.6890\n",
      "Epoch 54/100\n",
      "129/129 [==============================] - 4s 30ms/step - loss: 0.8340 - accuracy: 0.6142 - val_loss: 0.8228 - val_accuracy: 0.6832\n",
      "Epoch 55/100\n",
      "129/129 [==============================] - 3s 22ms/step - loss: 0.7490 - accuracy: 0.6696 - val_loss: 0.7063 - val_accuracy: 0.7415\n",
      "Epoch 56/100\n",
      "129/129 [==============================] - 3s 22ms/step - loss: 0.6910 - accuracy: 0.6754 - val_loss: 0.7519 - val_accuracy: 0.7007\n",
      "Epoch 57/100\n",
      "129/129 [==============================] - 3s 22ms/step - loss: 0.7273 - accuracy: 0.6511 - val_loss: 0.8068 - val_accuracy: 0.6890\n",
      "Epoch 58/100\n",
      "129/129 [==============================] - 3s 22ms/step - loss: 0.7340 - accuracy: 0.6443 - val_loss: 0.7007 - val_accuracy: 0.7289\n",
      "Epoch 59/100\n",
      "129/129 [==============================] - 3s 22ms/step - loss: 0.7232 - accuracy: 0.6725 - val_loss: 0.7560 - val_accuracy: 0.7085\n",
      "Epoch 60/100\n",
      "129/129 [==============================] - 3s 22ms/step - loss: 0.8098 - accuracy: 0.6152 - val_loss: 0.7910 - val_accuracy: 0.6948\n",
      "Epoch 61/100\n",
      "129/129 [==============================] - 3s 23ms/step - loss: 0.7095 - accuracy: 0.6618 - val_loss: 0.8681 - val_accuracy: 0.6589\n",
      "Epoch 62/100\n",
      "129/129 [==============================] - 3s 22ms/step - loss: 0.6997 - accuracy: 0.6783 - val_loss: 0.6959 - val_accuracy: 0.7182\n",
      "Epoch 63/100\n",
      "129/129 [==============================] - 3s 22ms/step - loss: 0.7664 - accuracy: 0.6706 - val_loss: 0.7304 - val_accuracy: 0.7055\n",
      "Epoch 64/100\n",
      "129/129 [==============================] - 3s 22ms/step - loss: 0.6441 - accuracy: 0.6997 - val_loss: 0.6139 - val_accuracy: 0.7707\n",
      "Epoch 65/100\n",
      "129/129 [==============================] - 3s 21ms/step - loss: 0.6007 - accuracy: 0.6997 - val_loss: 0.6538 - val_accuracy: 0.7415\n",
      "Epoch 66/100\n",
      "129/129 [==============================] - 3s 21ms/step - loss: 0.5744 - accuracy: 0.7172 - val_loss: 0.6061 - val_accuracy: 0.7541\n",
      "Epoch 67/100\n",
      "129/129 [==============================] - 3s 22ms/step - loss: 0.6494 - accuracy: 0.6793 - val_loss: 0.7441 - val_accuracy: 0.6842\n",
      "Epoch 68/100\n",
      "129/129 [==============================] - 3s 21ms/step - loss: 0.6643 - accuracy: 0.6948 - val_loss: 0.6201 - val_accuracy: 0.7638\n",
      "Epoch 69/100\n",
      "129/129 [==============================] - 3s 23ms/step - loss: 0.5936 - accuracy: 0.7250 - val_loss: 0.5649 - val_accuracy: 0.7765\n",
      "Epoch 70/100\n",
      "129/129 [==============================] - 3s 22ms/step - loss: 0.6539 - accuracy: 0.6997 - val_loss: 0.7371 - val_accuracy: 0.7104\n",
      "Epoch 71/100\n",
      "129/129 [==============================] - 3s 22ms/step - loss: 0.6094 - accuracy: 0.7094 - val_loss: 0.6686 - val_accuracy: 0.7376\n",
      "Epoch 72/100\n",
      "129/129 [==============================] - 3s 21ms/step - loss: 0.6477 - accuracy: 0.7094 - val_loss: 1.2010 - val_accuracy: 0.6181\n",
      "Epoch 73/100\n",
      "129/129 [==============================] - 3s 22ms/step - loss: 0.6715 - accuracy: 0.7065 - val_loss: 0.6088 - val_accuracy: 0.7551\n",
      "Epoch 74/100\n",
      "129/129 [==============================] - 3s 21ms/step - loss: 0.5608 - accuracy: 0.7318 - val_loss: 0.5446 - val_accuracy: 0.7813\n",
      "Epoch 75/100\n",
      "129/129 [==============================] - 3s 21ms/step - loss: 0.4605 - accuracy: 0.7561 - val_loss: 0.5330 - val_accuracy: 0.7979\n",
      "Epoch 76/100\n",
      "129/129 [==============================] - 3s 21ms/step - loss: 0.5204 - accuracy: 0.7444 - val_loss: 0.5553 - val_accuracy: 0.7629\n",
      "Epoch 77/100\n",
      "129/129 [==============================] - 3s 21ms/step - loss: 0.5074 - accuracy: 0.7308 - val_loss: 0.5605 - val_accuracy: 0.7716\n",
      "Epoch 78/100\n",
      "129/129 [==============================] - 3s 21ms/step - loss: 0.4841 - accuracy: 0.7619 - val_loss: 0.5003 - val_accuracy: 0.8095\n",
      "Epoch 79/100\n",
      "129/129 [==============================] - 3s 21ms/step - loss: 0.4527 - accuracy: 0.7707 - val_loss: 0.4315 - val_accuracy: 0.8299\n",
      "Epoch 80/100\n",
      "129/129 [==============================] - 3s 22ms/step - loss: 0.4611 - accuracy: 0.7551 - val_loss: 0.4869 - val_accuracy: 0.7852\n",
      "Epoch 81/100\n",
      "129/129 [==============================] - 3s 22ms/step - loss: 0.5548 - accuracy: 0.7473 - val_loss: 0.5187 - val_accuracy: 0.7901\n",
      "Epoch 82/100\n",
      "129/129 [==============================] - 3s 22ms/step - loss: 0.4416 - accuracy: 0.7512 - val_loss: 0.4623 - val_accuracy: 0.8280\n",
      "Epoch 83/100\n",
      "129/129 [==============================] - 3s 22ms/step - loss: 0.4464 - accuracy: 0.7600 - val_loss: 0.3920 - val_accuracy: 0.8435\n",
      "Epoch 84/100\n",
      "129/129 [==============================] - 3s 22ms/step - loss: 0.4446 - accuracy: 0.7600 - val_loss: 0.4903 - val_accuracy: 0.7988\n",
      "Epoch 85/100\n",
      "129/129 [==============================] - 3s 22ms/step - loss: 0.4817 - accuracy: 0.7658 - val_loss: 0.3549 - val_accuracy: 0.8591\n",
      "Epoch 86/100\n",
      "129/129 [==============================] - 3s 21ms/step - loss: 0.4275 - accuracy: 0.7804 - val_loss: 0.3621 - val_accuracy: 0.8698\n",
      "Epoch 87/100\n",
      "129/129 [==============================] - 3s 21ms/step - loss: 0.3776 - accuracy: 0.7833 - val_loss: 0.3851 - val_accuracy: 0.8406\n",
      "Epoch 88/100\n",
      "129/129 [==============================] - 3s 22ms/step - loss: 0.4043 - accuracy: 0.7940 - val_loss: 0.6997 - val_accuracy: 0.7658\n",
      "Epoch 89/100\n",
      "129/129 [==============================] - 3s 21ms/step - loss: 0.4259 - accuracy: 0.7843 - val_loss: 0.4265 - val_accuracy: 0.8319\n",
      "Epoch 90/100\n",
      "129/129 [==============================] - 3s 21ms/step - loss: 0.4187 - accuracy: 0.7920 - val_loss: 0.3662 - val_accuracy: 0.8669\n",
      "Epoch 91/100\n",
      "129/129 [==============================] - 3s 21ms/step - loss: 0.3734 - accuracy: 0.8008 - val_loss: 0.4025 - val_accuracy: 0.8406\n",
      "Epoch 92/100\n",
      "129/129 [==============================] - 3s 21ms/step - loss: 0.3813 - accuracy: 0.8076 - val_loss: 0.3528 - val_accuracy: 0.8746\n",
      "Epoch 93/100\n",
      "129/129 [==============================] - 3s 21ms/step - loss: 0.4918 - accuracy: 0.7658 - val_loss: 0.4390 - val_accuracy: 0.8212\n",
      "Epoch 94/100\n",
      "129/129 [==============================] - 3s 21ms/step - loss: 0.3718 - accuracy: 0.8163 - val_loss: 0.4535 - val_accuracy: 0.8173\n",
      "Epoch 95/100\n",
      "129/129 [==============================] - 3s 21ms/step - loss: 0.3736 - accuracy: 0.8017 - val_loss: 0.3077 - val_accuracy: 0.8766\n",
      "Epoch 96/100\n",
      "129/129 [==============================] - 3s 21ms/step - loss: 0.2950 - accuracy: 0.8348 - val_loss: 0.3561 - val_accuracy: 0.8494\n",
      "Epoch 97/100\n",
      "129/129 [==============================] - 3s 21ms/step - loss: 0.2868 - accuracy: 0.8533 - val_loss: 0.4532 - val_accuracy: 0.8338\n",
      "Epoch 98/100\n",
      "129/129 [==============================] - 3s 21ms/step - loss: 0.3546 - accuracy: 0.8183 - val_loss: 0.3799 - val_accuracy: 0.8533\n",
      "Epoch 99/100\n",
      "129/129 [==============================] - 3s 21ms/step - loss: 0.4442 - accuracy: 0.7920 - val_loss: 0.3199 - val_accuracy: 0.8707\n",
      "Epoch 100/100\n",
      "129/129 [==============================] - 3s 21ms/step - loss: 0.3475 - accuracy: 0.8338 - val_loss: 0.3322 - val_accuracy: 0.8659\n"
     ]
    },
    {
     "data": {
      "text/plain": [
       "<keras.callbacks.History at 0x29894f8e0>"
      ]
     },
     "execution_count": 10,
     "metadata": {},
     "output_type": "execute_result"
    }
   ],
   "source": [
    "model.fit(\n",
    "    x=[xs_a, xs_b], y=ys, \n",
    "    validation_data=([xs_a, xs_b], ys),\n",
    "    batch_size=8, epochs=100,\n",
    "    class_weight=weight_training_classes)"
   ]
  },
  {
   "cell_type": "code",
   "execution_count": 11,
   "id": "e9a00ea5",
   "metadata": {
    "scrolled": true
   },
   "outputs": [
    {
     "name": "stderr",
     "output_type": "stream",
     "text": [
      "2023-04-17 08:56:19.113323: I tensorflow/core/grappler/optimizers/custom_graph_optimizer_registry.cc:114] Plugin optimizer for device_type GPU is enabled.\n"
     ]
    },
    {
     "name": "stdout",
     "output_type": "stream",
     "text": [
      "              precision    recall  f1-score   support\n",
      "\n",
      "           0       0.99      0.75      0.85       490\n",
      "           1       0.77      0.97      0.86       180\n",
      "           2       0.72      0.99      0.83       135\n",
      "           3       0.91      0.98      0.94        52\n",
      "           4       0.94      1.00      0.97        45\n",
      "           5       0.85      0.95      0.90       127\n",
      "\n",
      "    accuracy                           0.87      1029\n",
      "   macro avg       0.86      0.94      0.89      1029\n",
      "weighted avg       0.89      0.87      0.87      1029\n",
      "\n"
     ]
    }
   ],
   "source": [
    "from sklearn.metrics import classification_report\n",
    "\n",
    "y_pred = model.predict([xs_a, xs_b],verbose=0)\n",
    "y_pred_bool = np.argmax(y_pred, axis=1)\n",
    "\n",
    "print(classification_report(ys, y_pred_bool))"
   ]
  },
  {
   "cell_type": "markdown",
   "id": "7657fdf8",
   "metadata": {},
   "source": [
    "# Patient dynamics"
   ]
  },
  {
   "cell_type": "code",
   "execution_count": 81,
   "id": "a07b130f",
   "metadata": {
    "scrolled": true
   },
   "outputs": [],
   "source": [
    "from operator import attrgetter"
   ]
  },
  {
   "cell_type": "code",
   "execution_count": 82,
   "id": "85421a49",
   "metadata": {
    "scrolled": true
   },
   "outputs": [],
   "source": [
    "import matplotlib.pyplot as plt\n",
    "plt.style.use('_mpl-gallery')"
   ]
  },
  {
   "cell_type": "code",
   "execution_count": 83,
   "id": "79494615",
   "metadata": {
    "scrolled": true
   },
   "outputs": [],
   "source": [
    "weights = [1.0, 2.0, 4.0, 8.0, 16.0, 32.0]\n",
    "exercises_number = 9"
   ]
  },
  {
   "cell_type": "markdown",
   "id": "cd8bc919",
   "metadata": {},
   "source": [
    "## Single patient with details"
   ]
  },
  {
   "cell_type": "code",
   "execution_count": 84,
   "id": "13bc3df9",
   "metadata": {
    "scrolled": true
   },
   "outputs": [],
   "source": [
    "patient_id = '00000000020'"
   ]
  },
  {
   "cell_type": "code",
   "execution_count": 85,
   "id": "51e15f84",
   "metadata": {
    "scrolled": true
   },
   "outputs": [
    {
     "name": "stdout",
     "output_type": "stream",
     "text": [
      "[{'id': 0, 'exercise_dates': '2019-06-03', 'evaluation': 0, 'flag_before_surgery': 1, 'number_of_exercises': 9}, {'id': 1, 'exercise_dates': '2019-08-29', 'evaluation': 1, 'flag_before_surgery': 1, 'number_of_exercises': 9}]\n"
     ]
    }
   ],
   "source": [
    "sessions = []\n",
    "with open(os.path.join(dir_patiens_sessions, '%s.json' % patient_id), 'r') as f_r:\n",
    "    sessions = json.load(f_r)\n",
    "    \n",
    "print(sessions)"
   ]
  },
  {
   "cell_type": "code",
   "execution_count": 86,
   "id": "87c4fae8",
   "metadata": {
    "scrolled": true
   },
   "outputs": [
    {
     "name": "stdout",
     "output_type": "stream",
     "text": [
      "[{'id': 0, 'exercise_dates': '2019-06-03', 'evaluation': 0, 'flag_before_surgery': 1, 'number_of_exercises': 9}, {'id': 1, 'exercise_dates': '2019-08-29', 'evaluation': 1, 'flag_before_surgery': 1, 'number_of_exercises': 9}]\n"
     ]
    }
   ],
   "source": [
    "sessions.sort(key=lambda x: x['exercise_dates'])\n",
    "print(sessions)"
   ]
  },
  {
   "cell_type": "code",
   "execution_count": 87,
   "id": "16880c0a",
   "metadata": {
    "scrolled": true
   },
   "outputs": [
    {
     "name": "stdout",
     "output_type": "stream",
     "text": [
      "1\n"
     ]
    },
    {
     "data": {
      "image/png": "[encoded data removed]",
      "text/plain": [
       "<Figure size 1500x200 with 9 Axes>"
      ]
     },
     "metadata": {},
     "output_type": "display_data"
    },
    {
     "data": {
      "image/png": "[encoded data removed]",
      "text/plain": [
       "<Figure size 400x200 with 2 Axes>"
      ]
     },
     "metadata": {},
     "output_type": "display_data"
    },
    {
     "name": "stdout",
     "output_type": "stream",
     "text": [
      "2\n"
     ]
    },
    {
     "data": {
      "image/png": "[encoded data removed]",
      "text/plain": [
       "<Figure size 1500x200 with 9 Axes>"
      ]
     },
     "metadata": {},
     "output_type": "display_data"
    },
    {
     "data": {
      "image/png": "[encoded data removed]",
      "text/plain": [
       "<Figure size 400x200 with 2 Axes>"
      ]
     },
     "metadata": {},
     "output_type": "display_data"
    },
    {
     "name": "stdout",
     "output_type": "stream",
     "text": [
      "[2.077481921240178, 1.809907286435191]\n"
     ]
    },
    {
     "data": {
      "image/png": "[encoded data removed]",
      "text/plain": [
       "<Figure size 400x200 with 1 Axes>"
      ]
     },
     "metadata": {},
     "output_type": "display_data"
    }
   ],
   "source": [
    "dynamic = []\n",
    "evaluations = []\n",
    "\n",
    "for session in sessions:\n",
    "    exercises_result = []\n",
    "    print(session['evaluation'] + 1) #from index to class\n",
    "    evaluations.append(session['evaluation'] + 1)\n",
    "\n",
    "    fig, axs = plt.subplots(1,9,figsize=(15,2)) \n",
    "\n",
    "    for exercise_id in range(exercises_number):\n",
    "        file_name = os.path.join(\n",
    "            dir_exercises, '%s_%s_%s.json' % (\n",
    "                patient_id, \n",
    "                session['id'],\n",
    "                exercise_id))\n",
    "        \n",
    "        if not os.path.isfile(file_name):\n",
    "            continue\n",
    "            \n",
    "        xs_a, xs_b, ys = exercise_to_input(file_name)\n",
    "        \n",
    "        xs_a = np.array([xs_a])   \n",
    "        xs_b = np.array([xs_b]) \n",
    "        \n",
    "        #print(xs_a.shape)\n",
    "        #print(xs_b.shape)\n",
    "        \n",
    "        \n",
    "        y_pred = model.predict([xs_a, xs_b], verbose=0)\n",
    "        exercises_result.append(list(y_pred[0]))\n",
    "        \n",
    "                \n",
    "        axs[exercise_id].bar(1 + np.arange(6), y_pred[0], width=1, edgecolor=\"white\", linewidth=0.7)\n",
    "\n",
    "        axs[exercise_id].set(\n",
    "            xlim=(0, 7), \n",
    "            xticks=np.arange(1, 7),\n",
    "            ylim=(0, 1))\n",
    "    \n",
    "    #average session \n",
    "    prediction = np.average(np.array(exercises_result), axis=0)\n",
    "    exercise_score = [y*w for y, w in zip(prediction,weights)]\n",
    "    dynamic.append(sum(exercise_score))\n",
    "    \n",
    "    fig, axs = plt.subplots(1,2,figsize=(4,2)) \n",
    "        \n",
    "    x = 1 + np.arange(6)\n",
    "    y_pred = y_pred[0]\n",
    "    y_score = exercise_score\n",
    "\n",
    "    axs[0].bar(x, y_pred, width=1, edgecolor=\"white\", linewidth=0.7)\n",
    "\n",
    "    axs[0].set(xlim=(0, 7), \n",
    "              xticks=np.arange(1, 7),\n",
    "              ylim=(0, 1), \n",
    "             )\n",
    "\n",
    "\n",
    "    axs[1].bar(x, y_score, width=1, edgecolor=\"white\", linewidth=0.7)\n",
    "    axs[1].set(xlim=(0, 7), \n",
    "              xticks=np.arange(1, 7),\n",
    "              ylim=(0, max(y_score) + 1), \n",
    "             )\n",
    "\n",
    "    plt.show()    \n",
    "        \n",
    "\n",
    "print(dynamic)\n",
    "fig, ax = plt.subplots(figsize=(4,2)) \n",
    "\n",
    "x = 1 + np.arange(len(sessions))\n",
    "y = dynamic\n",
    "\n",
    "#ax.bar(x, y, width=1, edgecolor=\"white\", linewidth=0.7)\n",
    "ax.plot(x, y, color='tab:blue')\n",
    "ax.bar(x, evaluations, color='tab:orange', edgecolor=\"white\", linewidth=0.7)\n",
    "\n",
    "ax.set(xlim=(0, len(sessions) + 1), \n",
    "          xticks=np.arange(1, len(sessions) + 1),\n",
    "          ylim=(0, max(7, max(y) + 1)), \n",
    "         )\n",
    "\n",
    "plt.show() "
   ]
  },
  {
   "cell_type": "markdown",
   "id": "0af1fedb",
   "metadata": {},
   "source": [
    "## Patients Dynamics: Multiple Patients"
   ]
  },
  {
   "cell_type": "code",
   "execution_count": 96,
   "id": "653be2ee",
   "metadata": {
    "scrolled": true
   },
   "outputs": [],
   "source": [
    "def get_fine_score(patient_id):\n",
    "    sessions = []\n",
    "    fine_score = []\n",
    "    evaluations = []\n",
    "\n",
    "    with open(os.path.join(dir_patiens_sessions, '%s.json' % patient_id), 'r') as f_r:\n",
    "        sessions = json.load(f_r)\n",
    "        \n",
    "    sessions.sort(key=lambda x: x['exercise_dates'])\n",
    "    \n",
    "    for session in sessions:\n",
    "        exercises_result = []\n",
    "        evaluations.append(session['evaluation'] + 1)\n",
    "    \n",
    "        for exercise_id in range(exercises_number):\n",
    "            file_name = os.path.join(\n",
    "                dir_exercises, '%s_%s_%s.json' % (\n",
    "                    patient_id, \n",
    "                    session['id'],\n",
    "                    exercise_id))\n",
    "\n",
    "            if not os.path.isfile(file_name):\n",
    "                continue\n",
    "\n",
    "            xs_a, xs_b, ys = exercise_to_input(file_name)\n",
    "\n",
    "            xs_a = np.array([xs_a])   \n",
    "            xs_b = np.array([xs_b]) \n",
    "\n",
    "            y_pred = model.predict([xs_a, xs_b], verbose=0)\n",
    "            exercises_result.append(list(y_pred[0]))\n",
    "\n",
    "        #average session \n",
    "        prediction = np.average(np.array(exercises_result), axis=0)\n",
    "        exercise_score = [y*w for y, w in zip(prediction,weights)]\n",
    "        fine_score.append(sum(exercise_score))\n",
    "        \n",
    "    return fine_score, evaluations"
   ]
  },
  {
   "cell_type": "code",
   "execution_count": 108,
   "id": "39d27222",
   "metadata": {
    "scrolled": true
   },
   "outputs": [],
   "source": [
    "patients = [\n",
    "    '00000000034',\n",
    "    '00000000074',\n",
    "    '00000000058',\n",
    "    '00000000039',\n",
    "    '00000000081',\n",
    "    '00000000042',\n",
    "]"
   ]
  },
  {
   "cell_type": "code",
   "execution_count": 110,
   "id": "0787a6b6",
   "metadata": {
    "scrolled": false
   },
   "outputs": [
    {
     "data": {
      "image/png": "[encoded data removed]",
      "text/plain": [
       "<Figure size 400x200 with 1 Axes>"
      ]
     },
     "metadata": {},
     "output_type": "display_data"
    },
    {
     "data": {
      "image/png": "[encoded data removed]",
      "text/plain": [
       "<Figure size 400x200 with 1 Axes>"
      ]
     },
     "metadata": {},
     "output_type": "display_data"
    },
    {
     "data": {
      "image/png": "[encoded data removed]",
      "text/plain": [
       "<Figure size 400x200 with 1 Axes>"
      ]
     },
     "metadata": {},
     "output_type": "display_data"
    },
    {
     "data": {
      "image/png": "[encoded data removed]",
      "text/plain": [
       "<Figure size 400x200 with 1 Axes>"
      ]
     },
     "metadata": {},
     "output_type": "display_data"
    },
    {
     "data": {
      "image/png": "[encoded data removed]",
      "text/plain": [
       "<Figure size 400x200 with 1 Axes>"
      ]
     },
     "metadata": {},
     "output_type": "display_data"
    },
    {
     "data": {
      "image/png": "[encoded data removed]",
      "text/plain": [
       "<Figure size 400x200 with 1 Axes>"
      ]
     },
     "metadata": {},
     "output_type": "display_data"
    }
   ],
   "source": [
    "for patient_id in patients:\n",
    "    fine_score, evaluations = get_fine_score(patient_id)\n",
    "    fig, ax = plt.subplots(figsize=(4,2)) \n",
    "\n",
    "    x = 1 + np.arange(len(evaluations))\n",
    "\n",
    "    ax.plot(x, fine_score, color='tab:blue', marker='D')\n",
    "    ax.bar(x, evaluations, color='tab:orange', edgecolor='white', linewidth=0.7)\n",
    "\n",
    "    ax.set(\n",
    "        xlim=(0, len(sessions) + 1), \n",
    "        xticks=np.arange(1, len(sessions) + 1),\n",
    "        ylim=(0, max(7, max(fine_score) + 1)),\n",
    "        xlabel='Sessions',\n",
    "        ylabel='Scores',\n",
    "        title='%s: HB scores %s ' % (patient_id, ', '.join(map(str, evaluations)))\n",
    "    )\n",
    "\n",
    "plt.show() "
   ]
  },
  {
   "cell_type": "markdown",
   "id": "cde8e3db",
   "metadata": {},
   "source": [
    "__END__"
   ]
  },
  {
   "cell_type": "code",
   "execution_count": null,
   "id": "fdbf7298",
   "metadata": {
    "scrolled": true
   },
   "outputs": [],
   "source": []
  }
 ],
 "metadata": {
  "kernelspec": {
   "display_name": "face-prognosis",
   "language": "python",
   "name": "face-prognosis"
  },
  "language_info": {
   "codemirror_mode": {
    "name": "ipython",
    "version": 3
   },
   "file_extension": ".py",
   "mimetype": "text/x-python",
   "name": "python",
   "nbconvert_exporter": "python",
   "pygments_lexer": "ipython3",
   "version": "3.8.13"
  }
 },
 "nbformat": 4,
 "nbformat_minor": 5
}
