{
 "cells": [
  {
   "cell_type": "markdown",
   "id": "c3ffceac",
   "metadata": {},
   "source": [
    "# Notes"
   ]
  },
  {
   "cell_type": "markdown",
   "id": "31ddd4f2",
   "metadata": {},
   "source": [
    "Fourth iteration of the modeling:\n",
    "- modulirized data processing\n",
    "- model serialization"
   ]
  },
  {
   "cell_type": "code",
   "execution_count": 1,
   "id": "2167fbdb",
   "metadata": {
    "scrolled": true
   },
   "outputs": [],
   "source": [
    "import os \n",
    "import re\n",
    "import csv\n",
    "import json\n",
    "import math\n",
    "import random\n",
    "\n",
    "from itertools import chain\n",
    "from datetime import datetime\n",
    "\n",
    "import pandas as pd\n",
    "import numpy as np\n",
    "import tensorflow as tf\n",
    "\n",
    "from tensorflow.keras.preprocessing.sequence import pad_sequences\n",
    "from sklearn.metrics import classification_report\n",
    "\n",
    "import matplotlib.pyplot as plt\n",
    "plt.style.use('_mpl-gallery')"
   ]
  },
  {
   "cell_type": "markdown",
   "id": "e8c2277c",
   "metadata": {},
   "source": [
    "# Constants"
   ]
  },
  {
   "cell_type": "code",
   "execution_count": 2,
   "id": "eed45b66",
   "metadata": {
    "scrolled": true
   },
   "outputs": [],
   "source": [
    "dir_root = os.path.join('..')\n",
    "dir_data_root = os.path.join(dir_root, 'data')\n",
    "dir_exercises = os.path.join(dir_data_root, 'json', 'patients')\n",
    "dir_exercises_augmented = os.path.join(dir_data_root, 'json', 'patients_augmented')\n",
    "dir_exercises_test = os.path.join(dir_data_root, 'json', 'test')"
   ]
  },
  {
   "cell_type": "markdown",
   "id": "acdfc4c1",
   "metadata": {},
   "source": [
    "**TODO** Implement augmenation and patients sessions for the new data set"
   ]
  },
  {
   "cell_type": "raw",
   "id": "48ca19e5",
   "metadata": {},
   "source": [
    "dir_patiens_sessions = os.path.join(dir_data_root, 'json', 'patients_sessions')"
   ]
  },
  {
   "cell_type": "markdown",
   "id": "e544c090",
   "metadata": {},
   "source": [
    "# Data prep"
   ]
  },
  {
   "cell_type": "markdown",
   "id": "6ca3d18d",
   "metadata": {},
   "source": [
    "### Build training set"
   ]
  },
  {
   "cell_type": "code",
   "execution_count": 3,
   "id": "f6e4b662",
   "metadata": {},
   "outputs": [],
   "source": [
    "CONFIG = {\n",
    "    'SEQ_MAX_LEN': 801,\n",
    "    'NUM_EXERCISES': 9,\n",
    "    'NUM_CLASSES': 6,\n",
    "    'REGIONS':json.load(open(os.path.join('settings', 'pois_region_tpcnn.json'))),\n",
    "    'AUGMENTED': True\n",
    "}"
   ]
  },
  {
   "cell_type": "code",
   "execution_count": 4,
   "id": "8f86aba1",
   "metadata": {},
   "outputs": [
    {
     "data": {
      "text/plain": [
       "{'SEQ_MAX_LEN': 801,\n",
       " 'NUM_EXERCISES': 9,\n",
       " 'NUM_CLASSES': 6,\n",
       " 'REGIONS': {'LefteyeMidbottom': 'upper',\n",
       "  'LefteyeMidtop': 'upper',\n",
       "  'LefteyeInnercorner': 'upper',\n",
       "  'LefteyeOutercorner': 'upper',\n",
       "  'LefteyebrowInner': 'upper',\n",
       "  'LefteyebrowCenter': 'upper',\n",
       "  'RighteyeMidbottom': 'upper',\n",
       "  'RighteyeMidtop': 'upper',\n",
       "  'RighteyeInnercorner': 'upper',\n",
       "  'RighteyeOutercorner': 'upper',\n",
       "  'RighteyebrowInner': 'upper',\n",
       "  'RighteyebrowCenter': 'upper',\n",
       "  'NoseTip': 'lower',\n",
       "  'MouthLowerlipMidbottom': 'lower',\n",
       "  'MouthLeftcorner': 'lower',\n",
       "  'MouthRightcorner': 'lower',\n",
       "  'MouthUpperlipMidtop': 'lower',\n",
       "  'ChinCenter': 'lower',\n",
       "  'ForeheadCenter': 'upper',\n",
       "  'LeftcheekCenter': 'lower',\n",
       "  'RightcheekCenter': 'lower'},\n",
       " 'AUGMENTED': True}"
      ]
     },
     "execution_count": 4,
     "metadata": {},
     "output_type": "execute_result"
    }
   ],
   "source": [
    "CONFIG"
   ]
  },
  {
   "cell_type": "markdown",
   "id": "34789b09",
   "metadata": {},
   "source": [
    "input for global region\n",
    "801 is length of a series in excercise \n",
    "each series consist from 63 value, 21 POIs, each POI has 3 values: x,y,z\n",
    "\n",
    "overall length of a series is 7209 (in paper 8019?)"
   ]
  },
  {
   "cell_type": "code",
   "execution_count": 5,
   "id": "a73c9999",
   "metadata": {},
   "outputs": [],
   "source": [
    "i = 0 \n",
    "exercise_ids = set()\n",
    "for file_name in os.listdir(dir_exercises):\n",
    "    ids = file_name.split('.')\n",
    "    exercise_id = f'{ids[0]}'\n",
    "    exercise_ids.add(exercise_id)\n",
    "exercise_ids = sorted(list(exercise_ids))"
   ]
  },
  {
   "cell_type": "code",
   "execution_count": 6,
   "id": "cddc10d2",
   "metadata": {},
   "outputs": [
    {
     "data": {
      "text/plain": [
       "2419"
      ]
     },
     "execution_count": 6,
     "metadata": {},
     "output_type": "execute_result"
    }
   ],
   "source": [
    "len(exercise_ids)"
   ]
  },
  {
   "cell_type": "raw",
   "id": "938b7611",
   "metadata": {},
   "source": [
    "exercise_ids"
   ]
  },
  {
   "cell_type": "code",
   "execution_count": 7,
   "id": "5bd9e336",
   "metadata": {},
   "outputs": [],
   "source": [
    "def pad_excercise_poi(data, poi):\n",
    "    return tf.keras.preprocessing.sequence.pad_sequences(\n",
    "        [\n",
    "            data['pois'][poi]['xs'],\n",
    "            data['pois'][poi]['ys'],\n",
    "            data['pois'][poi]['zs']\n",
    "        \n",
    "        ],\n",
    "        padding='pre',\n",
    "        maxlen=CONFIG['SEQ_MAX_LEN'],\n",
    "        dtype='float32')"
   ]
  },
  {
   "cell_type": "code",
   "execution_count": 8,
   "id": "5d665672",
   "metadata": {},
   "outputs": [],
   "source": [
    "def session_data(exercise_id, augmented = None):\n",
    "    global_region = None\n",
    "    upper_region = None\n",
    "    lower_region = None\n",
    "    exercises_data = None\n",
    "    \n",
    "    if augmented:\n",
    "        exercises_data = json.load(open(os.path.join(dir_exercises_augmented, f'{exercise_id}_{augmented}.json')))\n",
    "    else:\n",
    "        exercises_data = json.load(open(os.path.join(dir_exercises, f'{exercise_id}.json')))\n",
    "    \n",
    "    for poi in sorted(CONFIG['REGIONS'].keys()):\n",
    "        poi_series = pad_excercise_poi(exercises_data, poi)\n",
    "        \n",
    "        if global_region is not None:\n",
    "            global_region = np.concatenate((global_region, poi_series), axis=0)\n",
    "        else:\n",
    "            global_region = poi_series\n",
    "        \n",
    "        if CONFIG['REGIONS'][poi] == 'upper':\n",
    "            if upper_region is not None:\n",
    "                upper_region = np.concatenate((upper_region, poi_series), axis=0)\n",
    "            else:\n",
    "                upper_region = poi_series\n",
    "        if CONFIG['REGIONS'][poi] == 'lower':\n",
    "            if lower_region is not None:\n",
    "                lower_region = np.concatenate((lower_region, poi_series), axis=0)\n",
    "            else:\n",
    "                lower_region = poi_series\n",
    "\n",
    "    \n",
    "    y = int(exercises_data['meta']['evaluation']) - 1\n",
    "    \n",
    "\n",
    "    return [\n",
    "        global_region,\n",
    "        upper_region,\n",
    "        lower_region,\n",
    "        y\n",
    "    ]"
   ]
  },
  {
   "cell_type": "code",
   "execution_count": 9,
   "id": "1570f138",
   "metadata": {},
   "outputs": [
    {
     "name": "stdout",
     "output_type": "stream",
     "text": [
      "(12095,)\n",
      "(12095, 63, 801)\n",
      "(12095, 39, 801)\n",
      "(12095, 24, 801)\n",
      "Incomplete sessions 0\n"
     ]
    }
   ],
   "source": [
    "xslist_global = list()\n",
    "xslist_upper = list()\n",
    "xslist_lower = list()\n",
    "yslist = list()\n",
    "incomlete_sessions = []\n",
    "i = 0\n",
    "for exercise_id in exercise_ids:\n",
    "    try:\n",
    "        _xs_global, _xs_upper, _xs_lower, _ys = session_data(exercise_id)\n",
    "        \n",
    "\n",
    "        yslist.append(_ys)\n",
    "        xslist_global.append(_xs_global)  \n",
    "        xslist_upper.append(_xs_upper)\n",
    "        xslist_lower.append(_xs_lower)\n",
    "    except:\n",
    "        print(f'issues with session_id: {session_id}')\n",
    "        incomlete_sessions.append(session_id)\n",
    "        continue\n",
    "    \n",
    "    if CONFIG['AUGMENTED']:\n",
    "        for augmentation_id in range(4):\n",
    "            try:\n",
    "                _xs_global, _xs_upper, _xs_lower, _ys = session_data(exercise_id, augmentation_id)\n",
    "\n",
    "\n",
    "                yslist.append(_ys)\n",
    "                xslist_global.append(_xs_global)  \n",
    "                xslist_upper.append(_xs_upper)\n",
    "                xslist_lower.append(_xs_lower)\n",
    "            except:  \n",
    "                break\n",
    "    \n",
    "ys = np.array(yslist, dtype='int')\n",
    "xs_global = np.array(xslist_global, dtype='float32') \n",
    "xs_upper = np.array(xslist_upper, dtype='float32') \n",
    "xs_lower = np.array(xslist_lower, dtype='float32') \n",
    "\n",
    "\n",
    "print(ys.shape)\n",
    "print(xs_global.shape)\n",
    "print(xs_upper.shape)\n",
    "print(xs_lower.shape)\n",
    "print(f'Incomplete sessions {len(incomlete_sessions)}')"
   ]
  },
  {
   "cell_type": "raw",
   "id": "0bf3daec",
   "metadata": {},
   "source": [
    "(2419,)\n",
    "(2419, 63, 801)\n",
    "(2419, 39, 801)\n",
    "(2419, 24, 801)\n",
    "Incomplete sessions 0"
   ]
  },
  {
   "cell_type": "code",
   "execution_count": 10,
   "id": "8827730e",
   "metadata": {},
   "outputs": [
    {
     "name": "stdout",
     "output_type": "stream",
     "text": [
      "[0 0 0 ... 0 0 0]\n"
     ]
    }
   ],
   "source": [
    "print(ys)"
   ]
  },
  {
   "cell_type": "code",
   "execution_count": 11,
   "id": "583dcc45",
   "metadata": {},
   "outputs": [
    {
     "name": "stdout",
     "output_type": "stream",
     "text": [
      "{0, 1, 2, 3, 4, 5}\n"
     ]
    }
   ],
   "source": [
    "print(set(ys))"
   ]
  },
  {
   "cell_type": "markdown",
   "id": "eeba3312",
   "metadata": {},
   "source": [
    "## Modeling"
   ]
  },
  {
   "cell_type": "code",
   "execution_count": 12,
   "id": "db63f1bb",
   "metadata": {
    "scrolled": true
   },
   "outputs": [],
   "source": [
    "from tensorflow.keras.layers import Dense\n",
    "from tensorflow.keras.layers import Conv1D\n",
    "from tensorflow.keras.layers import AveragePooling1D\n",
    "from tensorflow.keras.layers import Flatten\n",
    "from tensorflow.keras.layers import Input\n",
    "from tensorflow.keras.layers import concatenate\n",
    "from tensorflow.keras.layers import BatchNormalization\n",
    "from tensorflow.keras.layers import Dropout\n",
    "from tensorflow.keras.models import Model\n",
    "from tensorflow.keras.optimizers import Adam\n",
    "\n",
    "from sklearn.utils import class_weight"
   ]
  },
  {
   "cell_type": "code",
   "execution_count": 13,
   "id": "5f06345c",
   "metadata": {},
   "outputs": [],
   "source": [
    "def get_dnn(inputLayer): \n",
    "    m = Dense(4, activation=\"relu\")(inputLayer)\n",
    "    m = Model(inputs=inputLayer, outputs=m)\n",
    "\n",
    "    return m"
   ]
  },
  {
   "cell_type": "code",
   "execution_count": 14,
   "id": "fc36a0ca",
   "metadata": {},
   "outputs": [],
   "source": [
    "def get_regional_cnn(inputLayer):\n",
    "    \n",
    "    m = Conv1D(32, 3, padding='same', activation='relu')(inputLayer)\n",
    "    m = AveragePooling1D(3)(m)\n",
    "    m = Conv1D(32, 3, padding='same', activation='relu')(m)\n",
    "    m = Conv1D(64, 3, padding='same', activation='relu')(m)\n",
    "    m = AveragePooling1D(3)(m)\n",
    "    m = Conv1D(64, 3, padding='same', activation='relu')(m)\n",
    "    m = Dense(128, activation=\"relu\")(m)\n",
    "    m = Dropout(0.5)(m)\n",
    "    m = Flatten()(m)\n",
    "    m = Model(inputs=inputLayer, outputs=m)\n",
    "\n",
    "    return m"
   ]
  },
  {
   "cell_type": "code",
   "execution_count": 15,
   "id": "9d566cb4",
   "metadata": {},
   "outputs": [],
   "source": [
    "def get_global_cnn(inputLayer):    \n",
    "    m = Conv1D(6, 21, padding='same', activation='relu')(inputLayer)\n",
    "    m = AveragePooling1D(3)(m)\n",
    "    m = Conv1D(6, 9, padding='same', activation='relu')(m)\n",
    "    m = Conv1D(16, 9, padding='same', activation='relu')(m)\n",
    "    m = AveragePooling1D(3)(m)\n",
    "    m = Conv1D(16, 3, padding='same', activation='relu')(m)\n",
    "    m = Dense(128, activation=\"relu\")(m)\n",
    "    m = Dropout(0.5)(m)\n",
    "    m = Flatten()(m)\n",
    "    m = Model(inputs=inputLayer, outputs=m)\n",
    "\n",
    "    return m"
   ]
  },
  {
   "cell_type": "code",
   "execution_count": 16,
   "id": "29b2c732",
   "metadata": {
    "scrolled": true
   },
   "outputs": [],
   "source": [
    "def get_model():\n",
    "    input_global = Input(shape=xs_global.shape[1:])\n",
    "    model_global = get_global_cnn(input_global)\n",
    "    \n",
    "    input_upper = Input(shape=xs_upper.shape[1:])\n",
    "    model_upper = get_regional_cnn(input_upper)  \n",
    "\n",
    "    input_lower = Input(shape=xs_lower.shape[1:])\n",
    "    model_lower = get_regional_cnn(input_lower)  \n",
    "    \n",
    "    \n",
    "    model_contatenate = concatenate([\n",
    "        model_global.output,\n",
    "        model_upper.output,\n",
    "        model_lower.output,\n",
    "    ])\n",
    "    \n",
    "    model_contatenate = Dense(6, activation=\"softmax\")(model_contatenate)\n",
    "        \n",
    "    model = Model(inputs=[\n",
    "        model_global.input,\n",
    "        model_upper.input,\n",
    "        model_lower.input\n",
    "    ], outputs=model_contatenate)\n",
    "\n",
    "    model.compile(\n",
    "        loss=\"sparse_categorical_crossentropy\", \n",
    "        optimizer=Adam(learning_rate=1e-3, decay=1e-3 / 200),\n",
    "        metrics=['accuracy']\n",
    "    )\n",
    "    \n",
    "    \n",
    "    return model"
   ]
  },
  {
   "cell_type": "code",
   "execution_count": 17,
   "id": "2377d19f",
   "metadata": {},
   "outputs": [
    {
     "name": "stdout",
     "output_type": "stream",
     "text": [
      "Metal device set to: Apple M1\n"
     ]
    },
    {
     "name": "stderr",
     "output_type": "stream",
     "text": [
      "2024-03-03 09:19:37.768381: I tensorflow/core/common_runtime/pluggable_device/pluggable_device_factory.cc:306] Could not identify NUMA node of platform GPU ID 0, defaulting to 0. Your kernel may not have been built with NUMA support.\n",
      "2024-03-03 09:19:37.768743: I tensorflow/core/common_runtime/pluggable_device/pluggable_device_factory.cc:272] Created TensorFlow device (/job:localhost/replica:0/task:0/device:GPU:0 with 0 MB memory) -> physical PluggableDevice (device: 0, name: METAL, pci bus id: <undefined>)\n"
     ]
    },
    {
     "name": "stdout",
     "output_type": "stream",
     "text": [
      "Model: \"model_3\"\n",
      "__________________________________________________________________________________________________\n",
      " Layer (type)                   Output Shape         Param #     Connected to                     \n",
      "==================================================================================================\n",
      " input_1 (InputLayer)           [(None, 63, 801)]    0           []                               \n",
      "                                                                                                  \n",
      " input_2 (InputLayer)           [(None, 39, 801)]    0           []                               \n",
      "                                                                                                  \n",
      " input_3 (InputLayer)           [(None, 24, 801)]    0           []                               \n",
      "                                                                                                  \n",
      " conv1d (Conv1D)                (None, 63, 6)        100932      ['input_1[0][0]']                \n",
      "                                                                                                  \n",
      " conv1d_4 (Conv1D)              (None, 39, 32)       76928       ['input_2[0][0]']                \n",
      "                                                                                                  \n",
      " conv1d_8 (Conv1D)              (None, 24, 32)       76928       ['input_3[0][0]']                \n",
      "                                                                                                  \n",
      " average_pooling1d (AveragePool  (None, 21, 6)       0           ['conv1d[0][0]']                 \n",
      " ing1D)                                                                                           \n",
      "                                                                                                  \n",
      " average_pooling1d_2 (AveragePo  (None, 13, 32)      0           ['conv1d_4[0][0]']               \n",
      " oling1D)                                                                                         \n",
      "                                                                                                  \n",
      " average_pooling1d_4 (AveragePo  (None, 8, 32)       0           ['conv1d_8[0][0]']               \n",
      " oling1D)                                                                                         \n",
      "                                                                                                  \n",
      " conv1d_1 (Conv1D)              (None, 21, 6)        330         ['average_pooling1d[0][0]']      \n",
      "                                                                                                  \n",
      " conv1d_5 (Conv1D)              (None, 13, 32)       3104        ['average_pooling1d_2[0][0]']    \n",
      "                                                                                                  \n",
      " conv1d_9 (Conv1D)              (None, 8, 32)        3104        ['average_pooling1d_4[0][0]']    \n",
      "                                                                                                  \n",
      " conv1d_2 (Conv1D)              (None, 21, 16)       880         ['conv1d_1[0][0]']               \n",
      "                                                                                                  \n",
      " conv1d_6 (Conv1D)              (None, 13, 64)       6208        ['conv1d_5[0][0]']               \n",
      "                                                                                                  \n",
      " conv1d_10 (Conv1D)             (None, 8, 64)        6208        ['conv1d_9[0][0]']               \n",
      "                                                                                                  \n",
      " average_pooling1d_1 (AveragePo  (None, 7, 16)       0           ['conv1d_2[0][0]']               \n",
      " oling1D)                                                                                         \n",
      "                                                                                                  \n",
      " average_pooling1d_3 (AveragePo  (None, 4, 64)       0           ['conv1d_6[0][0]']               \n",
      " oling1D)                                                                                         \n",
      "                                                                                                  \n",
      " average_pooling1d_5 (AveragePo  (None, 2, 64)       0           ['conv1d_10[0][0]']              \n",
      " oling1D)                                                                                         \n",
      "                                                                                                  \n",
      " conv1d_3 (Conv1D)              (None, 7, 16)        784         ['average_pooling1d_1[0][0]']    \n",
      "                                                                                                  \n",
      " conv1d_7 (Conv1D)              (None, 4, 64)        12352       ['average_pooling1d_3[0][0]']    \n",
      "                                                                                                  \n",
      " conv1d_11 (Conv1D)             (None, 2, 64)        12352       ['average_pooling1d_5[0][0]']    \n",
      "                                                                                                  \n",
      " dense (Dense)                  (None, 7, 128)       2176        ['conv1d_3[0][0]']               \n",
      "                                                                                                  \n",
      " dense_1 (Dense)                (None, 4, 128)       8320        ['conv1d_7[0][0]']               \n",
      "                                                                                                  \n",
      " dense_2 (Dense)                (None, 2, 128)       8320        ['conv1d_11[0][0]']              \n",
      "                                                                                                  \n",
      " dropout (Dropout)              (None, 7, 128)       0           ['dense[0][0]']                  \n",
      "                                                                                                  \n",
      " dropout_1 (Dropout)            (None, 4, 128)       0           ['dense_1[0][0]']                \n",
      "                                                                                                  \n",
      " dropout_2 (Dropout)            (None, 2, 128)       0           ['dense_2[0][0]']                \n",
      "                                                                                                  \n",
      " flatten (Flatten)              (None, 896)          0           ['dropout[0][0]']                \n",
      "                                                                                                  \n",
      " flatten_1 (Flatten)            (None, 512)          0           ['dropout_1[0][0]']              \n",
      "                                                                                                  \n",
      " flatten_2 (Flatten)            (None, 256)          0           ['dropout_2[0][0]']              \n",
      "                                                                                                  \n",
      " concatenate (Concatenate)      (None, 1664)         0           ['flatten[0][0]',                \n",
      "                                                                  'flatten_1[0][0]',              \n",
      "                                                                  'flatten_2[0][0]']              \n",
      "                                                                                                  \n",
      " dense_3 (Dense)                (None, 6)            9990        ['concatenate[0][0]']            \n",
      "                                                                                                  \n",
      "==================================================================================================\n",
      "Total params: 328,916\n",
      "Trainable params: 328,916\n",
      "Non-trainable params: 0\n",
      "__________________________________________________________________________________________________\n"
     ]
    }
   ],
   "source": [
    "test_model = get_model()\n",
    "test_model.summary()"
   ]
  },
  {
   "cell_type": "code",
   "execution_count": 18,
   "id": "82dd2364",
   "metadata": {
    "scrolled": true
   },
   "outputs": [
    {
     "name": "stdout",
     "output_type": "stream",
     "text": [
      "{0, 1, 2, 3, 4, 5}\n"
     ]
    }
   ],
   "source": [
    "print(set(ys))"
   ]
  },
  {
   "cell_type": "markdown",
   "id": "accfe635",
   "metadata": {},
   "source": [
    "### K-fold evaluation"
   ]
  },
  {
   "cell_type": "code",
   "execution_count": 19,
   "id": "3c142f3a",
   "metadata": {},
   "outputs": [],
   "source": [
    "k = 5\n",
    "k_limit = 5\n",
    "train = 0.8\n",
    "val = 0.2\n",
    "test = 0.2"
   ]
  },
  {
   "cell_type": "code",
   "execution_count": 20,
   "id": "8aacb4ee",
   "metadata": {},
   "outputs": [],
   "source": [
    "VERBOSE = 0\n",
    "EPOCHS = 400\n",
    "BATCH_SIZE = 64"
   ]
  },
  {
   "cell_type": "code",
   "execution_count": 21,
   "id": "3f377532",
   "metadata": {},
   "outputs": [],
   "source": [
    "from sklearn.model_selection import KFold"
   ]
  },
  {
   "cell_type": "code",
   "execution_count": 22,
   "id": "8f442eac",
   "metadata": {},
   "outputs": [],
   "source": [
    "def get_k_indx(k, n):\n",
    "\n",
    "    k_fold = KFold(n_splits=k)\n",
    "    train_ = []\n",
    "    val_ = []\n",
    "    test_ = []\n",
    "    indx = []\n",
    "\n",
    "    for train_indices, test_indices in k_fold.split(ys):\n",
    "        n_k = len(train_indices)\n",
    "        val_split = int(n_k * train)\n",
    "        indx.append([train_indices[:val_split],train_indices[val_split + 1:], test_indices])\n",
    "    \n",
    "    return indx"
   ]
  },
  {
   "cell_type": "raw",
   "id": "9cbc755e",
   "metadata": {},
   "source": [
    "print(get_k_indx(k, len(ys)))"
   ]
  },
  {
   "cell_type": "code",
   "execution_count": 23,
   "id": "e67b070a",
   "metadata": {},
   "outputs": [],
   "source": [
    "%matplotlib inline"
   ]
  },
  {
   "cell_type": "code",
   "execution_count": null,
   "id": "c200e137",
   "metadata": {},
   "outputs": [
    {
     "name": "stderr",
     "output_type": "stream",
     "text": [
      "2024-03-03 09:19:42.436336: W tensorflow/core/platform/profile_utils/cpu_utils.cc:128] Failed to get CPU frequency: 0 Hz\n",
      "2024-03-03 09:19:43.265218: I tensorflow/core/grappler/optimizers/custom_graph_optimizer_registry.cc:114] Plugin optimizer for device_type GPU is enabled.\n",
      "2024-03-03 09:19:49.472265: I tensorflow/core/grappler/optimizers/custom_graph_optimizer_registry.cc:114] Plugin optimizer for device_type GPU is enabled.\n",
      "2024-03-03 09:57:13.918406: I tensorflow/core/grappler/optimizers/custom_graph_optimizer_registry.cc:114] Plugin optimizer for device_type GPU is enabled.\n"
     ]
    },
    {
     "name": "stdout",
     "output_type": "stream",
     "text": [
      "              precision    recall  f1-score   support\n",
      "\n",
      "           0       0.44      0.36      0.40      1069\n",
      "           1       0.17      0.22      0.19       315\n",
      "           2       0.18      0.36      0.24       225\n",
      "           3       0.00      0.00      0.00       225\n",
      "           4       0.02      0.02      0.02       270\n",
      "           5       0.29      0.20      0.24       315\n",
      "\n",
      "    accuracy                           0.25      2419\n",
      "   macro avg       0.18      0.19      0.18      2419\n",
      "weighted avg       0.27      0.25      0.26      2419\n",
      "\n"
     ]
    },
    {
     "name": "stderr",
     "output_type": "stream",
     "text": [
      "2024-03-03 09:57:26.824348: I tensorflow/core/grappler/optimizers/custom_graph_optimizer_registry.cc:114] Plugin optimizer for device_type GPU is enabled.\n",
      "2024-03-03 09:57:35.518906: I tensorflow/core/grappler/optimizers/custom_graph_optimizer_registry.cc:114] Plugin optimizer for device_type GPU is enabled.\n",
      "2024-03-03 10:40:32.358539: I tensorflow/core/grappler/optimizers/custom_graph_optimizer_registry.cc:114] Plugin optimizer for device_type GPU is enabled.\n"
     ]
    },
    {
     "name": "stdout",
     "output_type": "stream",
     "text": [
      "              precision    recall  f1-score   support\n",
      "\n",
      "           0       0.46      0.45      0.46      1134\n",
      "           1       0.18      0.18      0.18       210\n",
      "           2       0.09      0.12      0.10       225\n",
      "           3       0.03      0.03      0.03       190\n",
      "           4       0.27      0.27      0.27        90\n",
      "           5       0.23      0.22      0.22       570\n",
      "\n",
      "    accuracy                           0.30      2419\n",
      "   macro avg       0.21      0.21      0.21      2419\n",
      "weighted avg       0.31      0.30      0.30      2419\n",
      "\n"
     ]
    },
    {
     "name": "stderr",
     "output_type": "stream",
     "text": [
      "2024-03-03 10:40:47.859053: I tensorflow/core/grappler/optimizers/custom_graph_optimizer_registry.cc:114] Plugin optimizer for device_type GPU is enabled.\n",
      "2024-03-03 10:40:57.514785: I tensorflow/core/grappler/optimizers/custom_graph_optimizer_registry.cc:114] Plugin optimizer for device_type GPU is enabled.\n",
      "2024-03-03 11:31:23.957962: I tensorflow/core/grappler/optimizers/custom_graph_optimizer_registry.cc:114] Plugin optimizer for device_type GPU is enabled.\n"
     ]
    },
    {
     "name": "stdout",
     "output_type": "stream",
     "text": [
      "              precision    recall  f1-score   support\n",
      "\n",
      "           0       0.32      0.53      0.40       749\n",
      "           1       0.14      0.10      0.12       490\n",
      "           2       0.30      0.14      0.19       565\n",
      "           3       0.00      0.00      0.00        45\n",
      "           4       0.42      0.19      0.26       225\n",
      "           5       0.22      0.21      0.21       345\n",
      "\n",
      "    accuracy                           0.26      2419\n",
      "   macro avg       0.23      0.19      0.20      2419\n",
      "weighted avg       0.27      0.26      0.25      2419\n",
      "\n"
     ]
    },
    {
     "name": "stderr",
     "output_type": "stream",
     "text": [
      "2024-03-03 11:31:44.065031: I tensorflow/core/grappler/optimizers/custom_graph_optimizer_registry.cc:114] Plugin optimizer for device_type GPU is enabled.\n",
      "2024-03-03 11:31:57.711638: I tensorflow/core/grappler/optimizers/custom_graph_optimizer_registry.cc:114] Plugin optimizer for device_type GPU is enabled.\n",
      "2024-03-03 12:22:00.991797: I tensorflow/core/grappler/optimizers/custom_graph_optimizer_registry.cc:114] Plugin optimizer for device_type GPU is enabled.\n",
      "/Users/alanchen/.local/share/virtualenvs/research-face-excercises-dynamics-o_HFBNSW/lib/python3.8/site-packages/sklearn/metrics/_classification.py:1471: UndefinedMetricWarning: Recall and F-score are ill-defined and being set to 0.0 in labels with no true samples. Use `zero_division` parameter to control this behavior.\n",
      "  _warn_prf(average, modifier, msg_start, len(result))\n",
      "/Users/alanchen/.local/share/virtualenvs/research-face-excercises-dynamics-o_HFBNSW/lib/python3.8/site-packages/sklearn/metrics/_classification.py:1471: UndefinedMetricWarning: Recall and F-score are ill-defined and being set to 0.0 in labels with no true samples. Use `zero_division` parameter to control this behavior.\n",
      "  _warn_prf(average, modifier, msg_start, len(result))\n",
      "/Users/alanchen/.local/share/virtualenvs/research-face-excercises-dynamics-o_HFBNSW/lib/python3.8/site-packages/sklearn/metrics/_classification.py:1471: UndefinedMetricWarning: Recall and F-score are ill-defined and being set to 0.0 in labels with no true samples. Use `zero_division` parameter to control this behavior.\n",
      "  _warn_prf(average, modifier, msg_start, len(result))\n"
     ]
    },
    {
     "name": "stdout",
     "output_type": "stream",
     "text": [
      "              precision    recall  f1-score   support\n",
      "\n",
      "           0       0.57      0.59      0.58      1328\n",
      "           1       0.09      0.06      0.07       415\n",
      "           2       0.15      0.11      0.13       421\n",
      "           3       0.00      0.00      0.00         0\n",
      "           4       0.00      0.00      0.00        45\n",
      "           5       0.11      0.17      0.13       210\n",
      "\n",
      "    accuracy                           0.37      2419\n",
      "   macro avg       0.15      0.16      0.15      2419\n",
      "weighted avg       0.36      0.37      0.36      2419\n",
      "\n"
     ]
    },
    {
     "name": "stderr",
     "output_type": "stream",
     "text": [
      "2024-03-03 12:22:19.686323: I tensorflow/core/grappler/optimizers/custom_graph_optimizer_registry.cc:114] Plugin optimizer for device_type GPU is enabled.\n",
      "2024-03-03 12:22:30.662240: I tensorflow/core/grappler/optimizers/custom_graph_optimizer_registry.cc:114] Plugin optimizer for device_type GPU is enabled.\n"
     ]
    }
   ],
   "source": [
    "indxs = get_k_indx(k, len(ys))\n",
    "models = []\n",
    "\n",
    "fig, axs = plt.subplots(1,5,figsize=(10,2)) \n",
    "colors = ['red', 'pink', 'blue', 'cyan']\n",
    "labels = ['Loss training', 'Loss validation', 'Accuracy training', 'Accuracy validation']\n",
    "\n",
    "for i in range(k_limit):\n",
    "    train_indx, val_indx, test_indx  = indxs[i]\n",
    "    \n",
    "    xs_global_i = xs_global[train_indx]\n",
    "    xs_global_i_val = xs_global[val_indx]\n",
    "    xs_global_i_test = xs_global[test_indx]\n",
    "    \n",
    "    xs_upper_i = xs_upper[train_indx]\n",
    "    xs_upper_i_val = xs_upper[val_indx]\n",
    "    xs_upper_i_test = xs_upper[test_indx]\n",
    "    \n",
    "    xs_lower_i = xs_lower[train_indx]\n",
    "    xs_lower_i_val = xs_lower[val_indx]\n",
    "    xs_lower_i_test = xs_lower[test_indx]\n",
    "    \n",
    "    ys_i = ys[train_indx]\n",
    "    ys_i_val = ys[val_indx]\n",
    "    ys_i_test = ys[test_indx]\n",
    "    \n",
    "    \n",
    "    class_weights = class_weight.compute_class_weight(class_weight='balanced',\n",
    "                                                 classes = np.unique(ys_i),\n",
    "                                                 y=ys_i)\n",
    "    available_classes = np.unique(ys_i)\n",
    "    weight_training_classes = {\n",
    "        0: 0,\n",
    "        1: 0,\n",
    "        2: 0,\n",
    "        3: 0,\n",
    "        4: 0,\n",
    "        5: 0,\n",
    "    }\n",
    "    \n",
    "    for indx, value in enumerate(class_weights):\n",
    "        weight_training_classes[available_classes[indx]] = value\n",
    "\n",
    "    #print(weight_training_classes)\n",
    "\n",
    "    model = get_model()\n",
    "\n",
    "    model_callbacks = [\n",
    "        tf.keras.callbacks.EarlyStopping(patience=20)\n",
    "    ]\n",
    "    \n",
    "    hist = model.fit(\n",
    "        x=[\n",
    "            xs_global_i, \n",
    "            xs_upper_i,\n",
    "            xs_lower_i], y=ys_i, \n",
    "        validation_data=([\n",
    "            xs_global_i_val,\n",
    "            xs_upper_i_val,\n",
    "            xs_lower_i_val], ys_i_val),\n",
    "        batch_size=BATCH_SIZE, \n",
    "        epochs=EPOCHS,\n",
    "        class_weight=weight_training_classes,\n",
    "        #callbacks=model_callbacks,\n",
    "        verbose=VERBOSE)\n",
    "    \n",
    "    models.append(model)\n",
    "    \n",
    "    # visualizing losses and accuracy\n",
    "    train_loss = hist.history['loss']\n",
    "    val_loss   = hist.history['val_loss']\n",
    "    train_acc  = hist.history['accuracy']\n",
    "    val_acc    = hist.history['val_accuracy']\n",
    "    xc         = range(len(hist.history['loss']))    \n",
    "    \n",
    "    axs[i].set_title(f'Run {i}')\n",
    "    axs[i].plot(xc, train_loss, color=colors[0], label=labels[0])\n",
    "    axs[i].plot(xc, val_loss, color=colors[1], label=labels[1])\n",
    "    axs[i].plot(xc, train_acc, color=colors[2], label=labels[2])\n",
    "    axs[i].plot(xc, val_acc, color=colors[3], label=labels[3])\n",
    "    \n",
    "    y_pred = model.predict([\n",
    "        xs_global_i_test,\n",
    "        xs_upper_i_test,\n",
    "        xs_lower_i_test],verbose=0)\n",
    "    y_pred_bool = np.argmax(y_pred, axis=1)\n",
    "\n",
    "    print(classification_report(ys_i_test, y_pred_bool))\n",
    "    \n",
    "    \n",
    "fig.legend(labels, ncol=1, bbox_to_anchor=(1.2,0.5), loc=\"center right\", fontsize=10, \n",
    "           bbox_transform=plt.gcf().transFigure)\n",
    "\n",
    "plt.show()\n",
    "fig.savefig(f'tpcnn_exercise_runs_01-{int(time.time())}.svg', format='svg', dpi=1200)   "
   ]
  },
  {
   "cell_type": "markdown",
   "id": "ca9e0ddd",
   "metadata": {
    "scrolled": true
   },
   "source": [
    "# Model Serialization "
   ]
  },
  {
   "cell_type": "code",
   "execution_count": null,
   "id": "7a54ee16",
   "metadata": {},
   "outputs": [],
   "source": [
    "serialize = False\n",
    "best_model = 2"
   ]
  },
  {
   "cell_type": "code",
   "execution_count": null,
   "id": "daa64468",
   "metadata": {},
   "outputs": [],
   "source": [
    "dir_models = os.path.join(dir_root, 'models')\n",
    "dir_model = os.path.join(dir_models, 'type4-with-fe_no-aug_005')"
   ]
  },
  {
   "cell_type": "code",
   "execution_count": null,
   "id": "e7ba5cdb",
   "metadata": {},
   "outputs": [],
   "source": [
    "if serialize:\n",
    "    model = models[best_model]\n",
    "    model.save(dir_model)"
   ]
  },
  {
   "cell_type": "code",
   "execution_count": null,
   "id": "b65e7a0a",
   "metadata": {},
   "outputs": [],
   "source": []
  },
  {
   "cell_type": "code",
   "execution_count": null,
   "id": "b9089e36",
   "metadata": {},
   "outputs": [],
   "source": []
  },
  {
   "cell_type": "code",
   "execution_count": null,
   "id": "053cdfbd",
   "metadata": {},
   "outputs": [],
   "source": []
  },
  {
   "cell_type": "code",
   "execution_count": null,
   "id": "6cb74841",
   "metadata": {},
   "outputs": [],
   "source": []
  },
  {
   "cell_type": "code",
   "execution_count": null,
   "id": "f9f45c88",
   "metadata": {},
   "outputs": [],
   "source": []
  },
  {
   "cell_type": "code",
   "execution_count": null,
   "id": "cc5d9855",
   "metadata": {},
   "outputs": [],
   "source": []
  }
 ],
 "metadata": {
  "kernelspec": {
   "display_name": "face-prognosis",
   "language": "python",
   "name": "face-prognosis"
  },
  "language_info": {
   "codemirror_mode": {
    "name": "ipython",
    "version": 3
   },
   "file_extension": ".py",
   "mimetype": "text/x-python",
   "name": "python",
   "nbconvert_exporter": "python",
   "pygments_lexer": "ipython3",
   "version": "3.8.13"
  }
 },
 "nbformat": 4,
 "nbformat_minor": 5
}
