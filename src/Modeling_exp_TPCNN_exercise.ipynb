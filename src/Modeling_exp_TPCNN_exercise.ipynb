{
 "cells": [
  {
   "cell_type": "markdown",
   "id": "c3ffceac",
   "metadata": {},
   "source": [
    "# Notes"
   ]
  },
  {
   "cell_type": "markdown",
   "id": "31ddd4f2",
   "metadata": {},
   "source": [
    "Fourth iteration of the modeling:\n",
    "- modulirized data processing\n",
    "- model serialization"
   ]
  },
  {
   "cell_type": "code",
   "execution_count": 1,
   "id": "2167fbdb",
   "metadata": {
    "scrolled": true
   },
   "outputs": [],
   "source": [
    "import os \n",
    "import re\n",
    "import csv\n",
    "import json\n",
    "import math\n",
    "import random\n",
    "\n",
    "from itertools import chain\n",
    "from datetime import datetime\n",
    "\n",
    "import pandas as pd\n",
    "import numpy as np\n",
    "import tensorflow as tf\n",
    "\n",
    "from tensorflow.keras.preprocessing.sequence import pad_sequences\n",
    "from sklearn.metrics import classification_report\n",
    "\n",
    "import matplotlib.pyplot as plt\n",
    "plt.style.use('_mpl-gallery')"
   ]
  },
  {
   "cell_type": "markdown",
   "id": "e8c2277c",
   "metadata": {},
   "source": [
    "# Constants"
   ]
  },
  {
   "cell_type": "code",
   "execution_count": 2,
   "id": "eed45b66",
   "metadata": {
    "scrolled": true
   },
   "outputs": [],
   "source": [
    "dir_root = os.path.join('..')\n",
    "dir_data_root = os.path.join(dir_root, 'data')\n",
    "dir_exercises = os.path.join(dir_data_root, 'json', 'patients')\n",
    "dir_exercises_augmented = os.path.join(dir_data_root, 'json', 'patients_augmented')\n",
    "dir_exercises_test = os.path.join(dir_data_root, 'json', 'test')"
   ]
  },
  {
   "cell_type": "markdown",
   "id": "acdfc4c1",
   "metadata": {},
   "source": [
    "**TODO** Implement augmenation and patients sessions for the new data set"
   ]
  },
  {
   "cell_type": "raw",
   "id": "48ca19e5",
   "metadata": {},
   "source": [
    "dir_patiens_sessions = os.path.join(dir_data_root, 'json', 'patients_sessions')"
   ]
  },
  {
   "cell_type": "markdown",
   "id": "e544c090",
   "metadata": {},
   "source": [
    "# Data prep"
   ]
  },
  {
   "cell_type": "markdown",
   "id": "6ca3d18d",
   "metadata": {},
   "source": [
    "### Build training set"
   ]
  },
  {
   "cell_type": "code",
   "execution_count": 3,
   "id": "f6e4b662",
   "metadata": {},
   "outputs": [],
   "source": [
    "CONFIG = {\n",
    "    'SEQ_MAX_LEN': 801,\n",
    "    'NUM_EXERCISES': 9,\n",
    "    'NUM_CLASSES': 6,\n",
    "    'REGIONS':json.load(open(os.path.join('settings', 'pois_region_tpcnn.json'))),\n",
    "    'AUGMENTED': True\n",
    "}"
   ]
  },
  {
   "cell_type": "code",
   "execution_count": 4,
   "id": "8f86aba1",
   "metadata": {},
   "outputs": [
    {
     "data": {
      "text/plain": [
       "{'SEQ_MAX_LEN': 801,\n",
       " 'NUM_EXERCISES': 9,\n",
       " 'NUM_CLASSES': 6,\n",
       " 'REGIONS': {'LefteyeMidbottom': 'upper',\n",
       "  'LefteyeMidtop': 'upper',\n",
       "  'LefteyeInnercorner': 'upper',\n",
       "  'LefteyeOutercorner': 'upper',\n",
       "  'LefteyebrowInner': 'upper',\n",
       "  'LefteyebrowCenter': 'upper',\n",
       "  'RighteyeMidbottom': 'upper',\n",
       "  'RighteyeMidtop': 'upper',\n",
       "  'RighteyeInnercorner': 'upper',\n",
       "  'RighteyeOutercorner': 'upper',\n",
       "  'RighteyebrowInner': 'upper',\n",
       "  'RighteyebrowCenter': 'upper',\n",
       "  'NoseTip': 'lower',\n",
       "  'MouthLowerlipMidbottom': 'lower',\n",
       "  'MouthLeftcorner': 'lower',\n",
       "  'MouthRightcorner': 'lower',\n",
       "  'MouthUpperlipMidtop': 'lower',\n",
       "  'ChinCenter': 'lower',\n",
       "  'ForeheadCenter': 'upper',\n",
       "  'LeftcheekCenter': 'lower',\n",
       "  'RightcheekCenter': 'lower'},\n",
       " 'AUGMENTED': True}"
      ]
     },
     "execution_count": 4,
     "metadata": {},
     "output_type": "execute_result"
    }
   ],
   "source": [
    "CONFIG"
   ]
  },
  {
   "cell_type": "markdown",
   "id": "34789b09",
   "metadata": {},
   "source": [
    "input for global region\n",
    "801 is length of a series in excercise \n",
    "each series consist from 63 value, 21 POIs, each POI has 3 values: x,y,z\n",
    "\n",
    "overall length of a series is 7209 (in paper 8019?)"
   ]
  },
  {
   "cell_type": "code",
   "execution_count": 5,
   "id": "a73c9999",
   "metadata": {},
   "outputs": [],
   "source": [
    "i = 0 \n",
    "exercise_ids = set()\n",
    "for file_name in os.listdir(dir_exercises):\n",
    "    ids = file_name.split('.')\n",
    "    exercise_id = f'{ids[0]}'\n",
    "    exercise_ids.add(exercise_id)\n",
    "exercise_ids = sorted(list(exercise_ids))"
   ]
  },
  {
   "cell_type": "code",
   "execution_count": 6,
   "id": "cddc10d2",
   "metadata": {},
   "outputs": [
    {
     "data": {
      "text/plain": [
       "2419"
      ]
     },
     "execution_count": 6,
     "metadata": {},
     "output_type": "execute_result"
    }
   ],
   "source": [
    "len(exercise_ids)"
   ]
  },
  {
   "cell_type": "raw",
   "id": "938b7611",
   "metadata": {},
   "source": [
    "exercise_ids"
   ]
  },
  {
   "cell_type": "code",
   "execution_count": 7,
   "id": "5bd9e336",
   "metadata": {},
   "outputs": [],
   "source": [
    "def pad_excercise_poi(data, poi):\n",
    "    return tf.keras.preprocessing.sequence.pad_sequences(\n",
    "        [\n",
    "            data['pois'][poi]['xs'],\n",
    "            data['pois'][poi]['ys'],\n",
    "            data['pois'][poi]['zs']\n",
    "        \n",
    "        ],\n",
    "        padding='pre',\n",
    "        maxlen=CONFIG['SEQ_MAX_LEN'],\n",
    "        dtype='float32')"
   ]
  },
  {
   "cell_type": "code",
   "execution_count": 8,
   "id": "5d665672",
   "metadata": {},
   "outputs": [],
   "source": [
    "def session_data(exercise_id, augmented = None):\n",
    "    global_region = None\n",
    "    upper_region = None\n",
    "    lower_region = None\n",
    "    exercises_data = None\n",
    "    \n",
    "    if augmented:\n",
    "        exercises_data = json.load(open(os.path.join(dir_exercises_augmented, f'{exercise_id}_{augmented}.json')))\n",
    "    else:\n",
    "        exercises_data = json.load(open(os.path.join(dir_exercises, f'{exercise_id}.json')))\n",
    "    \n",
    "    for poi in sorted(CONFIG['REGIONS'].keys()):\n",
    "        poi_series = pad_excercise_poi(exercises_data, poi)\n",
    "        \n",
    "        if global_region is not None:\n",
    "            global_region = np.concatenate((global_region, poi_series), axis=0)\n",
    "        else:\n",
    "            global_region = poi_series\n",
    "        \n",
    "        if CONFIG['REGIONS'][poi] == 'upper':\n",
    "            if upper_region is not None:\n",
    "                upper_region = np.concatenate((upper_region, poi_series), axis=0)\n",
    "            else:\n",
    "                upper_region = poi_series\n",
    "        if CONFIG['REGIONS'][poi] == 'lower':\n",
    "            if lower_region is not None:\n",
    "                lower_region = np.concatenate((lower_region, poi_series), axis=0)\n",
    "            else:\n",
    "                lower_region = poi_series\n",
    "\n",
    "    \n",
    "    y = int(exercises_data['meta']['evaluation']) - 1\n",
    "    \n",
    "\n",
    "    return [\n",
    "        global_region,\n",
    "        upper_region,\n",
    "        lower_region,\n",
    "        y\n",
    "    ]"
   ]
  },
  {
   "cell_type": "code",
   "execution_count": 9,
   "id": "1570f138",
   "metadata": {},
   "outputs": [
    {
     "name": "stdout",
     "output_type": "stream",
     "text": [
      "(12095,)\n",
      "(12095, 63, 801)\n",
      "(12095, 39, 801)\n",
      "(12095, 24, 801)\n",
      "Incomplete sessions 0\n"
     ]
    }
   ],
   "source": [
    "xslist_global = list()\n",
    "xslist_upper = list()\n",
    "xslist_lower = list()\n",
    "yslist = list()\n",
    "incomlete_sessions = []\n",
    "i = 0\n",
    "for exercise_id in exercise_ids:\n",
    "    try:\n",
    "        _xs_global, _xs_upper, _xs_lower, _ys = session_data(exercise_id)\n",
    "        \n",
    "\n",
    "        yslist.append(_ys)\n",
    "        xslist_global.append(_xs_global)  \n",
    "        xslist_upper.append(_xs_upper)\n",
    "        xslist_lower.append(_xs_lower)\n",
    "    except:\n",
    "        print(f'issues with session_id: {session_id}')\n",
    "        incomlete_sessions.append(session_id)\n",
    "        continue\n",
    "    \n",
    "    if CONFIG['AUGMENTED']:\n",
    "        for augmentation_id in range(4):\n",
    "            try:\n",
    "                _xs_global, _xs_upper, _xs_lower, _ys = session_data(exercise_id, augmentation_id)\n",
    "\n",
    "\n",
    "                yslist.append(_ys)\n",
    "                xslist_global.append(_xs_global)  \n",
    "                xslist_upper.append(_xs_upper)\n",
    "                xslist_lower.append(_xs_lower)\n",
    "            except:  \n",
    "                break\n",
    "    \n",
    "ys = np.array(yslist, dtype='int')\n",
    "xs_global = np.array(xslist_global, dtype='float32') \n",
    "xs_upper = np.array(xslist_upper, dtype='float32') \n",
    "xs_lower = np.array(xslist_lower, dtype='float32') \n",
    "\n",
    "\n",
    "print(ys.shape)\n",
    "print(xs_global.shape)\n",
    "print(xs_upper.shape)\n",
    "print(xs_lower.shape)\n",
    "print(f'Incomplete sessions {len(incomlete_sessions)}')"
   ]
  },
  {
   "cell_type": "raw",
   "id": "0bf3daec",
   "metadata": {},
   "source": [
    "(2419,)\n",
    "(2419, 63, 801)\n",
    "(2419, 39, 801)\n",
    "(2419, 24, 801)\n",
    "Incomplete sessions 0"
   ]
  },
  {
   "cell_type": "code",
   "execution_count": 10,
   "id": "8827730e",
   "metadata": {},
   "outputs": [
    {
     "name": "stdout",
     "output_type": "stream",
     "text": [
      "[0 0 0 ... 0 0 0]\n"
     ]
    }
   ],
   "source": [
    "print(ys)"
   ]
  },
  {
   "cell_type": "code",
   "execution_count": 11,
   "id": "583dcc45",
   "metadata": {},
   "outputs": [
    {
     "name": "stdout",
     "output_type": "stream",
     "text": [
      "{0, 1, 2, 3, 4, 5}\n"
     ]
    }
   ],
   "source": [
    "print(set(ys))"
   ]
  },
  {
   "cell_type": "markdown",
   "id": "eeba3312",
   "metadata": {},
   "source": [
    "## Modeling"
   ]
  },
  {
   "cell_type": "code",
   "execution_count": 12,
   "id": "db63f1bb",
   "metadata": {
    "scrolled": true
   },
   "outputs": [],
   "source": [
    "from tensorflow.keras.layers import Dense\n",
    "from tensorflow.keras.layers import Conv1D\n",
    "from tensorflow.keras.layers import AveragePooling1D\n",
    "from tensorflow.keras.layers import Flatten\n",
    "from tensorflow.keras.layers import Input\n",
    "from tensorflow.keras.layers import concatenate\n",
    "from tensorflow.keras.layers import BatchNormalization\n",
    "from tensorflow.keras.layers import Dropout\n",
    "from tensorflow.keras.models import Model\n",
    "from tensorflow.keras.optimizers import Adam\n",
    "\n",
    "from sklearn.utils import class_weight"
   ]
  },
  {
   "cell_type": "code",
   "execution_count": 13,
   "id": "5f06345c",
   "metadata": {},
   "outputs": [],
   "source": [
    "def get_dnn(inputLayer): \n",
    "    m = Dense(4, activation=\"relu\")(inputLayer)\n",
    "    m = Model(inputs=inputLayer, outputs=m)\n",
    "\n",
    "    return m"
   ]
  },
  {
   "cell_type": "code",
   "execution_count": 14,
   "id": "fc36a0ca",
   "metadata": {},
   "outputs": [],
   "source": [
    "def get_regional_cnn(inputLayer):\n",
    "    chanDim = -1\n",
    "    \n",
    "    m = Conv1D(3, (32), padding='same', activation='relu')(inputLayer)\n",
    "    m = AveragePooling1D((2))(m)\n",
    "    m = Conv1D(3, (32), padding='same', activation='relu')(m)\n",
    "    m = Conv1D(3, (64), padding='same', activation='relu')(m)\n",
    "    m = AveragePooling1D((2))(m)\n",
    "    m = Conv1D(3, (64), padding='same', activation='relu')(m)\n",
    "    m = Dense(128, activation=\"relu\")(m)\n",
    "    m = Dropout(0.5)(m)\n",
    "    m = Flatten()(m)\n",
    "    m = Model(inputs=inputLayer, outputs=m)\n",
    "\n",
    "    return m"
   ]
  },
  {
   "cell_type": "code",
   "execution_count": 15,
   "id": "9d566cb4",
   "metadata": {},
   "outputs": [],
   "source": [
    "def get_global_cnn(inputLayer):\n",
    "    chanDim = -1\n",
    "    \n",
    "    m = Conv1D(21, (6), padding='same', activation='relu')(inputLayer)\n",
    "    m = AveragePooling1D((2))(m)\n",
    "    m = Conv1D(9, (6), padding='same', activation='relu')(m)\n",
    "    m = Conv1D(9, (16), padding='same', activation='relu')(m)\n",
    "    m = AveragePooling1D((2))(m)\n",
    "    m = Conv1D(3, (16), padding='same', activation='relu')(m)\n",
    "    m = Dense(128, activation=\"relu\")(m)\n",
    "    m = Dropout(0.5)(m)\n",
    "    m = Flatten()(m)\n",
    "    m = Model(inputs=inputLayer, outputs=m)\n",
    "\n",
    "    return m"
   ]
  },
  {
   "cell_type": "code",
   "execution_count": 16,
   "id": "29b2c732",
   "metadata": {
    "scrolled": true
   },
   "outputs": [],
   "source": [
    "def get_model():\n",
    "    input_global = Input(shape=xs_global.shape[1:])\n",
    "    model_global = get_global_cnn(input_global)\n",
    "    \n",
    "    input_upper = Input(shape=xs_upper.shape[1:])\n",
    "    model_upper = get_regional_cnn(input_upper)  \n",
    "\n",
    "    input_lower = Input(shape=xs_lower.shape[1:])\n",
    "    model_lower = get_regional_cnn(input_lower)  \n",
    "    \n",
    "    \n",
    "    model_contatenate = concatenate([\n",
    "        model_global.output,\n",
    "        model_upper.output,\n",
    "        model_lower.output,\n",
    "    ])\n",
    "    \n",
    "    model_contatenate = Dense(6, activation=\"softmax\")(model_contatenate)\n",
    "        \n",
    "    model = Model(inputs=[\n",
    "        model_global.input,\n",
    "        model_upper.input,\n",
    "        model_lower.input\n",
    "    ], outputs=model_contatenate)\n",
    "\n",
    "    model.compile(\n",
    "        loss=\"sparse_categorical_crossentropy\", \n",
    "        optimizer=Adam(learning_rate=1e-3, decay=1e-3 / 200),\n",
    "        metrics=['accuracy']\n",
    "    )\n",
    "    \n",
    "    \n",
    "    return model"
   ]
  },
  {
   "cell_type": "code",
   "execution_count": 17,
   "id": "2377d19f",
   "metadata": {},
   "outputs": [
    {
     "name": "stdout",
     "output_type": "stream",
     "text": [
      "Metal device set to: Apple M1\n"
     ]
    },
    {
     "name": "stderr",
     "output_type": "stream",
     "text": [
      "2024-02-23 15:59:12.038336: I tensorflow/core/common_runtime/pluggable_device/pluggable_device_factory.cc:306] Could not identify NUMA node of platform GPU ID 0, defaulting to 0. Your kernel may not have been built with NUMA support.\n",
      "2024-02-23 15:59:12.038784: I tensorflow/core/common_runtime/pluggable_device/pluggable_device_factory.cc:272] Created TensorFlow device (/job:localhost/replica:0/task:0/device:GPU:0 with 0 MB memory) -> physical PluggableDevice (device: 0, name: METAL, pci bus id: <undefined>)\n"
     ]
    },
    {
     "name": "stdout",
     "output_type": "stream",
     "text": [
      "Model: \"model_3\"\n",
      "__________________________________________________________________________________________________\n",
      " Layer (type)                   Output Shape         Param #     Connected to                     \n",
      "==================================================================================================\n",
      " input_1 (InputLayer)           [(None, 63, 801)]    0           []                               \n",
      "                                                                                                  \n",
      " input_2 (InputLayer)           [(None, 39, 801)]    0           []                               \n",
      "                                                                                                  \n",
      " input_3 (InputLayer)           [(None, 24, 801)]    0           []                               \n",
      "                                                                                                  \n",
      " conv1d (Conv1D)                (None, 63, 21)       100947      ['input_1[0][0]']                \n",
      "                                                                                                  \n",
      " conv1d_4 (Conv1D)              (None, 39, 3)        76899       ['input_2[0][0]']                \n",
      "                                                                                                  \n",
      " conv1d_8 (Conv1D)              (None, 24, 3)        76899       ['input_3[0][0]']                \n",
      "                                                                                                  \n",
      " average_pooling1d (AveragePool  (None, 31, 21)      0           ['conv1d[0][0]']                 \n",
      " ing1D)                                                                                           \n",
      "                                                                                                  \n",
      " average_pooling1d_2 (AveragePo  (None, 19, 3)       0           ['conv1d_4[0][0]']               \n",
      " oling1D)                                                                                         \n",
      "                                                                                                  \n",
      " average_pooling1d_4 (AveragePo  (None, 12, 3)       0           ['conv1d_8[0][0]']               \n",
      " oling1D)                                                                                         \n",
      "                                                                                                  \n",
      " conv1d_1 (Conv1D)              (None, 31, 9)        1143        ['average_pooling1d[0][0]']      \n",
      "                                                                                                  \n",
      " conv1d_5 (Conv1D)              (None, 19, 3)        291         ['average_pooling1d_2[0][0]']    \n",
      "                                                                                                  \n",
      " conv1d_9 (Conv1D)              (None, 12, 3)        291         ['average_pooling1d_4[0][0]']    \n",
      "                                                                                                  \n",
      " conv1d_2 (Conv1D)              (None, 31, 9)        1305        ['conv1d_1[0][0]']               \n",
      "                                                                                                  \n",
      " conv1d_6 (Conv1D)              (None, 19, 3)        579         ['conv1d_5[0][0]']               \n",
      "                                                                                                  \n",
      " conv1d_10 (Conv1D)             (None, 12, 3)        579         ['conv1d_9[0][0]']               \n",
      "                                                                                                  \n",
      " average_pooling1d_1 (AveragePo  (None, 15, 9)       0           ['conv1d_2[0][0]']               \n",
      " oling1D)                                                                                         \n",
      "                                                                                                  \n",
      " average_pooling1d_3 (AveragePo  (None, 9, 3)        0           ['conv1d_6[0][0]']               \n",
      " oling1D)                                                                                         \n",
      "                                                                                                  \n",
      " average_pooling1d_5 (AveragePo  (None, 6, 3)        0           ['conv1d_10[0][0]']              \n",
      " oling1D)                                                                                         \n",
      "                                                                                                  \n",
      " conv1d_3 (Conv1D)              (None, 15, 3)        435         ['average_pooling1d_1[0][0]']    \n",
      "                                                                                                  \n",
      " conv1d_7 (Conv1D)              (None, 9, 3)         579         ['average_pooling1d_3[0][0]']    \n",
      "                                                                                                  \n",
      " conv1d_11 (Conv1D)             (None, 6, 3)         579         ['average_pooling1d_5[0][0]']    \n",
      "                                                                                                  \n",
      " dense (Dense)                  (None, 15, 128)      512         ['conv1d_3[0][0]']               \n",
      "                                                                                                  \n",
      " dense_1 (Dense)                (None, 9, 128)       512         ['conv1d_7[0][0]']               \n",
      "                                                                                                  \n",
      " dense_2 (Dense)                (None, 6, 128)       512         ['conv1d_11[0][0]']              \n",
      "                                                                                                  \n",
      " dropout (Dropout)              (None, 15, 128)      0           ['dense[0][0]']                  \n",
      "                                                                                                  \n",
      " dropout_1 (Dropout)            (None, 9, 128)       0           ['dense_1[0][0]']                \n",
      "                                                                                                  \n",
      " dropout_2 (Dropout)            (None, 6, 128)       0           ['dense_2[0][0]']                \n",
      "                                                                                                  \n",
      " flatten (Flatten)              (None, 1920)         0           ['dropout[0][0]']                \n",
      "                                                                                                  \n",
      " flatten_1 (Flatten)            (None, 1152)         0           ['dropout_1[0][0]']              \n",
      "                                                                                                  \n",
      " flatten_2 (Flatten)            (None, 768)          0           ['dropout_2[0][0]']              \n",
      "                                                                                                  \n",
      " concatenate (Concatenate)      (None, 3840)         0           ['flatten[0][0]',                \n",
      "                                                                  'flatten_1[0][0]',              \n",
      "                                                                  'flatten_2[0][0]']              \n",
      "                                                                                                  \n",
      " dense_3 (Dense)                (None, 6)            23046       ['concatenate[0][0]']            \n",
      "                                                                                                  \n",
      "==================================================================================================\n",
      "Total params: 285,108\n",
      "Trainable params: 285,108\n",
      "Non-trainable params: 0\n",
      "__________________________________________________________________________________________________\n"
     ]
    }
   ],
   "source": [
    "test_model = get_model()\n",
    "test_model.summary()"
   ]
  },
  {
   "cell_type": "code",
   "execution_count": 18,
   "id": "82dd2364",
   "metadata": {
    "scrolled": true
   },
   "outputs": [
    {
     "name": "stdout",
     "output_type": "stream",
     "text": [
      "{0, 1, 2, 3, 4, 5}\n"
     ]
    }
   ],
   "source": [
    "print(set(ys))"
   ]
  },
  {
   "cell_type": "markdown",
   "id": "accfe635",
   "metadata": {},
   "source": [
    "### K-fold evaluation"
   ]
  },
  {
   "cell_type": "code",
   "execution_count": 19,
   "id": "3c142f3a",
   "metadata": {},
   "outputs": [],
   "source": [
    "k = 5\n",
    "k_limit = 5\n",
    "train = 0.8\n",
    "val = 0.2\n",
    "test = 0.2"
   ]
  },
  {
   "cell_type": "code",
   "execution_count": 20,
   "id": "8aacb4ee",
   "metadata": {},
   "outputs": [],
   "source": [
    "VERBOSE = 2\n",
    "EPOCHS = 20\n",
    "BATCH_SIZE = 8"
   ]
  },
  {
   "cell_type": "code",
   "execution_count": 21,
   "id": "3f377532",
   "metadata": {},
   "outputs": [],
   "source": [
    "from sklearn.model_selection import KFold"
   ]
  },
  {
   "cell_type": "code",
   "execution_count": 22,
   "id": "8f442eac",
   "metadata": {},
   "outputs": [],
   "source": [
    "def get_k_indx(k, n):\n",
    "\n",
    "    k_fold = KFold(n_splits=k)\n",
    "    train_ = []\n",
    "    val_ = []\n",
    "    test_ = []\n",
    "    indx = []\n",
    "\n",
    "    for train_indices, test_indices in k_fold.split(ys):\n",
    "        n_k = len(train_indices)\n",
    "        val_split = int(n_k * train)\n",
    "        indx.append([train_indices[:val_split],train_indices[val_split + 1:], test_indices])\n",
    "    \n",
    "    return indx"
   ]
  },
  {
   "cell_type": "raw",
   "id": "9cbc755e",
   "metadata": {},
   "source": [
    "print(get_k_indx(k, len(ys)))"
   ]
  },
  {
   "cell_type": "code",
   "execution_count": 23,
   "id": "e67b070a",
   "metadata": {},
   "outputs": [],
   "source": [
    "%matplotlib inline"
   ]
  },
  {
   "cell_type": "code",
   "execution_count": 24,
   "id": "c200e137",
   "metadata": {},
   "outputs": [
    {
     "name": "stdout",
     "output_type": "stream",
     "text": [
      "{0: 0.38324420677361853, 1: 1.1276223776223777, 2: 1.0038910505836576, 3: 3.9692307692307693, 4: 2.8666666666666667, 5: 1.1025641025641026}\n",
      "Epoch 1/20\n"
     ]
    },
    {
     "name": "stderr",
     "output_type": "stream",
     "text": [
      "2024-02-23 15:59:17.435172: W tensorflow/core/platform/profile_utils/cpu_utils.cc:128] Failed to get CPU frequency: 0 Hz\n",
      "2024-02-23 15:59:18.839467: I tensorflow/core/grappler/optimizers/custom_graph_optimizer_registry.cc:114] Plugin optimizer for device_type GPU is enabled.\n",
      "2024-02-23 15:59:51.245738: I tensorflow/core/grappler/optimizers/custom_graph_optimizer_registry.cc:114] Plugin optimizer for device_type GPU is enabled.\n"
     ]
    },
    {
     "name": "stdout",
     "output_type": "stream",
     "text": [
      "968/968 - 39s - loss: 1.6858 - accuracy: 0.1677 - val_loss: 1.7283 - val_accuracy: 0.1271 - 39s/epoch - 41ms/step\n",
      "Epoch 2/20\n",
      "968/968 - 48s - loss: 1.5825 - accuracy: 0.1910 - val_loss: 1.9900 - val_accuracy: 0.1183 - 48s/epoch - 50ms/step\n",
      "Epoch 3/20\n",
      "968/968 - 60s - loss: 1.5457 - accuracy: 0.2168 - val_loss: 2.1574 - val_accuracy: 0.1194 - 60s/epoch - 62ms/step\n",
      "Epoch 4/20\n",
      "968/968 - 61s - loss: 1.5212 - accuracy: 0.2204 - val_loss: 2.1485 - val_accuracy: 0.1251 - 61s/epoch - 63ms/step\n",
      "Epoch 5/20\n",
      "968/968 - 55s - loss: 1.4950 - accuracy: 0.2243 - val_loss: 2.3437 - val_accuracy: 0.1090 - 55s/epoch - 57ms/step\n",
      "Epoch 6/20\n",
      "968/968 - 62s - loss: 1.4797 - accuracy: 0.2133 - val_loss: 2.5104 - val_accuracy: 0.1189 - 62s/epoch - 64ms/step\n",
      "Epoch 7/20\n",
      "968/968 - 59s - loss: 1.4610 - accuracy: 0.2276 - val_loss: 2.4898 - val_accuracy: 0.1028 - 59s/epoch - 61ms/step\n",
      "Epoch 8/20\n",
      "968/968 - 56s - loss: 1.4448 - accuracy: 0.2255 - val_loss: 2.6066 - val_accuracy: 0.1116 - 56s/epoch - 58ms/step\n",
      "Epoch 9/20\n",
      "968/968 - 62s - loss: 1.4508 - accuracy: 0.2287 - val_loss: 2.4614 - val_accuracy: 0.0961 - 62s/epoch - 64ms/step\n",
      "Epoch 10/20\n",
      "968/968 - 59s - loss: 1.4150 - accuracy: 0.2416 - val_loss: 2.8147 - val_accuracy: 0.1039 - 59s/epoch - 61ms/step\n",
      "Epoch 11/20\n",
      "968/968 - 56s - loss: 1.4079 - accuracy: 0.2411 - val_loss: 2.7183 - val_accuracy: 0.1127 - 56s/epoch - 58ms/step\n",
      "Epoch 12/20\n",
      "968/968 - 61s - loss: 1.4116 - accuracy: 0.2574 - val_loss: 2.7977 - val_accuracy: 0.1018 - 61s/epoch - 63ms/step\n",
      "Epoch 13/20\n",
      "968/968 - 59s - loss: 1.3956 - accuracy: 0.2479 - val_loss: 2.1759 - val_accuracy: 0.1245 - 59s/epoch - 61ms/step\n",
      "Epoch 14/20\n",
      "968/968 - 57s - loss: 1.3929 - accuracy: 0.2568 - val_loss: 2.8628 - val_accuracy: 0.1266 - 57s/epoch - 58ms/step\n",
      "Epoch 15/20\n",
      "968/968 - 58s - loss: 1.3848 - accuracy: 0.2466 - val_loss: 2.9338 - val_accuracy: 0.1111 - 58s/epoch - 60ms/step\n",
      "Epoch 16/20\n",
      "968/968 - 50s - loss: 1.3653 - accuracy: 0.2747 - val_loss: 2.4576 - val_accuracy: 0.1090 - 50s/epoch - 52ms/step\n",
      "Epoch 17/20\n",
      "968/968 - 34s - loss: 1.3921 - accuracy: 0.2534 - val_loss: 2.9255 - val_accuracy: 0.1163 - 34s/epoch - 36ms/step\n",
      "Epoch 18/20\n",
      "968/968 - 34s - loss: 1.3458 - accuracy: 0.2678 - val_loss: 3.0646 - val_accuracy: 0.1158 - 34s/epoch - 35ms/step\n",
      "Epoch 19/20\n",
      "968/968 - 34s - loss: 1.3637 - accuracy: 0.2802 - val_loss: 2.6504 - val_accuracy: 0.1183 - 34s/epoch - 35ms/step\n",
      "Epoch 20/20\n",
      "968/968 - 34s - loss: 1.3429 - accuracy: 0.2678 - val_loss: 2.5391 - val_accuracy: 0.1111 - 34s/epoch - 35ms/step\n"
     ]
    },
    {
     "name": "stderr",
     "output_type": "stream",
     "text": [
      "2024-02-23 16:16:40.929696: I tensorflow/core/grappler/optimizers/custom_graph_optimizer_registry.cc:114] Plugin optimizer for device_type GPU is enabled.\n"
     ]
    },
    {
     "name": "stdout",
     "output_type": "stream",
     "text": [
      "              precision    recall  f1-score   support\n",
      "\n",
      "           0       0.54      0.10      0.17      1069\n",
      "           1       0.00      0.00      0.00       315\n",
      "           2       0.16      0.16      0.16       225\n",
      "           3       0.08      0.62      0.14       225\n",
      "           4       0.00      0.00      0.00       270\n",
      "           5       0.27      0.05      0.08       315\n",
      "\n",
      "    accuracy                           0.12      2419\n",
      "   macro avg       0.17      0.15      0.09      2419\n",
      "weighted avg       0.30      0.12      0.11      2419\n",
      "\n",
      "{0: 0.3907906694940927, 1: 1.032826261008807, 2: 1.0038910505836576, 3: 3.5833333333333335, 4: 2.0476190476190474, 5: 1.4098360655737705}\n",
      "Epoch 1/20\n"
     ]
    },
    {
     "name": "stderr",
     "output_type": "stream",
     "text": [
      "2024-02-23 16:16:54.374039: I tensorflow/core/grappler/optimizers/custom_graph_optimizer_registry.cc:114] Plugin optimizer for device_type GPU is enabled.\n",
      "2024-02-23 16:17:26.469885: I tensorflow/core/grappler/optimizers/custom_graph_optimizer_registry.cc:114] Plugin optimizer for device_type GPU is enabled.\n"
     ]
    },
    {
     "name": "stdout",
     "output_type": "stream",
     "text": [
      "968/968 - 39s - loss: 1.7716 - accuracy: 0.2173 - val_loss: 1.7996 - val_accuracy: 0.3297 - 39s/epoch - 40ms/step\n",
      "Epoch 2/20\n",
      "968/968 - 45s - loss: 1.6957 - accuracy: 0.2561 - val_loss: 1.8773 - val_accuracy: 0.2109 - 45s/epoch - 47ms/step\n",
      "Epoch 3/20\n",
      "968/968 - 60s - loss: 1.5869 - accuracy: 0.2700 - val_loss: 1.9189 - val_accuracy: 0.1426 - 60s/epoch - 62ms/step\n",
      "Epoch 4/20\n",
      "968/968 - 55s - loss: 1.4947 - accuracy: 0.2919 - val_loss: 2.1029 - val_accuracy: 0.1411 - 55s/epoch - 57ms/step\n",
      "Epoch 5/20\n",
      "968/968 - 56s - loss: 1.3977 - accuracy: 0.3437 - val_loss: 2.2067 - val_accuracy: 0.1411 - 56s/epoch - 58ms/step\n",
      "Epoch 6/20\n",
      "968/968 - 61s - loss: 1.3205 - accuracy: 0.3756 - val_loss: 2.5233 - val_accuracy: 0.0935 - 61s/epoch - 64ms/step\n",
      "Epoch 7/20\n",
      "968/968 - 59s - loss: 1.2424 - accuracy: 0.4063 - val_loss: 2.7290 - val_accuracy: 0.0786 - 59s/epoch - 61ms/step\n",
      "Epoch 8/20\n",
      "968/968 - 58s - loss: 1.1713 - accuracy: 0.4366 - val_loss: 2.7972 - val_accuracy: 0.0935 - 58s/epoch - 60ms/step\n",
      "Epoch 9/20\n",
      "968/968 - 50s - loss: 1.0964 - accuracy: 0.4650 - val_loss: 2.9101 - val_accuracy: 0.0884 - 50s/epoch - 52ms/step\n",
      "Epoch 10/20\n",
      "968/968 - 60s - loss: 1.0423 - accuracy: 0.4973 - val_loss: 3.1956 - val_accuracy: 0.0884 - 60s/epoch - 62ms/step\n",
      "Epoch 11/20\n",
      "968/968 - 58s - loss: 0.9755 - accuracy: 0.5182 - val_loss: 3.2505 - val_accuracy: 0.1163 - 58s/epoch - 60ms/step\n",
      "Epoch 12/20\n",
      "968/968 - 59s - loss: 0.8965 - accuracy: 0.5530 - val_loss: 3.1335 - val_accuracy: 0.1127 - 59s/epoch - 61ms/step\n",
      "Epoch 13/20\n",
      "968/968 - 59s - loss: 0.8753 - accuracy: 0.5601 - val_loss: 3.3565 - val_accuracy: 0.1375 - 59s/epoch - 61ms/step\n",
      "Epoch 14/20\n",
      "968/968 - 61s - loss: 0.7969 - accuracy: 0.5952 - val_loss: 3.4649 - val_accuracy: 0.1509 - 61s/epoch - 63ms/step\n",
      "Epoch 15/20\n",
      "968/968 - 53s - loss: 0.7541 - accuracy: 0.6089 - val_loss: 4.0108 - val_accuracy: 0.1214 - 53s/epoch - 54ms/step\n",
      "Epoch 16/20\n",
      "968/968 - 54s - loss: 0.6825 - accuracy: 0.6397 - val_loss: 4.1276 - val_accuracy: 0.1545 - 54s/epoch - 56ms/step\n",
      "Epoch 17/20\n",
      "968/968 - 58s - loss: 0.7000 - accuracy: 0.6391 - val_loss: 4.1609 - val_accuracy: 0.1359 - 58s/epoch - 60ms/step\n",
      "Epoch 18/20\n",
      "968/968 - 56s - loss: 0.6679 - accuracy: 0.6475 - val_loss: 4.2241 - val_accuracy: 0.1587 - 56s/epoch - 58ms/step\n",
      "Epoch 19/20\n",
      "968/968 - 58s - loss: 0.5979 - accuracy: 0.6749 - val_loss: 4.8471 - val_accuracy: 0.1504 - 58s/epoch - 60ms/step\n",
      "Epoch 20/20\n",
      "968/968 - 60s - loss: 0.6475 - accuracy: 0.6619 - val_loss: 4.6414 - val_accuracy: 0.1566 - 60s/epoch - 62ms/step\n"
     ]
    },
    {
     "name": "stderr",
     "output_type": "stream",
     "text": [
      "2024-02-23 16:35:37.279392: I tensorflow/core/grappler/optimizers/custom_graph_optimizer_registry.cc:114] Plugin optimizer for device_type GPU is enabled.\n"
     ]
    },
    {
     "name": "stdout",
     "output_type": "stream",
     "text": [
      "              precision    recall  f1-score   support\n",
      "\n",
      "           0       0.50      0.36      0.42      1134\n",
      "           1       0.17      0.14      0.15       210\n",
      "           2       0.17      0.24      0.20       225\n",
      "           3       0.03      0.08      0.05       190\n",
      "           4       0.00      0.00      0.00        90\n",
      "           5       0.35      0.32      0.33       570\n",
      "\n",
      "    accuracy                           0.29      2419\n",
      "   macro avg       0.20      0.19      0.19      2419\n",
      "weighted avg       0.35      0.29      0.31      2419\n",
      "\n",
      "{0: 0.34997287032013025, 1: 1.3312693498452013, 2: 1.3650793650793651, 3: 2.5544554455445545, 4: 2.606060606060606, 5: 1.131578947368421}\n",
      "Epoch 1/20\n"
     ]
    },
    {
     "name": "stderr",
     "output_type": "stream",
     "text": [
      "2024-02-23 16:35:54.568999: I tensorflow/core/grappler/optimizers/custom_graph_optimizer_registry.cc:114] Plugin optimizer for device_type GPU is enabled.\n",
      "2024-02-23 16:36:49.908340: I tensorflow/core/grappler/optimizers/custom_graph_optimizer_registry.cc:114] Plugin optimizer for device_type GPU is enabled.\n"
     ]
    },
    {
     "name": "stdout",
     "output_type": "stream",
     "text": [
      "968/968 - 67s - loss: 1.7719 - accuracy: 0.2532 - val_loss: 1.9472 - val_accuracy: 0.3576 - 67s/epoch - 70ms/step\n",
      "Epoch 2/20\n",
      "968/968 - 51s - loss: 1.6821 - accuracy: 0.3439 - val_loss: 2.0644 - val_accuracy: 0.3127 - 51s/epoch - 53ms/step\n",
      "Epoch 3/20\n",
      "968/968 - 62s - loss: 1.6112 - accuracy: 0.3495 - val_loss: 1.8242 - val_accuracy: 0.3044 - 62s/epoch - 64ms/step\n",
      "Epoch 4/20\n",
      "968/968 - 60s - loss: 1.5329 - accuracy: 0.3593 - val_loss: 1.9661 - val_accuracy: 0.2010 - 60s/epoch - 62ms/step\n",
      "Epoch 5/20\n",
      "968/968 - 62s - loss: 1.4277 - accuracy: 0.3912 - val_loss: 1.9125 - val_accuracy: 0.2429 - 62s/epoch - 64ms/step\n",
      "Epoch 6/20\n",
      "968/968 - 58s - loss: 1.3300 - accuracy: 0.4214 - val_loss: 2.1954 - val_accuracy: 0.2000 - 58s/epoch - 60ms/step\n",
      "Epoch 7/20\n",
      "968/968 - 62s - loss: 1.2680 - accuracy: 0.4371 - val_loss: 2.3025 - val_accuracy: 0.1494 - 62s/epoch - 64ms/step\n",
      "Epoch 8/20\n",
      "968/968 - 55s - loss: 1.2109 - accuracy: 0.4456 - val_loss: 2.2809 - val_accuracy: 0.2041 - 55s/epoch - 57ms/step\n",
      "Epoch 9/20\n",
      "968/968 - 60s - loss: 1.1627 - accuracy: 0.4506 - val_loss: 2.8607 - val_accuracy: 0.1576 - 60s/epoch - 62ms/step\n",
      "Epoch 10/20\n",
      "968/968 - 61s - loss: 1.0975 - accuracy: 0.4757 - val_loss: 2.8427 - val_accuracy: 0.1525 - 61s/epoch - 63ms/step\n",
      "Epoch 11/20\n",
      "968/968 - 58s - loss: 1.0730 - accuracy: 0.4845 - val_loss: 2.5736 - val_accuracy: 0.1700 - 58s/epoch - 60ms/step\n",
      "Epoch 12/20\n",
      "968/968 - 57s - loss: 1.0038 - accuracy: 0.5058 - val_loss: 2.7950 - val_accuracy: 0.2010 - 57s/epoch - 58ms/step\n",
      "Epoch 13/20\n",
      "968/968 - 60s - loss: 0.9857 - accuracy: 0.5090 - val_loss: 3.0369 - val_accuracy: 0.1638 - 60s/epoch - 62ms/step\n",
      "Epoch 14/20\n",
      "968/968 - 58s - loss: 0.9039 - accuracy: 0.5359 - val_loss: 3.5103 - val_accuracy: 0.2341 - 58s/epoch - 60ms/step\n",
      "Epoch 15/20\n",
      "968/968 - 44s - loss: 0.8688 - accuracy: 0.5570 - val_loss: 3.1233 - val_accuracy: 0.2346 - 44s/epoch - 45ms/step\n",
      "Epoch 16/20\n",
      "968/968 - 34s - loss: 0.8297 - accuracy: 0.5720 - val_loss: 3.3362 - val_accuracy: 0.2465 - 34s/epoch - 36ms/step\n",
      "Epoch 17/20\n",
      "968/968 - 35s - loss: 0.7905 - accuracy: 0.5870 - val_loss: 3.5818 - val_accuracy: 0.2222 - 35s/epoch - 36ms/step\n",
      "Epoch 18/20\n",
      "968/968 - 35s - loss: 0.7252 - accuracy: 0.6137 - val_loss: 3.7421 - val_accuracy: 0.1969 - 35s/epoch - 36ms/step\n",
      "Epoch 19/20\n",
      "968/968 - 35s - loss: 0.7381 - accuracy: 0.6156 - val_loss: 4.1290 - val_accuracy: 0.2377 - 35s/epoch - 36ms/step\n",
      "Epoch 20/20\n",
      "968/968 - 35s - loss: 0.6752 - accuracy: 0.6388 - val_loss: 4.0045 - val_accuracy: 0.3297 - 35s/epoch - 36ms/step\n"
     ]
    },
    {
     "name": "stderr",
     "output_type": "stream",
     "text": [
      "2024-02-23 16:53:23.568746: I tensorflow/core/grappler/optimizers/custom_graph_optimizer_registry.cc:114] Plugin optimizer for device_type GPU is enabled.\n"
     ]
    },
    {
     "name": "stdout",
     "output_type": "stream",
     "text": [
      "              precision    recall  f1-score   support\n",
      "\n",
      "           0       0.29      0.54      0.38       749\n",
      "           1       0.07      0.03      0.04       490\n",
      "           2       0.14      0.03      0.05       565\n",
      "           3       0.00      0.00      0.00        45\n",
      "           4       0.33      0.16      0.21       225\n",
      "           5       0.13      0.16      0.14       345\n",
      "\n",
      "    accuracy                           0.22      2419\n",
      "   macro avg       0.16      0.15      0.14      2419\n",
      "weighted avg       0.19      0.22      0.18      2419\n",
      "\n",
      "{0: 0.4151915030576118, 1: 1.235632183908046, 2: 1.184573002754821, 3: 2.3454545454545452, 4: 1.9111111111111112, 5: 1.011764705882353}\n",
      "Epoch 1/20\n"
     ]
    },
    {
     "name": "stderr",
     "output_type": "stream",
     "text": [
      "2024-02-23 16:53:36.543873: I tensorflow/core/grappler/optimizers/custom_graph_optimizer_registry.cc:114] Plugin optimizer for device_type GPU is enabled.\n",
      "2024-02-23 16:54:10.538887: I tensorflow/core/grappler/optimizers/custom_graph_optimizer_registry.cc:114] Plugin optimizer for device_type GPU is enabled.\n"
     ]
    },
    {
     "name": "stdout",
     "output_type": "stream",
     "text": [
      "968/968 - 41s - loss: 1.7841 - accuracy: 0.2137 - val_loss: 1.8075 - val_accuracy: 0.2165 - 41s/epoch - 42ms/step\n",
      "Epoch 2/20\n",
      "968/968 - 35s - loss: 1.6884 - accuracy: 0.2752 - val_loss: 2.0569 - val_accuracy: 0.1271 - 35s/epoch - 36ms/step\n",
      "Epoch 3/20\n",
      "968/968 - 35s - loss: 1.5692 - accuracy: 0.3236 - val_loss: 2.2948 - val_accuracy: 0.1204 - 35s/epoch - 36ms/step\n",
      "Epoch 4/20\n",
      "968/968 - 35s - loss: 1.4217 - accuracy: 0.3866 - val_loss: 2.6602 - val_accuracy: 0.1044 - 35s/epoch - 36ms/step\n",
      "Epoch 5/20\n",
      "968/968 - 35s - loss: 1.2477 - accuracy: 0.4390 - val_loss: 3.0902 - val_accuracy: 0.0992 - 35s/epoch - 36ms/step\n",
      "Epoch 6/20\n",
      "968/968 - 37s - loss: 1.1275 - accuracy: 0.4797 - val_loss: 2.7357 - val_accuracy: 0.1762 - 37s/epoch - 38ms/step\n",
      "Epoch 7/20\n",
      "968/968 - 38s - loss: 1.0394 - accuracy: 0.5150 - val_loss: 3.5547 - val_accuracy: 0.1468 - 38s/epoch - 39ms/step\n",
      "Epoch 8/20\n",
      "968/968 - 34s - loss: 0.9600 - accuracy: 0.5545 - val_loss: 3.5081 - val_accuracy: 0.1592 - 34s/epoch - 35ms/step\n",
      "Epoch 9/20\n",
      "968/968 - 34s - loss: 0.8992 - accuracy: 0.5734 - val_loss: 4.3206 - val_accuracy: 0.1514 - 34s/epoch - 35ms/step\n",
      "Epoch 10/20\n",
      "968/968 - 34s - loss: 0.8052 - accuracy: 0.6081 - val_loss: 3.8981 - val_accuracy: 0.1757 - 34s/epoch - 35ms/step\n",
      "Epoch 11/20\n",
      "968/968 - 34s - loss: 0.7665 - accuracy: 0.6234 - val_loss: 4.6713 - val_accuracy: 0.1478 - 34s/epoch - 35ms/step\n",
      "Epoch 12/20\n",
      "968/968 - 34s - loss: 0.7067 - accuracy: 0.6487 - val_loss: 4.1848 - val_accuracy: 0.1494 - 34s/epoch - 35ms/step\n",
      "Epoch 13/20\n",
      "968/968 - 34s - loss: 0.6630 - accuracy: 0.6663 - val_loss: 5.1154 - val_accuracy: 0.1597 - 34s/epoch - 35ms/step\n",
      "Epoch 14/20\n",
      "968/968 - 34s - loss: 0.6590 - accuracy: 0.6702 - val_loss: 5.0735 - val_accuracy: 0.1602 - 34s/epoch - 35ms/step\n",
      "Epoch 15/20\n",
      "968/968 - 34s - loss: 0.5926 - accuracy: 0.6983 - val_loss: 4.6576 - val_accuracy: 0.1767 - 34s/epoch - 35ms/step\n",
      "Epoch 16/20\n",
      "968/968 - 34s - loss: 0.5802 - accuracy: 0.7041 - val_loss: 4.7971 - val_accuracy: 0.2010 - 34s/epoch - 35ms/step\n",
      "Epoch 17/20\n",
      "968/968 - 34s - loss: 0.5437 - accuracy: 0.7186 - val_loss: 4.8038 - val_accuracy: 0.1499 - 34s/epoch - 35ms/step\n",
      "Epoch 18/20\n",
      "968/968 - 34s - loss: 0.5097 - accuracy: 0.7314 - val_loss: 5.4238 - val_accuracy: 0.1995 - 34s/epoch - 35ms/step\n",
      "Epoch 19/20\n",
      "968/968 - 34s - loss: 0.4762 - accuracy: 0.7504 - val_loss: 5.7675 - val_accuracy: 0.1850 - 34s/epoch - 35ms/step\n",
      "Epoch 20/20\n",
      "968/968 - 34s - loss: 0.4734 - accuracy: 0.7559 - val_loss: 5.3758 - val_accuracy: 0.2088 - 34s/epoch - 35ms/step\n"
     ]
    },
    {
     "name": "stderr",
     "output_type": "stream",
     "text": [
      "2024-02-23 17:05:13.944987: I tensorflow/core/grappler/optimizers/custom_graph_optimizer_registry.cc:114] Plugin optimizer for device_type GPU is enabled.\n",
      "/Users/alanchen/.local/share/virtualenvs/research-face-excercises-dynamics-o_HFBNSW/lib/python3.8/site-packages/sklearn/metrics/_classification.py:1471: UndefinedMetricWarning: Recall and F-score are ill-defined and being set to 0.0 in labels with no true samples. Use `zero_division` parameter to control this behavior.\n",
      "  _warn_prf(average, modifier, msg_start, len(result))\n",
      "/Users/alanchen/.local/share/virtualenvs/research-face-excercises-dynamics-o_HFBNSW/lib/python3.8/site-packages/sklearn/metrics/_classification.py:1471: UndefinedMetricWarning: Recall and F-score are ill-defined and being set to 0.0 in labels with no true samples. Use `zero_division` parameter to control this behavior.\n",
      "  _warn_prf(average, modifier, msg_start, len(result))\n",
      "/Users/alanchen/.local/share/virtualenvs/research-face-excercises-dynamics-o_HFBNSW/lib/python3.8/site-packages/sklearn/metrics/_classification.py:1471: UndefinedMetricWarning: Recall and F-score are ill-defined and being set to 0.0 in labels with no true samples. Use `zero_division` parameter to control this behavior.\n",
      "  _warn_prf(average, modifier, msg_start, len(result))\n"
     ]
    },
    {
     "name": "stdout",
     "output_type": "stream",
     "text": [
      "              precision    recall  f1-score   support\n",
      "\n",
      "           0       0.50      0.33      0.40      1328\n",
      "           1       0.18      0.19      0.19       415\n",
      "           2       0.23      0.31      0.26       421\n",
      "           3       0.00      0.00      0.00         0\n",
      "           4       0.00      0.00      0.00        45\n",
      "           5       0.08      0.12      0.10       210\n",
      "\n",
      "    accuracy                           0.28      2419\n",
      "   macro avg       0.17      0.16      0.16      2419\n",
      "weighted avg       0.35      0.28      0.31      2419\n",
      "\n",
      "{0: 0.40249609984399376, 1: 1.167420814479638, 2: 1.1168831168831168, 3: 2.8043478260869565, 4: 2.2051282051282053, 5: 1.048780487804878}\n",
      "Epoch 1/20\n"
     ]
    },
    {
     "name": "stderr",
     "output_type": "stream",
     "text": [
      "2024-02-23 17:05:21.979641: I tensorflow/core/grappler/optimizers/custom_graph_optimizer_registry.cc:114] Plugin optimizer for device_type GPU is enabled.\n",
      "2024-02-23 17:05:55.042151: I tensorflow/core/grappler/optimizers/custom_graph_optimizer_registry.cc:114] Plugin optimizer for device_type GPU is enabled.\n"
     ]
    },
    {
     "name": "stdout",
     "output_type": "stream",
     "text": [
      "968/968 - 40s - loss: 1.7677 - accuracy: 0.2152 - val_loss: 1.7861 - val_accuracy: 0.2222 - 40s/epoch - 41ms/step\n",
      "Epoch 2/20\n",
      "968/968 - 35s - loss: 1.7050 - accuracy: 0.2205 - val_loss: 1.7635 - val_accuracy: 0.1576 - 35s/epoch - 36ms/step\n",
      "Epoch 3/20\n",
      "968/968 - 35s - loss: 1.6314 - accuracy: 0.2922 - val_loss: 1.6241 - val_accuracy: 0.3509 - 35s/epoch - 36ms/step\n",
      "Epoch 4/20\n",
      "968/968 - 35s - loss: 1.5221 - accuracy: 0.3236 - val_loss: 2.0738 - val_accuracy: 0.1525 - 35s/epoch - 36ms/step\n",
      "Epoch 5/20\n",
      "968/968 - 35s - loss: 1.4311 - accuracy: 0.3360 - val_loss: 1.7140 - val_accuracy: 0.2258 - 35s/epoch - 37ms/step\n",
      "Epoch 6/20\n",
      "968/968 - 36s - loss: 1.3935 - accuracy: 0.3444 - val_loss: 1.9119 - val_accuracy: 0.1804 - 36s/epoch - 37ms/step\n",
      "Epoch 7/20\n",
      "968/968 - 36s - loss: 1.3120 - accuracy: 0.3699 - val_loss: 1.9756 - val_accuracy: 0.1778 - 36s/epoch - 37ms/step\n",
      "Epoch 8/20\n",
      "968/968 - 35s - loss: 1.2799 - accuracy: 0.3791 - val_loss: 1.8152 - val_accuracy: 0.1969 - 35s/epoch - 36ms/step\n",
      "Epoch 9/20\n",
      "968/968 - 35s - loss: 1.2478 - accuracy: 0.3953 - val_loss: 2.0892 - val_accuracy: 0.2351 - 35s/epoch - 37ms/step\n",
      "Epoch 10/20\n",
      "968/968 - 36s - loss: 1.2423 - accuracy: 0.4058 - val_loss: 1.9325 - val_accuracy: 0.2150 - 36s/epoch - 37ms/step\n",
      "Epoch 11/20\n",
      "968/968 - 35s - loss: 1.1683 - accuracy: 0.4326 - val_loss: 1.9886 - val_accuracy: 0.2661 - 35s/epoch - 37ms/step\n",
      "Epoch 12/20\n",
      "968/968 - 36s - loss: 1.1506 - accuracy: 0.4391 - val_loss: 1.9554 - val_accuracy: 0.2630 - 36s/epoch - 37ms/step\n",
      "Epoch 13/20\n",
      "968/968 - 36s - loss: 1.1663 - accuracy: 0.4323 - val_loss: 2.1497 - val_accuracy: 0.2465 - 36s/epoch - 37ms/step\n",
      "Epoch 14/20\n",
      "968/968 - 36s - loss: 1.1239 - accuracy: 0.4479 - val_loss: 2.2677 - val_accuracy: 0.2372 - 36s/epoch - 37ms/step\n",
      "Epoch 15/20\n",
      "968/968 - 36s - loss: 1.1003 - accuracy: 0.4593 - val_loss: 2.0012 - val_accuracy: 0.2734 - 36s/epoch - 37ms/step\n",
      "Epoch 16/20\n",
      "968/968 - 36s - loss: 1.0986 - accuracy: 0.4598 - val_loss: 2.2052 - val_accuracy: 0.2935 - 36s/epoch - 37ms/step\n",
      "Epoch 17/20\n",
      "968/968 - 36s - loss: 1.0853 - accuracy: 0.4612 - val_loss: 1.9520 - val_accuracy: 0.2300 - 36s/epoch - 37ms/step\n",
      "Epoch 18/20\n",
      "968/968 - 36s - loss: 1.0653 - accuracy: 0.4769 - val_loss: 2.0215 - val_accuracy: 0.2026 - 36s/epoch - 37ms/step\n",
      "Epoch 19/20\n",
      "968/968 - 36s - loss: 1.0660 - accuracy: 0.4743 - val_loss: 2.2458 - val_accuracy: 0.2496 - 36s/epoch - 37ms/step\n",
      "Epoch 20/20\n",
      "968/968 - 36s - loss: 1.0376 - accuracy: 0.4886 - val_loss: 2.2302 - val_accuracy: 0.2558 - 36s/epoch - 37ms/step\n"
     ]
    },
    {
     "name": "stderr",
     "output_type": "stream",
     "text": [
      "2024-02-23 17:17:17.784575: I tensorflow/core/grappler/optimizers/custom_graph_optimizer_registry.cc:114] Plugin optimizer for device_type GPU is enabled.\n"
     ]
    },
    {
     "name": "stdout",
     "output_type": "stream",
     "text": [
      "              precision    recall  f1-score   support\n",
      "\n",
      "           0       0.45      0.18      0.26      1210\n",
      "           1       0.11      0.40      0.17       290\n",
      "           2       0.09      0.08      0.08       389\n",
      "           3       0.12      0.07      0.09       305\n",
      "           4       0.00      0.00      0.00        90\n",
      "           5       0.06      0.10      0.07       135\n",
      "\n",
      "    accuracy                           0.17      2419\n",
      "   macro avg       0.14      0.14      0.11      2419\n",
      "weighted avg       0.27      0.17      0.18      2419\n",
      "\n"
     ]
    },
    {
     "data": {
      "image/png": "[encoded data removed]",
      "text/plain": [
       "<Figure size 200x200 with 1 Axes>"
      ]
     },
     "metadata": {},
     "output_type": "display_data"
    },
    {
     "data": {
      "image/png": "[encoded data removed]",
      "text/plain": [
       "<Figure size 200x200 with 1 Axes>"
      ]
     },
     "metadata": {},
     "output_type": "display_data"
    },
    {
     "data": {
      "image/png": "[encoded data removed]",
      "text/plain": [
       "<Figure size 200x200 with 1 Axes>"
      ]
     },
     "metadata": {},
     "output_type": "display_data"
    },
    {
     "data": {
      "image/png": "[encoded data removed]",
      "text/plain": [
       "<Figure size 200x200 with 1 Axes>"
      ]
     },
     "metadata": {},
     "output_type": "display_data"
    },
    {
     "data": {
      "image/png": "[encoded data removed]",
      "text/plain": [
       "<Figure size 200x200 with 1 Axes>"
      ]
     },
     "metadata": {},
     "output_type": "display_data"
    }
   ],
   "source": [
    "indxs = get_k_indx(k, len(ys))\n",
    "models = []\n",
    "\n",
    "for i in range(k_limit):\n",
    "    train_indx, val_indx, test_indx  = indxs[i]\n",
    "    \n",
    "    xs_global_i = xs_global[train_indx]\n",
    "    xs_global_i_val = xs_global[val_indx]\n",
    "    xs_global_i_test = xs_global[test_indx]\n",
    "    \n",
    "    xs_upper_i = xs_upper[train_indx]\n",
    "    xs_upper_i_val = xs_upper[val_indx]\n",
    "    xs_upper_i_test = xs_upper[test_indx]\n",
    "    \n",
    "    xs_lower_i = xs_lower[train_indx]\n",
    "    xs_lower_i_val = xs_lower[val_indx]\n",
    "    xs_lower_i_test = xs_lower[test_indx]\n",
    "    \n",
    "    ys_i = ys[train_indx]\n",
    "    ys_i_val = ys[val_indx]\n",
    "    ys_i_test = ys[test_indx]\n",
    "    \n",
    "    \n",
    "    class_weights = class_weight.compute_class_weight(class_weight='balanced',\n",
    "                                                 classes = np.unique(ys_i),\n",
    "                                                 y=ys_i)\n",
    "    available_classes = np.unique(ys_i)\n",
    "    weight_training_classes = {\n",
    "        0: 0,\n",
    "        1: 0,\n",
    "        2: 0,\n",
    "        3: 0,\n",
    "        4: 0,\n",
    "        5: 0,\n",
    "    }\n",
    "    \n",
    "    for indx, value in enumerate(class_weights):\n",
    "        weight_training_classes[available_classes[indx]] = value\n",
    "\n",
    "    print(weight_training_classes)\n",
    "\n",
    "    model = get_model()\n",
    "\n",
    "    model_callbacks = [\n",
    "        tf.keras.callbacks.EarlyStopping(patience=20)\n",
    "    ]\n",
    "    \n",
    "    hist = model.fit(\n",
    "        x=[\n",
    "            xs_global_i, \n",
    "            xs_upper_i,\n",
    "            xs_lower_i], y=ys_i, \n",
    "        validation_data=([\n",
    "            xs_global_i_val,\n",
    "            xs_upper_i_val,\n",
    "            xs_lower_i_val], ys_i_val),\n",
    "        batch_size=BATCH_SIZE, \n",
    "        epochs=EPOCHS,\n",
    "        class_weight=weight_training_classes,\n",
    "        #callbacks=model_callbacks,\n",
    "        verbose=VERBOSE)\n",
    "    \n",
    "    models.append(model)\n",
    "    \n",
    "    # visualizing losses and accuracy\n",
    "    train_loss = hist.history['loss']\n",
    "    val_loss   = hist.history['val_loss']\n",
    "    train_acc  = hist.history['accuracy']\n",
    "    val_acc    = hist.history['val_accuracy']\n",
    "    xc         = range(len(hist.history['loss']))    \n",
    "    \n",
    "    plt.figure()\n",
    "    plt.title(f'Run {i}')\n",
    "    plt.plot(xc, train_loss, color='red')\n",
    "    plt.plot(xc, val_loss, color='pink')\n",
    "    plt.plot(xc, train_acc, color='blue')\n",
    "    plt.plot(xc, val_acc, color='cyan')\n",
    "    \n",
    "    y_pred = model.predict([\n",
    "        xs_global_i_test,\n",
    "        xs_upper_i_test,\n",
    "        xs_lower_i_test],verbose=0)\n",
    "    y_pred_bool = np.argmax(y_pred, axis=1)\n",
    "\n",
    "    print(classification_report(ys_i_test, y_pred_bool))"
   ]
  },
  {
   "cell_type": "markdown",
   "id": "ca9e0ddd",
   "metadata": {
    "scrolled": true
   },
   "source": [
    "# Model Serialization "
   ]
  },
  {
   "cell_type": "code",
   "execution_count": 25,
   "id": "7a54ee16",
   "metadata": {},
   "outputs": [],
   "source": [
    "serialize = False\n",
    "best_model = 2"
   ]
  },
  {
   "cell_type": "code",
   "execution_count": 26,
   "id": "daa64468",
   "metadata": {},
   "outputs": [],
   "source": [
    "dir_models = os.path.join(dir_root, 'models')\n",
    "dir_model = os.path.join(dir_models, 'type4-with-fe_no-aug_005')"
   ]
  },
  {
   "cell_type": "code",
   "execution_count": 27,
   "id": "e7ba5cdb",
   "metadata": {},
   "outputs": [],
   "source": [
    "if serialize:\n",
    "    model = models[best_model]\n",
    "    model.save(dir_model)"
   ]
  },
  {
   "cell_type": "code",
   "execution_count": null,
   "id": "b65e7a0a",
   "metadata": {},
   "outputs": [],
   "source": []
  },
  {
   "cell_type": "code",
   "execution_count": null,
   "id": "b9089e36",
   "metadata": {},
   "outputs": [],
   "source": []
  },
  {
   "cell_type": "code",
   "execution_count": null,
   "id": "053cdfbd",
   "metadata": {},
   "outputs": [],
   "source": []
  },
  {
   "cell_type": "code",
   "execution_count": null,
   "id": "6cb74841",
   "metadata": {},
   "outputs": [],
   "source": []
  },
  {
   "cell_type": "code",
   "execution_count": null,
   "id": "f9f45c88",
   "metadata": {},
   "outputs": [],
   "source": []
  },
  {
   "cell_type": "code",
   "execution_count": null,
   "id": "cc5d9855",
   "metadata": {},
   "outputs": [],
   "source": []
  }
 ],
 "metadata": {
  "kernelspec": {
   "display_name": "face-prognosis",
   "language": "python",
   "name": "face-prognosis"
  },
  "language_info": {
   "codemirror_mode": {
    "name": "ipython",
    "version": 3
   },
   "file_extension": ".py",
   "mimetype": "text/x-python",
   "name": "python",
   "nbconvert_exporter": "python",
   "pygments_lexer": "ipython3",
   "version": "3.8.13"
  }
 },
 "nbformat": 4,
 "nbformat_minor": 5
}
