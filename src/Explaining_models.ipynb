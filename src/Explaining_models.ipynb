{
 "cells": [
  {
   "cell_type": "markdown",
   "id": "c3ffceac",
   "metadata": {},
   "source": [
    "# Notes"
   ]
  },
  {
   "cell_type": "markdown",
   "id": "941fce85",
   "metadata": {},
   "source": [
    "TODO"
   ]
  },
  {
   "cell_type": "code",
   "execution_count": 12,
   "id": "2167fbdb",
   "metadata": {},
   "outputs": [],
   "source": [
    "import os \n",
    "import re\n",
    "import csv\n",
    "import json\n",
    "import math\n",
    "from itertools import chain\n",
    "from datetime import datetime\n",
    "\n",
    "import pandas as pd\n",
    "import numpy as np\n",
    "import tensorflow as tf\n",
    "\n",
    "from tensorflow.keras.preprocessing.sequence import pad_sequences\n",
    "from sklearn.metrics import classification_report\n",
    "\n",
    "import tsaug\n",
    "from tsaug.visualization import plot\n",
    "import matplotlib.pyplot as plt\n",
    "plt.style.use('_mpl-gallery')\n",
    "\n",
    "import tsaug\n",
    "from tsaug.visualization import plot"
   ]
  },
  {
   "cell_type": "markdown",
   "id": "e8c2277c",
   "metadata": {},
   "source": [
    "# Constants"
   ]
  },
  {
   "cell_type": "code",
   "execution_count": 13,
   "id": "bb75db30",
   "metadata": {},
   "outputs": [],
   "source": [
    "SEQ_MAX_LEN = 600\n",
    "NUM_CLASSES = 6\n",
    "NUM_EXERCISES = 9\n",
    "NUM_FLAG_BS = 2"
   ]
  },
  {
   "cell_type": "code",
   "execution_count": 14,
   "id": "eed45b66",
   "metadata": {},
   "outputs": [],
   "source": [
    "dir_root = os.path.join('..')\n",
    "dir_data_root = os.path.join(dir_root, 'data')\n",
    "dir_exercises = os.path.join(dir_data_root, 'json', 'patients')\n",
    "dir_exercises_augmented = os.path.join(dir_data_root, 'json', 'patients_augmented')\n",
    "dir_exercises_test = os.path.join(dir_data_root, 'json', 'test')"
   ]
  },
  {
   "cell_type": "code",
   "execution_count": 15,
   "id": "21923f87",
   "metadata": {},
   "outputs": [],
   "source": [
    "dir_models = os.path.join(dir_root, 'models')\n",
    "dir_model = os.path.join(dir_models, 'type4-with-fe_no-aug_002')"
   ]
  },
  {
   "cell_type": "markdown",
   "id": "c31b1f59-2f0c-4c7d-af68-66dcd9f798b0",
   "metadata": {},
   "source": [
    "# Data prep"
   ]
  },
  {
   "cell_type": "markdown",
   "id": "21fee395-2a63-48d9-9c5b-0aee1b44928b",
   "metadata": {},
   "source": [
    "### Build training set"
   ]
  },
  {
   "cell_type": "code",
   "execution_count": 16,
   "id": "09090fb3-696a-4fcb-8fbb-27aa9bcc9847",
   "metadata": {},
   "outputs": [],
   "source": [
    "from utils.input import setup, exercise_to_input"
   ]
  },
  {
   "cell_type": "code",
   "execution_count": 17,
   "id": "69bbd9ff-f965-49c7-a2ec-af06f586a87b",
   "metadata": {},
   "outputs": [
    {
     "data": {
      "text/plain": [
       "{'ROOT_PATH': '..',\n",
       " 'ALL_REGIONS': ['frontal', 'orbital', 'oral'],\n",
       " 'REGIONS': {'LefteyeMidbottom': 'orbital',\n",
       "  'LefteyeMidtop': 'orbital',\n",
       "  'LefteyeInnercorner': 'orbital',\n",
       "  'LefteyeOutercorner': 'orbital',\n",
       "  'LefteyebrowInner': 'frontal',\n",
       "  'LefteyebrowCenter': 'frontal',\n",
       "  'RighteyeMidbottom': 'orbital',\n",
       "  'RighteyeMidtop': 'orbital',\n",
       "  'RighteyeInnercorner': 'orbital',\n",
       "  'RighteyeOutercorner': 'orbital',\n",
       "  'RighteyebrowInner': 'frontal',\n",
       "  'RighteyebrowCenter': 'frontal',\n",
       "  'NoseTip': 'frontal',\n",
       "  'MouthLowerlipMidbottom': 'oral',\n",
       "  'MouthLeftcorner': 'oral',\n",
       "  'MouthRightcorner': 'oral',\n",
       "  'MouthUpperlipMidtop': 'oral',\n",
       "  'ChinCenter': 'oral',\n",
       "  'ForeheadCenter': 'frontal',\n",
       "  'LeftcheekCenter': 'oral',\n",
       "  'RightcheekCenter': 'oral'},\n",
       " 'BASES': {'LefteyeMidbottom': 'ForeheadCenter',\n",
       "  'LefteyeMidtop': 'ForeheadCenter',\n",
       "  'LefteyeInnercorner': 'ForeheadCenter',\n",
       "  'LefteyeOutercorner': 'ForeheadCenter',\n",
       "  'LefteyebrowInner': 'ForeheadCenter',\n",
       "  'LefteyebrowCenter': 'ForeheadCenter',\n",
       "  'RighteyeMidbottom': 'ForeheadCenter',\n",
       "  'RighteyeMidtop': 'ForeheadCenter',\n",
       "  'RighteyeInnercorner': 'ForeheadCenter',\n",
       "  'RighteyeOutercorner': 'ForeheadCenter',\n",
       "  'RighteyebrowInner': 'ForeheadCenter',\n",
       "  'RighteyebrowCenter': 'ForeheadCenter',\n",
       "  'NoseTip': 'ForeheadCenter',\n",
       "  'MouthLowerlipMidbottom': 'ForeheadCenter',\n",
       "  'MouthLeftcorner': 'ForeheadCenter',\n",
       "  'MouthRightcorner': 'ForeheadCenter',\n",
       "  'MouthUpperlipMidtop': 'ForeheadCenter',\n",
       "  'ChinCenter': 'ForeheadCenter',\n",
       "  'ForeheadCenter': 'ForeheadCenter',\n",
       "  'LeftcheekCenter': 'ForeheadCenter',\n",
       "  'RightcheekCenter': 'ForeheadCenter'},\n",
       " 'SIDES': {'left': ['LefteyeMidbottom',\n",
       "   'LefteyeMidtop',\n",
       "   'LefteyeInnercorner',\n",
       "   'LefteyeOutercorner',\n",
       "   'LefteyebrowInner',\n",
       "   'LefteyebrowCenter',\n",
       "   'MouthLeftcorner',\n",
       "   'LeftcheekCenter'],\n",
       "  'right': ['RighteyeMidbottom',\n",
       "   'RighteyeMidtop',\n",
       "   'RighteyeInnercorner',\n",
       "   'RighteyeOutercorner',\n",
       "   'RighteyebrowInner',\n",
       "   'RighteyebrowCenter',\n",
       "   'MouthRightcorner',\n",
       "   'RightcheekCenter']},\n",
       " 'SYMETRY': {'LefteyeMidbottom': 'RighteyeMidbottom',\n",
       "  'LefteyeMidtop': 'RighteyeMidtop',\n",
       "  'LefteyeInnercorner': 'RighteyeInnercorner',\n",
       "  'LefteyeOutercorner': 'RighteyeOutercorner',\n",
       "  'LefteyebrowInner': 'RighteyebrowInner',\n",
       "  'LefteyebrowCenter': 'RighteyebrowCenter',\n",
       "  'RighteyeMidbottom': 'None',\n",
       "  'RighteyeMidtop': 'None',\n",
       "  'RighteyeInnercorner': 'None',\n",
       "  'RighteyeOutercorner': 'None',\n",
       "  'RighteyebrowInner': 'None',\n",
       "  'RighteyebrowCenter': 'None',\n",
       "  'NoseTip': 'None',\n",
       "  'MouthLowerlipMidbottom': 'None',\n",
       "  'MouthLeftcorner': 'MouthRightcorner',\n",
       "  'MouthRightcorner': 'None',\n",
       "  'MouthUpperlipMidtop': 'None',\n",
       "  'ChinCenter': 'None',\n",
       "  'ForeheadCenter': 'None',\n",
       "  'LeftcheekCenter': 'RightcheekCenter',\n",
       "  'RightcheekCenter': 'None'},\n",
       " 'SEQ_MAX_LEN': 600,\n",
       " 'NUM_EXERCISES': 9,\n",
       " 'NUM_FLAG_BS': 2}"
      ]
     },
     "execution_count": 17,
     "metadata": {},
     "output_type": "execute_result"
    }
   ],
   "source": [
    "setup(os.path.join('..'), SEQ_MAX_LEN, NUM_EXERCISES, NUM_FLAG_BS)"
   ]
  },
  {
   "cell_type": "code",
   "execution_count": 18,
   "id": "d759fcc1-8e61-430f-9544-1365eccc9f62",
   "metadata": {},
   "outputs": [],
   "source": [
    "exercises_sources = [\n",
    "    dir_exercises_test\n",
    "    #dir_exercises,\n",
    "    #dir_exercises_augmented\n",
    "]"
   ]
  },
  {
   "cell_type": "code",
   "execution_count": 22,
   "id": "e6ea426c-2b1b-42bf-b733-e059232c2da0",
   "metadata": {},
   "outputs": [],
   "source": [
    "feature_engineering_setting = {\n",
    "    'coordinates': True,\n",
    "    'normalize_by_start': False,\n",
    "    'normalize': False,\n",
    "    'direction': False,\n",
    "    'distance': False,\n",
    "    'symetry_diference': False,\n",
    "    're_base': True,\n",
    "    'transformation_to_rebase': False,\n",
    "    'extended_meta': True,\n",
    "}"
   ]
  },
  {
   "cell_type": "code",
   "execution_count": 23,
   "id": "87bb3145-2342-4900-a361-9796ff6ae849",
   "metadata": {},
   "outputs": [
    {
     "name": "stdout",
     "output_type": "stream",
     "text": [
      "Overall number of examples: 39\n",
      "Overall number of training examples: 25\n",
      "Overall number of validation examples: 7\n",
      "Overall number of testing examples: 7\n"
     ]
    }
   ],
   "source": [
    "count = 0\n",
    "for exercise_source in exercises_sources:\n",
    "    for file_name in os.listdir(exercise_source):\n",
    "        count += 1\n",
    "\n",
    "test = int(count*0.2)\n",
    "training_all = count - test\n",
    "training = int(training_all*0.8)\n",
    "validation = training_all - training\n",
    "print(f'Overall number of examples: {count}')\n",
    "print(f'Overall number of training examples: {training}')\n",
    "print(f'Overall number of validation examples: {validation}')\n",
    "print(f'Overall number of testing examples: {test}')"
   ]
  },
  {
   "cell_type": "code",
   "execution_count": 24,
   "id": "e2a857e4-4a61-4b03-af84-9a93015ca9ef",
   "metadata": {},
   "outputs": [
    {
     "name": "stdout",
     "output_type": "stream",
     "text": [
      "(39,)\n",
      "(39, 52)\n",
      "(39, 126, 600)\n",
      "(39, 36, 600)\n",
      "(39, 42, 600)\n",
      "(39, 48, 600)\n"
     ]
    }
   ],
   "source": [
    "xslist_meta = list()\n",
    "xslist_global = list()\n",
    "xslist_frontal = list()\n",
    "xslist_oral = list()\n",
    "xslist_orbital = list()\n",
    "yslist = list()\n",
    "\n",
    "for exercise_source in exercises_sources:\n",
    "    for file_name in os.listdir(exercise_source):\n",
    "        file_path = os.path.join(exercise_source, file_name)\n",
    "\n",
    "        if file_name == '.DS_Store': continue\n",
    "            \n",
    "        data = json.load(open(file_path, 'r'))\n",
    "\n",
    "        _xs_meta, _xs_global, _xs_frontal, _xs_oral, _xs_orbital, _ys = exercise_to_input(file_path, feature_engineering_setting)\n",
    "\n",
    "        yslist.append(_ys)\n",
    "        xslist_meta.append(_xs_meta)  \n",
    "        xslist_global.append(_xs_global)\n",
    "        xslist_frontal.append(_xs_frontal)\n",
    "        xslist_oral.append(_xs_oral)\n",
    "        xslist_orbital.append(_xs_orbital)\n",
    "            \n",
    "ys = np.array(yslist, dtype='int')\n",
    "xs_meta = np.array(xslist_meta, dtype='float32')   \n",
    "xs_global = np.array(xslist_global, dtype='float32') \n",
    "xs_frontal = np.array(xslist_frontal, dtype='float32') \n",
    "xs_oral = np.array(xslist_oral, dtype='float32') \n",
    "xs_orbital = np.array(xslist_orbital, dtype='float32') \n",
    "\n",
    "print(ys.shape)\n",
    "print(xs_meta.shape)\n",
    "print(xs_global.shape)\n",
    "print(xs_frontal.shape)\n",
    "print(xs_oral.shape)\n",
    "print(xs_orbital.shape)"
   ]
  },
  {
   "cell_type": "markdown",
   "id": "ca9e0ddd",
   "metadata": {
    "scrolled": true
   },
   "source": [
    "# Analysis"
   ]
  },
  {
   "cell_type": "markdown",
   "id": "b4fb7889",
   "metadata": {},
   "source": [
    "## Load Model"
   ]
  },
  {
   "cell_type": "code",
   "execution_count": 25,
   "id": "e7ba5cdb",
   "metadata": {
    "scrolled": true
   },
   "outputs": [],
   "source": [
    "model = tf.keras.models.load_model(dir_model)"
   ]
  },
  {
   "cell_type": "code",
   "execution_count": 26,
   "id": "f0afaa33",
   "metadata": {},
   "outputs": [
    {
     "name": "stdout",
     "output_type": "stream",
     "text": [
      "Model: \"model_53\"\n",
      "__________________________________________________________________________________________________\n",
      " Layer (type)                   Output Shape         Param #     Connected to                     \n",
      "==================================================================================================\n",
      " input_42 (InputLayer)          [(None, 126, 600)]   0           []                               \n",
      "                                                                                                  \n",
      " input_43 (InputLayer)          [(None, 36, 600)]    0           []                               \n",
      "                                                                                                  \n",
      " input_44 (InputLayer)          [(None, 42, 600)]    0           []                               \n",
      "                                                                                                  \n",
      " input_45 (InputLayer)          [(None, 48, 600)]    0           []                               \n",
      "                                                                                                  \n",
      " conv1d_128 (Conv1D)            (None, 126, 16)      28816       ['input_42[0][0]']               \n",
      "                                                                                                  \n",
      " conv1d_132 (Conv1D)            (None, 36, 16)       28816       ['input_43[0][0]']               \n",
      "                                                                                                  \n",
      " conv1d_136 (Conv1D)            (None, 42, 16)       28816       ['input_44[0][0]']               \n",
      "                                                                                                  \n",
      " conv1d_140 (Conv1D)            (None, 48, 16)       28816       ['input_45[0][0]']               \n",
      "                                                                                                  \n",
      " batch_normalization_128 (Batch  (None, 126, 16)     64          ['conv1d_128[0][0]']             \n",
      " Normalization)                                                                                   \n",
      "                                                                                                  \n",
      " batch_normalization_132 (Batch  (None, 36, 16)      64          ['conv1d_132[0][0]']             \n",
      " Normalization)                                                                                   \n",
      "                                                                                                  \n",
      " batch_normalization_136 (Batch  (None, 42, 16)      64          ['conv1d_136[0][0]']             \n",
      " Normalization)                                                                                   \n",
      "                                                                                                  \n",
      " batch_normalization_140 (Batch  (None, 48, 16)      64          ['conv1d_140[0][0]']             \n",
      " Normalization)                                                                                   \n",
      "                                                                                                  \n",
      " max_pooling1d_128 (MaxPooling1  (None, 63, 16)      0           ['batch_normalization_128[0][0]']\n",
      " D)                                                                                               \n",
      "                                                                                                  \n",
      " max_pooling1d_132 (MaxPooling1  (None, 18, 16)      0           ['batch_normalization_132[0][0]']\n",
      " D)                                                                                               \n",
      "                                                                                                  \n",
      " max_pooling1d_136 (MaxPooling1  (None, 21, 16)      0           ['batch_normalization_136[0][0]']\n",
      " D)                                                                                               \n",
      "                                                                                                  \n",
      " max_pooling1d_140 (MaxPooling1  (None, 24, 16)      0           ['batch_normalization_140[0][0]']\n",
      " D)                                                                                               \n",
      "                                                                                                  \n",
      " conv1d_129 (Conv1D)            (None, 63, 32)       1568        ['max_pooling1d_128[0][0]']      \n",
      "                                                                                                  \n",
      " conv1d_133 (Conv1D)            (None, 18, 32)       1568        ['max_pooling1d_132[0][0]']      \n",
      "                                                                                                  \n",
      " conv1d_137 (Conv1D)            (None, 21, 32)       1568        ['max_pooling1d_136[0][0]']      \n",
      "                                                                                                  \n",
      " conv1d_141 (Conv1D)            (None, 24, 32)       1568        ['max_pooling1d_140[0][0]']      \n",
      "                                                                                                  \n",
      " batch_normalization_129 (Batch  (None, 63, 32)      128         ['conv1d_129[0][0]']             \n",
      " Normalization)                                                                                   \n",
      "                                                                                                  \n",
      " batch_normalization_133 (Batch  (None, 18, 32)      128         ['conv1d_133[0][0]']             \n",
      " Normalization)                                                                                   \n",
      "                                                                                                  \n",
      " batch_normalization_137 (Batch  (None, 21, 32)      128         ['conv1d_137[0][0]']             \n",
      " Normalization)                                                                                   \n",
      "                                                                                                  \n",
      " batch_normalization_141 (Batch  (None, 24, 32)      128         ['conv1d_141[0][0]']             \n",
      " Normalization)                                                                                   \n",
      "                                                                                                  \n",
      " max_pooling1d_129 (MaxPooling1  (None, 31, 32)      0           ['batch_normalization_129[0][0]']\n",
      " D)                                                                                               \n",
      "                                                                                                  \n",
      " max_pooling1d_133 (MaxPooling1  (None, 9, 32)       0           ['batch_normalization_133[0][0]']\n",
      " D)                                                                                               \n",
      "                                                                                                  \n",
      " max_pooling1d_137 (MaxPooling1  (None, 10, 32)      0           ['batch_normalization_137[0][0]']\n",
      " D)                                                                                               \n",
      "                                                                                                  \n",
      " max_pooling1d_141 (MaxPooling1  (None, 12, 32)      0           ['batch_normalization_141[0][0]']\n",
      " D)                                                                                               \n",
      "                                                                                                  \n",
      " conv1d_130 (Conv1D)            (None, 31, 64)       6208        ['max_pooling1d_129[0][0]']      \n",
      "                                                                                                  \n",
      " conv1d_134 (Conv1D)            (None, 9, 64)        6208        ['max_pooling1d_133[0][0]']      \n",
      "                                                                                                  \n",
      " conv1d_138 (Conv1D)            (None, 10, 64)       6208        ['max_pooling1d_137[0][0]']      \n",
      "                                                                                                  \n",
      " conv1d_142 (Conv1D)            (None, 12, 64)       6208        ['max_pooling1d_141[0][0]']      \n",
      "                                                                                                  \n",
      " batch_normalization_130 (Batch  (None, 31, 64)      256         ['conv1d_130[0][0]']             \n",
      " Normalization)                                                                                   \n",
      "                                                                                                  \n",
      " batch_normalization_134 (Batch  (None, 9, 64)       256         ['conv1d_134[0][0]']             \n",
      " Normalization)                                                                                   \n",
      "                                                                                                  \n",
      " batch_normalization_138 (Batch  (None, 10, 64)      256         ['conv1d_138[0][0]']             \n",
      " Normalization)                                                                                   \n",
      "                                                                                                  \n",
      " batch_normalization_142 (Batch  (None, 12, 64)      256         ['conv1d_142[0][0]']             \n",
      " Normalization)                                                                                   \n",
      "                                                                                                  \n",
      " max_pooling1d_130 (MaxPooling1  (None, 15, 64)      0           ['batch_normalization_130[0][0]']\n",
      " D)                                                                                               \n",
      "                                                                                                  \n",
      " max_pooling1d_134 (MaxPooling1  (None, 4, 64)       0           ['batch_normalization_134[0][0]']\n",
      " D)                                                                                               \n",
      "                                                                                                  \n",
      " max_pooling1d_138 (MaxPooling1  (None, 5, 64)       0           ['batch_normalization_138[0][0]']\n",
      " D)                                                                                               \n",
      "                                                                                                  \n",
      " max_pooling1d_142 (MaxPooling1  (None, 6, 64)       0           ['batch_normalization_142[0][0]']\n",
      " D)                                                                                               \n",
      "                                                                                                  \n",
      " conv1d_131 (Conv1D)            (None, 15, 64)       12352       ['max_pooling1d_130[0][0]']      \n",
      "                                                                                                  \n",
      " conv1d_135 (Conv1D)            (None, 4, 64)        12352       ['max_pooling1d_134[0][0]']      \n",
      "                                                                                                  \n",
      " conv1d_139 (Conv1D)            (None, 5, 64)        12352       ['max_pooling1d_138[0][0]']      \n",
      "                                                                                                  \n",
      " conv1d_143 (Conv1D)            (None, 6, 64)        12352       ['max_pooling1d_142[0][0]']      \n",
      "                                                                                                  \n",
      " batch_normalization_131 (Batch  (None, 15, 64)      256         ['conv1d_131[0][0]']             \n",
      " Normalization)                                                                                   \n",
      "                                                                                                  \n",
      " batch_normalization_135 (Batch  (None, 4, 64)       256         ['conv1d_135[0][0]']             \n",
      " Normalization)                                                                                   \n",
      "                                                                                                  \n",
      " batch_normalization_139 (Batch  (None, 5, 64)       256         ['conv1d_139[0][0]']             \n",
      " Normalization)                                                                                   \n",
      "                                                                                                  \n",
      " batch_normalization_143 (Batch  (None, 6, 64)       256         ['conv1d_143[0][0]']             \n",
      " Normalization)                                                                                   \n",
      "                                                                                                  \n",
      " max_pooling1d_131 (MaxPooling1  (None, 7, 64)       0           ['batch_normalization_131[0][0]']\n",
      " D)                                                                                               \n",
      "                                                                                                  \n",
      " max_pooling1d_135 (MaxPooling1  (None, 2, 64)       0           ['batch_normalization_135[0][0]']\n",
      " D)                                                                                               \n",
      "                                                                                                  \n",
      " max_pooling1d_139 (MaxPooling1  (None, 2, 64)       0           ['batch_normalization_139[0][0]']\n",
      " D)                                                                                               \n",
      "                                                                                                  \n",
      " max_pooling1d_143 (MaxPooling1  (None, 3, 64)       0           ['batch_normalization_143[0][0]']\n",
      " D)                                                                                               \n",
      "                                                                                                  \n",
      " flatten_32 (Flatten)           (None, 448)          0           ['max_pooling1d_131[0][0]']      \n",
      "                                                                                                  \n",
      " flatten_33 (Flatten)           (None, 128)          0           ['max_pooling1d_135[0][0]']      \n",
      "                                                                                                  \n",
      " flatten_34 (Flatten)           (None, 128)          0           ['max_pooling1d_139[0][0]']      \n",
      "                                                                                                  \n",
      " flatten_35 (Flatten)           (None, 192)          0           ['max_pooling1d_143[0][0]']      \n",
      "                                                                                                  \n",
      " input_41 (InputLayer)          [(None, 52)]         0           []                               \n",
      "                                                                                                  \n",
      " dropout_32 (Dropout)           (None, 448)          0           ['flatten_32[0][0]']             \n",
      "                                                                                                  \n",
      " dropout_33 (Dropout)           (None, 128)          0           ['flatten_33[0][0]']             \n",
      "                                                                                                  \n",
      " dropout_34 (Dropout)           (None, 128)          0           ['flatten_34[0][0]']             \n",
      "                                                                                                  \n",
      " dropout_35 (Dropout)           (None, 192)          0           ['flatten_35[0][0]']             \n",
      "                                                                                                  \n",
      " dense_56 (Dense)               (None, 4)            212         ['input_41[0][0]']               \n",
      "                                                                                                  \n",
      " dense_57 (Dense)               (None, 128)          57472       ['dropout_32[0][0]']             \n",
      "                                                                                                  \n",
      " dense_58 (Dense)               (None, 128)          16512       ['dropout_33[0][0]']             \n",
      "                                                                                                  \n",
      " dense_59 (Dense)               (None, 128)          16512       ['dropout_34[0][0]']             \n",
      "                                                                                                  \n",
      " dense_60 (Dense)               (None, 128)          24704       ['dropout_35[0][0]']             \n",
      "                                                                                                  \n",
      " concatenate_8 (Concatenate)    (None, 516)          0           ['dense_56[0][0]',               \n",
      "                                                                  'dense_57[0][0]',               \n",
      "                                                                  'dense_58[0][0]',               \n",
      "                                                                  'dense_59[0][0]',               \n",
      "                                                                  'dense_60[0][0]']               \n",
      "                                                                                                  \n",
      " dense_61 (Dense)               (None, 32)           16544       ['concatenate_8[0][0]']          \n",
      "                                                                                                  \n",
      " dense_62 (Dense)               (None, 6)            198         ['dense_61[0][0]']               \n",
      "                                                                                                  \n",
      "==================================================================================================\n",
      "Total params: 330,746\n",
      "Trainable params: 329,338\n",
      "Non-trainable params: 1,408\n",
      "__________________________________________________________________________________________________\n"
     ]
    }
   ],
   "source": [
    "model.summary()"
   ]
  },
  {
   "cell_type": "markdown",
   "id": "0329710c",
   "metadata": {},
   "source": [
    "## Plot TSR"
   ]
  },
  {
   "cell_type": "code",
   "execution_count": 30,
   "id": "74c88440-38d9-456f-991f-ea63bbd50d21",
   "metadata": {},
   "outputs": [],
   "source": [
    "from TSInterpret.InterpretabilityModels.counterfactual.NativeGuideCF import NativeGuideCF"
   ]
  },
  {
   "cell_type": "code",
   "execution_count": 35,
   "id": "0643b791-16eb-42a2-a06c-55840f36668a",
   "metadata": {},
   "outputs": [
    {
     "ename": "TypeError",
     "evalue": "__init__() missing 1 required positional argument: 'data'",
     "output_type": "error",
     "traceback": [
      "\u001b[0;31m---------------------------------------------------------------------------\u001b[0m",
      "\u001b[0;31mTypeError\u001b[0m                                 Traceback (most recent call last)",
      "Cell \u001b[0;32mIn[35], line 1\u001b[0m\n\u001b[0;32m----> 1\u001b[0m exp_model\u001b[38;5;241m=\u001b[39m\u001b[43mNativeGuideCF\u001b[49m\u001b[43m(\u001b[49m\u001b[43mmodel\u001b[49m\u001b[43m,\u001b[49m\u001b[43m \u001b[49m\u001b[43mbackend\u001b[49m\u001b[38;5;241;43m=\u001b[39;49m\u001b[38;5;124;43m'\u001b[39;49m\u001b[38;5;124;43mPYT\u001b[39;49m\u001b[38;5;124;43m'\u001b[39;49m\u001b[43m,\u001b[49m\u001b[43m \u001b[49m\u001b[43mmode\u001b[49m\u001b[38;5;241;43m=\u001b[39;49m\u001b[38;5;124;43m'\u001b[39;49m\u001b[38;5;124;43mfeat\u001b[39;49m\u001b[38;5;124;43m'\u001b[39;49m\u001b[43m,\u001b[49m\u001b[43m \u001b[49m\u001b[43mmethod\u001b[49m\u001b[38;5;241;43m=\u001b[39;49m\u001b[38;5;124;43m'\u001b[39;49m\u001b[38;5;124;43mdtw_bary_center\u001b[39;49m\u001b[38;5;124;43m'\u001b[39;49m\u001b[43m)\u001b[49m\n",
      "\u001b[0;31mTypeError\u001b[0m: __init__() missing 1 required positional argument: 'data'"
     ]
    }
   ],
   "source": [
    "exp_model=NativeGuideCF(model, backend='PYT', mode='feat', method='dtw_bary_center')"
   ]
  },
  {
   "cell_type": "code",
   "execution_count": null,
   "id": "ca4390d5-5e04-4b14-96c9-c278b693ea1d",
   "metadata": {},
   "outputs": [],
   "source": []
  },
  {
   "cell_type": "code",
   "execution_count": null,
   "id": "8f0f741b-dbd9-4bbf-a69c-e9f6798ff1a9",
   "metadata": {},
   "outputs": [],
   "source": []
  },
  {
   "cell_type": "code",
   "execution_count": null,
   "id": "595d87e2-bab2-4873-b61b-bf9e36d8e00c",
   "metadata": {},
   "outputs": [],
   "source": []
  },
  {
   "cell_type": "code",
   "execution_count": null,
   "id": "ca152fec-a553-498f-a4cc-a226e736815c",
   "metadata": {},
   "outputs": [],
   "source": []
  },
  {
   "cell_type": "code",
   "execution_count": null,
   "id": "2bc34660-0a52-4eda-80a1-7f585b55fb32",
   "metadata": {},
   "outputs": [],
   "source": []
  },
  {
   "cell_type": "code",
   "execution_count": null,
   "id": "f6a02fbe-a43d-4586-a0ab-a8022da92ff7",
   "metadata": {},
   "outputs": [],
   "source": [
    "from TSInterpret.InterpretabilityModels.Saliency.TSR import TSR"
   ]
  },
  {
   "cell_type": "code",
   "execution_count": 29,
   "id": "297abc4c",
   "metadata": {},
   "outputs": [
    {
     "ename": "ValueError",
     "evalue": "setting an array element with a sequence. The requested array has an inhomogeneous shape after 1 dimensions. The detected shape was (5,) + inhomogeneous part.",
     "output_type": "error",
     "traceback": [
      "\u001b[0;31m---------------------------------------------------------------------------\u001b[0m",
      "\u001b[0;31mValueError\u001b[0m                                Traceback (most recent call last)",
      "Cell \u001b[0;32mIn[29], line 1\u001b[0m\n\u001b[0;32m----> 1\u001b[0m input_x \u001b[38;5;241m=\u001b[39m \u001b[43mnp\u001b[49m\u001b[38;5;241;43m.\u001b[39;49m\u001b[43marray\u001b[49m\u001b[43m(\u001b[49m\u001b[43m[\u001b[49m\n\u001b[1;32m      2\u001b[0m \u001b[43m    \u001b[49m\u001b[43mxs_meta\u001b[49m\u001b[43m[\u001b[49m\u001b[38;5;241;43m0\u001b[39;49m\u001b[43m]\u001b[49m\u001b[43m,\u001b[49m\n\u001b[1;32m      3\u001b[0m \u001b[43m    \u001b[49m\u001b[43mxs_global\u001b[49m\u001b[43m[\u001b[49m\u001b[38;5;241;43m0\u001b[39;49m\u001b[43m]\u001b[49m\u001b[43m,\u001b[49m\n\u001b[1;32m      4\u001b[0m \u001b[43m    \u001b[49m\u001b[43mxs_frontal\u001b[49m\u001b[43m[\u001b[49m\u001b[38;5;241;43m0\u001b[39;49m\u001b[43m]\u001b[49m\u001b[43m,\u001b[49m\n\u001b[1;32m      5\u001b[0m \u001b[43m    \u001b[49m\u001b[43mxs_oral\u001b[49m\u001b[43m[\u001b[49m\u001b[38;5;241;43m0\u001b[39;49m\u001b[43m]\u001b[49m\u001b[43m,\u001b[49m\n\u001b[1;32m      6\u001b[0m \u001b[43m    \u001b[49m\u001b[43mxs_orbital\u001b[49m\u001b[43m[\u001b[49m\u001b[38;5;241;43m0\u001b[39;49m\u001b[43m]\u001b[49m\u001b[43m]\u001b[49m\u001b[43m)\u001b[49m\n\u001b[1;32m      8\u001b[0m label_y\u001b[38;5;241m=\u001b[39m\u001b[38;5;28mint\u001b[39m(np\u001b[38;5;241m.\u001b[39margmax(ys[\u001b[38;5;241m0\u001b[39m]))\n",
      "\u001b[0;31mValueError\u001b[0m: setting an array element with a sequence. The requested array has an inhomogeneous shape after 1 dimensions. The detected shape was (5,) + inhomogeneous part."
     ]
    }
   ],
   "source": [
    "input_x = np.array([\n",
    "    xs_meta[0],\n",
    "    xs_global[0],\n",
    "    xs_frontal[0],\n",
    "    xs_oral[0],\n",
    "    xs_orbital[0]])\n",
    "\n",
    "label_y=int(np.argmax(ys[0]))"
   ]
  },
  {
   "cell_type": "code",
   "execution_count": null,
   "id": "49d265d6-b9a3-4737-b30d-a1ad41a3ba63",
   "metadata": {},
   "outputs": [],
   "source": [
    "int_mod=TSR(model, input_x.shape[-2],input_x.shape[-1], method='IG',mode='time')\n",
    "exp=int_mod.explain(item,labels=label,TSR =True)"
   ]
  },
  {
   "cell_type": "code",
   "execution_count": 11,
   "id": "ad685148-f7d6-416e-8c34-66213ff139f0",
   "metadata": {},
   "outputs": [
    {
     "ename": "NameError",
     "evalue": "name 'int_mod' is not defined",
     "output_type": "error",
     "traceback": [
      "\u001b[0;31m---------------------------------------------------------------------------\u001b[0m",
      "\u001b[0;31mNameError\u001b[0m                                 Traceback (most recent call last)",
      "Cell \u001b[0;32mIn[11], line 2\u001b[0m\n\u001b[1;32m      1\u001b[0m get_ipython()\u001b[38;5;241m.\u001b[39mrun_line_magic(\u001b[38;5;124m'\u001b[39m\u001b[38;5;124mmatplotlib\u001b[39m\u001b[38;5;124m'\u001b[39m, \u001b[38;5;124m'\u001b[39m\u001b[38;5;124minline\u001b[39m\u001b[38;5;124m'\u001b[39m)\n\u001b[0;32m----> 2\u001b[0m \u001b[43mint_mod\u001b[49m\u001b[38;5;241m.\u001b[39mplot(np\u001b[38;5;241m.\u001b[39marray([test_x[\u001b[38;5;241m0\u001b[39m,:,:]]),exp)\n",
      "\u001b[0;31mNameError\u001b[0m: name 'int_mod' is not defined"
     ]
    }
   ],
   "source": [
    "%matplotlib inline  \n",
    "int_mod.plot(input_x,exp)"
   ]
  },
  {
   "cell_type": "markdown",
   "id": "cde8e3db",
   "metadata": {},
   "source": [
    "__END__"
   ]
  }
 ],
 "metadata": {
  "kernelspec": {
   "display_name": "face-prognosis",
   "language": "python",
   "name": "face-prognosis"
  },
  "language_info": {
   "codemirror_mode": {
    "name": "ipython",
    "version": 3
   },
   "file_extension": ".py",
   "mimetype": "text/x-python",
   "name": "python",
   "nbconvert_exporter": "python",
   "pygments_lexer": "ipython3",
   "version": "3.8.13"
  }
 },
 "nbformat": 4,
 "nbformat_minor": 5
}
