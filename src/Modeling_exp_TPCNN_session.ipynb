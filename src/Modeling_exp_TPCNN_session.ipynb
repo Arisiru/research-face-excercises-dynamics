{
 "cells": [
  {
   "cell_type": "markdown",
   "id": "c3ffceac",
   "metadata": {},
   "source": [
    "# Notes"
   ]
  },
  {
   "cell_type": "markdown",
   "id": "31ddd4f2",
   "metadata": {},
   "source": [
    "Fourth iteration of the modeling:\n",
    "- modulirized data processing\n",
    "- model serialization"
   ]
  },
  {
   "cell_type": "code",
   "execution_count": 1,
   "id": "2167fbdb",
   "metadata": {
    "scrolled": true
   },
   "outputs": [],
   "source": [
    "import os \n",
    "import re\n",
    "import csv\n",
    "import json\n",
    "import math\n",
    "import random\n",
    "\n",
    "from itertools import chain\n",
    "from datetime import datetime\n",
    "\n",
    "import pandas as pd\n",
    "import numpy as np\n",
    "import tensorflow as tf\n",
    "\n",
    "from tensorflow.keras.preprocessing.sequence import pad_sequences\n",
    "from sklearn.metrics import classification_report\n",
    "\n",
    "import matplotlib.pyplot as plt\n",
    "plt.style.use('_mpl-gallery')"
   ]
  },
  {
   "cell_type": "markdown",
   "id": "e8c2277c",
   "metadata": {},
   "source": [
    "# Constants"
   ]
  },
  {
   "cell_type": "code",
   "execution_count": 2,
   "id": "eed45b66",
   "metadata": {
    "scrolled": true
   },
   "outputs": [],
   "source": [
    "dir_root = os.path.join('..')\n",
    "dir_data_root = os.path.join(dir_root, 'data')\n",
    "dir_exercises = os.path.join(dir_data_root, 'json', 'patients')\n",
    "dir_exercises_augmented = os.path.join(dir_data_root, 'json', 'patients_augmented')\n",
    "dir_exercises_test = os.path.join(dir_data_root, 'json', 'test')"
   ]
  },
  {
   "cell_type": "markdown",
   "id": "acdfc4c1",
   "metadata": {},
   "source": [
    "**TODO** Implement augmenation and patients sessions for the new data set"
   ]
  },
  {
   "cell_type": "raw",
   "id": "48ca19e5",
   "metadata": {},
   "source": [
    "dir_patiens_sessions = os.path.join(dir_data_root, 'json', 'patients_sessions')"
   ]
  },
  {
   "cell_type": "markdown",
   "id": "e544c090",
   "metadata": {},
   "source": [
    "# Data prep"
   ]
  },
  {
   "cell_type": "markdown",
   "id": "6ca3d18d",
   "metadata": {},
   "source": [
    "### Build training set"
   ]
  },
  {
   "cell_type": "code",
   "execution_count": 3,
   "id": "f6e4b662",
   "metadata": {},
   "outputs": [],
   "source": [
    "CONFIG = {\n",
    "    'SEQ_MAX_LEN': 801,\n",
    "    'NUM_EXERCISES': 9,\n",
    "    'NUM_CLASSES': 6,\n",
    "    'REGIONS':json.load(open(os.path.join('settings', 'pois_region_tpcnn.json'))),\n",
    "    'AUGMENTED': True\n",
    "}"
   ]
  },
  {
   "cell_type": "code",
   "execution_count": 4,
   "id": "3d5a32ed",
   "metadata": {},
   "outputs": [
    {
     "data": {
      "text/plain": [
       "{'SEQ_MAX_LEN': 801,\n",
       " 'NUM_EXERCISES': 9,\n",
       " 'NUM_CLASSES': 6,\n",
       " 'REGIONS': {'LefteyeMidbottom': 'upper',\n",
       "  'LefteyeMidtop': 'upper',\n",
       "  'LefteyeInnercorner': 'upper',\n",
       "  'LefteyeOutercorner': 'upper',\n",
       "  'LefteyebrowInner': 'upper',\n",
       "  'LefteyebrowCenter': 'upper',\n",
       "  'RighteyeMidbottom': 'upper',\n",
       "  'RighteyeMidtop': 'upper',\n",
       "  'RighteyeInnercorner': 'upper',\n",
       "  'RighteyeOutercorner': 'upper',\n",
       "  'RighteyebrowInner': 'upper',\n",
       "  'RighteyebrowCenter': 'upper',\n",
       "  'NoseTip': 'lower',\n",
       "  'MouthLowerlipMidbottom': 'lower',\n",
       "  'MouthLeftcorner': 'lower',\n",
       "  'MouthRightcorner': 'lower',\n",
       "  'MouthUpperlipMidtop': 'lower',\n",
       "  'ChinCenter': 'lower',\n",
       "  'ForeheadCenter': 'upper',\n",
       "  'LeftcheekCenter': 'lower',\n",
       "  'RightcheekCenter': 'lower'},\n",
       " 'AUGMENTED': True}"
      ]
     },
     "execution_count": 4,
     "metadata": {},
     "output_type": "execute_result"
    }
   ],
   "source": [
    "CONFIG"
   ]
  },
  {
   "cell_type": "markdown",
   "id": "5aa0b722",
   "metadata": {},
   "source": [
    "input for global region\n",
    "801 is length of a series in excercise \n",
    "each series consist from 63 value, 21 POIs, each POI has 3 values: x,y,z\n",
    "\n",
    "overall length of a series is 7209 (in paper 8019?)"
   ]
  },
  {
   "cell_type": "code",
   "execution_count": 5,
   "id": "65f114f5",
   "metadata": {},
   "outputs": [],
   "source": [
    "i = 0 \n",
    "sessions_id = set()\n",
    "for file_name in os.listdir(dir_exercises):\n",
    "    ids = file_name.split('_')\n",
    "    session_id = f'{ids[0]}_{ids[1]}'\n",
    "    sessions_id.add(session_id)\n",
    "sessions_ids = sorted(list(sessions_id))"
   ]
  },
  {
   "cell_type": "code",
   "execution_count": 6,
   "id": "f0d2c251",
   "metadata": {},
   "outputs": [
    {
     "data": {
      "text/plain": [
       "292"
      ]
     },
     "execution_count": 6,
     "metadata": {},
     "output_type": "execute_result"
    }
   ],
   "source": [
    "len(sessions_ids)"
   ]
  },
  {
   "cell_type": "code",
   "execution_count": 7,
   "id": "8e6d1c36",
   "metadata": {},
   "outputs": [],
   "source": [
    "def pad_excercise_poi(data, poi):\n",
    "    return tf.keras.preprocessing.sequence.pad_sequences(\n",
    "        [\n",
    "            data['pois'][poi]['xs'],\n",
    "            data['pois'][poi]['ys'],\n",
    "            data['pois'][poi]['zs']\n",
    "        \n",
    "        ],\n",
    "        padding='pre',\n",
    "        maxlen=CONFIG['SEQ_MAX_LEN'],\n",
    "        dtype='float32')"
   ]
  },
  {
   "cell_type": "code",
   "execution_count": 37,
   "id": "395e2c52",
   "metadata": {},
   "outputs": [],
   "source": [
    "def session_data(session_id, augmented = None):\n",
    "    global_region = None\n",
    "    upper_region = None\n",
    "    lower_region = None\n",
    "    exercises_data = []\n",
    "    \n",
    "    for exercise_id in range(CONFIG['NUM_EXERCISES']):\n",
    "        #todo add handling when augmented is defined and number\n",
    "        if augmented:\n",
    "            exercises_data.append(json.load(open(os.path.join(dir_exercises_augmented, f'{session_id}_0{exercise_id + 1}_{augmented}.json'))))\n",
    "        else:\n",
    "            exercises_data.append(json.load(open(os.path.join(dir_exercises, f'{session_id}_0{exercise_id + 1}.json'))))\n",
    "    \n",
    "    for poi in sorted(CONFIG['REGIONS'].keys()):\n",
    "        poi_series = None\n",
    "        \n",
    "        for exercise_id in range(CONFIG['NUM_EXERCISES']):\n",
    "            exercise_series = pad_excercise_poi(exercises_data[exercise_id], poi)\n",
    "            if poi_series is not None:\n",
    "                poi_series = np.hstack((poi_series, exercise_series))\n",
    "            else:\n",
    "                poi_series = exercise_series\n",
    "        \n",
    "        if global_region is not None:\n",
    "            global_region = np.concatenate((global_region, poi_series), axis=0)\n",
    "        else:\n",
    "            global_region = poi_series\n",
    "        \n",
    "        if CONFIG['REGIONS'][poi] == 'upper':\n",
    "            if upper_region is not None:\n",
    "                upper_region = np.concatenate((upper_region, poi_series), axis=0)\n",
    "            else:\n",
    "                upper_region = poi_series\n",
    "        if CONFIG['REGIONS'][poi] == 'lower':\n",
    "            if lower_region is not None:\n",
    "                lower_region = np.concatenate((lower_region, poi_series), axis=0)\n",
    "            else:\n",
    "                lower_region = poi_series\n",
    "\n",
    "    \n",
    "    y = int(exercises_data[0]['meta']['evaluation']) - 1\n",
    "    \n",
    "\n",
    "    return [\n",
    "        global_region,\n",
    "        upper_region,\n",
    "        lower_region,\n",
    "        y\n",
    "    ]"
   ]
  },
  {
   "cell_type": "code",
   "execution_count": 38,
   "id": "b085ecc7",
   "metadata": {},
   "outputs": [
    {
     "name": "stdout",
     "output_type": "stream",
     "text": [
      "issues with session_id: 105_126\n",
      "issues with session_id: 107_50\n",
      "issues with session_id: 107_51\n",
      "issues with session_id: 110_120\n",
      "issues with session_id: 116_249\n",
      "issues with session_id: 145_298\n",
      "issues with session_id: 156_310\n",
      "issues with session_id: 17_83\n",
      "issues with session_id: 17_84\n",
      "issues with session_id: 187_344\n",
      "issues with session_id: 19_100\n",
      "issues with session_id: 1_76\n",
      "issues with session_id: 20_140\n",
      "issues with session_id: 23_7\n",
      "issues with session_id: 257_416\n",
      "issues with session_id: 26_134\n",
      "issues with session_id: 27_92\n",
      "issues with session_id: 28_78\n",
      "issues with session_id: 28_79\n",
      "issues with session_id: 32_99\n",
      "issues with session_id: 35_127\n",
      "issues with session_id: 3_69\n",
      "issues with session_id: 44_38\n",
      "issues with session_id: 44_40\n",
      "issues with session_id: 47_124\n",
      "issues with session_id: 4_141\n",
      "issues with session_id: 55_109\n",
      "issues with session_id: 55_112\n",
      "issues with session_id: 57_137\n",
      "issues with session_id: 58_16\n",
      "issues with session_id: 60_125\n",
      "issues with session_id: 63_58\n",
      "issues with session_id: 65_118\n",
      "issues with session_id: 67_98\n",
      "issues with session_id: 68_176\n",
      "issues with session_id: 69_117\n",
      "issues with session_id: 73_222\n",
      "issues with session_id: 7_89\n",
      "issues with session_id: 84_31\n",
      "issues with session_id: 8_61\n",
      "issues with session_id: 8_62\n",
      "issues with session_id: 90_23\n",
      "issues with session_id: 97_96\n",
      "issues with session_id: 99_33\n",
      "(1240,)\n",
      "(1240, 63, 7209)\n",
      "(1240, 39, 7209)\n",
      "(1240, 24, 7209)\n",
      "Incomplete sessions 44\n"
     ]
    }
   ],
   "source": [
    "xslist_global = list()\n",
    "xslist_upper = list()\n",
    "xslist_lower = list()\n",
    "yslist = list()\n",
    "incomlete_sessions = []\n",
    "i = 0\n",
    "for session_id in sessions_ids:\n",
    "    try:\n",
    "        _xs_global, _xs_upper, _xs_lower, _ys = session_data(session_id)\n",
    "        \n",
    "\n",
    "        yslist.append(_ys)\n",
    "        xslist_global.append(_xs_global)  \n",
    "        xslist_upper.append(_xs_upper)\n",
    "        xslist_lower.append(_xs_lower)\n",
    "    except:\n",
    "        print(f'issues with session_id: {session_id}')\n",
    "        incomlete_sessions.append(session_id)\n",
    "        continue\n",
    "    \n",
    "    if CONFIG['AUGMENTED']:\n",
    "        for augmentation_id in range(4):\n",
    "            try:\n",
    "                _xs_global, _xs_upper, _xs_lower, _ys = session_data(session_id, augmentation_id)\n",
    "\n",
    "\n",
    "                yslist.append(_ys)\n",
    "                xslist_global.append(_xs_global)  \n",
    "                xslist_upper.append(_xs_upper)\n",
    "                xslist_lower.append(_xs_lower)\n",
    "            except:  \n",
    "                break\n",
    "    \n",
    "ys = np.array(yslist, dtype='int')\n",
    "xs_global = np.array(xslist_global, dtype='float32') \n",
    "xs_upper = np.array(xslist_upper, dtype='float32') \n",
    "xs_lower = np.array(xslist_lower, dtype='float32') \n",
    "\n",
    "\n",
    "print(ys.shape)\n",
    "print(xs_global.shape)\n",
    "print(xs_upper.shape)\n",
    "print(xs_lower.shape)\n",
    "print(f'Incomplete sessions {len(incomlete_sessions)}')"
   ]
  },
  {
   "cell_type": "raw",
   "id": "5d92171d",
   "metadata": {},
   "source": [
    "(248,)\n",
    "(248, 63, 7209)\n",
    "(248, 39, 7209)\n",
    "(248, 24, 7209)"
   ]
  },
  {
   "cell_type": "code",
   "execution_count": 39,
   "id": "8827730e",
   "metadata": {},
   "outputs": [
    {
     "name": "stdout",
     "output_type": "stream",
     "text": [
      "[0 0 0 ... 0 0 0]\n"
     ]
    }
   ],
   "source": [
    "print(ys)"
   ]
  },
  {
   "cell_type": "code",
   "execution_count": 40,
   "id": "e1633b08",
   "metadata": {},
   "outputs": [
    {
     "name": "stdout",
     "output_type": "stream",
     "text": [
      "{0, 1, 2, 3, 4, 5}\n"
     ]
    }
   ],
   "source": [
    "print(set(ys))"
   ]
  },
  {
   "cell_type": "markdown",
   "id": "eeba3312",
   "metadata": {},
   "source": [
    "## Modeling"
   ]
  },
  {
   "cell_type": "code",
   "execution_count": 41,
   "id": "db63f1bb",
   "metadata": {
    "scrolled": true
   },
   "outputs": [],
   "source": [
    "from tensorflow.keras.layers import Dense\n",
    "from tensorflow.keras.layers import Conv1D\n",
    "from tensorflow.keras.layers import AveragePooling1D\n",
    "from tensorflow.keras.layers import Flatten\n",
    "from tensorflow.keras.layers import Input\n",
    "from tensorflow.keras.layers import concatenate\n",
    "from tensorflow.keras.layers import BatchNormalization\n",
    "from tensorflow.keras.layers import Dropout\n",
    "from tensorflow.keras.models import Model\n",
    "from tensorflow.keras.optimizers import Adam\n",
    "\n",
    "from sklearn.utils import class_weight"
   ]
  },
  {
   "cell_type": "code",
   "execution_count": 42,
   "id": "5f06345c",
   "metadata": {},
   "outputs": [],
   "source": [
    "def get_dnn(inputLayer): \n",
    "    m = Dense(4, activation=\"relu\")(inputLayer)\n",
    "    m = Model(inputs=inputLayer, outputs=m)\n",
    "\n",
    "    return m"
   ]
  },
  {
   "cell_type": "code",
   "execution_count": 43,
   "id": "fc36a0ca",
   "metadata": {},
   "outputs": [],
   "source": [
    "def get_regional_cnn(inputLayer):\n",
    "    chanDim = -1\n",
    "    \n",
    "    m = Conv1D(3, (32), padding='same', activation='relu')(inputLayer)\n",
    "    m = AveragePooling1D((2))(m)\n",
    "    m = Conv1D(3, (32), padding='same', activation='relu')(m)\n",
    "    m = Conv1D(3, (64), padding='same', activation='relu')(m)\n",
    "    m = AveragePooling1D((2))(m)\n",
    "    m = Conv1D(3, (64), padding='same', activation='relu')(m)\n",
    "    m = Dense(128, activation=\"relu\")(m)\n",
    "    m = Dropout(0.5)(m)\n",
    "    m = Flatten()(m)\n",
    "    m = Model(inputs=inputLayer, outputs=m)\n",
    "\n",
    "    return m"
   ]
  },
  {
   "cell_type": "code",
   "execution_count": 44,
   "id": "f5c0bd63",
   "metadata": {},
   "outputs": [],
   "source": [
    "def get_global_cnn(inputLayer):\n",
    "    chanDim = -1\n",
    "    \n",
    "    m = Conv1D(21, (6), padding='same', activation='relu')(inputLayer)\n",
    "    m = AveragePooling1D((2))(m)\n",
    "    m = Conv1D(9, (6), padding='same', activation='relu')(m)\n",
    "    m = Conv1D(9, (16), padding='same', activation='relu')(m)\n",
    "    m = AveragePooling1D((2))(m)\n",
    "    m = Conv1D(3, (16), padding='same', activation='relu')(m)\n",
    "    m = Dense(128, activation=\"relu\")(m)\n",
    "    m = Dropout(0.5)(m)\n",
    "    m = Flatten()(m)\n",
    "    m = Model(inputs=inputLayer, outputs=m)\n",
    "\n",
    "    return m"
   ]
  },
  {
   "cell_type": "code",
   "execution_count": 45,
   "id": "29b2c732",
   "metadata": {
    "scrolled": true
   },
   "outputs": [],
   "source": [
    "def get_model():\n",
    "    input_global = Input(shape=xs_global.shape[1:])\n",
    "    model_global = get_global_cnn(input_global)\n",
    "    \n",
    "    input_upper = Input(shape=xs_upper.shape[1:])\n",
    "    model_upper = get_regional_cnn(input_upper)  \n",
    "\n",
    "    input_lower = Input(shape=xs_lower.shape[1:])\n",
    "    model_lower = get_regional_cnn(input_lower)  \n",
    "    \n",
    "    \n",
    "    model_contatenate = concatenate([\n",
    "        model_global.output,\n",
    "        model_upper.output,\n",
    "        model_lower.output,\n",
    "    ])\n",
    "    \n",
    "    model_contatenate = Dense(6, activation=\"softmax\")(model_contatenate)\n",
    "        \n",
    "    model = Model(inputs=[\n",
    "        model_global.input,\n",
    "        model_upper.input,\n",
    "        model_lower.input\n",
    "    ], outputs=model_contatenate)\n",
    "\n",
    "    model.compile(\n",
    "        loss=\"sparse_categorical_crossentropy\", \n",
    "        optimizer=Adam(learning_rate=1e-3, decay=1e-3 / 200),\n",
    "        metrics=['accuracy']\n",
    "    )\n",
    "    \n",
    "    \n",
    "    return model"
   ]
  },
  {
   "cell_type": "code",
   "execution_count": 46,
   "id": "2377d19f",
   "metadata": {},
   "outputs": [
    {
     "name": "stdout",
     "output_type": "stream",
     "text": [
      "Model: \"model_43\"\n",
      "__________________________________________________________________________________________________\n",
      " Layer (type)                   Output Shape         Param #     Connected to                     \n",
      "==================================================================================================\n",
      " input_31 (InputLayer)          [(None, 63, 7209)]   0           []                               \n",
      "                                                                                                  \n",
      " input_32 (InputLayer)          [(None, 39, 7209)]   0           []                               \n",
      "                                                                                                  \n",
      " input_33 (InputLayer)          [(None, 24, 7209)]   0           []                               \n",
      "                                                                                                  \n",
      " conv1d_120 (Conv1D)            (None, 63, 21)       908355      ['input_31[0][0]']               \n",
      "                                                                                                  \n",
      " conv1d_124 (Conv1D)            (None, 39, 3)        692067      ['input_32[0][0]']               \n",
      "                                                                                                  \n",
      " conv1d_128 (Conv1D)            (None, 24, 3)        692067      ['input_33[0][0]']               \n",
      "                                                                                                  \n",
      " average_pooling1d_60 (AverageP  (None, 31, 21)      0           ['conv1d_120[0][0]']             \n",
      " ooling1D)                                                                                        \n",
      "                                                                                                  \n",
      " average_pooling1d_62 (AverageP  (None, 19, 3)       0           ['conv1d_124[0][0]']             \n",
      " ooling1D)                                                                                        \n",
      "                                                                                                  \n",
      " average_pooling1d_64 (AverageP  (None, 12, 3)       0           ['conv1d_128[0][0]']             \n",
      " ooling1D)                                                                                        \n",
      "                                                                                                  \n",
      " conv1d_121 (Conv1D)            (None, 31, 9)        1143        ['average_pooling1d_60[0][0]']   \n",
      "                                                                                                  \n",
      " conv1d_125 (Conv1D)            (None, 19, 3)        291         ['average_pooling1d_62[0][0]']   \n",
      "                                                                                                  \n",
      " conv1d_129 (Conv1D)            (None, 12, 3)        291         ['average_pooling1d_64[0][0]']   \n",
      "                                                                                                  \n",
      " conv1d_122 (Conv1D)            (None, 31, 9)        1305        ['conv1d_121[0][0]']             \n",
      "                                                                                                  \n",
      " conv1d_126 (Conv1D)            (None, 19, 3)        579         ['conv1d_125[0][0]']             \n",
      "                                                                                                  \n",
      " conv1d_130 (Conv1D)            (None, 12, 3)        579         ['conv1d_129[0][0]']             \n",
      "                                                                                                  \n",
      " average_pooling1d_61 (AverageP  (None, 15, 9)       0           ['conv1d_122[0][0]']             \n",
      " ooling1D)                                                                                        \n",
      "                                                                                                  \n",
      " average_pooling1d_63 (AverageP  (None, 9, 3)        0           ['conv1d_126[0][0]']             \n",
      " ooling1D)                                                                                        \n",
      "                                                                                                  \n",
      " average_pooling1d_65 (AverageP  (None, 6, 3)        0           ['conv1d_130[0][0]']             \n",
      " ooling1D)                                                                                        \n",
      "                                                                                                  \n",
      " conv1d_123 (Conv1D)            (None, 15, 3)        435         ['average_pooling1d_61[0][0]']   \n",
      "                                                                                                  \n",
      " conv1d_127 (Conv1D)            (None, 9, 3)         579         ['average_pooling1d_63[0][0]']   \n",
      "                                                                                                  \n",
      " conv1d_131 (Conv1D)            (None, 6, 3)         579         ['average_pooling1d_65[0][0]']   \n",
      "                                                                                                  \n",
      " dense_40 (Dense)               (None, 15, 128)      512         ['conv1d_123[0][0]']             \n",
      "                                                                                                  \n",
      " dense_41 (Dense)               (None, 9, 128)       512         ['conv1d_127[0][0]']             \n",
      "                                                                                                  \n",
      " dense_42 (Dense)               (None, 6, 128)       512         ['conv1d_131[0][0]']             \n",
      "                                                                                                  \n",
      " dropout_30 (Dropout)           (None, 15, 128)      0           ['dense_40[0][0]']               \n",
      "                                                                                                  \n",
      " dropout_31 (Dropout)           (None, 9, 128)       0           ['dense_41[0][0]']               \n",
      "                                                                                                  \n",
      " dropout_32 (Dropout)           (None, 6, 128)       0           ['dense_42[0][0]']               \n",
      "                                                                                                  \n",
      " flatten_30 (Flatten)           (None, 1920)         0           ['dropout_30[0][0]']             \n",
      "                                                                                                  \n",
      " flatten_31 (Flatten)           (None, 1152)         0           ['dropout_31[0][0]']             \n",
      "                                                                                                  \n",
      " flatten_32 (Flatten)           (None, 768)          0           ['dropout_32[0][0]']             \n",
      "                                                                                                  \n",
      " concatenate_10 (Concatenate)   (None, 3840)         0           ['flatten_30[0][0]',             \n",
      "                                                                  'flatten_31[0][0]',             \n",
      "                                                                  'flatten_32[0][0]']             \n",
      "                                                                                                  \n",
      " dense_43 (Dense)               (None, 6)            23046       ['concatenate_10[0][0]']         \n",
      "                                                                                                  \n",
      "==================================================================================================\n",
      "Total params: 2,322,852\n",
      "Trainable params: 2,322,852\n",
      "Non-trainable params: 0\n",
      "__________________________________________________________________________________________________\n"
     ]
    }
   ],
   "source": [
    "test_model = get_model()\n",
    "test_model.summary()"
   ]
  },
  {
   "cell_type": "code",
   "execution_count": 47,
   "id": "82dd2364",
   "metadata": {
    "scrolled": true
   },
   "outputs": [
    {
     "name": "stdout",
     "output_type": "stream",
     "text": [
      "{0, 1, 2, 3, 4, 5}\n"
     ]
    }
   ],
   "source": [
    "print(set(ys))"
   ]
  },
  {
   "cell_type": "markdown",
   "id": "accfe635",
   "metadata": {},
   "source": [
    "### K-fold evaluation"
   ]
  },
  {
   "cell_type": "code",
   "execution_count": 48,
   "id": "3c142f3a",
   "metadata": {},
   "outputs": [],
   "source": [
    "k = 5\n",
    "k_limit = 5\n",
    "train = 0.8\n",
    "val = 0.2\n",
    "test = 0.2"
   ]
  },
  {
   "cell_type": "code",
   "execution_count": 57,
   "id": "8aacb4ee",
   "metadata": {},
   "outputs": [],
   "source": [
    "VERBOSE = 0\n",
    "EPOCHS = 50\n",
    "BATCH_SIZE = 32"
   ]
  },
  {
   "cell_type": "code",
   "execution_count": 58,
   "id": "3f377532",
   "metadata": {},
   "outputs": [],
   "source": [
    "from sklearn.model_selection import KFold"
   ]
  },
  {
   "cell_type": "code",
   "execution_count": 59,
   "id": "8f442eac",
   "metadata": {},
   "outputs": [],
   "source": [
    "def get_k_indx(k, n):\n",
    "\n",
    "    k_fold = KFold(n_splits=k)\n",
    "    train_ = []\n",
    "    val_ = []\n",
    "    test_ = []\n",
    "    indx = []\n",
    "\n",
    "    for train_indices, test_indices in k_fold.split(ys):\n",
    "        n_k = len(train_indices)\n",
    "        val_split = int(n_k * train)\n",
    "        indx.append([train_indices[:val_split],train_indices[val_split + 1:], test_indices])\n",
    "    \n",
    "    return indx"
   ]
  },
  {
   "cell_type": "raw",
   "id": "9cbc755e",
   "metadata": {},
   "source": [
    "print(get_k_indx(k, len(ys)))"
   ]
  },
  {
   "cell_type": "code",
   "execution_count": 60,
   "id": "e67b070a",
   "metadata": {},
   "outputs": [],
   "source": [
    "%matplotlib inline"
   ]
  },
  {
   "cell_type": "code",
   "execution_count": 61,
   "id": "c200e137",
   "metadata": {},
   "outputs": [
    {
     "name": "stdout",
     "output_type": "stream",
     "text": [
      "{0: 0.3864522417153996, 1: 1.1906906906906907, 2: 0.9790123456790123, 3: 3.776190476190476, 4: 2.6433333333333335, 5: 1.101388888888889}\n"
     ]
    },
    {
     "name": "stderr",
     "output_type": "stream",
     "text": [
      "2024-02-23 16:17:50.192923: I tensorflow/core/grappler/optimizers/custom_graph_optimizer_registry.cc:114] Plugin optimizer for device_type GPU is enabled.\n",
      "2024-02-23 16:18:02.540806: I tensorflow/core/grappler/optimizers/custom_graph_optimizer_registry.cc:114] Plugin optimizer for device_type GPU is enabled.\n",
      "2024-02-23 16:24:13.387184: I tensorflow/core/grappler/optimizers/custom_graph_optimizer_registry.cc:114] Plugin optimizer for device_type GPU is enabled.\n"
     ]
    },
    {
     "name": "stdout",
     "output_type": "stream",
     "text": [
      "              precision    recall  f1-score   support\n",
      "\n",
      "           0       0.62      0.47      0.53       103\n",
      "           1       0.20      0.29      0.24        35\n",
      "           2       0.36      0.80      0.50        25\n",
      "           3       0.00      0.00      0.00        20\n",
      "           4       0.14      0.17      0.15        30\n",
      "           5       0.00      0.00      0.00        35\n",
      "\n",
      "    accuracy                           0.33       248\n",
      "   macro avg       0.22      0.29      0.24       248\n",
      "weighted avg       0.34      0.33      0.32       248\n",
      "\n",
      "{0: 0.39809236947791166, 1: 1.0489417989417988, 2: 0.9790123456790123, 3: 3.776190476190476, 4: 1.888095238095238, 5: 1.3912280701754387}\n"
     ]
    },
    {
     "name": "stderr",
     "output_type": "stream",
     "text": [
      "2024-02-23 16:24:25.172566: I tensorflow/core/grappler/optimizers/custom_graph_optimizer_registry.cc:114] Plugin optimizer for device_type GPU is enabled.\n",
      "2024-02-23 16:24:37.741868: I tensorflow/core/grappler/optimizers/custom_graph_optimizer_registry.cc:114] Plugin optimizer for device_type GPU is enabled.\n",
      "2024-02-23 16:30:34.632021: I tensorflow/core/grappler/optimizers/custom_graph_optimizer_registry.cc:114] Plugin optimizer for device_type GPU is enabled.\n",
      "/Users/alanchen/.local/share/virtualenvs/research-face-excercises-dynamics-o_HFBNSW/lib/python3.8/site-packages/sklearn/metrics/_classification.py:1471: UndefinedMetricWarning: Precision and F-score are ill-defined and being set to 0.0 in labels with no predicted samples. Use `zero_division` parameter to control this behavior.\n",
      "  _warn_prf(average, modifier, msg_start, len(result))\n",
      "/Users/alanchen/.local/share/virtualenvs/research-face-excercises-dynamics-o_HFBNSW/lib/python3.8/site-packages/sklearn/metrics/_classification.py:1471: UndefinedMetricWarning: Precision and F-score are ill-defined and being set to 0.0 in labels with no predicted samples. Use `zero_division` parameter to control this behavior.\n",
      "  _warn_prf(average, modifier, msg_start, len(result))\n",
      "/Users/alanchen/.local/share/virtualenvs/research-face-excercises-dynamics-o_HFBNSW/lib/python3.8/site-packages/sklearn/metrics/_classification.py:1471: UndefinedMetricWarning: Precision and F-score are ill-defined and being set to 0.0 in labels with no predicted samples. Use `zero_division` parameter to control this behavior.\n",
      "  _warn_prf(average, modifier, msg_start, len(result))\n"
     ]
    },
    {
     "name": "stdout",
     "output_type": "stream",
     "text": [
      "              precision    recall  f1-score   support\n",
      "\n",
      "           0       0.54      0.51      0.52       113\n",
      "           1       0.11      0.25      0.15        20\n",
      "           2       0.08      0.20      0.12        25\n",
      "           3       0.00      0.00      0.00        20\n",
      "           4       0.00      0.00      0.00        10\n",
      "           5       0.29      0.17      0.21        60\n",
      "\n",
      "    accuracy                           0.31       248\n",
      "   macro avg       0.17      0.19      0.17       248\n",
      "weighted avg       0.33      0.31      0.31       248\n",
      "\n",
      "{0: 0.3611111111111111, 1: 1.2957516339869282, 2: 1.3216666666666668, 3: 2.6433333333333335, 4: 2.403030303030303, 5: 1.101388888888889}\n"
     ]
    },
    {
     "name": "stderr",
     "output_type": "stream",
     "text": [
      "2024-02-23 16:30:46.544038: I tensorflow/core/grappler/optimizers/custom_graph_optimizer_registry.cc:114] Plugin optimizer for device_type GPU is enabled.\n",
      "2024-02-23 16:30:59.300949: I tensorflow/core/grappler/optimizers/custom_graph_optimizer_registry.cc:114] Plugin optimizer for device_type GPU is enabled.\n",
      "2024-02-23 16:37:01.115642: I tensorflow/core/grappler/optimizers/custom_graph_optimizer_registry.cc:114] Plugin optimizer for device_type GPU is enabled.\n"
     ]
    },
    {
     "name": "stdout",
     "output_type": "stream",
     "text": [
      "              precision    recall  f1-score   support\n",
      "\n",
      "           0       0.34      0.56      0.42        79\n",
      "           1       0.32      0.32      0.32        44\n",
      "           2       0.17      0.08      0.11        60\n",
      "           3       0.00      0.00      0.00         5\n",
      "           4       0.33      0.20      0.25        25\n",
      "           5       0.20      0.14      0.17        35\n",
      "\n",
      "    accuracy                           0.29       248\n",
      "   macro avg       0.23      0.22      0.21       248\n",
      "weighted avg       0.27      0.29      0.27       248\n",
      "\n",
      "{0: 0.42634408602150536, 1: 1.3216666666666668, 2: 1.1200564971751412, 3: 2.403030303030303, 4: 1.7622222222222221, 5: 0.9790123456790123}\n"
     ]
    },
    {
     "name": "stderr",
     "output_type": "stream",
     "text": [
      "2024-02-23 16:37:15.111152: I tensorflow/core/grappler/optimizers/custom_graph_optimizer_registry.cc:114] Plugin optimizer for device_type GPU is enabled.\n",
      "2024-02-23 16:37:28.693869: I tensorflow/core/grappler/optimizers/custom_graph_optimizer_registry.cc:114] Plugin optimizer for device_type GPU is enabled.\n",
      "2024-02-23 16:43:30.833768: I tensorflow/core/grappler/optimizers/custom_graph_optimizer_registry.cc:114] Plugin optimizer for device_type GPU is enabled.\n",
      "/Users/alanchen/.local/share/virtualenvs/research-face-excercises-dynamics-o_HFBNSW/lib/python3.8/site-packages/sklearn/metrics/_classification.py:1471: UndefinedMetricWarning: Recall and F-score are ill-defined and being set to 0.0 in labels with no true samples. Use `zero_division` parameter to control this behavior.\n",
      "  _warn_prf(average, modifier, msg_start, len(result))\n",
      "/Users/alanchen/.local/share/virtualenvs/research-face-excercises-dynamics-o_HFBNSW/lib/python3.8/site-packages/sklearn/metrics/_classification.py:1471: UndefinedMetricWarning: Recall and F-score are ill-defined and being set to 0.0 in labels with no true samples. Use `zero_division` parameter to control this behavior.\n",
      "  _warn_prf(average, modifier, msg_start, len(result))\n",
      "/Users/alanchen/.local/share/virtualenvs/research-face-excercises-dynamics-o_HFBNSW/lib/python3.8/site-packages/sklearn/metrics/_classification.py:1471: UndefinedMetricWarning: Recall and F-score are ill-defined and being set to 0.0 in labels with no true samples. Use `zero_division` parameter to control this behavior.\n",
      "  _warn_prf(average, modifier, msg_start, len(result))\n"
     ]
    },
    {
     "name": "stdout",
     "output_type": "stream",
     "text": [
      "              precision    recall  f1-score   support\n",
      "\n",
      "           0       0.48      0.41      0.44       135\n",
      "           1       0.38      0.46      0.41        46\n",
      "           2       0.26      0.17      0.20        42\n",
      "           3       0.00      0.00      0.00         0\n",
      "           4       0.00      0.00      0.00         5\n",
      "           5       0.00      0.00      0.00        20\n",
      "\n",
      "    accuracy                           0.33       248\n",
      "   macro avg       0.19      0.17      0.18       248\n",
      "weighted avg       0.37      0.33      0.35       248\n",
      "\n",
      "{0: 0.4066666666666667, 1: 1.2015151515151514, 2: 1.1200564971751412, 3: 2.937037037037037, 4: 2.033333333333333, 5: 1.0166666666666666}\n"
     ]
    },
    {
     "name": "stderr",
     "output_type": "stream",
     "text": [
      "2024-02-23 16:43:45.398799: I tensorflow/core/grappler/optimizers/custom_graph_optimizer_registry.cc:114] Plugin optimizer for device_type GPU is enabled.\n",
      "2024-02-23 16:43:57.759636: I tensorflow/core/grappler/optimizers/custom_graph_optimizer_registry.cc:114] Plugin optimizer for device_type GPU is enabled.\n",
      "2024-02-23 16:50:04.877473: I tensorflow/core/grappler/optimizers/custom_graph_optimizer_registry.cc:114] Plugin optimizer for device_type GPU is enabled.\n"
     ]
    },
    {
     "name": "stdout",
     "output_type": "stream",
     "text": [
      "              precision    recall  f1-score   support\n",
      "\n",
      "           0       0.48      0.44      0.46       125\n",
      "           1       0.20      0.20      0.20        25\n",
      "           2       0.14      0.12      0.13        43\n",
      "           3       0.00      0.00      0.00        30\n",
      "           4       0.00      0.00      0.00        10\n",
      "           5       0.00      0.00      0.00        15\n",
      "\n",
      "    accuracy                           0.26       248\n",
      "   macro avg       0.14      0.13      0.13       248\n",
      "weighted avg       0.29      0.26      0.27       248\n",
      "\n"
     ]
    },
    {
     "name": "stderr",
     "output_type": "stream",
     "text": [
      "/Users/alanchen/.local/share/virtualenvs/research-face-excercises-dynamics-o_HFBNSW/lib/python3.8/site-packages/sklearn/metrics/_classification.py:1471: UndefinedMetricWarning: Precision and F-score are ill-defined and being set to 0.0 in labels with no predicted samples. Use `zero_division` parameter to control this behavior.\n",
      "  _warn_prf(average, modifier, msg_start, len(result))\n",
      "/Users/alanchen/.local/share/virtualenvs/research-face-excercises-dynamics-o_HFBNSW/lib/python3.8/site-packages/sklearn/metrics/_classification.py:1471: UndefinedMetricWarning: Precision and F-score are ill-defined and being set to 0.0 in labels with no predicted samples. Use `zero_division` parameter to control this behavior.\n",
      "  _warn_prf(average, modifier, msg_start, len(result))\n",
      "/Users/alanchen/.local/share/virtualenvs/research-face-excercises-dynamics-o_HFBNSW/lib/python3.8/site-packages/sklearn/metrics/_classification.py:1471: UndefinedMetricWarning: Precision and F-score are ill-defined and being set to 0.0 in labels with no predicted samples. Use `zero_division` parameter to control this behavior.\n",
      "  _warn_prf(average, modifier, msg_start, len(result))\n"
     ]
    },
    {
     "data": {
      "image/png": "[encoded data removed]",
      "text/plain": [
       "<Figure size 200x200 with 1 Axes>"
      ]
     },
     "metadata": {},
     "output_type": "display_data"
    },
    {
     "data": {
      "image/png": "[encoded data removed]",
      "text/plain": [
       "<Figure size 200x200 with 1 Axes>"
      ]
     },
     "metadata": {},
     "output_type": "display_data"
    },
    {
     "data": {
      "image/png": "[encoded data removed]",
      "text/plain": [
       "<Figure size 200x200 with 1 Axes>"
      ]
     },
     "metadata": {},
     "output_type": "display_data"
    },
    {
     "data": {
      "image/png": "[encoded data removed]",
      "text/plain": [
       "<Figure size 200x200 with 1 Axes>"
      ]
     },
     "metadata": {},
     "output_type": "display_data"
    },
    {
     "data": {
      "image/png": "[encoded data removed]",
      "text/plain": [
       "<Figure size 200x200 with 1 Axes>"
      ]
     },
     "metadata": {},
     "output_type": "display_data"
    }
   ],
   "source": [
    "indxs = get_k_indx(k, len(ys))\n",
    "models = []\n",
    "\n",
    "for i in range(k_limit):\n",
    "    train_indx, val_indx, test_indx  = indxs[i]\n",
    "    \n",
    "    xs_global_i = xs_global[train_indx]\n",
    "    xs_global_i_val = xs_global[val_indx]\n",
    "    xs_global_i_test = xs_global[test_indx]\n",
    "    \n",
    "    xs_upper_i = xs_upper[train_indx]\n",
    "    xs_upper_i_val = xs_upper[val_indx]\n",
    "    xs_upper_i_test = xs_upper[test_indx]\n",
    "    \n",
    "    xs_lower_i = xs_lower[train_indx]\n",
    "    xs_lower_i_val = xs_lower[val_indx]\n",
    "    xs_lower_i_test = xs_lower[test_indx]\n",
    "    \n",
    "    ys_i = ys[train_indx]\n",
    "    ys_i_val = ys[val_indx]\n",
    "    ys_i_test = ys[test_indx]\n",
    "    \n",
    "    \n",
    "    class_weights = class_weight.compute_class_weight(class_weight='balanced',\n",
    "                                                 classes = np.unique(ys_i),\n",
    "                                                 y=ys_i)\n",
    "    available_classes = np.unique(ys_i)\n",
    "    weight_training_classes = {\n",
    "        0: 0,\n",
    "        1: 0,\n",
    "        2: 0,\n",
    "        3: 0,\n",
    "        4: 0,\n",
    "        5: 0,\n",
    "    }\n",
    "    \n",
    "    for indx, value in enumerate(class_weights):\n",
    "        weight_training_classes[available_classes[indx]] = value\n",
    "\n",
    "    print(weight_training_classes)\n",
    "\n",
    "    model = get_model()\n",
    "\n",
    "    model_callbacks = [\n",
    "        tf.keras.callbacks.EarlyStopping(patience=20)\n",
    "    ]\n",
    "    \n",
    "    hist = model.fit(\n",
    "        x=[\n",
    "            xs_global_i, \n",
    "            xs_upper_i,\n",
    "            xs_lower_i], y=ys_i, \n",
    "        validation_data=([\n",
    "            xs_global_i_val,\n",
    "            xs_upper_i_val,\n",
    "            xs_lower_i_val], ys_i_val),\n",
    "        batch_size=BATCH_SIZE, \n",
    "        epochs=EPOCHS,\n",
    "        class_weight=weight_training_classes,\n",
    "        #callbacks=model_callbacks,\n",
    "        verbose=VERBOSE)\n",
    "    \n",
    "    models.append(model)\n",
    "    \n",
    "    # visualizing losses and accuracy\n",
    "    train_loss = hist.history['loss']\n",
    "    val_loss   = hist.history['val_loss']\n",
    "    train_acc  = hist.history['accuracy']\n",
    "    val_acc    = hist.history['val_accuracy']\n",
    "    xc         = range(len(hist.history['loss']))    \n",
    "    \n",
    "    plt.figure()\n",
    "    plt.title(f'Run {i}')\n",
    "    plt.plot(xc, train_loss, color='red')\n",
    "    plt.plot(xc, val_loss, color='pink')\n",
    "    plt.plot(xc, train_acc, color='blue')\n",
    "    plt.plot(xc, val_acc, color='cyan')\n",
    "    \n",
    "    y_pred = model.predict([\n",
    "        xs_global_i_test,\n",
    "        xs_upper_i_test,\n",
    "        xs_lower_i_test],verbose=0)\n",
    "    y_pred_bool = np.argmax(y_pred, axis=1)\n",
    "\n",
    "    print(classification_report(ys_i_test, y_pred_bool))"
   ]
  },
  {
   "cell_type": "markdown",
   "id": "ca9e0ddd",
   "metadata": {
    "scrolled": true
   },
   "source": [
    "# Model Serialization "
   ]
  },
  {
   "cell_type": "code",
   "execution_count": 62,
   "id": "7a54ee16",
   "metadata": {},
   "outputs": [],
   "source": [
    "serialize = False\n",
    "best_model = 2"
   ]
  },
  {
   "cell_type": "code",
   "execution_count": 55,
   "id": "daa64468",
   "metadata": {},
   "outputs": [],
   "source": [
    "dir_models = os.path.join(dir_root, 'models')\n",
    "dir_model = os.path.join(dir_models, 'type4-with-fe_no-aug_005')"
   ]
  },
  {
   "cell_type": "code",
   "execution_count": 56,
   "id": "e7ba5cdb",
   "metadata": {},
   "outputs": [],
   "source": [
    "if serialize:\n",
    "    model = models[best_model]\n",
    "    model.save(dir_model)"
   ]
  },
  {
   "cell_type": "code",
   "execution_count": null,
   "id": "b65e7a0a",
   "metadata": {},
   "outputs": [],
   "source": []
  },
  {
   "cell_type": "code",
   "execution_count": null,
   "id": "b9089e36",
   "metadata": {},
   "outputs": [],
   "source": []
  },
  {
   "cell_type": "code",
   "execution_count": null,
   "id": "053cdfbd",
   "metadata": {},
   "outputs": [],
   "source": []
  },
  {
   "cell_type": "code",
   "execution_count": null,
   "id": "6cb74841",
   "metadata": {},
   "outputs": [],
   "source": []
  },
  {
   "cell_type": "code",
   "execution_count": null,
   "id": "f9f45c88",
   "metadata": {},
   "outputs": [],
   "source": []
  },
  {
   "cell_type": "code",
   "execution_count": null,
   "id": "cc5d9855",
   "metadata": {},
   "outputs": [],
   "source": []
  }
 ],
 "metadata": {
  "kernelspec": {
   "display_name": "face-prognosis",
   "language": "python",
   "name": "face-prognosis"
  },
  "language_info": {
   "codemirror_mode": {
    "name": "ipython",
    "version": 3
   },
   "file_extension": ".py",
   "mimetype": "text/x-python",
   "name": "python",
   "nbconvert_exporter": "python",
   "pygments_lexer": "ipython3",
   "version": "3.8.13"
  }
 },
 "nbformat": 4,
 "nbformat_minor": 5
}
