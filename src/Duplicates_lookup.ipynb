{
 "cells": [
  {
   "cell_type": "code",
   "execution_count": null,
   "id": "35998406",
   "metadata": {},
   "outputs": [],
   "source": [
    "#TODO\n",
    "#Load training data set\n",
    "#Load data set with healthy patients\n",
    "#define a similarity measure between two series \n",
    "#\n",
    "#test each healthy patient's selected poi in selected exercise against the training set\n",
    "#plot these which are similar for visiual check"
   ]
  },
  {
   "cell_type": "code",
   "execution_count": null,
   "id": "573b04d0",
   "metadata": {},
   "outputs": [],
   "source": [
    "import os \n",
    "import json\n",
    "from datetime import datetime\n",
    "\n",
    "import math\n",
    "import numpy as np\n",
    "\n",
    "from utils.input import setup, exercise_to_input"
   ]
  },
  {
   "cell_type": "code",
   "execution_count": null,
   "id": "d1bd0875",
   "metadata": {},
   "outputs": [],
   "source": [
    "TARGET = {\n",
    "    'poi': '0_LefteyeMidbottom',\n",
    "    'exercise_id': 0,\n",
    "    'axis': 'xs'\n",
    "}\n",
    "\n",
    "THRESHOLD = 0"
   ]
  },
  {
   "cell_type": "code",
   "execution_count": null,
   "id": "444897d1",
   "metadata": {},
   "outputs": [],
   "source": [
    "def similarity(l, r):\n",
    "    #TODO implement \n",
    "    return 0.0"
   ]
  },
  {
   "cell_type": "code",
   "execution_count": null,
   "id": "8c6eedff",
   "metadata": {},
   "outputs": [],
   "source": [
    "def compare_exercise(l, r):\n",
    "    l_serries = l['pois'][TARGET['poi']][TARGET['axis']]\n",
    "    r_serries = r['pois'][TARGET['poi']][TARGET['axis']]\n",
    "    \n",
    "    similarity_score = similarity(l, r)\n",
    "    if similarity_score > THRESHOLD:\n",
    "        print('similar')\n",
    "        #TODO visualize l and r"
   ]
  },
  {
   "cell_type": "code",
   "execution_count": null,
   "id": "3d2600e5",
   "metadata": {},
   "outputs": [],
   "source": [
    "def load_data(exercise_source):\n",
    "    for file_name in os.listdir(exercise_source):\n",
    "        file_path = os.path.join(exercise_source, file_name)\n",
    "        #TOOD load data "
   ]
  },
  {
   "cell_type": "code",
   "execution_count": null,
   "id": "d6a134f8",
   "metadata": {},
   "outputs": [],
   "source": []
  }
 ],
 "metadata": {
  "kernelspec": {
   "display_name": "face-prognosis",
   "language": "python",
   "name": "face-prognosis"
  },
  "language_info": {
   "codemirror_mode": {
    "name": "ipython",
    "version": 3
   },
   "file_extension": ".py",
   "mimetype": "text/x-python",
   "name": "python",
   "nbconvert_exporter": "python",
   "pygments_lexer": "ipython3",
   "version": "3.8.13"
  }
 },
 "nbformat": 4,
 "nbformat_minor": 5
}
