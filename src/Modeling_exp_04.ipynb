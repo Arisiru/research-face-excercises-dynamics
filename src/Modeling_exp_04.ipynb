{
 "cells": [
  {
   "cell_type": "markdown",
   "id": "c3ffceac",
   "metadata": {},
   "source": [
    "# Notes"
   ]
  },
  {
   "cell_type": "markdown",
   "id": "31ddd4f2",
   "metadata": {},
   "source": [
    "Fourth iteration of the modeling:\n",
    "- modulirized data processing\n",
    "- model serialization"
   ]
  },
  {
   "cell_type": "code",
   "execution_count": 1,
   "id": "2167fbdb",
   "metadata": {
    "scrolled": true
   },
   "outputs": [],
   "source": [
    "import os \n",
    "import re\n",
    "import csv\n",
    "import json\n",
    "import math\n",
    "import random\n",
    "import time\n",
    "\n",
    "from itertools import chain\n",
    "from datetime import datetime\n",
    "\n",
    "import pandas as pd\n",
    "import numpy as np\n",
    "import tensorflow as tf\n",
    "\n",
    "from tensorflow.keras.preprocessing.sequence import pad_sequences\n",
    "from sklearn.metrics import classification_report\n",
    "\n",
    "import matplotlib.pyplot as plt\n",
    "plt.style.use('_mpl-gallery')"
   ]
  },
  {
   "cell_type": "markdown",
   "id": "77be98a7",
   "metadata": {},
   "source": [
    "Start time"
   ]
  },
  {
   "cell_type": "code",
   "execution_count": 2,
   "id": "9848fa8d",
   "metadata": {},
   "outputs": [],
   "source": [
    "TIME = {}\n",
    "\n",
    "TIME['start'] = time.time()"
   ]
  },
  {
   "cell_type": "markdown",
   "id": "e8c2277c",
   "metadata": {},
   "source": [
    "# Constants"
   ]
  },
  {
   "cell_type": "code",
   "execution_count": 3,
   "id": "bb75db30",
   "metadata": {
    "scrolled": true
   },
   "outputs": [],
   "source": [
    "SEQ_MAX_LEN = 600\n",
    "NUM_CLASSES = 6\n",
    "NUM_EXERCISES = 9\n",
    "NUM_FLAG_BS = 2"
   ]
  },
  {
   "cell_type": "code",
   "execution_count": 4,
   "id": "eed45b66",
   "metadata": {
    "scrolled": true
   },
   "outputs": [],
   "source": [
    "dir_root = os.path.join('..')\n",
    "dir_data_root = os.path.join(dir_root, 'data')\n",
    "dir_exercises = os.path.join(dir_data_root, 'json', 'patients')\n",
    "dir_exercises_augmented = os.path.join(dir_data_root, 'json', 'patients_augmented')\n",
    "dir_exercises_test = os.path.join(dir_data_root, 'json', 'test')"
   ]
  },
  {
   "cell_type": "markdown",
   "id": "acdfc4c1",
   "metadata": {},
   "source": [
    "**TODO** Implement augmenation and patients sessions for the new data set"
   ]
  },
  {
   "cell_type": "raw",
   "id": "48ca19e5",
   "metadata": {},
   "source": [
    "dir_patiens_sessions = os.path.join(dir_data_root, 'json', 'patients_sessions')"
   ]
  },
  {
   "cell_type": "markdown",
   "id": "e544c090",
   "metadata": {},
   "source": [
    "# Data prep"
   ]
  },
  {
   "cell_type": "markdown",
   "id": "6ca3d18d",
   "metadata": {},
   "source": [
    "### Build training set"
   ]
  },
  {
   "cell_type": "code",
   "execution_count": 5,
   "id": "a46206f9",
   "metadata": {},
   "outputs": [],
   "source": [
    "TIME['data_processing_start'] = time.time()"
   ]
  },
  {
   "cell_type": "code",
   "execution_count": 6,
   "id": "f31de161",
   "metadata": {},
   "outputs": [],
   "source": [
    "from utils.input import setup, exercise_to_input"
   ]
  },
  {
   "cell_type": "code",
   "execution_count": 7,
   "id": "f6e4b662",
   "metadata": {},
   "outputs": [
    {
     "data": {
      "text/plain": [
       "{'ROOT_PATH': '..',\n",
       " 'ALL_REGIONS': ['frontal', 'orbital', 'oral'],\n",
       " 'REGIONS': {'LefteyeMidbottom': 'orbital',\n",
       "  'LefteyeMidtop': 'orbital',\n",
       "  'LefteyeInnercorner': 'orbital',\n",
       "  'LefteyeOutercorner': 'orbital',\n",
       "  'LefteyebrowInner': 'frontal',\n",
       "  'LefteyebrowCenter': 'frontal',\n",
       "  'RighteyeMidbottom': 'orbital',\n",
       "  'RighteyeMidtop': 'orbital',\n",
       "  'RighteyeInnercorner': 'orbital',\n",
       "  'RighteyeOutercorner': 'orbital',\n",
       "  'RighteyebrowInner': 'frontal',\n",
       "  'RighteyebrowCenter': 'frontal',\n",
       "  'NoseTip': 'frontal',\n",
       "  'MouthLowerlipMidbottom': 'oral',\n",
       "  'MouthLeftcorner': 'oral',\n",
       "  'MouthRightcorner': 'oral',\n",
       "  'MouthUpperlipMidtop': 'oral',\n",
       "  'ChinCenter': 'oral',\n",
       "  'ForeheadCenter': 'frontal',\n",
       "  'LeftcheekCenter': 'oral',\n",
       "  'RightcheekCenter': 'oral'},\n",
       " 'BASES': {'LefteyeMidbottom': 'ForeheadCenter',\n",
       "  'LefteyeMidtop': 'ForeheadCenter',\n",
       "  'LefteyeInnercorner': 'ForeheadCenter',\n",
       "  'LefteyeOutercorner': 'ForeheadCenter',\n",
       "  'LefteyebrowInner': 'ForeheadCenter',\n",
       "  'LefteyebrowCenter': 'ForeheadCenter',\n",
       "  'RighteyeMidbottom': 'ForeheadCenter',\n",
       "  'RighteyeMidtop': 'ForeheadCenter',\n",
       "  'RighteyeInnercorner': 'ForeheadCenter',\n",
       "  'RighteyeOutercorner': 'ForeheadCenter',\n",
       "  'RighteyebrowInner': 'ForeheadCenter',\n",
       "  'RighteyebrowCenter': 'ForeheadCenter',\n",
       "  'NoseTip': 'ForeheadCenter',\n",
       "  'MouthLowerlipMidbottom': 'ForeheadCenter',\n",
       "  'MouthLeftcorner': 'ForeheadCenter',\n",
       "  'MouthRightcorner': 'ForeheadCenter',\n",
       "  'MouthUpperlipMidtop': 'ForeheadCenter',\n",
       "  'ChinCenter': 'ForeheadCenter',\n",
       "  'ForeheadCenter': 'ForeheadCenter',\n",
       "  'LeftcheekCenter': 'ForeheadCenter',\n",
       "  'RightcheekCenter': 'ForeheadCenter'},\n",
       " 'SIDES': {'left': ['LefteyeMidbottom',\n",
       "   'LefteyeMidtop',\n",
       "   'LefteyeInnercorner',\n",
       "   'LefteyeOutercorner',\n",
       "   'LefteyebrowInner',\n",
       "   'LefteyebrowCenter',\n",
       "   'MouthLeftcorner',\n",
       "   'LeftcheekCenter'],\n",
       "  'right': ['RighteyeMidbottom',\n",
       "   'RighteyeMidtop',\n",
       "   'RighteyeInnercorner',\n",
       "   'RighteyeOutercorner',\n",
       "   'RighteyebrowInner',\n",
       "   'RighteyebrowCenter',\n",
       "   'MouthRightcorner',\n",
       "   'RightcheekCenter']},\n",
       " 'SYMETRY': {'LefteyeMidbottom': 'RighteyeMidbottom',\n",
       "  'LefteyeMidtop': 'RighteyeMidtop',\n",
       "  'LefteyeInnercorner': 'RighteyeInnercorner',\n",
       "  'LefteyeOutercorner': 'RighteyeOutercorner',\n",
       "  'LefteyebrowInner': 'RighteyebrowInner',\n",
       "  'LefteyebrowCenter': 'RighteyebrowCenter',\n",
       "  'RighteyeMidbottom': 'None',\n",
       "  'RighteyeMidtop': 'None',\n",
       "  'RighteyeInnercorner': 'None',\n",
       "  'RighteyeOutercorner': 'None',\n",
       "  'RighteyebrowInner': 'None',\n",
       "  'RighteyebrowCenter': 'None',\n",
       "  'NoseTip': 'None',\n",
       "  'MouthLowerlipMidbottom': 'None',\n",
       "  'MouthLeftcorner': 'MouthRightcorner',\n",
       "  'MouthRightcorner': 'None',\n",
       "  'MouthUpperlipMidtop': 'None',\n",
       "  'ChinCenter': 'None',\n",
       "  'ForeheadCenter': 'None',\n",
       "  'LeftcheekCenter': 'RightcheekCenter',\n",
       "  'RightcheekCenter': 'None'},\n",
       " 'SEQ_MAX_LEN': 600,\n",
       " 'NUM_EXERCISES': 9,\n",
       " 'NUM_FLAG_BS': 2}"
      ]
     },
     "execution_count": 7,
     "metadata": {},
     "output_type": "execute_result"
    }
   ],
   "source": [
    "setup(os.path.join('..'), SEQ_MAX_LEN, NUM_EXERCISES, NUM_FLAG_BS)"
   ]
  },
  {
   "cell_type": "code",
   "execution_count": 8,
   "id": "a6aa3579",
   "metadata": {},
   "outputs": [],
   "source": [
    "exercises_sources = [\n",
    "    #dir_exercises_test\n",
    "    dir_exercises,\n",
    "    #dir_exercises_augmented\n",
    "]"
   ]
  },
  {
   "cell_type": "code",
   "execution_count": 9,
   "id": "a4b845ee",
   "metadata": {},
   "outputs": [],
   "source": [
    "feature_engineering_setting = {\n",
    "    'coordinates': True,\n",
    "    'normalize_by_start': False,\n",
    "    'normalize': False,\n",
    "    'direction': True,\n",
    "    'distance': True,\n",
    "    'symetry_diference': False,\n",
    "    're_base': True,\n",
    "    'transformation_to_rebase': False,\n",
    "    'extended_meta': True,\n",
    "}"
   ]
  },
  {
   "cell_type": "code",
   "execution_count": 10,
   "id": "1feeb618",
   "metadata": {},
   "outputs": [
    {
     "name": "stdout",
     "output_type": "stream",
     "text": [
      "Overall number of examples: 2419\n",
      "Overall number of training examples: 1548\n",
      "Overall number of validation examples: 388\n",
      "Overall number of testing examples: 483\n"
     ]
    }
   ],
   "source": [
    "count = 0\n",
    "for exercise_source in exercises_sources:\n",
    "    for file_name in os.listdir(exercise_source):\n",
    "        count += 1\n",
    "\n",
    "test = int(count*0.2)\n",
    "training_all = count - test\n",
    "training = int(training_all*0.8)\n",
    "validation = training_all - training\n",
    "print(f'Overall number of examples: {count}')\n",
    "print(f'Overall number of training examples: {training}')\n",
    "print(f'Overall number of validation examples: {validation}')\n",
    "print(f'Overall number of testing examples: {test}')"
   ]
  },
  {
   "cell_type": "code",
   "execution_count": 11,
   "id": "a93a7a24",
   "metadata": {
    "scrolled": true
   },
   "outputs": [
    {
     "name": "stdout",
     "output_type": "stream",
     "text": [
      "(2419,)\n",
      "(2419, 52)\n",
      "(2419, 168, 600)\n",
      "(2419, 48, 600)\n",
      "(2419, 56, 600)\n",
      "(2419, 64, 600)\n"
     ]
    }
   ],
   "source": [
    "xslist_meta = list()\n",
    "xslist_global = list()\n",
    "xslist_frontal = list()\n",
    "xslist_oral = list()\n",
    "xslist_orbital = list()\n",
    "yslist = list()\n",
    "\n",
    "for exercise_source in exercises_sources:\n",
    "    for file_name in os.listdir(exercise_source):\n",
    "        file_path = os.path.join(exercise_source, file_name)\n",
    "\n",
    "        if file_name == '.DS_Store': continue\n",
    "            \n",
    "        _xs_meta, _xs_global, _xs_frontal, _xs_oral, _xs_orbital, _ys = exercise_to_input(file_path, feature_engineering_setting)\n",
    "\n",
    "        yslist.append(_ys)\n",
    "        xslist_meta.append(_xs_meta)  \n",
    "        xslist_global.append(_xs_global)\n",
    "        xslist_frontal.append(_xs_frontal)\n",
    "        xslist_oral.append(_xs_oral)\n",
    "        xslist_orbital.append(_xs_orbital)\n",
    "            \n",
    "ys = np.array(yslist, dtype='int')\n",
    "xs_meta = np.array(xslist_meta, dtype='float32')   \n",
    "xs_global = np.array(xslist_global, dtype='float32') \n",
    "xs_frontal = np.array(xslist_frontal, dtype='float32') \n",
    "xs_oral = np.array(xslist_oral, dtype='float32') \n",
    "xs_orbital = np.array(xslist_orbital, dtype='float32') \n",
    "\n",
    "print(ys.shape)\n",
    "print(xs_meta.shape)\n",
    "print(xs_global.shape)\n",
    "print(xs_frontal.shape)\n",
    "print(xs_oral.shape)\n",
    "print(xs_orbital.shape)"
   ]
  },
  {
   "cell_type": "code",
   "execution_count": null,
   "id": "813b9ef1-3856-4450-b713-8f92937d521c",
   "metadata": {},
   "outputs": [],
   "source": []
  },
  {
   "cell_type": "markdown",
   "id": "ecd19b50",
   "metadata": {},
   "source": [
    "Time preprocessing"
   ]
  },
  {
   "cell_type": "code",
   "execution_count": 12,
   "id": "29640c4d",
   "metadata": {},
   "outputs": [],
   "source": [
    "TIME['data_processing_end'] = time.time()"
   ]
  },
  {
   "cell_type": "raw",
   "id": "79591e9f",
   "metadata": {},
   "source": [
    "print(ys)"
   ]
  },
  {
   "cell_type": "raw",
   "id": "e9048f59",
   "metadata": {
    "jupyter": {
     "source_hidden": true
    }
   },
   "source": [
    "(39,)\n",
    "(39, 9)\n",
    "(39, 126, 600)\n",
    "(39, 36, 600)\n",
    "(39, 42, 600)\n",
    "(39, 48, 600)"
   ]
  },
  {
   "cell_type": "markdown",
   "id": "eeba3312",
   "metadata": {},
   "source": [
    "## Modeling"
   ]
  },
  {
   "cell_type": "code",
   "execution_count": 13,
   "id": "db63f1bb",
   "metadata": {
    "scrolled": true
   },
   "outputs": [],
   "source": [
    "from tensorflow.keras.layers import Dense\n",
    "from tensorflow.keras.layers import LSTM\n",
    "from tensorflow.keras.layers import Conv1D\n",
    "from tensorflow.keras.layers import Conv2D\n",
    "from tensorflow.keras.layers import MaxPooling1D\n",
    "from tensorflow.keras.layers import MaxPooling2D\n",
    "from tensorflow.keras.layers import Flatten\n",
    "from tensorflow.keras.layers import Input\n",
    "from tensorflow.keras.layers import concatenate\n",
    "from tensorflow.keras.layers import BatchNormalization\n",
    "from tensorflow.keras.layers import Dropout\n",
    "from tensorflow.keras.models import Model\n",
    "from tensorflow.keras.optimizers import Adam\n",
    "\n",
    "from sklearn.utils import class_weight"
   ]
  },
  {
   "cell_type": "code",
   "execution_count": 14,
   "id": "5f06345c",
   "metadata": {},
   "outputs": [],
   "source": [
    "def get_dnn(inputLayer, region='default'):     \n",
    "    m = Dense(4, activation=\"relu\",name=f'{region}-Dense-1')(inputLayer)\n",
    "    m = Model(inputs=inputLayer, outputs=m)\n",
    "\n",
    "    return m"
   ]
  },
  {
   "cell_type": "code",
   "execution_count": 15,
   "id": "fc36a0ca",
   "metadata": {},
   "outputs": [],
   "source": [
    "def get_cnn(inputLayer, region='default'):\n",
    "    chanDim = -1    \n",
    "    m = Conv1D(16, 3, padding='same', activation='relu', name=f'{region}-Convolution-1')(inputLayer)\n",
    "    m = BatchNormalization(axis=chanDim, name=f'{region}-Normalization-1')(m)\n",
    "    m = MaxPooling1D((2), name=f'{region}-Pooling-1')(m)\n",
    "    m = Conv1D(32, 3, padding='same', activation='relu', name=f'{region}-Convolution-2')(m)\n",
    "    m = BatchNormalization(axis=chanDim, name=f'{region}-Normalization-2')(m)\n",
    "    m = MaxPooling1D((2), name=f'{region}-Pooling-2')(m)\n",
    "    m = Conv1D(64, 3, padding='same', activation='relu', name=f'{region}-Convolution-3')(m)\n",
    "    m = BatchNormalization(axis=chanDim, name=f'{region}-Normalization-3')(m)\n",
    "    m = MaxPooling1D((2), name=f'{region}-Pooling-3')(m)\n",
    "    #m = Conv1D(64, 3, padding='same', activation='relu', name=f'{region}-Convolution-4')(m)\n",
    "    #m = BatchNormalization(axis=chanDim, name=f'{region}-Normalization-4')(m)\n",
    "    #m = MaxPooling1D((2), name=f'{region}-Pooling-4')(m)\n",
    "    m = Flatten(name=f'{region}-Flatten-1')(m)\n",
    "    m = Dropout(0.3, name=f'{region}-Dropout-1')(m)\n",
    "    m = Dense(128, activation=\"relu\", name=f'{region}-Dense-1')(m)\n",
    "    m = Model(inputs=inputLayer, outputs=m)\n",
    "\n",
    "    return m"
   ]
  },
  {
   "cell_type": "code",
   "execution_count": 16,
   "id": "29b2c732",
   "metadata": {
    "scrolled": true
   },
   "outputs": [],
   "source": [
    "def get_model():\n",
    "    input_meta = Input(shape=xs_meta.shape[1:], name='Meta-Input')\n",
    "    model_meta = get_dnn(input_meta, region='Meta')\n",
    "    \n",
    "    input_global = Input(shape=xs_global.shape[1:], name='Global-Input')\n",
    "    model_global = get_cnn(input_global, region='Global')\n",
    "    \n",
    "    input_frontal = Input(shape=xs_frontal.shape[1:], name='Frontal-Input')\n",
    "    model_frontal = get_cnn(input_frontal, region='Frontal')  \n",
    "\n",
    "    input_oral = Input(shape=xs_oral.shape[1:], name='Oral-Input')\n",
    "    model_oral = get_cnn(input_oral, region='Oral')  \n",
    "    \n",
    "    input_orbital = Input(shape=xs_orbital.shape[1:], name='Orbital-Input')\n",
    "    model_orbital = get_cnn(input_orbital, region='Orbital')  \n",
    "    \n",
    "    \n",
    "    model_contatenate = concatenate([\n",
    "        model_meta.output, \n",
    "        model_global.output,\n",
    "        model_frontal.output,\n",
    "        model_oral.output,\n",
    "        model_orbital.output,\n",
    "    ])\n",
    "    \n",
    "    model_contatenate = Dense(32, activation=\"relu\")(model_contatenate)\n",
    "    model_contatenate = Dense(6, activation=\"softmax\")(model_contatenate)\n",
    "        \n",
    "    model = Model(inputs=[\n",
    "        model_meta.input,\n",
    "        model_global.input,\n",
    "        model_frontal.input,\n",
    "        model_oral.input,\n",
    "        model_orbital.input\n",
    "    ], outputs=model_contatenate)\n",
    "\n",
    "    model.compile(\n",
    "        loss=\"sparse_categorical_crossentropy\", \n",
    "        optimizer=Adam(learning_rate=1e-3, decay=1e-3 / 200),\n",
    "        metrics=['accuracy']\n",
    "    )\n",
    "    \n",
    "    \n",
    "    return model"
   ]
  },
  {
   "cell_type": "code",
   "execution_count": 17,
   "id": "2377d19f",
   "metadata": {},
   "outputs": [
    {
     "name": "stdout",
     "output_type": "stream",
     "text": [
      "Metal device set to: Apple M1\n"
     ]
    },
    {
     "name": "stderr",
     "output_type": "stream",
     "text": [
      "2024-12-16 15:53:57.521429: I tensorflow/core/common_runtime/pluggable_device/pluggable_device_factory.cc:306] Could not identify NUMA node of platform GPU ID 0, defaulting to 0. Your kernel may not have been built with NUMA support.\n",
      "2024-12-16 15:53:57.523471: I tensorflow/core/common_runtime/pluggable_device/pluggable_device_factory.cc:272] Created TensorFlow device (/job:localhost/replica:0/task:0/device:GPU:0 with 0 MB memory) -> physical PluggableDevice (device: 0, name: METAL, pci bus id: <undefined>)\n"
     ]
    },
    {
     "name": "stdout",
     "output_type": "stream",
     "text": [
      "Model: \"model_5\"\n",
      "__________________________________________________________________________________________________\n",
      " Layer (type)                   Output Shape         Param #     Connected to                     \n",
      "==================================================================================================\n",
      " Global-Input (InputLayer)      [(None, 168, 600)]   0           []                               \n",
      "                                                                                                  \n",
      " Frontal-Input (InputLayer)     [(None, 48, 600)]    0           []                               \n",
      "                                                                                                  \n",
      " Oral-Input (InputLayer)        [(None, 56, 600)]    0           []                               \n",
      "                                                                                                  \n",
      " Orbital-Input (InputLayer)     [(None, 64, 600)]    0           []                               \n",
      "                                                                                                  \n",
      " Global-Convolution-1 (Conv1D)  (None, 168, 16)      28816       ['Global-Input[0][0]']           \n",
      "                                                                                                  \n",
      " Frontal-Convolution-1 (Conv1D)  (None, 48, 16)      28816       ['Frontal-Input[0][0]']          \n",
      "                                                                                                  \n",
      " Oral-Convolution-1 (Conv1D)    (None, 56, 16)       28816       ['Oral-Input[0][0]']             \n",
      "                                                                                                  \n",
      " Orbital-Convolution-1 (Conv1D)  (None, 64, 16)      28816       ['Orbital-Input[0][0]']          \n",
      "                                                                                                  \n",
      " Global-Normalization-1 (BatchN  (None, 168, 16)     64          ['Global-Convolution-1[0][0]']   \n",
      " ormalization)                                                                                    \n",
      "                                                                                                  \n",
      " Frontal-Normalization-1 (Batch  (None, 48, 16)      64          ['Frontal-Convolution-1[0][0]']  \n",
      " Normalization)                                                                                   \n",
      "                                                                                                  \n",
      " Oral-Normalization-1 (BatchNor  (None, 56, 16)      64          ['Oral-Convolution-1[0][0]']     \n",
      " malization)                                                                                      \n",
      "                                                                                                  \n",
      " Orbital-Normalization-1 (Batch  (None, 64, 16)      64          ['Orbital-Convolution-1[0][0]']  \n",
      " Normalization)                                                                                   \n",
      "                                                                                                  \n",
      " Global-Pooling-1 (MaxPooling1D  (None, 84, 16)      0           ['Global-Normalization-1[0][0]'] \n",
      " )                                                                                                \n",
      "                                                                                                  \n",
      " Frontal-Pooling-1 (MaxPooling1  (None, 24, 16)      0           ['Frontal-Normalization-1[0][0]']\n",
      " D)                                                                                               \n",
      "                                                                                                  \n",
      " Oral-Pooling-1 (MaxPooling1D)  (None, 28, 16)       0           ['Oral-Normalization-1[0][0]']   \n",
      "                                                                                                  \n",
      " Orbital-Pooling-1 (MaxPooling1  (None, 32, 16)      0           ['Orbital-Normalization-1[0][0]']\n",
      " D)                                                                                               \n",
      "                                                                                                  \n",
      " Global-Convolution-2 (Conv1D)  (None, 84, 32)       1568        ['Global-Pooling-1[0][0]']       \n",
      "                                                                                                  \n",
      " Frontal-Convolution-2 (Conv1D)  (None, 24, 32)      1568        ['Frontal-Pooling-1[0][0]']      \n",
      "                                                                                                  \n",
      " Oral-Convolution-2 (Conv1D)    (None, 28, 32)       1568        ['Oral-Pooling-1[0][0]']         \n",
      "                                                                                                  \n",
      " Orbital-Convolution-2 (Conv1D)  (None, 32, 32)      1568        ['Orbital-Pooling-1[0][0]']      \n",
      "                                                                                                  \n",
      " Global-Normalization-2 (BatchN  (None, 84, 32)      128         ['Global-Convolution-2[0][0]']   \n",
      " ormalization)                                                                                    \n",
      "                                                                                                  \n",
      " Frontal-Normalization-2 (Batch  (None, 24, 32)      128         ['Frontal-Convolution-2[0][0]']  \n",
      " Normalization)                                                                                   \n",
      "                                                                                                  \n",
      " Oral-Normalization-2 (BatchNor  (None, 28, 32)      128         ['Oral-Convolution-2[0][0]']     \n",
      " malization)                                                                                      \n",
      "                                                                                                  \n",
      " Orbital-Normalization-2 (Batch  (None, 32, 32)      128         ['Orbital-Convolution-2[0][0]']  \n",
      " Normalization)                                                                                   \n",
      "                                                                                                  \n",
      " Global-Pooling-2 (MaxPooling1D  (None, 42, 32)      0           ['Global-Normalization-2[0][0]'] \n",
      " )                                                                                                \n",
      "                                                                                                  \n",
      " Frontal-Pooling-2 (MaxPooling1  (None, 12, 32)      0           ['Frontal-Normalization-2[0][0]']\n",
      " D)                                                                                               \n",
      "                                                                                                  \n",
      " Oral-Pooling-2 (MaxPooling1D)  (None, 14, 32)       0           ['Oral-Normalization-2[0][0]']   \n",
      "                                                                                                  \n",
      " Orbital-Pooling-2 (MaxPooling1  (None, 16, 32)      0           ['Orbital-Normalization-2[0][0]']\n",
      " D)                                                                                               \n",
      "                                                                                                  \n",
      " Global-Convolution-3 (Conv1D)  (None, 42, 64)       6208        ['Global-Pooling-2[0][0]']       \n",
      "                                                                                                  \n",
      " Frontal-Convolution-3 (Conv1D)  (None, 12, 64)      6208        ['Frontal-Pooling-2[0][0]']      \n",
      "                                                                                                  \n",
      " Oral-Convolution-3 (Conv1D)    (None, 14, 64)       6208        ['Oral-Pooling-2[0][0]']         \n",
      "                                                                                                  \n",
      " Orbital-Convolution-3 (Conv1D)  (None, 16, 64)      6208        ['Orbital-Pooling-2[0][0]']      \n",
      "                                                                                                  \n",
      " Global-Normalization-3 (BatchN  (None, 42, 64)      256         ['Global-Convolution-3[0][0]']   \n",
      " ormalization)                                                                                    \n",
      "                                                                                                  \n",
      " Frontal-Normalization-3 (Batch  (None, 12, 64)      256         ['Frontal-Convolution-3[0][0]']  \n",
      " Normalization)                                                                                   \n",
      "                                                                                                  \n",
      " Oral-Normalization-3 (BatchNor  (None, 14, 64)      256         ['Oral-Convolution-3[0][0]']     \n",
      " malization)                                                                                      \n",
      "                                                                                                  \n",
      " Orbital-Normalization-3 (Batch  (None, 16, 64)      256         ['Orbital-Convolution-3[0][0]']  \n",
      " Normalization)                                                                                   \n",
      "                                                                                                  \n",
      " Global-Pooling-3 (MaxPooling1D  (None, 21, 64)      0           ['Global-Normalization-3[0][0]'] \n",
      " )                                                                                                \n",
      "                                                                                                  \n",
      " Frontal-Pooling-3 (MaxPooling1  (None, 6, 64)       0           ['Frontal-Normalization-3[0][0]']\n",
      " D)                                                                                               \n",
      "                                                                                                  \n",
      " Oral-Pooling-3 (MaxPooling1D)  (None, 7, 64)        0           ['Oral-Normalization-3[0][0]']   \n",
      "                                                                                                  \n",
      " Orbital-Pooling-3 (MaxPooling1  (None, 8, 64)       0           ['Orbital-Normalization-3[0][0]']\n",
      " D)                                                                                               \n",
      "                                                                                                  \n",
      " Global-Flatten-1 (Flatten)     (None, 1344)         0           ['Global-Pooling-3[0][0]']       \n",
      "                                                                                                  \n",
      " Frontal-Flatten-1 (Flatten)    (None, 384)          0           ['Frontal-Pooling-3[0][0]']      \n",
      "                                                                                                  \n",
      " Oral-Flatten-1 (Flatten)       (None, 448)          0           ['Oral-Pooling-3[0][0]']         \n",
      "                                                                                                  \n",
      " Orbital-Flatten-1 (Flatten)    (None, 512)          0           ['Orbital-Pooling-3[0][0]']      \n",
      "                                                                                                  \n",
      " Meta-Input (InputLayer)        [(None, 52)]         0           []                               \n",
      "                                                                                                  \n",
      " Global-Dropout-1 (Dropout)     (None, 1344)         0           ['Global-Flatten-1[0][0]']       \n",
      "                                                                                                  \n",
      " Frontal-Dropout-1 (Dropout)    (None, 384)          0           ['Frontal-Flatten-1[0][0]']      \n",
      "                                                                                                  \n",
      " Oral-Dropout-1 (Dropout)       (None, 448)          0           ['Oral-Flatten-1[0][0]']         \n",
      "                                                                                                  \n",
      " Orbital-Dropout-1 (Dropout)    (None, 512)          0           ['Orbital-Flatten-1[0][0]']      \n",
      "                                                                                                  \n",
      " Meta-Dense-1 (Dense)           (None, 4)            212         ['Meta-Input[0][0]']             \n",
      "                                                                                                  \n",
      " Global-Dense-1 (Dense)         (None, 128)          172160      ['Global-Dropout-1[0][0]']       \n",
      "                                                                                                  \n",
      " Frontal-Dense-1 (Dense)        (None, 128)          49280       ['Frontal-Dropout-1[0][0]']      \n",
      "                                                                                                  \n",
      " Oral-Dense-1 (Dense)           (None, 128)          57472       ['Oral-Dropout-1[0][0]']         \n",
      "                                                                                                  \n",
      " Orbital-Dense-1 (Dense)        (None, 128)          65664       ['Orbital-Dropout-1[0][0]']      \n",
      "                                                                                                  \n",
      " concatenate (Concatenate)      (None, 516)          0           ['Meta-Dense-1[0][0]',           \n",
      "                                                                  'Global-Dense-1[0][0]',         \n",
      "                                                                  'Frontal-Dense-1[0][0]',        \n",
      "                                                                  'Oral-Dense-1[0][0]',           \n",
      "                                                                  'Orbital-Dense-1[0][0]']        \n",
      "                                                                                                  \n",
      " dense (Dense)                  (None, 32)           16544       ['concatenate[0][0]']            \n",
      "                                                                                                  \n",
      " dense_1 (Dense)                (None, 6)            198         ['dense[0][0]']                  \n",
      "                                                                                                  \n",
      "==================================================================================================\n",
      "Total params: 509,690\n",
      "Trainable params: 508,794\n",
      "Non-trainable params: 896\n",
      "__________________________________________________________________________________________________\n"
     ]
    }
   ],
   "source": [
    "test_model = get_model()\n",
    "test_model.summary()"
   ]
  },
  {
   "cell_type": "code",
   "execution_count": 18,
   "id": "82dd2364",
   "metadata": {
    "scrolled": true
   },
   "outputs": [
    {
     "name": "stdout",
     "output_type": "stream",
     "text": [
      "{0, 1, 2, 3, 4, 5}\n"
     ]
    }
   ],
   "source": [
    "print(set(ys))"
   ]
  },
  {
   "cell_type": "raw",
   "id": "dada9459",
   "metadata": {
    "scrolled": true
   },
   "source": [
    "weight_training_classes = {0: 0.32075471698113206, \n",
    "                           1: 1.1333333333333333,\n",
    "                           2: 1.3076923076923077, \n",
    "                           3: 3.4, \n",
    "                           4: 3.4,\n",
    "                           5: 1.5454545454545454}"
   ]
  },
  {
   "cell_type": "markdown",
   "id": "accfe635",
   "metadata": {},
   "source": [
    "### K-fold evaluation"
   ]
  },
  {
   "cell_type": "code",
   "execution_count": 19,
   "id": "3c142f3a",
   "metadata": {},
   "outputs": [],
   "source": [
    "k = 5\n",
    "k_limit = 1\n",
    "train = 0.8\n",
    "val = 0.2\n",
    "test = 0.2"
   ]
  },
  {
   "cell_type": "code",
   "execution_count": 20,
   "id": "8aacb4ee",
   "metadata": {},
   "outputs": [],
   "source": [
    "VERBOSE = 0\n",
    "EPOCHS = 400\n",
    "BATCH_SIZE = 16"
   ]
  },
  {
   "cell_type": "code",
   "execution_count": 21,
   "id": "3f377532",
   "metadata": {},
   "outputs": [],
   "source": [
    "from sklearn.model_selection import KFold"
   ]
  },
  {
   "cell_type": "code",
   "execution_count": 22,
   "id": "8f442eac",
   "metadata": {},
   "outputs": [],
   "source": [
    "def get_k_indx(k, n):\n",
    "\n",
    "    k_fold = KFold(n_splits=k)\n",
    "    train_ = []\n",
    "    val_ = []\n",
    "    test_ = []\n",
    "    indx = []\n",
    "\n",
    "    for train_indices, test_indices in k_fold.split(ys):\n",
    "        n_k = len(train_indices)\n",
    "        val_split = int(n_k * train)\n",
    "        indx.append([train_indices[:val_split],train_indices[val_split + 1:], test_indices])\n",
    "    \n",
    "    return indx"
   ]
  },
  {
   "cell_type": "raw",
   "id": "9cbc755e",
   "metadata": {},
   "source": [
    "print(get_k_indx(k, len(ys)))"
   ]
  },
  {
   "cell_type": "code",
   "execution_count": 23,
   "id": "e67b070a",
   "metadata": {},
   "outputs": [],
   "source": [
    "%matplotlib inline"
   ]
  },
  {
   "cell_type": "code",
   "execution_count": 29,
   "id": "c200e137",
   "metadata": {
    "scrolled": true
   },
   "outputs": [
    {
     "name": "stderr",
     "output_type": "stream",
     "text": [
      "2024-12-16 17:54:47.008288: I tensorflow/core/grappler/optimizers/custom_graph_optimizer_registry.cc:114] Plugin optimizer for device_type GPU is enabled.\n",
      "2024-12-16 17:54:55.254305: I tensorflow/core/grappler/optimizers/custom_graph_optimizer_registry.cc:114] Plugin optimizer for device_type GPU is enabled.\n",
      "2024-12-16 18:17:14.684097: I tensorflow/core/grappler/optimizers/custom_graph_optimizer_registry.cc:114] Plugin optimizer for device_type GPU is enabled.\n"
     ]
    },
    {
     "name": "stdout",
     "output_type": "stream",
     "text": [
      "              precision    recall  f1-score   support\n",
      "\n",
      "           0       0.85      0.88      0.86       234\n",
      "           1       0.76      0.70      0.73        67\n",
      "           2       0.73      0.67      0.70        61\n",
      "           3       0.80      0.92      0.86        26\n",
      "           4       0.76      0.93      0.84        28\n",
      "           5       0.87      0.78      0.82        68\n",
      "\n",
      "    accuracy                           0.82       484\n",
      "   macro avg       0.80      0.81      0.80       484\n",
      "weighted avg       0.82      0.82      0.82       484\n",
      "\n"
     ]
    },
    {
     "data": {
      "image/png": "[encoded data removed]",
      "text/plain": [
       "<Figure size 1000x200 with 5 Axes>"
      ]
     },
     "metadata": {},
     "output_type": "display_data"
    },
    {
     "data": {
      "text/plain": [
       "<Figure size 200x200 with 0 Axes>"
      ]
     },
     "metadata": {},
     "output_type": "display_data"
    }
   ],
   "source": [
    "indxs = get_k_indx(k, len(ys))\n",
    "models = []\n",
    "\n",
    "fig, axs = plt.subplots(1,5,figsize=(10,2)) \n",
    "colors = ['red', 'pink', 'blue', 'cyan']\n",
    "labels = ['Loss training', 'Loss validation', 'Accuracy training', 'Accuracy validation']\n",
    "\n",
    "for i in range(k_limit):\n",
    "    TIME[f'k_{i}_training_start'] = time.time()\n",
    "    train_indx, val_indx, test_indx  = indxs[i]\n",
    "\n",
    "    xs_meta_i = xs_meta[train_indx]\n",
    "    xs_meta_i_val = xs_meta[val_indx]\n",
    "    xs_meta_i_test = xs_meta[test_indx]\n",
    "    \n",
    "    xs_global_i = xs_global[train_indx]\n",
    "    xs_global_i_val = xs_global[val_indx]\n",
    "    xs_global_i_test = xs_global[test_indx]\n",
    "    \n",
    "    xs_frontal_i = xs_frontal[train_indx]\n",
    "    xs_frontal_i_val = xs_frontal[val_indx]\n",
    "    xs_frontal_i_test = xs_frontal[test_indx]\n",
    "    \n",
    "    xs_oral_i = xs_oral[train_indx]\n",
    "    xs_oral_i_val = xs_oral[val_indx]\n",
    "    xs_oral_i_test = xs_oral[test_indx]\n",
    "    \n",
    "    xs_orbital_i = xs_orbital[train_indx]\n",
    "    xs_orbital_i_val = xs_orbital[val_indx]\n",
    "    xs_orbital_i_test = xs_orbital[test_indx]\n",
    "    \n",
    "    ys_i = ys[train_indx]\n",
    "    ys_i_val = ys[val_indx]\n",
    "    ys_i_test = ys[test_indx]\n",
    "    \n",
    "    \n",
    "    class_weights = class_weight.compute_class_weight(class_weight='balanced',\n",
    "                                                 classes = np.unique(ys_i),\n",
    "                                                 y=ys_i)\n",
    "    available_classes = np.unique(ys_i)\n",
    "    weight_training_classes = {\n",
    "        0: 0,\n",
    "        1: 0,\n",
    "        2: 0,\n",
    "        3: 0,\n",
    "        4: 0,\n",
    "        5: 0,\n",
    "    }\n",
    "    \n",
    "    for indx, value in enumerate(class_weights):\n",
    "        weight_training_classes[available_classes[indx]] = value\n",
    "\n",
    "    #print(weight_training_classes)\n",
    "\n",
    "    model = get_model()\n",
    "\n",
    "    model_callbacks = [\n",
    "        tf.keras.callbacks.EarlyStopping(patience=20)\n",
    "    ]\n",
    "\n",
    "    hist = model.fit(\n",
    "        x=[\n",
    "            xs_meta_i, \n",
    "            xs_global_i, \n",
    "            xs_frontal_i,\n",
    "            xs_oral_i,\n",
    "            xs_orbital_i], y=ys_i, \n",
    "        validation_data=([\n",
    "            xs_meta_i_val,\n",
    "            xs_global_i_val,\n",
    "            xs_frontal_i_val,\n",
    "            xs_oral_i_val,\n",
    "            xs_orbital_i_val], ys_i_val),\n",
    "        batch_size=BATCH_SIZE, \n",
    "        epochs=EPOCHS,\n",
    "        class_weight=weight_training_classes,\n",
    "        #callbacks=model_callbacks,\n",
    "        verbose=VERBOSE)\n",
    "    \n",
    "    models.append(model)\n",
    "\n",
    "    # visualizing losses and accuracy\n",
    "    train_loss = hist.history['loss']\n",
    "    val_loss   = hist.history['val_loss']\n",
    "    train_acc  = hist.history['accuracy']\n",
    "    val_acc    = hist.history['val_accuracy']\n",
    "    xc         = range(len(hist.history['loss']))    \n",
    "    \n",
    "    axs[i].set_title(f'Run {i}')\n",
    "    axs[i].plot(xc, train_loss, color=colors[0], label=labels[0])\n",
    "    axs[i].plot(xc, val_loss, color=colors[1], label=labels[1])\n",
    "    axs[i].plot(xc, train_acc, color=colors[2], label=labels[2])\n",
    "    axs[i].plot(xc, val_acc, color=colors[3], label=labels[3])\n",
    "    \n",
    "    TIME[f'k_{i}_training_end'] = time.time()\n",
    "    TIME[f'k_{i}_evaluation_start'] = time.time()\n",
    "\n",
    "    y_pred = model.predict([\n",
    "        xs_meta_i_test,\n",
    "        xs_global_i_test,\n",
    "        xs_frontal_i_test,\n",
    "        xs_oral_i_test,\n",
    "        xs_orbital_i_test],verbose=0)\n",
    "    y_pred_bool = np.argmax(y_pred, axis=1)\n",
    "    \n",
    "    TIME[f'k_{i}_evaluation_end'] = time.time()\n",
    "\n",
    "    print(classification_report(ys_i_test, y_pred_bool))\n",
    "    \n",
    "fig.legend(labels, ncol=1, bbox_to_anchor=(1.2,0.5), loc=\"center right\", fontsize=10, \n",
    "           bbox_transform=plt.gcf().transFigure)\n",
    "\n",
    "plt.show()\n",
    "plt.savefig(f'mphnn_runs_02_{int(time.time())}.svg', format='svg', dpi=1200)    "
   ]
  },
  {
   "cell_type": "markdown",
   "id": "88901a5b",
   "metadata": {},
   "source": [
    "End time"
   ]
  },
  {
   "cell_type": "code",
   "execution_count": 25,
   "id": "ffef340c",
   "metadata": {},
   "outputs": [],
   "source": [
    "TIME['end'] = time.time()"
   ]
  },
  {
   "cell_type": "code",
   "execution_count": 26,
   "id": "af92638f",
   "metadata": {},
   "outputs": [
    {
     "name": "stdout",
     "output_type": "stream",
     "text": [
      "Total processing took 2038.9394471645355\n",
      "Data processing took 453.13435196876526\n",
      "Run 0 took training 1581.930465221405 evaluation 2.418992042541504\n"
     ]
    }
   ],
   "source": [
    "print(f'Total processing took {TIME[\"end\"] - TIME[\"start\"]}')\n",
    "print(f'Data processing took {TIME[\"data_processing_end\"] - TIME[\"data_processing_start\"]}')\n",
    "for i in range(k_limit):\n",
    "    print(f'Run {i} took training {TIME[f\"k_{i}_training_end\"] - TIME[f\"k_{i}_training_start\"]} evaluation {TIME[f\"k_{i}_evaluation_end\"] - TIME[f\"k_{i}_evaluation_start\"]}')\n"
   ]
  },
  {
   "cell_type": "code",
   "execution_count": 27,
   "id": "5213e0f9",
   "metadata": {},
   "outputs": [
    {
     "ename": "SyntaxError",
     "evalue": "invalid syntax (2521010338.py, line 1)",
     "output_type": "error",
     "traceback": [
      "\u001b[0;36m  Cell \u001b[0;32mIn[27], line 1\u001b[0;36m\u001b[0m\n\u001b[0;31m    Total processing took 11175.106185913086\u001b[0m\n\u001b[0m          ^\u001b[0m\n\u001b[0;31mSyntaxError\u001b[0m\u001b[0;31m:\u001b[0m invalid syntax\n"
     ]
    }
   ],
   "source": [
    "Total processing took 11175.106185913086\n",
    "Data processing took 2145.1009118556976\n",
    "Run 0 took training 9018.474169969559 evaluation 9.362757205963135"
   ]
  },
  {
   "cell_type": "raw",
   "id": "b36b2065",
   "metadata": {},
   "source": [
    "Total processing took 8410.828200817108\n",
    "Data processing took 432.10246777534485\n",
    "Run 0 took training 1600.00035572052 evaluation 2.924945831298828\n",
    "Run 1 took training 1513.8305730819702 evaluation 3.651282787322998\n",
    "Run 2 took training 1569.2452821731567 evaluation 4.806945085525513\n",
    "Run 3 took training 1600.6460349559784 evaluation 5.401340961456299\n",
    "Run 4 took training 1670.5405218601227 evaluation 6.65657901763916"
   ]
  },
  {
   "cell_type": "code",
   "execution_count": null,
   "id": "f1a238ae",
   "metadata": {},
   "outputs": [],
   "source": [
    "a = [2.924945831298828, 3.651282787322998, 4.806945085525513, 5.401340961456299, 6.65657901763916]\n",
    "(sum(a)/len(a))/484"
   ]
  },
  {
   "cell_type": "code",
   "execution_count": null,
   "id": "6a80e37b",
   "metadata": {},
   "outputs": [],
   "source": [
    "a = [1600.00035572052, 1513.8305730819702, 1569.2452821731567, 1600.6460349559784, 1670.5405218601227]\n",
    "(sum(a)/len(a))"
   ]
  },
  {
   "cell_type": "code",
   "execution_count": null,
   "id": "3d87033e",
   "metadata": {},
   "outputs": [],
   "source": [
    "9.362757205963135 / 2419"
   ]
  },
  {
   "cell_type": "markdown",
   "id": "ca9e0ddd",
   "metadata": {
    "scrolled": true
   },
   "source": [
    "# Model Serialization "
   ]
  },
  {
   "cell_type": "code",
   "execution_count": null,
   "id": "7a54ee16",
   "metadata": {},
   "outputs": [],
   "source": [
    "serialize = False\n",
    "best_model = 2"
   ]
  },
  {
   "cell_type": "code",
   "execution_count": null,
   "id": "daa64468",
   "metadata": {},
   "outputs": [],
   "source": [
    "dir_models = os.path.join(dir_root, 'models')\n",
    "dir_model = os.path.join(dir_models, 'type4-with-fe_aug_006')"
   ]
  },
  {
   "cell_type": "code",
   "execution_count": null,
   "id": "e7ba5cdb",
   "metadata": {},
   "outputs": [],
   "source": [
    "if serialize:\n",
    "    model = models[best_model]\n",
    "    model.save(dir_model)"
   ]
  },
  {
   "cell_type": "code",
   "execution_count": null,
   "id": "b65e7a0a",
   "metadata": {},
   "outputs": [],
   "source": []
  },
  {
   "cell_type": "code",
   "execution_count": null,
   "id": "b9089e36",
   "metadata": {},
   "outputs": [],
   "source": []
  },
  {
   "cell_type": "code",
   "execution_count": null,
   "id": "053cdfbd",
   "metadata": {},
   "outputs": [],
   "source": []
  },
  {
   "cell_type": "code",
   "execution_count": null,
   "id": "6cb74841",
   "metadata": {},
   "outputs": [],
   "source": []
  },
  {
   "cell_type": "code",
   "execution_count": null,
   "id": "f9f45c88",
   "metadata": {},
   "outputs": [],
   "source": []
  },
  {
   "cell_type": "code",
   "execution_count": null,
   "id": "cc5d9855",
   "metadata": {},
   "outputs": [],
   "source": []
  },
  {
   "cell_type": "code",
   "execution_count": null,
   "id": "874daa69",
   "metadata": {},
   "outputs": [],
   "source": []
  },
  {
   "cell_type": "code",
   "execution_count": null,
   "id": "7cd44773",
   "metadata": {},
   "outputs": [],
   "source": []
  }
 ],
 "metadata": {
  "kernelspec": {
   "display_name": "face-prognosis",
   "language": "python",
   "name": "face-prognosis"
  },
  "language_info": {
   "codemirror_mode": {
    "name": "ipython",
    "version": 3
   },
   "file_extension": ".py",
   "mimetype": "text/x-python",
   "name": "python",
   "nbconvert_exporter": "python",
   "pygments_lexer": "ipython3",
   "version": "3.8.13"
  }
 },
 "nbformat": 4,
 "nbformat_minor": 5
}
