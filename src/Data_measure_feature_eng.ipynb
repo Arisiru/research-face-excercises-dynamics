{
 "cells": [
  {
   "cell_type": "markdown",
   "id": "c3ffceac",
   "metadata": {},
   "source": [
    "# Notes"
   ]
  },
  {
   "cell_type": "markdown",
   "id": "31ddd4f2",
   "metadata": {},
   "source": [
    "Trying to understand the difference between time series"
   ]
  },
  {
   "cell_type": "code",
   "execution_count": 1,
   "id": "2167fbdb",
   "metadata": {
    "scrolled": true
   },
   "outputs": [],
   "source": [
    "import os \n",
    "import re\n",
    "import csv\n",
    "import json\n",
    "import math\n",
    "import random\n",
    "import time\n",
    "\n",
    "from itertools import chain\n",
    "from datetime import datetime\n",
    "\n",
    "import pandas as pd\n",
    "import numpy as np\n",
    "import tensorflow as tf\n",
    "\n",
    "from tensorflow.keras.preprocessing.sequence import pad_sequences\n",
    "from sklearn.metrics import classification_report\n",
    "\n",
    "import matplotlib.pyplot as plt\n",
    "plt.style.use('_mpl-gallery')"
   ]
  },
  {
   "cell_type": "markdown",
   "id": "77be98a7",
   "metadata": {},
   "source": [
    "Start time"
   ]
  },
  {
   "cell_type": "code",
   "execution_count": 2,
   "id": "9848fa8d",
   "metadata": {},
   "outputs": [],
   "source": [
    "TIME = {}\n",
    "\n",
    "TIME['start'] = time.time()"
   ]
  },
  {
   "cell_type": "markdown",
   "id": "e8c2277c",
   "metadata": {},
   "source": [
    "# Constants"
   ]
  },
  {
   "cell_type": "code",
   "execution_count": 3,
   "id": "bb75db30",
   "metadata": {
    "scrolled": true
   },
   "outputs": [],
   "source": [
    "SEQ_MAX_LEN = 800\n",
    "NUM_CLASSES = 6\n",
    "NUM_EXERCISES = 9\n",
    "NUM_FLAG_BS = 2"
   ]
  },
  {
   "cell_type": "code",
   "execution_count": 4,
   "id": "eed45b66",
   "metadata": {
    "scrolled": true
   },
   "outputs": [],
   "source": [
    "dir_root = os.path.join('..')\n",
    "dir_data_root = os.path.join(dir_root, 'data')\n",
    "dir_exercises = os.path.join(dir_data_root, 'json', 'patients')\n",
    "dir_exercises_augmented = os.path.join(dir_data_root, 'json', 'patients_augmented')\n",
    "dir_exercises_test = os.path.join(dir_data_root, 'json', 'test')"
   ]
  },
  {
   "cell_type": "markdown",
   "id": "acdfc4c1",
   "metadata": {},
   "source": [
    "**TODO** Implement augmenation and patients sessions for the new data set"
   ]
  },
  {
   "cell_type": "raw",
   "id": "48ca19e5",
   "metadata": {},
   "source": [
    "dir_patiens_sessions = os.path.join(dir_data_root, 'json', 'patients_sessions')"
   ]
  },
  {
   "cell_type": "markdown",
   "id": "e544c090",
   "metadata": {},
   "source": [
    "# Data prep"
   ]
  },
  {
   "cell_type": "markdown",
   "id": "6ca3d18d",
   "metadata": {},
   "source": [
    "### Build training set"
   ]
  },
  {
   "cell_type": "code",
   "execution_count": 5,
   "id": "a46206f9",
   "metadata": {},
   "outputs": [],
   "source": [
    "TIME['data_processing_start'] = time.time()"
   ]
  },
  {
   "cell_type": "code",
   "execution_count": 6,
   "id": "f31de161",
   "metadata": {},
   "outputs": [],
   "source": [
    "from utils.input import setup, exercise_to_input, build_region,transformations"
   ]
  },
  {
   "cell_type": "code",
   "execution_count": 7,
   "id": "f6e4b662",
   "metadata": {},
   "outputs": [
    {
     "data": {
      "text/plain": [
       "{'ROOT_PATH': '..',\n",
       " 'ALL_REGIONS': ['frontal', 'orbital', 'oral'],\n",
       " 'REGIONS': {'LefteyeMidbottom': 'orbital',\n",
       "  'LefteyeMidtop': 'orbital',\n",
       "  'LefteyeInnercorner': 'orbital',\n",
       "  'LefteyeOutercorner': 'orbital',\n",
       "  'LefteyebrowInner': 'frontal',\n",
       "  'LefteyebrowCenter': 'frontal',\n",
       "  'RighteyeMidbottom': 'orbital',\n",
       "  'RighteyeMidtop': 'orbital',\n",
       "  'RighteyeInnercorner': 'orbital',\n",
       "  'RighteyeOutercorner': 'orbital',\n",
       "  'RighteyebrowInner': 'frontal',\n",
       "  'RighteyebrowCenter': 'frontal',\n",
       "  'NoseTip': 'frontal',\n",
       "  'MouthLowerlipMidbottom': 'oral',\n",
       "  'MouthLeftcorner': 'oral',\n",
       "  'MouthRightcorner': 'oral',\n",
       "  'MouthUpperlipMidtop': 'oral',\n",
       "  'ChinCenter': 'oral',\n",
       "  'ForeheadCenter': 'frontal',\n",
       "  'LeftcheekCenter': 'oral',\n",
       "  'RightcheekCenter': 'oral'},\n",
       " 'BASES': {'LefteyeMidbottom': 'ForeheadCenter',\n",
       "  'LefteyeMidtop': 'ForeheadCenter',\n",
       "  'LefteyeInnercorner': 'ForeheadCenter',\n",
       "  'LefteyeOutercorner': 'ForeheadCenter',\n",
       "  'LefteyebrowInner': 'ForeheadCenter',\n",
       "  'LefteyebrowCenter': 'ForeheadCenter',\n",
       "  'RighteyeMidbottom': 'ForeheadCenter',\n",
       "  'RighteyeMidtop': 'ForeheadCenter',\n",
       "  'RighteyeInnercorner': 'ForeheadCenter',\n",
       "  'RighteyeOutercorner': 'ForeheadCenter',\n",
       "  'RighteyebrowInner': 'ForeheadCenter',\n",
       "  'RighteyebrowCenter': 'ForeheadCenter',\n",
       "  'NoseTip': 'ForeheadCenter',\n",
       "  'MouthLowerlipMidbottom': 'ForeheadCenter',\n",
       "  'MouthLeftcorner': 'ForeheadCenter',\n",
       "  'MouthRightcorner': 'ForeheadCenter',\n",
       "  'MouthUpperlipMidtop': 'ForeheadCenter',\n",
       "  'ChinCenter': 'ForeheadCenter',\n",
       "  'ForeheadCenter': 'ForeheadCenter',\n",
       "  'LeftcheekCenter': 'ForeheadCenter',\n",
       "  'RightcheekCenter': 'ForeheadCenter'},\n",
       " 'SIDES': {'left': ['LefteyeMidbottom',\n",
       "   'LefteyeMidtop',\n",
       "   'LefteyeInnercorner',\n",
       "   'LefteyeOutercorner',\n",
       "   'LefteyebrowInner',\n",
       "   'LefteyebrowCenter',\n",
       "   'MouthLeftcorner',\n",
       "   'LeftcheekCenter'],\n",
       "  'right': ['RighteyeMidbottom',\n",
       "   'RighteyeMidtop',\n",
       "   'RighteyeInnercorner',\n",
       "   'RighteyeOutercorner',\n",
       "   'RighteyebrowInner',\n",
       "   'RighteyebrowCenter',\n",
       "   'MouthRightcorner',\n",
       "   'RightcheekCenter']},\n",
       " 'SYMETRY': {'LefteyeMidbottom': 'RighteyeMidbottom',\n",
       "  'LefteyeMidtop': 'RighteyeMidtop',\n",
       "  'LefteyeInnercorner': 'RighteyeInnercorner',\n",
       "  'LefteyeOutercorner': 'RighteyeOutercorner',\n",
       "  'LefteyebrowInner': 'RighteyebrowInner',\n",
       "  'LefteyebrowCenter': 'RighteyebrowCenter',\n",
       "  'RighteyeMidbottom': 'None',\n",
       "  'RighteyeMidtop': 'None',\n",
       "  'RighteyeInnercorner': 'None',\n",
       "  'RighteyeOutercorner': 'None',\n",
       "  'RighteyebrowInner': 'None',\n",
       "  'RighteyebrowCenter': 'None',\n",
       "  'NoseTip': 'None',\n",
       "  'MouthLowerlipMidbottom': 'None',\n",
       "  'MouthLeftcorner': 'MouthRightcorner',\n",
       "  'MouthRightcorner': 'None',\n",
       "  'MouthUpperlipMidtop': 'None',\n",
       "  'ChinCenter': 'None',\n",
       "  'ForeheadCenter': 'None',\n",
       "  'LeftcheekCenter': 'RightcheekCenter',\n",
       "  'RightcheekCenter': 'None'},\n",
       " 'SEQ_MAX_LEN': 800,\n",
       " 'NUM_EXERCISES': 9,\n",
       " 'NUM_FLAG_BS': 2}"
      ]
     },
     "execution_count": 7,
     "metadata": {},
     "output_type": "execute_result"
    }
   ],
   "source": [
    "setup(os.path.join('..'), SEQ_MAX_LEN, NUM_EXERCISES, NUM_FLAG_BS)"
   ]
  },
  {
   "cell_type": "code",
   "execution_count": 8,
   "id": "a6aa3579",
   "metadata": {},
   "outputs": [],
   "source": [
    "exercises_sources = [\n",
    "    #dir_exercises_test\n",
    "    dir_exercises,\n",
    "    #dir_exercises_augmented\n",
    "]"
   ]
  },
  {
   "cell_type": "code",
   "execution_count": 9,
   "id": "a4b845ee",
   "metadata": {},
   "outputs": [],
   "source": [
    "feature_engineering_setting = {\n",
    "    'coordinates': True,\n",
    "    'normalize_by_start': False,\n",
    "    'normalize': False,\n",
    "    'direction': False,\n",
    "    'distance': False,\n",
    "    'symetry_diference': False,\n",
    "    're_base': True,\n",
    "    'transformation_to_rebase': False,\n",
    "    'extended_meta': False,\n",
    "}"
   ]
  },
  {
   "cell_type": "code",
   "execution_count": 10,
   "id": "1feeb618",
   "metadata": {},
   "outputs": [
    {
     "name": "stdout",
     "output_type": "stream",
     "text": [
      "Overall number of examples: 2419\n",
      "Overall number of training examples: 1548\n",
      "Overall number of validation examples: 388\n",
      "Overall number of testing examples: 483\n"
     ]
    }
   ],
   "source": [
    "count = 0\n",
    "for exercise_source in exercises_sources:\n",
    "    for file_name in os.listdir(exercise_source):\n",
    "        count += 1\n",
    "\n",
    "test = int(count*0.2)\n",
    "training_all = count - test\n",
    "training = int(training_all*0.8)\n",
    "validation = training_all - training\n",
    "print(f'Overall number of examples: {count}')\n",
    "print(f'Overall number of training examples: {training}')\n",
    "print(f'Overall number of validation examples: {validation}')\n",
    "print(f'Overall number of testing examples: {test}')"
   ]
  },
  {
   "cell_type": "code",
   "execution_count": 11,
   "id": "2daa5706-ebab-4379-8b72-3d7dd9fe0216",
   "metadata": {},
   "outputs": [],
   "source": [
    "bases = {\n",
    "    \"LefteyeMidbottom\": \"ForeheadCenter\", \n",
    "    \"LefteyeMidtop\": \"ForeheadCenter\",  \n",
    "    \"LefteyeInnercorner\": \"ForeheadCenter\", \n",
    "    \"LefteyeOutercorner\": \"ForeheadCenter\",  \n",
    "    \"LefteyebrowInner\": \"ForeheadCenter\", \n",
    "    \"LefteyebrowCenter\": \"ForeheadCenter\",  \n",
    "    \"RighteyeMidbottom\": \"ForeheadCenter\",  \n",
    "    \"RighteyeMidtop\": \"ForeheadCenter\", \n",
    "    \"RighteyeInnercorner\": \"ForeheadCenter\",  \n",
    "    \"RighteyeOutercorner\": \"ForeheadCenter\", \n",
    "    \"RighteyebrowInner\": \"ForeheadCenter\", \n",
    "    \"RighteyebrowCenter\": \"ForeheadCenter\",  \n",
    "    \"NoseTip\": \"ForeheadCenter\", \n",
    "    \"MouthLowerlipMidbottom\": \"ForeheadCenter\",\n",
    "    \"MouthLeftcorner\": \"ForeheadCenter\",\n",
    "    \"MouthRightcorner\": \"ForeheadCenter\",\n",
    "    \"MouthUpperlipMidtop\": \"ForeheadCenter\",\n",
    "    \"ChinCenter\": \"ForeheadCenter\", \n",
    "    \"ForeheadCenter\": \"ForeheadCenter\",\n",
    "    \"LeftcheekCenter\": \"ForeheadCenter\", \n",
    "    \"RightcheekCenter\": \"ForeheadCenter\"\n",
    "}"
   ]
  },
  {
   "cell_type": "code",
   "execution_count": 31,
   "id": "a93a7a24",
   "metadata": {
    "scrolled": true
   },
   "outputs": [],
   "source": [
    "xs_all = list()\n",
    "xs_t_all =  list()\n",
    "ys_all = list()\n",
    "ys_t_all =  list()\n",
    "zs_all = list()\n",
    "zs_t_all =  list()\n",
    "\n",
    "for exercise_source in exercises_sources:\n",
    "    for file_name in os.listdir(exercise_source):\n",
    "        file_path = os.path.join(exercise_source, file_name)\n",
    "\n",
    "        if file_name == '.DS_Store': continue\n",
    "            \n",
    "        data = json.load(open(file_path, 'r'))\n",
    "\n",
    "        if data['meta']['tag'] != '01_RaisingEyebrows':\n",
    "            continue\n",
    "        \n",
    "        xs_t = transformations.rebase(data['pois']['RighteyebrowCenter']['xs'], 'xs', 'RighteyebrowCenter', data['pois'], bases)\n",
    "\n",
    "        xs_t = tf.keras.preprocessing.sequence.pad_sequences(\n",
    "            [xs_t],\n",
    "            padding=\"pre\",\n",
    "            maxlen=800,\n",
    "            dtype='float32')\n",
    "        xs_t_all.append(xs_t[0])\n",
    "\n",
    "        xs = data['pois']['RighteyebrowCenter']['xs']\n",
    "        xs = tf.keras.preprocessing.sequence.pad_sequences(\n",
    "            [xs],\n",
    "            padding=\"pre\",\n",
    "            maxlen=800,\n",
    "            dtype='float32')\n",
    "        xs_all.append(xs[0])\n",
    "\n",
    "        ys_t = transformations.rebase(data['pois']['RighteyebrowCenter']['ys'], 'ys', 'RighteyebrowCenter', data['pois'], bases)\n",
    "\n",
    "        ys_t = tf.keras.preprocessing.sequence.pad_sequences(\n",
    "            [ys_t],\n",
    "            padding=\"pre\",\n",
    "            maxlen=800,\n",
    "            dtype='float32')\n",
    "        ys_t_all.append(ys_t[0])\n",
    "\n",
    "        ys = data['pois']['RighteyebrowCenter']['ys']\n",
    "        ys = tf.keras.preprocessing.sequence.pad_sequences(\n",
    "            [ys],\n",
    "            padding=\"pre\",\n",
    "            maxlen=800,\n",
    "            dtype='float32')\n",
    "        ys_all.append(ys[0])\n",
    "\n",
    "        zs_t = transformations.rebase(data['pois']['RighteyebrowCenter']['zs'], 'zs', 'RighteyebrowCenter', data['pois'], bases)\n",
    "\n",
    "        zs_t = tf.keras.preprocessing.sequence.pad_sequences(\n",
    "            [zs_t],\n",
    "            padding=\"pre\",\n",
    "            maxlen=800,\n",
    "            dtype='float32')\n",
    "        zs_t_all.append(zs_t[0])\n",
    "\n",
    "        zs = data['pois']['RighteyebrowCenter']['zs']\n",
    "        zs = tf.keras.preprocessing.sequence.pad_sequences(\n",
    "            [zs],\n",
    "            padding=\"pre\",\n",
    "            maxlen=800,\n",
    "            dtype='float32')\n",
    "        zs_all.append(zs[0])"
   ]
  },
  {
   "cell_type": "raw",
   "id": "d470d93a-3e3c-4b33-88c9-27221eaf571e",
   "metadata": {},
   "source": [
    "df = pd.DataFrame.from_records(xs_all)\n",
    "df_t = pd.DataFrame.from_records(xs_t_all)"
   ]
  },
  {
   "cell_type": "code",
   "execution_count": 54,
   "id": "8b09ae86-286f-4dc3-afba-303083a61739",
   "metadata": {},
   "outputs": [],
   "source": [
    "df = pd.DataFrame.from_records(xs_all)\n",
    "df = df.T \n",
    "df[\"original Xs\"] = df.std(axis=1)\n",
    "result_x = df[['original Xs']].copy()\n",
    "\n",
    "df = pd.DataFrame.from_records(xs_t_all)\n",
    "df = df.T \n",
    "df[\"rebased Xs\"] = df.std(axis=1)\n",
    "result_x[\"rebased Xs\"] = df[['rebased Xs']]\n",
    "\n",
    "df = pd.DataFrame.from_records(ys_all)\n",
    "df = df.T \n",
    "df[\"original Ys\"] = df.std(axis=1)\n",
    "result_y = df[['original Ys']].copy()\n",
    "\n",
    "df = pd.DataFrame.from_records(ys_t_all)\n",
    "df = df.T \n",
    "df[\"rebased Ys\"] = df.std(axis=1)\n",
    "result_y[\"rebased Ys\"] = df[['rebased Ys']]\n",
    "\n",
    "df = pd.DataFrame.from_records(zs_all)\n",
    "df = df.T \n",
    "df[\"original Zs\"] = df.std(axis=1)\n",
    "result_z = df[['original Zs']].copy()\n",
    "\n",
    "df = pd.DataFrame.from_records(zs_t_all)\n",
    "df = df.T \n",
    "df[\"rebased Zs\"] = df.std(axis=1)\n",
    "result_z[\"rebased Zs\"] = df[['rebased Zs']]"
   ]
  },
  {
   "cell_type": "raw",
   "id": "7ef74417-ced1-471e-9073-c3fd15a82263",
   "metadata": {},
   "source": [
    "result"
   ]
  },
  {
   "cell_type": "code",
   "execution_count": 55,
   "id": "b26725e4-ae99-4c8e-a1a1-f1d96d3c4c86",
   "metadata": {},
   "outputs": [
    {
     "data": {
      "text/plain": [
       "<Axes: title={'center': 'Standart deviation at each time step, POI: Right Eyebrow Center'}>"
      ]
     },
     "execution_count": 55,
     "metadata": {},
     "output_type": "execute_result"
    },
    {
     "data": {
      "image/png": "[encoded data removed]",
      "text/plain": [
       "<Figure size 200x200 with 1 Axes>"
      ]
     },
     "metadata": {},
     "output_type": "display_data"
    }
   ],
   "source": [
    "result_x.plot(title=\"Standart deviation at each time step, POI: Right Eyebrow Center\")"
   ]
  },
  {
   "cell_type": "code",
   "execution_count": null,
   "id": "2d9b0f1e-7023-4383-af31-880f52b9d68d",
   "metadata": {},
   "outputs": [],
   "source": [
    "colors = ['red', 'pink', 'blue', 'cyan']\n"
   ]
  },
  {
   "cell_type": "code",
   "execution_count": 63,
   "id": "a49bc380-5541-4469-81e1-de48d8708e37",
   "metadata": {},
   "outputs": [
    {
     "name": "stdout",
     "output_type": "stream",
     "text": [
      "[<Axes: > <Axes: > <Axes: >]\n"
     ]
    },
    {
     "data": {
      "image/png": "[encoded data removed]",
      "text/plain": [
       "<Figure size 1000x300 with 3 Axes>"
      ]
     },
     "metadata": {},
     "output_type": "display_data"
    }
   ],
   "source": [
    "fig, axs = plt.subplots(1, 3, figsize=(10,3)) \n",
    "\n",
    "print(axs)\n",
    "\n",
    "plot = result_x.plot(ax=axs[0], color={\"original Xs\": \"red\", \"rebased Xs\": \"pink\"})\n",
    "plot = result_y.plot(ax=axs[1], color={\"original Ys\": \"blue\", \"rebased Ys\": \"cyan\"})\n",
    "plot = result_z.plot(ax=axs[2], color={\"original Zs\": \"red\", \"rebased Zs\": \"pink\"})\n",
    "\n",
    "\n",
    "#plt.tight_layout() \n",
    "#fig.suptitle('Standard deviation at each time step', y=1.1, fontsize=15)\n",
    "plt.show()\n",
    "fig.savefig(f'plot_rebased_std.svg', format='svg', dpi=1200)"
   ]
  },
  {
   "cell_type": "code",
   "execution_count": null,
   "id": "af00f460-6481-4c2c-b85b-8149f6a21a64",
   "metadata": {},
   "outputs": [],
   "source": []
  },
  {
   "cell_type": "code",
   "execution_count": null,
   "id": "d2957b3c-7534-472f-8b94-af67f16b7ff2",
   "metadata": {},
   "outputs": [],
   "source": []
  },
  {
   "cell_type": "code",
   "execution_count": null,
   "id": "9fc5046b-37f4-4be8-93b0-128733782de9",
   "metadata": {},
   "outputs": [],
   "source": []
  },
  {
   "cell_type": "code",
   "execution_count": null,
   "id": "63bad28b-5edf-47e0-8523-0897837cf6cc",
   "metadata": {},
   "outputs": [],
   "source": []
  },
  {
   "cell_type": "code",
   "execution_count": null,
   "id": "7a64cf32-6a15-4992-8a96-32558606a7c9",
   "metadata": {},
   "outputs": [],
   "source": []
  },
  {
   "cell_type": "code",
   "execution_count": null,
   "id": "0fe8f17c-eb52-4b90-909b-eed9763f99c3",
   "metadata": {},
   "outputs": [],
   "source": [
    "stop"
   ]
  },
  {
   "cell_type": "code",
   "execution_count": null,
   "id": "ecbd3eae-e101-4c5d-a583-002aa7f101a3",
   "metadata": {},
   "outputs": [],
   "source": [
    "OLD"
   ]
  },
  {
   "cell_type": "code",
   "execution_count": null,
   "id": "78c19d78-dca9-4f18-99bb-835b3e99819a",
   "metadata": {},
   "outputs": [],
   "source": [
    "df.info()"
   ]
  },
  {
   "cell_type": "code",
   "execution_count": null,
   "id": "1947be40-4179-4309-858d-c3250a977016",
   "metadata": {},
   "outputs": [],
   "source": [
    "df = df.T "
   ]
  },
  {
   "cell_type": "code",
   "execution_count": null,
   "id": "d1cc89cb-40c6-4c57-a238-9278210b8f7a",
   "metadata": {},
   "outputs": [],
   "source": [
    "df"
   ]
  },
  {
   "cell_type": "code",
   "execution_count": null,
   "id": "1c1faf1a-95af-4087-853d-831ce1ec6482",
   "metadata": {},
   "outputs": [],
   "source": [
    "df.loc[0]"
   ]
  },
  {
   "cell_type": "code",
   "execution_count": null,
   "id": "1257f474-3b40-4685-853a-eb1bd2a41d4e",
   "metadata": {},
   "outputs": [],
   "source": [
    "import statistics\n",
    "\n",
    "print(statistics.stdev(df.loc[0]))"
   ]
  },
  {
   "cell_type": "code",
   "execution_count": null,
   "id": "86c18df7-c5e9-4be1-a6d0-26c63fde0f27",
   "metadata": {},
   "outputs": [],
   "source": [
    "df[\"original_std\"] = df.std(axis=1)"
   ]
  },
  {
   "cell_type": "code",
   "execution_count": null,
   "id": "c421b85d-1b1d-443b-8b0e-f5193084ead5",
   "metadata": {},
   "outputs": [],
   "source": [
    "result = df[['original_std']].copy()"
   ]
  },
  {
   "cell_type": "code",
   "execution_count": null,
   "id": "5e3fcb76-d6cd-4bb3-b314-4b432c780ff5",
   "metadata": {},
   "outputs": [],
   "source": [
    "result.head()"
   ]
  },
  {
   "cell_type": "code",
   "execution_count": null,
   "id": "54824223-2155-4163-a2b2-c3152d0e888b",
   "metadata": {},
   "outputs": [],
   "source": [
    "result.info()"
   ]
  },
  {
   "cell_type": "code",
   "execution_count": null,
   "id": "4e44152f-6a71-431f-8eee-69719276fe28",
   "metadata": {},
   "outputs": [],
   "source": [
    "df = df.T "
   ]
  },
  {
   "cell_type": "markdown",
   "id": "ecd19b50",
   "metadata": {},
   "source": [
    "Time preprocessing"
   ]
  },
  {
   "cell_type": "code",
   "execution_count": null,
   "id": "29640c4d",
   "metadata": {},
   "outputs": [],
   "source": [
    "TIME['data_processing_end'] = time.time()"
   ]
  },
  {
   "cell_type": "raw",
   "id": "79591e9f",
   "metadata": {},
   "source": [
    "print(ys)"
   ]
  },
  {
   "cell_type": "raw",
   "id": "e9048f59",
   "metadata": {},
   "source": [
    "(39,)\n",
    "(39, 9)\n",
    "(39, 126, 600)\n",
    "(39, 36, 600)\n",
    "(39, 42, 600)\n",
    "(39, 48, 600)"
   ]
  }
 ],
 "metadata": {
  "kernelspec": {
   "display_name": "face-prognosis",
   "language": "python",
   "name": "face-prognosis"
  },
  "language_info": {
   "codemirror_mode": {
    "name": "ipython",
    "version": 3
   },
   "file_extension": ".py",
   "mimetype": "text/x-python",
   "name": "python",
   "nbconvert_exporter": "python",
   "pygments_lexer": "ipython3",
   "version": "3.8.13"
  }
 },
 "nbformat": 4,
 "nbformat_minor": 5
}
