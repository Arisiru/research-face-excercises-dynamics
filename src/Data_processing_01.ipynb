{
 "cells": [
  {
   "cell_type": "markdown",
   "id": "c3ffceac",
   "metadata": {},
   "source": [
    "# Notes"
   ]
  },
  {
   "cell_type": "markdown",
   "id": "941fce85",
   "metadata": {},
   "source": [
    "The data processing iteration focus to extract input from the raw csv\n",
    "- every output file is patien_session_excercise.json\n",
    "- every patien has list of all sessions with metadata"
   ]
  },
  {
   "cell_type": "markdown",
   "id": "564abfea",
   "metadata": {},
   "source": [
    "## Object shape"
   ]
  },
  {
   "cell_type": "markdown",
   "id": "ca8a40bd",
   "metadata": {},
   "source": [
    "Patient object"
   ]
  },
  {
   "cell_type": "raw",
   "id": "2460df22",
   "metadata": {},
   "source": [
    "List of session object\n",
    "\n",
    "[\n",
    "    {\n",
    "        'id': int\n",
    "        'exercise_dates': str,\n",
    "        'evaluation': int,\n",
    "        'flag_before_surgery': flag_before_surgery,\n",
    "        'number_of_exercises': int\n",
    "    },\n",
    "    .....\n",
    "]\n"
   ]
  },
  {
   "cell_type": "markdown",
   "id": "dc440b70",
   "metadata": {},
   "source": [
    "poi object"
   ]
  },
  {
   "cell_type": "raw",
   "id": "a7fa04e1",
   "metadata": {},
   "source": [
    "{\n",
    "    'tag': str\n",
    "    'id': int\n",
    "    'name': str\n",
    "    'region': str\n",
    "    'base_tag': str (tag of POI to rebase against) \n",
    "}"
   ]
  },
  {
   "cell_type": "markdown",
   "id": "02b8d26e",
   "metadata": {},
   "source": [
    "exercise object"
   ]
  },
  {
   "cell_type": "raw",
   "id": "91aa8d7d",
   "metadata": {},
   "source": [
    "{\n",
    "    'meta': {\n",
    "        'tag': str\n",
    "        'id': int\n",
    "        'name': str\n",
    "    },\n",
    "    'pois': {\n",
    "        'tag': {\n",
    "             'ts': []\n",
    "             'xs': []\n",
    "             'ys': []\n",
    "             'zs': []\n",
    "        },\n",
    "        .....\n",
    "    }\n",
    "}"
   ]
  },
  {
   "cell_type": "markdown",
   "id": "e7df6859",
   "metadata": {},
   "source": [
    "# Init"
   ]
  },
  {
   "cell_type": "code",
   "execution_count": 1,
   "id": "2167fbdb",
   "metadata": {},
   "outputs": [],
   "source": [
    "import os \n",
    "import re\n",
    "import csv\n",
    "import json\n",
    "from datetime import datetime\n",
    "\n",
    "import math\n",
    "import pandas as pd\n",
    "import numpy as np\n",
    "import tensorflow as tf\n",
    "from tensorflow.keras.preprocessing.sequence import pad_sequences\n"
   ]
  },
  {
   "cell_type": "code",
   "execution_count": 2,
   "id": "eed45b66",
   "metadata": {},
   "outputs": [],
   "source": [
    "dir_data_root = os.path.join('..', 'data')\n",
    "dir_data_source = os.path.join(dir_data_root, 'csv')\n",
    "dir_data_target = os.path.join(dir_data_root, 'json')\n",
    "dir_exercises = os.path.join(dir_data_target, 'exercises_raw')\n",
    "dir_patients_sessions = os.path.join(dir_data_target, 'patients_sessions')"
   ]
  },
  {
   "cell_type": "markdown",
   "id": "e544c090",
   "metadata": {},
   "source": [
    "# Data prep"
   ]
  },
  {
   "cell_type": "markdown",
   "id": "ae49d899",
   "metadata": {},
   "source": [
    "## Prepare POIs metadata and store as an object"
   ]
  },
  {
   "cell_type": "code",
   "execution_count": 3,
   "id": "9c9fe9c7",
   "metadata": {},
   "outputs": [],
   "source": [
    "regions = {\n",
    "    '0_LefteyeMidbottom': 'orbital', \n",
    "    '1_LefteyeMidtop': 'orbital',  \n",
    "    '2_LefteyeInnercorner': 'orbital', \n",
    "    '3_LefteyeOutercorner': 'orbital',  \n",
    "    '4_LefteyebrowInner': 'frontal', \n",
    "    '5_LefteyebrowCenter': 'frontal',  \n",
    "    '6_RighteyeMidbottom': 'orbital',  \n",
    "    '7_RighteyeMidtop': 'orbital', \n",
    "    '8_RighteyeInnercorner': 'orbital',  \n",
    "    '9_RighteyeOutercorner': 'orbital', \n",
    "    '10_RighteyebrowInner': 'frontal', \n",
    "    '11_RighteyebrowCenter': 'frontal',  \n",
    "    '12_NoseTip': 'frontal', \n",
    "    '13_MouthLowerlipMidbottom': 'oral',\n",
    "    '14_MouthLeftcorner': 'oral',\n",
    "    '15_MouthRightcorner': 'oral',\n",
    "    '16_MouthUpperlipMidtop': 'oral',\n",
    "    '17_ChinCenter': 'oral', \n",
    "    '18_ForeheadCenter': 'frontal', \n",
    "    '19_LeftcheekCenter': 'oral', \n",
    "    '20_RightcheekCenter': 'oral',\n",
    "}\n",
    "bases = {\n",
    "    '0_LefteyeMidbottom': '18_ForeheadCenter', \n",
    "    '1_LefteyeMidtop': '18_ForeheadCenter',  \n",
    "    '2_LefteyeInnercorner': '18_ForeheadCenter', \n",
    "    '3_LefteyeOutercorner': '18_ForeheadCenter',  \n",
    "    '4_LefteyebrowInner': '18_ForeheadCenter', \n",
    "    '5_LefteyebrowCenter': '18_ForeheadCenter',  \n",
    "    '6_RighteyeMidbottom': '18_ForeheadCenter',  \n",
    "    '7_RighteyeMidtop': '18_ForeheadCenter', \n",
    "    '8_RighteyeInnercorner': '18_ForeheadCenter',  \n",
    "    '9_RighteyeOutercorner': '18_ForeheadCenter', \n",
    "    '10_RighteyebrowInner': '18_ForeheadCenter', \n",
    "    '11_RighteyebrowCenter': '18_ForeheadCenter',  \n",
    "    '12_NoseTip': '18_ForeheadCenter', \n",
    "    '13_MouthLowerlipMidbottom': '18_ForeheadCenter',\n",
    "    '14_MouthLeftcorner': '18_ForeheadCenter',\n",
    "    '15_MouthRightcorner': '18_ForeheadCenter',\n",
    "    '16_MouthUpperlipMidtop': '18_ForeheadCenter',\n",
    "    '17_ChinCenter': '18_ForeheadCenter', \n",
    "    '18_ForeheadCenter': 'base', \n",
    "    '19_LeftcheekCenter': '18_ForeheadCenter', \n",
    "    '20_RightcheekCenter': '18_ForeheadCenter',\n",
    "}"
   ]
  },
  {
   "cell_type": "code",
   "execution_count": 4,
   "id": "4671442d",
   "metadata": {},
   "outputs": [],
   "source": [
    "poi_object = {}\n",
    "\n",
    "for tag,region in regions.items():    \n",
    "    poi_object[tag] = {\n",
    "        'tag': tag,\n",
    "        'id': int(tag.split('_')[0]),\n",
    "        'name': tag.split('_')[1],\n",
    "        'region': region,\n",
    "        'base_tag': bases[tag]\n",
    "    }"
   ]
  },
  {
   "cell_type": "code",
   "execution_count": 5,
   "id": "3bee4fb8",
   "metadata": {},
   "outputs": [],
   "source": [
    "#poi_object  "
   ]
  },
  {
   "cell_type": "markdown",
   "id": "50662f40",
   "metadata": {},
   "source": [
    "# Read data from source "
   ]
  },
  {
   "cell_type": "markdown",
   "id": "a9196d07",
   "metadata": {},
   "source": [
    "## Set up patien object"
   ]
  },
  {
   "cell_type": "code",
   "execution_count": 6,
   "id": "25f02512",
   "metadata": {},
   "outputs": [],
   "source": [
    "def filename_to_session_metadata(file_name):\n",
    "    meta = file_name.split(' ')\n",
    "    patient_id = meta[0]\n",
    "    try:\n",
    "        exercise_dates = datetime.strptime(re.sub(r'\\_[0-9]', '', meta[1]), '%Y-%m-%d') \n",
    "    except:\n",
    "        print(file_name)\n",
    "        exercise_dates = ''\n",
    "        \n",
    "    evaluation = int(meta[2].replace('eval', ''))\n",
    "    flag_before_surgery = int(meta[3].replace('bf', '').replace('.csv', ''))\n",
    "    return {\n",
    "        'patient_id': patient_id,\n",
    "        'exercise_dates': exercise_dates.strftime('%Y-%m-%d'),\n",
    "        'evaluation': evaluation,\n",
    "        'flag_before_surgery': flag_before_surgery,\n",
    "    }"
   ]
  },
  {
   "cell_type": "code",
   "execution_count": 7,
   "id": "48b85966",
   "metadata": {},
   "outputs": [],
   "source": [
    "def file_to_exercises(directory, filename):   \n",
    "    session_meta = filename_to_session_metadata(file_name)\n",
    "    \n",
    "    patient_id = session_meta['patient_id']\n",
    "    \n",
    "    ## TODO move it outside fishy\n",
    "    if patient_id not in patients:\n",
    "        patients[patient_id] = []\n",
    "    \n",
    "    exercises = []\n",
    "    \n",
    "    df = pd.read_csv(os.path.join(directory, filename))\n",
    "    df.drop(['patient', 'date', 'before surgery', 'evaluation'], axis = 1, inplace = True)\n",
    "    \n",
    "    #error handlin in original data, to catch which file has error uncomment this\n",
    "    #errorrs_in_exercise_ = df[[not isinstance(value, str) for value in df['exercise']]]\n",
    "    #if len(errorrs_in_exercise_):\n",
    "    #    print(filename)\n",
    "    #    print(errorrs_in_exercise_)\n",
    "    \n",
    "    tags_in_session = sorted(df['exercise'].astype(str).unique())\n",
    "    \n",
    "    for tag in tags_in_session:\n",
    "        df_exercise = df[(df['exercise'] == tag)]\n",
    "        exercise = {}\n",
    "        exercise['meta'] = {\n",
    "                'tag': tag,\n",
    "                'id': int(tag.split('_')[0]),\n",
    "                'name': tag.split('_')[1],\n",
    "                'evaluation': session_meta['evaluation'],\n",
    "        }\n",
    "        exercise['pois'] = {}\n",
    "        \n",
    "        for poi in poi_object.keys(): \n",
    "            df_poi = df_exercise[(df_exercise['point id']) == poi]\n",
    "            df_poi = df_poi.sort_values(by=['t'])\n",
    "            df_poi = df_poi.drop(columns = ['exercise', 'point id'], axis=1)\n",
    "            \n",
    "            exercise['pois'][poi] = {\n",
    "                'ts': df_poi['t'].tolist(),\n",
    "                'xs': df_poi['x'].tolist(),\n",
    "                'ys': df_poi['y'].tolist(),\n",
    "                'zs': df_poi['z'].tolist()\n",
    "            }\n",
    "        exercises.append(exercise)\n",
    "\n",
    "    session = {\n",
    "        'id': len(patients[patient_id]), ## TODO move it outside fishy\n",
    "        'exercise_dates': session_meta['exercise_dates'],\n",
    "        'evaluation': session_meta['evaluation'],\n",
    "        'flag_before_surgery': session_meta['flag_before_surgery'],\n",
    "        'number_of_exercises': len(exercises)\n",
    "    }\n",
    "    \n",
    "    ## TODO move it outside fishy\n",
    "    patients[patient_id].append(session)\n",
    "    \n",
    "    return patient_id, session, exercises"
   ]
  },
  {
   "cell_type": "markdown",
   "id": "67ab6ece",
   "metadata": {},
   "source": [
    "Read every file in the target directory and apply mapper function"
   ]
  },
  {
   "cell_type": "code",
   "execution_count": 8,
   "id": "256cd9d9",
   "metadata": {},
   "outputs": [],
   "source": [
    "patients = {}\n",
    "\n",
    "for file_name in os.listdir(dir_data_source):\n",
    "    \n",
    "    patient_id, session, exercises = file_to_exercises(dir_data_source, file_name) \n",
    "    \n",
    "    for excercise in exercises:\n",
    "        with open(\n",
    "            os.path.join(dir_exercises, '%s_%s_%s.json' % (patient_id, session['id'], excercise['meta']['id'])),\n",
    "            'w') as f_w:\n",
    "            json.dump(excercise, f_w)\n",
    "\n",
    "for patient_id, sessions in patients.items():\n",
    "    with open(os.path.join(dir_patients_sessions, '%s.json' % patient_id), 'w') as f_w:\n",
    "        json.dump(sessions, f_w)\n"
   ]
  },
  {
   "cell_type": "markdown",
   "id": "cde8e3db",
   "metadata": {},
   "source": [
    "__END__"
   ]
  }
 ],
 "metadata": {
  "kernelspec": {
   "display_name": "face-prognosis",
   "language": "python",
   "name": "face-prognosis"
  },
  "language_info": {
   "codemirror_mode": {
    "name": "ipython",
    "version": 3
   },
   "file_extension": ".py",
   "mimetype": "text/x-python",
   "name": "python",
   "nbconvert_exporter": "python",
   "pygments_lexer": "ipython3",
   "version": "3.8.13"
  }
 },
 "nbformat": 4,
 "nbformat_minor": 5
}
