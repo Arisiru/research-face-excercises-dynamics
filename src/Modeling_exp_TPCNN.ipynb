{
 "cells": [
  {
   "cell_type": "markdown",
   "id": "c3ffceac",
   "metadata": {},
   "source": [
    "# Notes"
   ]
  },
  {
   "cell_type": "markdown",
   "id": "31ddd4f2",
   "metadata": {},
   "source": [
    "Fourth iteration of the modeling:\n",
    "- modulirized data processing\n",
    "- model serialization"
   ]
  },
  {
   "cell_type": "code",
   "execution_count": 1,
   "id": "2167fbdb",
   "metadata": {
    "scrolled": true
   },
   "outputs": [],
   "source": [
    "import os \n",
    "import re\n",
    "import csv\n",
    "import json\n",
    "import math\n",
    "import random\n",
    "\n",
    "from itertools import chain\n",
    "from datetime import datetime\n",
    "\n",
    "import pandas as pd\n",
    "import numpy as np\n",
    "import tensorflow as tf\n",
    "\n",
    "from tensorflow.keras.preprocessing.sequence import pad_sequences\n",
    "from sklearn.metrics import classification_report\n",
    "\n",
    "import matplotlib.pyplot as plt\n",
    "plt.style.use('_mpl-gallery')"
   ]
  },
  {
   "cell_type": "markdown",
   "id": "e8c2277c",
   "metadata": {},
   "source": [
    "# Constants"
   ]
  },
  {
   "cell_type": "code",
   "execution_count": 2,
   "id": "bb75db30",
   "metadata": {
    "scrolled": true
   },
   "outputs": [],
   "source": [
    "SEQ_MAX_LEN = 600\n",
    "NUM_CLASSES = 6\n",
    "NUM_EXERCISES = 9\n",
    "NUM_FLAG_BS = 2"
   ]
  },
  {
   "cell_type": "code",
   "execution_count": 3,
   "id": "eed45b66",
   "metadata": {
    "scrolled": true
   },
   "outputs": [],
   "source": [
    "dir_root = os.path.join('..')\n",
    "dir_data_root = os.path.join(dir_root, 'data')\n",
    "dir_exercises = os.path.join(dir_data_root, 'json', 'patients')\n",
    "dir_exercises_augmented = os.path.join(dir_data_root, 'json', 'patients_augmented')\n",
    "dir_exercises_test = os.path.join(dir_data_root, 'json', 'test')"
   ]
  },
  {
   "cell_type": "markdown",
   "id": "acdfc4c1",
   "metadata": {},
   "source": [
    "**TODO** Implement augmenation and patients sessions for the new data set"
   ]
  },
  {
   "cell_type": "raw",
   "id": "48ca19e5",
   "metadata": {},
   "source": [
    "dir_patiens_sessions = os.path.join(dir_data_root, 'json', 'patients_sessions')"
   ]
  },
  {
   "cell_type": "markdown",
   "id": "e544c090",
   "metadata": {},
   "source": [
    "# Data prep"
   ]
  },
  {
   "cell_type": "markdown",
   "id": "6ca3d18d",
   "metadata": {},
   "source": [
    "### Build training set"
   ]
  },
  {
   "cell_type": "code",
   "execution_count": 4,
   "id": "f31de161",
   "metadata": {},
   "outputs": [],
   "source": [
    "from utils.input import setup, exercise_to_input"
   ]
  },
  {
   "cell_type": "code",
   "execution_count": 5,
   "id": "f6e4b662",
   "metadata": {},
   "outputs": [
    {
     "data": {
      "text/plain": [
       "{'ROOT_PATH': '..',\n",
       " 'ALL_REGIONS': ['frontal', 'orbital', 'oral'],\n",
       " 'REGIONS': {'LefteyeMidbottom': 'orbital',\n",
       "  'LefteyeMidtop': 'orbital',\n",
       "  'LefteyeInnercorner': 'orbital',\n",
       "  'LefteyeOutercorner': 'orbital',\n",
       "  'LefteyebrowInner': 'frontal',\n",
       "  'LefteyebrowCenter': 'frontal',\n",
       "  'RighteyeMidbottom': 'orbital',\n",
       "  'RighteyeMidtop': 'orbital',\n",
       "  'RighteyeInnercorner': 'orbital',\n",
       "  'RighteyeOutercorner': 'orbital',\n",
       "  'RighteyebrowInner': 'frontal',\n",
       "  'RighteyebrowCenter': 'frontal',\n",
       "  'NoseTip': 'frontal',\n",
       "  'MouthLowerlipMidbottom': 'oral',\n",
       "  'MouthLeftcorner': 'oral',\n",
       "  'MouthRightcorner': 'oral',\n",
       "  'MouthUpperlipMidtop': 'oral',\n",
       "  'ChinCenter': 'oral',\n",
       "  'ForeheadCenter': 'frontal',\n",
       "  'LeftcheekCenter': 'oral',\n",
       "  'RightcheekCenter': 'oral'},\n",
       " 'BASES': {'LefteyeMidbottom': 'ForeheadCenter',\n",
       "  'LefteyeMidtop': 'ForeheadCenter',\n",
       "  'LefteyeInnercorner': 'ForeheadCenter',\n",
       "  'LefteyeOutercorner': 'ForeheadCenter',\n",
       "  'LefteyebrowInner': 'ForeheadCenter',\n",
       "  'LefteyebrowCenter': 'ForeheadCenter',\n",
       "  'RighteyeMidbottom': 'ForeheadCenter',\n",
       "  'RighteyeMidtop': 'ForeheadCenter',\n",
       "  'RighteyeInnercorner': 'ForeheadCenter',\n",
       "  'RighteyeOutercorner': 'ForeheadCenter',\n",
       "  'RighteyebrowInner': 'ForeheadCenter',\n",
       "  'RighteyebrowCenter': 'ForeheadCenter',\n",
       "  'NoseTip': 'ForeheadCenter',\n",
       "  'MouthLowerlipMidbottom': 'ForeheadCenter',\n",
       "  'MouthLeftcorner': 'ForeheadCenter',\n",
       "  'MouthRightcorner': 'ForeheadCenter',\n",
       "  'MouthUpperlipMidtop': 'ForeheadCenter',\n",
       "  'ChinCenter': 'ForeheadCenter',\n",
       "  'ForeheadCenter': 'ForeheadCenter',\n",
       "  'LeftcheekCenter': 'ForeheadCenter',\n",
       "  'RightcheekCenter': 'ForeheadCenter'},\n",
       " 'SIDES': {'left': ['LefteyeMidbottom',\n",
       "   'LefteyeMidtop',\n",
       "   'LefteyeInnercorner',\n",
       "   'LefteyeOutercorner',\n",
       "   'LefteyebrowInner',\n",
       "   'LefteyebrowCenter',\n",
       "   'MouthLeftcorner',\n",
       "   'LeftcheekCenter'],\n",
       "  'right': ['RighteyeMidbottom',\n",
       "   'RighteyeMidtop',\n",
       "   'RighteyeInnercorner',\n",
       "   'RighteyeOutercorner',\n",
       "   'RighteyebrowInner',\n",
       "   'RighteyebrowCenter',\n",
       "   'MouthRightcorner',\n",
       "   'RightcheekCenter']},\n",
       " 'SEQ_MAX_LEN': 600,\n",
       " 'NUM_EXERCISES': 9,\n",
       " 'NUM_FLAG_BS': 2}"
      ]
     },
     "execution_count": 5,
     "metadata": {},
     "output_type": "execute_result"
    }
   ],
   "source": [
    "setup(os.path.join('..'), SEQ_MAX_LEN, NUM_EXERCISES, NUM_FLAG_BS)"
   ]
  },
  {
   "cell_type": "code",
   "execution_count": 6,
   "id": "a6aa3579",
   "metadata": {},
   "outputs": [],
   "source": [
    "exercises_sources = [\n",
    "    #dir_exercises_test\n",
    "    dir_exercises,\n",
    "    #dir_exercises_augmented\n",
    "]"
   ]
  },
  {
   "cell_type": "code",
   "execution_count": 7,
   "id": "a4b845ee",
   "metadata": {},
   "outputs": [],
   "source": [
    "feature_engineering_setting = {\n",
    "    'coordinates': True,\n",
    "    'normalize_by_start': False,\n",
    "    'normalize': False,\n",
    "    'direction': False,\n",
    "    'distance': False,\n",
    "    're_base': False,\n",
    "    'transformation_to_rebase': False,\n",
    "    'extended_meta': False,\n",
    "}"
   ]
  },
  {
   "cell_type": "code",
   "execution_count": 8,
   "id": "a93a7a24",
   "metadata": {
    "scrolled": true
   },
   "outputs": [
    {
     "name": "stdout",
     "output_type": "stream",
     "text": [
      "(2419,)\n",
      "(2419, 9)\n",
      "(2419, 126, 600)\n",
      "(2419, 36, 600)\n",
      "(2419, 42, 600)\n",
      "(2419, 48, 600)\n"
     ]
    }
   ],
   "source": [
    "xslist_meta = list()\n",
    "xslist_global = list()\n",
    "xslist_frontal = list()\n",
    "xslist_oral = list()\n",
    "xslist_orbital = list()\n",
    "yslist = list()\n",
    "\n",
    "for exercise_source in exercises_sources:\n",
    "    for file_name in os.listdir(exercise_source):\n",
    "        file_path = os.path.join(exercise_source, file_name)\n",
    "\n",
    "        if file_name == '.DS_Store': continue\n",
    "            \n",
    "        data = json.load(open(file_path, 'r'))\n",
    "\n",
    "        _xs_meta, _xs_global, _xs_frontal, _xs_oral, _xs_orbital, _ys = exercise_to_input(file_path, feature_engineering_setting)\n",
    "\n",
    "        yslist.append(_ys)\n",
    "        xslist_meta.append(_xs_meta)  \n",
    "        xslist_global.append(_xs_global)\n",
    "        xslist_frontal.append(_xs_frontal)\n",
    "        xslist_oral.append(_xs_oral)\n",
    "        xslist_orbital.append(_xs_orbital)\n",
    "            \n",
    "ys = np.array(yslist, dtype='int')\n",
    "xs_meta = np.array(xslist_meta, dtype='float32')   \n",
    "xs_global = np.array(xslist_global, dtype='float32') \n",
    "xs_frontal = np.array(xslist_frontal, dtype='float32') \n",
    "xs_oral = np.array(xslist_oral, dtype='float32') \n",
    "xs_orbital = np.array(xslist_orbital, dtype='float32') \n",
    "\n",
    "print(ys.shape)\n",
    "print(xs_meta.shape)\n",
    "print(xs_global.shape)\n",
    "print(xs_frontal.shape)\n",
    "print(xs_oral.shape)\n",
    "print(xs_orbital.shape)"
   ]
  },
  {
   "cell_type": "code",
   "execution_count": 9,
   "id": "8827730e",
   "metadata": {},
   "outputs": [
    {
     "name": "stdout",
     "output_type": "stream",
     "text": [
      "[2 0 3 ... 2 1 5]\n"
     ]
    }
   ],
   "source": [
    "print(ys)"
   ]
  },
  {
   "cell_type": "raw",
   "id": "e9048f59",
   "metadata": {},
   "source": [
    "(1661,)\n",
    "(1661, 54)\n",
    "(1661, 210, 600)\n",
    "(1661, 60, 600)\n",
    "(1661, 70, 600)\n",
    "(1661, 80, 600)"
   ]
  },
  {
   "cell_type": "markdown",
   "id": "eeba3312",
   "metadata": {},
   "source": [
    "## Modeling"
   ]
  },
  {
   "cell_type": "code",
   "execution_count": 10,
   "id": "db63f1bb",
   "metadata": {
    "scrolled": true
   },
   "outputs": [],
   "source": [
    "from tensorflow.keras.layers import Dense\n",
    "from tensorflow.keras.layers import Conv1D\n",
    "from tensorflow.keras.layers import AveragePooling1D\n",
    "from tensorflow.keras.layers import Flatten\n",
    "from tensorflow.keras.layers import Input\n",
    "from tensorflow.keras.layers import concatenate\n",
    "from tensorflow.keras.layers import BatchNormalization\n",
    "from tensorflow.keras.layers import Dropout\n",
    "from tensorflow.keras.models import Model\n",
    "from tensorflow.keras.optimizers import Adam\n",
    "\n",
    "from sklearn.utils import class_weight"
   ]
  },
  {
   "cell_type": "code",
   "execution_count": 11,
   "id": "5f06345c",
   "metadata": {},
   "outputs": [],
   "source": [
    "def get_dnn(inputLayer): \n",
    "    m = Dense(4, activation=\"relu\")(inputLayer)\n",
    "    m = Model(inputs=inputLayer, outputs=m)\n",
    "\n",
    "    return m"
   ]
  },
  {
   "cell_type": "code",
   "execution_count": 12,
   "id": "fc36a0ca",
   "metadata": {},
   "outputs": [],
   "source": [
    "def get_cnn(inputLayer):\n",
    "    chanDim = -1\n",
    "    \n",
    "    m = Conv1D(3, (32), padding='same', activation='relu')(inputLayer)\n",
    "    m = AveragePooling1D((2))(m)\n",
    "    m = Conv1D(3, (32), padding='same', activation='relu')(m)\n",
    "    m = AveragePooling1D((2))(m)\n",
    "    m = Conv1D(3, (64), padding='same', activation='relu')(m)\n",
    "    m = AveragePooling1D((2))(m)\n",
    "    m = Conv1D(3, (64), padding='same', activation='relu')(m)\n",
    "    m = Dense(128, activation=\"relu\")(m)\n",
    "    m = Dropout(0.5)(m)\n",
    "    m = Flatten()(m)\n",
    "    m = Model(inputs=inputLayer, outputs=m)\n",
    "\n",
    "    return m"
   ]
  },
  {
   "cell_type": "code",
   "execution_count": 13,
   "id": "29b2c732",
   "metadata": {
    "scrolled": true
   },
   "outputs": [],
   "source": [
    "def get_model():\n",
    "    input_global = Input(shape=xs_global.shape[1:])\n",
    "    model_global = get_cnn(input_global)\n",
    "    \n",
    "    input_frontal = Input(shape=xs_frontal.shape[1:])\n",
    "    model_frontal = get_cnn(input_frontal)  \n",
    "\n",
    "    input_oral = Input(shape=xs_oral.shape[1:])\n",
    "    model_oral = get_cnn(input_oral)  \n",
    "    \n",
    "    input_orbital = Input(shape=xs_orbital.shape[1:])\n",
    "    model_orbital = get_cnn(input_orbital)  \n",
    "    \n",
    "    \n",
    "    model_contatenate = concatenate([\n",
    "        model_global.output,\n",
    "        model_frontal.output,\n",
    "        model_oral.output,\n",
    "        model_orbital.output,\n",
    "    ])\n",
    "    \n",
    "    model_contatenate = Dense(32, activation=\"relu\")(model_contatenate)\n",
    "    model_contatenate = Dense(6, activation=\"softmax\")(model_contatenate)\n",
    "        \n",
    "    model = Model(inputs=[\n",
    "        model_global.input,\n",
    "        model_frontal.input,\n",
    "        model_oral.input,\n",
    "        model_orbital.input\n",
    "    ], outputs=model_contatenate)\n",
    "\n",
    "    model.compile(\n",
    "        loss=\"sparse_categorical_crossentropy\", \n",
    "        optimizer=Adam(learning_rate=1e-3, decay=1e-3 / 200),\n",
    "        metrics=['accuracy']\n",
    "    )\n",
    "    \n",
    "    \n",
    "    return model"
   ]
  },
  {
   "cell_type": "code",
   "execution_count": 14,
   "id": "2377d19f",
   "metadata": {},
   "outputs": [
    {
     "name": "stdout",
     "output_type": "stream",
     "text": [
      "Metal device set to: Apple M1\n"
     ]
    },
    {
     "name": "stderr",
     "output_type": "stream",
     "text": [
      "2024-02-20 10:29:25.636608: I tensorflow/core/common_runtime/pluggable_device/pluggable_device_factory.cc:306] Could not identify NUMA node of platform GPU ID 0, defaulting to 0. Your kernel may not have been built with NUMA support.\n",
      "2024-02-20 10:29:25.636867: I tensorflow/core/common_runtime/pluggable_device/pluggable_device_factory.cc:272] Created TensorFlow device (/job:localhost/replica:0/task:0/device:GPU:0 with 0 MB memory) -> physical PluggableDevice (device: 0, name: METAL, pci bus id: <undefined>)\n"
     ]
    },
    {
     "name": "stdout",
     "output_type": "stream",
     "text": [
      "Model: \"model_4\"\n",
      "__________________________________________________________________________________________________\n",
      " Layer (type)                   Output Shape         Param #     Connected to                     \n",
      "==================================================================================================\n",
      " input_1 (InputLayer)           [(None, 126, 600)]   0           []                               \n",
      "                                                                                                  \n",
      " input_2 (InputLayer)           [(None, 36, 600)]    0           []                               \n",
      "                                                                                                  \n",
      " input_3 (InputLayer)           [(None, 42, 600)]    0           []                               \n",
      "                                                                                                  \n",
      " input_4 (InputLayer)           [(None, 48, 600)]    0           []                               \n",
      "                                                                                                  \n",
      " conv1d (Conv1D)                (None, 126, 3)       57603       ['input_1[0][0]']                \n",
      "                                                                                                  \n",
      " conv1d_4 (Conv1D)              (None, 36, 3)        57603       ['input_2[0][0]']                \n",
      "                                                                                                  \n",
      " conv1d_8 (Conv1D)              (None, 42, 3)        57603       ['input_3[0][0]']                \n",
      "                                                                                                  \n",
      " conv1d_12 (Conv1D)             (None, 48, 3)        57603       ['input_4[0][0]']                \n",
      "                                                                                                  \n",
      " average_pooling1d (AveragePool  (None, 63, 3)       0           ['conv1d[0][0]']                 \n",
      " ing1D)                                                                                           \n",
      "                                                                                                  \n",
      " average_pooling1d_3 (AveragePo  (None, 18, 3)       0           ['conv1d_4[0][0]']               \n",
      " oling1D)                                                                                         \n",
      "                                                                                                  \n",
      " average_pooling1d_6 (AveragePo  (None, 21, 3)       0           ['conv1d_8[0][0]']               \n",
      " oling1D)                                                                                         \n",
      "                                                                                                  \n",
      " average_pooling1d_9 (AveragePo  (None, 24, 3)       0           ['conv1d_12[0][0]']              \n",
      " oling1D)                                                                                         \n",
      "                                                                                                  \n",
      " conv1d_1 (Conv1D)              (None, 63, 3)        291         ['average_pooling1d[0][0]']      \n",
      "                                                                                                  \n",
      " conv1d_5 (Conv1D)              (None, 18, 3)        291         ['average_pooling1d_3[0][0]']    \n",
      "                                                                                                  \n",
      " conv1d_9 (Conv1D)              (None, 21, 3)        291         ['average_pooling1d_6[0][0]']    \n",
      "                                                                                                  \n",
      " conv1d_13 (Conv1D)             (None, 24, 3)        291         ['average_pooling1d_9[0][0]']    \n",
      "                                                                                                  \n",
      " average_pooling1d_1 (AveragePo  (None, 31, 3)       0           ['conv1d_1[0][0]']               \n",
      " oling1D)                                                                                         \n",
      "                                                                                                  \n",
      " average_pooling1d_4 (AveragePo  (None, 9, 3)        0           ['conv1d_5[0][0]']               \n",
      " oling1D)                                                                                         \n",
      "                                                                                                  \n",
      " average_pooling1d_7 (AveragePo  (None, 10, 3)       0           ['conv1d_9[0][0]']               \n",
      " oling1D)                                                                                         \n",
      "                                                                                                  \n",
      " average_pooling1d_10 (AverageP  (None, 12, 3)       0           ['conv1d_13[0][0]']              \n",
      " ooling1D)                                                                                        \n",
      "                                                                                                  \n",
      " conv1d_2 (Conv1D)              (None, 31, 3)        579         ['average_pooling1d_1[0][0]']    \n",
      "                                                                                                  \n",
      " conv1d_6 (Conv1D)              (None, 9, 3)         579         ['average_pooling1d_4[0][0]']    \n",
      "                                                                                                  \n",
      " conv1d_10 (Conv1D)             (None, 10, 3)        579         ['average_pooling1d_7[0][0]']    \n",
      "                                                                                                  \n",
      " conv1d_14 (Conv1D)             (None, 12, 3)        579         ['average_pooling1d_10[0][0]']   \n",
      "                                                                                                  \n",
      " average_pooling1d_2 (AveragePo  (None, 15, 3)       0           ['conv1d_2[0][0]']               \n",
      " oling1D)                                                                                         \n",
      "                                                                                                  \n",
      " average_pooling1d_5 (AveragePo  (None, 4, 3)        0           ['conv1d_6[0][0]']               \n",
      " oling1D)                                                                                         \n",
      "                                                                                                  \n",
      " average_pooling1d_8 (AveragePo  (None, 5, 3)        0           ['conv1d_10[0][0]']              \n",
      " oling1D)                                                                                         \n",
      "                                                                                                  \n",
      " average_pooling1d_11 (AverageP  (None, 6, 3)        0           ['conv1d_14[0][0]']              \n",
      " ooling1D)                                                                                        \n",
      "                                                                                                  \n",
      " conv1d_3 (Conv1D)              (None, 15, 3)        579         ['average_pooling1d_2[0][0]']    \n",
      "                                                                                                  \n",
      " conv1d_7 (Conv1D)              (None, 4, 3)         579         ['average_pooling1d_5[0][0]']    \n",
      "                                                                                                  \n",
      " conv1d_11 (Conv1D)             (None, 5, 3)         579         ['average_pooling1d_8[0][0]']    \n",
      "                                                                                                  \n",
      " conv1d_15 (Conv1D)             (None, 6, 3)         579         ['average_pooling1d_11[0][0]']   \n",
      "                                                                                                  \n",
      " dense (Dense)                  (None, 15, 128)      512         ['conv1d_3[0][0]']               \n",
      "                                                                                                  \n",
      " dense_1 (Dense)                (None, 4, 128)       512         ['conv1d_7[0][0]']               \n",
      "                                                                                                  \n"
     ]
    },
    {
     "name": "stdout",
     "output_type": "stream",
     "text": [
      " dense_2 (Dense)                (None, 5, 128)       512         ['conv1d_11[0][0]']              \n",
      "                                                                                                  \n",
      " dense_3 (Dense)                (None, 6, 128)       512         ['conv1d_15[0][0]']              \n",
      "                                                                                                  \n",
      " dropout (Dropout)              (None, 15, 128)      0           ['dense[0][0]']                  \n",
      "                                                                                                  \n",
      " dropout_1 (Dropout)            (None, 4, 128)       0           ['dense_1[0][0]']                \n",
      "                                                                                                  \n",
      " dropout_2 (Dropout)            (None, 5, 128)       0           ['dense_2[0][0]']                \n",
      "                                                                                                  \n",
      " dropout_3 (Dropout)            (None, 6, 128)       0           ['dense_3[0][0]']                \n",
      "                                                                                                  \n",
      " flatten (Flatten)              (None, 1920)         0           ['dropout[0][0]']                \n",
      "                                                                                                  \n",
      " flatten_1 (Flatten)            (None, 512)          0           ['dropout_1[0][0]']              \n",
      "                                                                                                  \n",
      " flatten_2 (Flatten)            (None, 640)          0           ['dropout_2[0][0]']              \n",
      "                                                                                                  \n",
      " flatten_3 (Flatten)            (None, 768)          0           ['dropout_3[0][0]']              \n",
      "                                                                                                  \n",
      " concatenate (Concatenate)      (None, 3840)         0           ['flatten[0][0]',                \n",
      "                                                                  'flatten_1[0][0]',              \n",
      "                                                                  'flatten_2[0][0]',              \n",
      "                                                                  'flatten_3[0][0]']              \n",
      "                                                                                                  \n",
      " dense_4 (Dense)                (None, 32)           122912      ['concatenate[0][0]']            \n",
      "                                                                                                  \n",
      " dense_5 (Dense)                (None, 6)            198         ['dense_4[0][0]']                \n",
      "                                                                                                  \n",
      "==================================================================================================\n",
      "Total params: 361,366\n",
      "Trainable params: 361,366\n",
      "Non-trainable params: 0\n",
      "__________________________________________________________________________________________________\n"
     ]
    }
   ],
   "source": [
    "test_model = get_model()\n",
    "test_model.summary()"
   ]
  },
  {
   "cell_type": "code",
   "execution_count": 15,
   "id": "82dd2364",
   "metadata": {
    "scrolled": true
   },
   "outputs": [
    {
     "name": "stdout",
     "output_type": "stream",
     "text": [
      "{0, 1, 2, 3, 4, 5}\n"
     ]
    }
   ],
   "source": [
    "print(set(ys))"
   ]
  },
  {
   "cell_type": "raw",
   "id": "dada9459",
   "metadata": {
    "scrolled": true
   },
   "source": [
    "weight_training_classes = {0: 0.32075471698113206, \n",
    "                           1: 1.1333333333333333,\n",
    "                           2: 1.3076923076923077, \n",
    "                           3: 3.4, \n",
    "                           4: 3.4,\n",
    "                           5: 1.5454545454545454}"
   ]
  },
  {
   "cell_type": "markdown",
   "id": "accfe635",
   "metadata": {},
   "source": [
    "### K-fold evaluation"
   ]
  },
  {
   "cell_type": "code",
   "execution_count": 16,
   "id": "3c142f3a",
   "metadata": {},
   "outputs": [],
   "source": [
    "k = 5\n",
    "k_limit = 5\n",
    "train = 0.8\n",
    "val = 0.2\n",
    "test = 0.2"
   ]
  },
  {
   "cell_type": "code",
   "execution_count": 17,
   "id": "8aacb4ee",
   "metadata": {},
   "outputs": [],
   "source": [
    "VERBOSE = 0\n",
    "EPOCHS = 400\n",
    "BATCH_SIZE = 8"
   ]
  },
  {
   "cell_type": "code",
   "execution_count": 18,
   "id": "3f377532",
   "metadata": {},
   "outputs": [],
   "source": [
    "from sklearn.model_selection import KFold"
   ]
  },
  {
   "cell_type": "code",
   "execution_count": 19,
   "id": "8f442eac",
   "metadata": {},
   "outputs": [],
   "source": [
    "def get_k_indx(k, n):\n",
    "\n",
    "    k_fold = KFold(n_splits=k)\n",
    "    train_ = []\n",
    "    val_ = []\n",
    "    test_ = []\n",
    "    indx = []\n",
    "\n",
    "    for train_indices, test_indices in k_fold.split(ys):\n",
    "        n_k = len(train_indices)\n",
    "        val_split = int(n_k * train)\n",
    "        indx.append([train_indices[:val_split],train_indices[val_split + 1:], test_indices])\n",
    "    \n",
    "    return indx"
   ]
  },
  {
   "cell_type": "raw",
   "id": "9cbc755e",
   "metadata": {},
   "source": [
    "print(get_k_indx(k, len(ys)))"
   ]
  },
  {
   "cell_type": "code",
   "execution_count": 20,
   "id": "e67b070a",
   "metadata": {},
   "outputs": [],
   "source": [
    "%matplotlib inline"
   ]
  },
  {
   "cell_type": "code",
   "execution_count": 21,
   "id": "c200e137",
   "metadata": {},
   "outputs": [
    {
     "name": "stdout",
     "output_type": "stream",
     "text": [
      "{0: 0.3805309734513274, 1: 1.1889400921658986, 2: 1.015748031496063, 3: 2.4339622641509435, 4: 2.7157894736842105, 5: 1.303030303030303}\n"
     ]
    },
    {
     "name": "stderr",
     "output_type": "stream",
     "text": [
      "2024-02-20 10:29:27.893339: W tensorflow/core/platform/profile_utils/cpu_utils.cc:128] Failed to get CPU frequency: 0 Hz\n",
      "2024-02-20 10:29:28.904068: I tensorflow/core/grappler/optimizers/custom_graph_optimizer_registry.cc:114] Plugin optimizer for device_type GPU is enabled.\n",
      "2024-02-20 10:29:37.720057: I tensorflow/core/grappler/optimizers/custom_graph_optimizer_registry.cc:114] Plugin optimizer for device_type GPU is enabled.\n",
      "2024-02-20 11:26:00.335605: I tensorflow/core/grappler/optimizers/custom_graph_optimizer_registry.cc:114] Plugin optimizer for device_type GPU is enabled.\n"
     ]
    },
    {
     "name": "stdout",
     "output_type": "stream",
     "text": [
      "              precision    recall  f1-score   support\n",
      "\n",
      "           0       0.63      0.42      0.50       234\n",
      "           1       0.23      0.27      0.24        67\n",
      "           2       0.26      0.36      0.30        61\n",
      "           3       0.29      0.27      0.28        26\n",
      "           4       0.42      0.39      0.41        28\n",
      "           5       0.29      0.49      0.36        68\n",
      "\n",
      "    accuracy                           0.39       484\n",
      "   macro avg       0.35      0.37      0.35       484\n",
      "weighted avg       0.45      0.39      0.40       484\n",
      "\n",
      "{0: 0.3669985775248933, 1: 1.1889400921658986, 2: 1.1120689655172413, 3: 2.606060606060606, 4: 2.8351648351648353, 5: 1.2524271844660195}\n"
     ]
    },
    {
     "name": "stderr",
     "output_type": "stream",
     "text": [
      "2024-02-20 11:26:06.925732: I tensorflow/core/grappler/optimizers/custom_graph_optimizer_registry.cc:114] Plugin optimizer for device_type GPU is enabled.\n",
      "2024-02-20 11:26:19.253644: I tensorflow/core/grappler/optimizers/custom_graph_optimizer_registry.cc:114] Plugin optimizer for device_type GPU is enabled.\n",
      "2024-02-20 12:25:13.949780: I tensorflow/core/grappler/optimizers/custom_graph_optimizer_registry.cc:114] Plugin optimizer for device_type GPU is enabled.\n",
      "/Users/alanchen/.local/share/virtualenvs/research-face-excercises-dynamics-o_HFBNSW/lib/python3.8/site-packages/sklearn/metrics/_classification.py:1471: UndefinedMetricWarning: Precision and F-score are ill-defined and being set to 0.0 in labels with no predicted samples. Use `zero_division` parameter to control this behavior.\n",
      "  _warn_prf(average, modifier, msg_start, len(result))\n",
      "/Users/alanchen/.local/share/virtualenvs/research-face-excercises-dynamics-o_HFBNSW/lib/python3.8/site-packages/sklearn/metrics/_classification.py:1471: UndefinedMetricWarning: Precision and F-score are ill-defined and being set to 0.0 in labels with no predicted samples. Use `zero_division` parameter to control this behavior.\n",
      "  _warn_prf(average, modifier, msg_start, len(result))\n",
      "/Users/alanchen/.local/share/virtualenvs/research-face-excercises-dynamics-o_HFBNSW/lib/python3.8/site-packages/sklearn/metrics/_classification.py:1471: UndefinedMetricWarning: Precision and F-score are ill-defined and being set to 0.0 in labels with no predicted samples. Use `zero_division` parameter to control this behavior.\n",
      "  _warn_prf(average, modifier, msg_start, len(result))\n"
     ]
    },
    {
     "name": "stdout",
     "output_type": "stream",
     "text": [
      "              precision    recall  f1-score   support\n",
      "\n",
      "           0       0.00      0.00      0.00       209\n",
      "           1       0.00      0.00      0.00        67\n",
      "           2       0.00      0.00      0.00        83\n",
      "           3       0.00      0.00      0.00        33\n",
      "           4       0.00      0.00      0.00        32\n",
      "           5       0.12      1.00      0.22        60\n",
      "\n",
      "    accuracy                           0.12       484\n",
      "   macro avg       0.02      0.17      0.04       484\n",
      "weighted avg       0.02      0.12      0.03       484\n",
      "\n",
      "{0: 0.37445573294629897, 1: 1.2, 2: 1.0530612244897959, 3: 2.58, 4: 2.74468085106383, 5: 1.2585365853658537}\n"
     ]
    },
    {
     "name": "stderr",
     "output_type": "stream",
     "text": [
      "2024-02-20 12:25:22.799849: I tensorflow/core/grappler/optimizers/custom_graph_optimizer_registry.cc:114] Plugin optimizer for device_type GPU is enabled.\n",
      "2024-02-20 12:25:34.173573: I tensorflow/core/grappler/optimizers/custom_graph_optimizer_registry.cc:114] Plugin optimizer for device_type GPU is enabled.\n",
      "2024-02-20 13:24:47.835231: I tensorflow/core/grappler/optimizers/custom_graph_optimizer_registry.cc:114] Plugin optimizer for device_type GPU is enabled.\n",
      "/Users/alanchen/.local/share/virtualenvs/research-face-excercises-dynamics-o_HFBNSW/lib/python3.8/site-packages/sklearn/metrics/_classification.py:1471: UndefinedMetricWarning: Precision and F-score are ill-defined and being set to 0.0 in labels with no predicted samples. Use `zero_division` parameter to control this behavior.\n",
      "  _warn_prf(average, modifier, msg_start, len(result))\n",
      "/Users/alanchen/.local/share/virtualenvs/research-face-excercises-dynamics-o_HFBNSW/lib/python3.8/site-packages/sklearn/metrics/_classification.py:1471: UndefinedMetricWarning: Precision and F-score are ill-defined and being set to 0.0 in labels with no predicted samples. Use `zero_division` parameter to control this behavior.\n",
      "  _warn_prf(average, modifier, msg_start, len(result))\n",
      "/Users/alanchen/.local/share/virtualenvs/research-face-excercises-dynamics-o_HFBNSW/lib/python3.8/site-packages/sklearn/metrics/_classification.py:1471: UndefinedMetricWarning: Precision and F-score are ill-defined and being set to 0.0 in labels with no predicted samples. Use `zero_division` parameter to control this behavior.\n",
      "  _warn_prf(average, modifier, msg_start, len(result))\n"
     ]
    },
    {
     "name": "stdout",
     "output_type": "stream",
     "text": [
      "              precision    recall  f1-score   support\n",
      "\n",
      "           0       0.00      0.00      0.00       223\n",
      "           1       0.00      0.00      0.00        69\n",
      "           2       0.00      0.00      0.00        70\n",
      "           3       0.00      0.00      0.00        32\n",
      "           4       0.06      1.00      0.11        29\n",
      "           5       0.00      0.00      0.00        61\n",
      "\n",
      "    accuracy                           0.06       484\n",
      "   macro avg       0.01      0.17      0.02       484\n",
      "weighted avg       0.00      0.06      0.01       484\n",
      "\n",
      "{0: 0.36338028169014086, 1: 1.1889400921658986, 2: 1.131578947368421, 3: 2.5544554455445545, 4: 2.8351648351648353, 5: 1.2835820895522387}\n"
     ]
    },
    {
     "name": "stderr",
     "output_type": "stream",
     "text": [
      "2024-02-20 13:24:56.133918: I tensorflow/core/grappler/optimizers/custom_graph_optimizer_registry.cc:114] Plugin optimizer for device_type GPU is enabled.\n",
      "2024-02-20 13:25:09.046786: I tensorflow/core/grappler/optimizers/custom_graph_optimizer_registry.cc:114] Plugin optimizer for device_type GPU is enabled.\n",
      "2024-02-20 14:23:52.383895: I tensorflow/core/grappler/optimizers/custom_graph_optimizer_registry.cc:114] Plugin optimizer for device_type GPU is enabled.\n",
      "/Users/alanchen/.local/share/virtualenvs/research-face-excercises-dynamics-o_HFBNSW/lib/python3.8/site-packages/sklearn/metrics/_classification.py:1471: UndefinedMetricWarning: Precision and F-score are ill-defined and being set to 0.0 in labels with no predicted samples. Use `zero_division` parameter to control this behavior.\n",
      "  _warn_prf(average, modifier, msg_start, len(result))\n",
      "/Users/alanchen/.local/share/virtualenvs/research-face-excercises-dynamics-o_HFBNSW/lib/python3.8/site-packages/sklearn/metrics/_classification.py:1471: UndefinedMetricWarning: Precision and F-score are ill-defined and being set to 0.0 in labels with no predicted samples. Use `zero_division` parameter to control this behavior.\n",
      "  _warn_prf(average, modifier, msg_start, len(result))\n",
      "/Users/alanchen/.local/share/virtualenvs/research-face-excercises-dynamics-o_HFBNSW/lib/python3.8/site-packages/sklearn/metrics/_classification.py:1471: UndefinedMetricWarning: Precision and F-score are ill-defined and being set to 0.0 in labels with no predicted samples. Use `zero_division` parameter to control this behavior.\n",
      "  _warn_prf(average, modifier, msg_start, len(result))\n"
     ]
    },
    {
     "name": "stdout",
     "output_type": "stream",
     "text": [
      "              precision    recall  f1-score   support\n",
      "\n",
      "           0       0.00      0.00      0.00       202\n",
      "           1       0.00      0.00      0.00        67\n",
      "           2       0.00      0.00      0.00        87\n",
      "           3       0.06      1.00      0.12        31\n",
      "           4       0.00      0.00      0.00        32\n",
      "           5       0.00      0.00      0.00        65\n",
      "\n",
      "    accuracy                           0.06       484\n",
      "   macro avg       0.01      0.17      0.02       484\n",
      "weighted avg       0.00      0.06      0.01       484\n",
      "\n",
      "{0: 0.3669985775248933, 1: 1.2169811320754718, 2: 1.1025641025641026, 3: 2.58, 4: 2.6597938144329896, 5: 1.2772277227722773}\n"
     ]
    },
    {
     "name": "stderr",
     "output_type": "stream",
     "text": [
      "2024-02-20 14:24:00.055051: I tensorflow/core/grappler/optimizers/custom_graph_optimizer_registry.cc:114] Plugin optimizer for device_type GPU is enabled.\n",
      "2024-02-20 14:24:14.396804: I tensorflow/core/grappler/optimizers/custom_graph_optimizer_registry.cc:114] Plugin optimizer for device_type GPU is enabled.\n",
      "2024-02-20 15:20:27.785350: I tensorflow/core/grappler/optimizers/custom_graph_optimizer_registry.cc:114] Plugin optimizer for device_type GPU is enabled.\n",
      "/Users/alanchen/.local/share/virtualenvs/research-face-excercises-dynamics-o_HFBNSW/lib/python3.8/site-packages/sklearn/metrics/_classification.py:1471: UndefinedMetricWarning: Precision and F-score are ill-defined and being set to 0.0 in labels with no predicted samples. Use `zero_division` parameter to control this behavior.\n",
      "  _warn_prf(average, modifier, msg_start, len(result))\n",
      "/Users/alanchen/.local/share/virtualenvs/research-face-excercises-dynamics-o_HFBNSW/lib/python3.8/site-packages/sklearn/metrics/_classification.py:1471: UndefinedMetricWarning: Precision and F-score are ill-defined and being set to 0.0 in labels with no predicted samples. Use `zero_division` parameter to control this behavior.\n",
      "  _warn_prf(average, modifier, msg_start, len(result))\n",
      "/Users/alanchen/.local/share/virtualenvs/research-face-excercises-dynamics-o_HFBNSW/lib/python3.8/site-packages/sklearn/metrics/_classification.py:1471: UndefinedMetricWarning: Precision and F-score are ill-defined and being set to 0.0 in labels with no predicted samples. Use `zero_division` parameter to control this behavior.\n",
      "  _warn_prf(average, modifier, msg_start, len(result))\n"
     ]
    },
    {
     "name": "stdout",
     "output_type": "stream",
     "text": [
      "              precision    recall  f1-score   support\n",
      "\n",
      "           0       0.00      0.00      0.00       230\n",
      "           1       0.00      0.00      0.00        74\n",
      "           2       0.00      0.00      0.00        64\n",
      "           3       0.00      0.00      0.00        31\n",
      "           4       0.00      0.00      0.00        23\n",
      "           5       0.13      1.00      0.22        61\n",
      "\n",
      "    accuracy                           0.13       483\n",
      "   macro avg       0.02      0.17      0.04       483\n",
      "weighted avg       0.02      0.13      0.03       483\n",
      "\n"
     ]
    },
    {
     "data": {
      "image/png": "[encoded data removed]",
      "text/plain": [
       "<Figure size 200x200 with 1 Axes>"
      ]
     },
     "metadata": {},
     "output_type": "display_data"
    },
    {
     "data": {
      "image/png": "[encoded data removed]",
      "text/plain": [
       "<Figure size 200x200 with 1 Axes>"
      ]
     },
     "metadata": {},
     "output_type": "display_data"
    },
    {
     "data": {
      "image/png": "[encoded data removed]",
      "text/plain": [
       "<Figure size 200x200 with 1 Axes>"
      ]
     },
     "metadata": {},
     "output_type": "display_data"
    },
    {
     "data": {
      "image/png": "[encoded data removed]",
      "text/plain": [
       "<Figure size 200x200 with 1 Axes>"
      ]
     },
     "metadata": {},
     "output_type": "display_data"
    },
    {
     "data": {
      "image/png": "[encoded data removed]",
      "text/plain": [
       "<Figure size 200x200 with 1 Axes>"
      ]
     },
     "metadata": {},
     "output_type": "display_data"
    }
   ],
   "source": [
    "indxs = get_k_indx(k, len(ys))\n",
    "models = []\n",
    "\n",
    "for i in range(k_limit):\n",
    "    train_indx, val_indx, test_indx  = indxs[i]\n",
    "    \n",
    "    xs_global_i = xs_global[train_indx]\n",
    "    xs_global_i_val = xs_global[val_indx]\n",
    "    xs_global_i_test = xs_global[test_indx]\n",
    "    \n",
    "    xs_frontal_i = xs_frontal[train_indx]\n",
    "    xs_frontal_i_val = xs_frontal[val_indx]\n",
    "    xs_frontal_i_test = xs_frontal[test_indx]\n",
    "    \n",
    "    xs_oral_i = xs_oral[train_indx]\n",
    "    xs_oral_i_val = xs_oral[val_indx]\n",
    "    xs_oral_i_test = xs_oral[test_indx]\n",
    "    \n",
    "    xs_orbital_i = xs_orbital[train_indx]\n",
    "    xs_orbital_i_val = xs_orbital[val_indx]\n",
    "    xs_orbital_i_test = xs_orbital[test_indx]\n",
    "    \n",
    "    ys_i = ys[train_indx]\n",
    "    ys_i_val = ys[val_indx]\n",
    "    ys_i_test = ys[test_indx]\n",
    "    \n",
    "    \n",
    "    class_weights = class_weight.compute_class_weight(class_weight='balanced',\n",
    "                                                 classes = np.unique(ys_i),\n",
    "                                                 y=ys_i)\n",
    "    available_classes = np.unique(ys_i)\n",
    "    weight_training_classes = {\n",
    "        0: 0,\n",
    "        1: 0,\n",
    "        2: 0,\n",
    "        3: 0,\n",
    "        4: 0,\n",
    "        5: 0,\n",
    "    }\n",
    "    \n",
    "    for indx, value in enumerate(class_weights):\n",
    "        weight_training_classes[available_classes[indx]] = value\n",
    "\n",
    "    print(weight_training_classes)\n",
    "\n",
    "    model = get_model()\n",
    "\n",
    "    model_callbacks = [\n",
    "        tf.keras.callbacks.EarlyStopping(patience=20)\n",
    "    ]\n",
    "    \n",
    "    hist = model.fit(\n",
    "        x=[\n",
    "            xs_global_i, \n",
    "            xs_frontal_i,\n",
    "            xs_oral_i,\n",
    "            xs_orbital_i], y=ys_i, \n",
    "        validation_data=([\n",
    "            xs_global_i_val,\n",
    "            xs_frontal_i_val,\n",
    "            xs_oral_i_val,\n",
    "            xs_orbital_i_val], ys_i_val),\n",
    "        batch_size=BATCH_SIZE, \n",
    "        epochs=EPOCHS,\n",
    "        class_weight=weight_training_classes,\n",
    "        #callbacks=model_callbacks,\n",
    "        verbose=VERBOSE)\n",
    "    \n",
    "    models.append(model)\n",
    "    \n",
    "    # visualizing losses and accuracy\n",
    "    train_loss = hist.history['loss']\n",
    "    val_loss   = hist.history['val_loss']\n",
    "    train_acc  = hist.history['accuracy']\n",
    "    val_acc    = hist.history['val_accuracy']\n",
    "    xc         = range(len(hist.history['loss']))    \n",
    "    \n",
    "    plt.figure()\n",
    "    plt.title(f'Run {i}')\n",
    "    plt.plot(xc, train_loss, color='red')\n",
    "    plt.plot(xc, val_loss, color='pink')\n",
    "    plt.plot(xc, train_acc, color='blue')\n",
    "    plt.plot(xc, val_acc, color='cyan')\n",
    "    \n",
    "    y_pred = model.predict([\n",
    "        xs_global_i_test,\n",
    "        xs_frontal_i_test,\n",
    "        xs_oral_i_test,\n",
    "        xs_orbital_i_test],verbose=0)\n",
    "    y_pred_bool = np.argmax(y_pred, axis=1)\n",
    "\n",
    "    print(classification_report(ys_i_test, y_pred_bool))"
   ]
  },
  {
   "cell_type": "markdown",
   "id": "ca9e0ddd",
   "metadata": {
    "scrolled": true
   },
   "source": [
    "# Model Serialization "
   ]
  },
  {
   "cell_type": "code",
   "execution_count": 22,
   "id": "7a54ee16",
   "metadata": {},
   "outputs": [],
   "source": [
    "serialize = False\n",
    "best_model = 2"
   ]
  },
  {
   "cell_type": "code",
   "execution_count": 23,
   "id": "daa64468",
   "metadata": {},
   "outputs": [],
   "source": [
    "dir_models = os.path.join(dir_root, 'models')\n",
    "dir_model = os.path.join(dir_models, 'type4-with-fe_no-aug_005')"
   ]
  },
  {
   "cell_type": "code",
   "execution_count": 24,
   "id": "e7ba5cdb",
   "metadata": {},
   "outputs": [],
   "source": [
    "if serialize:\n",
    "    model = models[best_model]\n",
    "    model.save(dir_model)"
   ]
  },
  {
   "cell_type": "code",
   "execution_count": null,
   "id": "b65e7a0a",
   "metadata": {},
   "outputs": [],
   "source": []
  },
  {
   "cell_type": "code",
   "execution_count": null,
   "id": "b9089e36",
   "metadata": {},
   "outputs": [],
   "source": []
  },
  {
   "cell_type": "code",
   "execution_count": null,
   "id": "053cdfbd",
   "metadata": {},
   "outputs": [],
   "source": []
  },
  {
   "cell_type": "code",
   "execution_count": null,
   "id": "6cb74841",
   "metadata": {},
   "outputs": [],
   "source": []
  },
  {
   "cell_type": "code",
   "execution_count": null,
   "id": "f9f45c88",
   "metadata": {},
   "outputs": [],
   "source": []
  },
  {
   "cell_type": "code",
   "execution_count": null,
   "id": "cc5d9855",
   "metadata": {},
   "outputs": [],
   "source": []
  }
 ],
 "metadata": {
  "kernelspec": {
   "display_name": "face-prognosis",
   "language": "python",
   "name": "face-prognosis"
  },
  "language_info": {
   "codemirror_mode": {
    "name": "ipython",
    "version": 3
   },
   "file_extension": ".py",
   "mimetype": "text/x-python",
   "name": "python",
   "nbconvert_exporter": "python",
   "pygments_lexer": "ipython3",
   "version": "3.8.13"
  }
 },
 "nbformat": 4,
 "nbformat_minor": 5
}
