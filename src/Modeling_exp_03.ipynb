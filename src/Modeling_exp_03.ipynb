{
 "cells": [
  {
   "cell_type": "markdown",
   "id": "c3ffceac",
   "metadata": {},
   "source": [
    "# Notes"
   ]
  },
  {
   "cell_type": "markdown",
   "id": "941fce85",
   "metadata": {},
   "source": [
    "Third iteration is to model: To use the best model architecture and add feature engineering with rebase\n"
   ]
  },
  {
   "cell_type": "code",
   "execution_count": 1,
   "id": "2167fbdb",
   "metadata": {
    "scrolled": true
   },
   "outputs": [],
   "source": [
    "import os \n",
    "import re\n",
    "import csv\n",
    "import json\n",
    "import math\n",
    "from itertools import chain\n",
    "from datetime import datetime\n",
    "\n",
    "import pandas as pd\n",
    "import numpy as np\n",
    "import tensorflow as tf\n",
    "\n",
    "from tensorflow.keras.preprocessing.sequence import pad_sequences\n",
    "from sklearn.metrics import classification_report\n",
    "\n",
    "import matplotlib.pyplot as plt\n",
    "plt.style.use('_mpl-gallery')"
   ]
  },
  {
   "cell_type": "markdown",
   "id": "e8c2277c",
   "metadata": {},
   "source": [
    "# Constants"
   ]
  },
  {
   "cell_type": "code",
   "execution_count": 2,
   "id": "bb75db30",
   "metadata": {
    "scrolled": true
   },
   "outputs": [],
   "source": [
    "SEQ_MAX_LEN = 600\n",
    "NUM_CLASSES = 6\n",
    "NUM_EXERCISES = 9\n",
    "NUM_FLAG_BS = 2"
   ]
  },
  {
   "cell_type": "code",
   "execution_count": 3,
   "id": "eed45b66",
   "metadata": {
    "scrolled": true
   },
   "outputs": [],
   "source": [
    "dir_root = os.path.join('..')\n",
    "dir_data_root = os.path.join(dir_root, 'data')\n",
    "dir_exercises = os.path.join(dir_data_root, 'json', 'exercises_raw')\n",
    "dir_exercises_test = os.path.join(dir_data_root, 'json', 'exercises_test')\n",
    "dir_exercises_augmented = os.path.join(dir_data_root, 'json', 'exercises_augmented')\n",
    "dir_patiens_sessions = os.path.join(dir_data_root, 'json', 'patients_sessions')"
   ]
  },
  {
   "cell_type": "markdown",
   "id": "e544c090",
   "metadata": {},
   "source": [
    "# Data prep"
   ]
  },
  {
   "cell_type": "markdown",
   "id": "6ca3d18d",
   "metadata": {},
   "source": [
    "### Build training set"
   ]
  },
  {
   "cell_type": "code",
   "execution_count": 4,
   "id": "f6fe59eb",
   "metadata": {},
   "outputs": [
    {
     "data": {
      "text/plain": [
       "['frontal', 'orbital', 'oral']"
      ]
     },
     "execution_count": 4,
     "metadata": {},
     "output_type": "execute_result"
    }
   ],
   "source": [
    "all_regions = json.load(open(os.path.join('.', 'settings', 'all_regions.json')))\n",
    "\n",
    "all_regions"
   ]
  },
  {
   "cell_type": "code",
   "execution_count": 5,
   "id": "f1ca9eeb",
   "metadata": {},
   "outputs": [
    {
     "data": {
      "text/plain": [
       "{'0_LefteyeMidbottom': 'orbital',\n",
       " '1_LefteyeMidtop': 'orbital',\n",
       " '2_LefteyeInnercorner': 'orbital',\n",
       " '3_LefteyeOutercorner': 'orbital',\n",
       " '4_LefteyebrowInner': 'frontal',\n",
       " '5_LefteyebrowCenter': 'frontal',\n",
       " '6_RighteyeMidbottom': 'orbital',\n",
       " '7_RighteyeMidtop': 'orbital',\n",
       " '8_RighteyeInnercorner': 'orbital',\n",
       " '9_RighteyeOutercorner': 'orbital',\n",
       " '10_RighteyebrowInner': 'frontal',\n",
       " '11_RighteyebrowCenter': 'frontal',\n",
       " '12_NoseTip': 'frontal',\n",
       " '13_MouthLowerlipMidbottom': 'oral',\n",
       " '14_MouthLeftcorner': 'oral',\n",
       " '15_MouthRightcorner': 'oral',\n",
       " '16_MouthUpperlipMidtop': 'oral',\n",
       " '17_ChinCenter': 'oral',\n",
       " '18_ForeheadCenter': 'frontal',\n",
       " '19_LeftcheekCenter': 'oral',\n",
       " '20_RightcheekCenter': 'oral'}"
      ]
     },
     "execution_count": 5,
     "metadata": {},
     "output_type": "execute_result"
    }
   ],
   "source": [
    "regions = json.load(open(os.path.join('.', 'settings', 'pois_region.json')))\n",
    "\n",
    "regions"
   ]
  },
  {
   "cell_type": "code",
   "execution_count": 6,
   "id": "f6298136",
   "metadata": {},
   "outputs": [
    {
     "data": {
      "text/plain": [
       "{'0_LefteyeMidbottom': '18_ForeheadCenter',\n",
       " '1_LefteyeMidtop': '18_ForeheadCenter',\n",
       " '2_LefteyeInnercorner': '18_ForeheadCenter',\n",
       " '3_LefteyeOutercorner': '18_ForeheadCenter',\n",
       " '4_LefteyebrowInner': '18_ForeheadCenter',\n",
       " '5_LefteyebrowCenter': '18_ForeheadCenter',\n",
       " '6_RighteyeMidbottom': '18_ForeheadCenter',\n",
       " '7_RighteyeMidtop': '18_ForeheadCenter',\n",
       " '8_RighteyeInnercorner': '18_ForeheadCenter',\n",
       " '9_RighteyeOutercorner': '18_ForeheadCenter',\n",
       " '10_RighteyebrowInner': '18_ForeheadCenter',\n",
       " '11_RighteyebrowCenter': '18_ForeheadCenter',\n",
       " '12_NoseTip': '18_ForeheadCenter',\n",
       " '13_MouthLowerlipMidbottom': '18_ForeheadCenter',\n",
       " '14_MouthLeftcorner': '18_ForeheadCenter',\n",
       " '15_MouthRightcorner': '18_ForeheadCenter',\n",
       " '16_MouthUpperlipMidtop': '18_ForeheadCenter',\n",
       " '17_ChinCenter': '18_ForeheadCenter',\n",
       " '18_ForeheadCenter': '18_ForeheadCenter',\n",
       " '19_LeftcheekCenter': '18_ForeheadCenter',\n",
       " '20_RightcheekCenter': '18_ForeheadCenter'}"
      ]
     },
     "execution_count": 6,
     "metadata": {},
     "output_type": "execute_result"
    }
   ],
   "source": [
    "bases = json.load(open(os.path.join('.', 'settings', 'pois_base.json')))\n",
    "\n",
    "bases"
   ]
  },
  {
   "cell_type": "markdown",
   "id": "be0fe7f3",
   "metadata": {},
   "source": [
    "#### Feature engineering"
   ]
  },
  {
   "cell_type": "code",
   "execution_count": 7,
   "id": "e29234b9",
   "metadata": {},
   "outputs": [],
   "source": [
    "def rescale(value, minimum, maximum):\n",
    "    return (value - minimum) / (maximum - minimum)\n",
    "\n",
    "def normalise(s):\n",
    "    s_minimum = min(s)\n",
    "    s_maximum = max(s)\n",
    "    \n",
    "    if (s_maximum - s_minimum) == 0:\n",
    "        return s\n",
    "    \n",
    "    return [rescale(x, s_minimum, s_maximum) for x in s]"
   ]
  },
  {
   "cell_type": "code",
   "execution_count": 8,
   "id": "ebedd5e1",
   "metadata": {},
   "outputs": [],
   "source": [
    "def unit_vector(vector):\n",
    "    if np.linalg.norm(vector) == 0:\n",
    "        return np.nan\n",
    "    \n",
    "    return vector / np.linalg.norm(vector)\n",
    "\n",
    "def angle_between_two_points(p1, p2):\n",
    "    p1_u = unit_vector(p1)\n",
    "    p2_u = unit_vector(p2)\n",
    "    result = np.arccos(np.clip(np.dot(p1_u, p2_u), -1.0, 1.0))\n",
    "    return 0.0 if np.isnan(result) else result\n",
    "\n",
    "def direction_angles(xs, ys, zs):\n",
    "    angles = [0]\n",
    "    for i in range(1, len(xs)):\n",
    "        angles.append(angle_between_two_points([xs[i-1], ys[i-1], zs[i-1]], [xs[i], ys[i], zs[i]]))\n",
    "        \n",
    "    return angles"
   ]
  },
  {
   "cell_type": "code",
   "execution_count": 9,
   "id": "3a5fcb12",
   "metadata": {},
   "outputs": [],
   "source": [
    "def normalize_by_start(s):\n",
    "    return [x - s[0] for x in s]"
   ]
  },
  {
   "cell_type": "code",
   "execution_count": 10,
   "id": "f66a3d41",
   "metadata": {},
   "outputs": [],
   "source": [
    "def distance(xs, ys, zs):\n",
    "    distance = [0]\n",
    "    for i in range(1, len(xs)):\n",
    "        distance.append(math.dist([xs[i-1], ys[i-1], zs[i-1]], [xs[i], ys[i], zs[i]]))\n",
    "    \n",
    "    return distance"
   ]
  },
  {
   "cell_type": "code",
   "execution_count": 11,
   "id": "be5fe4b6",
   "metadata": {},
   "outputs": [],
   "source": [
    "def rebase(s, s_name, poi_name, pois, bases):\n",
    "    base_name = bases[poi_name]\n",
    "    base_s = pois[base_name][s_name]\n",
    "    return[x - bx for x, bx in zip(s, base_s)]"
   ]
  },
  {
   "cell_type": "code",
   "execution_count": 12,
   "id": "481e7fa6",
   "metadata": {},
   "outputs": [],
   "source": [
    "def feature_engineering_sequence(poi, re_base=False, poi_name='', pois={}):\n",
    "    new_sequences = []    \n",
    "    if re_base:\n",
    "        xs = rebase(poi['xs'], 'xs', poi_name, pois, bases)\n",
    "        ys = rebase(poi['ys'], 'ys', poi_name, pois, bases)\n",
    "        zs = rebase(poi['zs'], 'zs', poi_name, pois, bases)\n",
    "    else:\n",
    "        xs = poi['xs']\n",
    "        ys = poi['ys']\n",
    "        zs = poi['zs']\n",
    "        \n",
    "    #original\n",
    "    new_sequences.append(xs)\n",
    "    new_sequences.append(ys)\n",
    "    new_sequences.append(zs)\n",
    "    #normalize by start\n",
    "    #new_sequences.append(normalize_by_start(xs)) \n",
    "    #new_sequences.append(normalize_by_start(ys))\n",
    "    #new_sequences.append(normalize_by_start(zs))\n",
    "    #normalize\n",
    "    #new_sequences.append(normalise(xs)) \n",
    "    #new_sequences.append(normalise(ys))\n",
    "    #new_sequences.append(normalise(zs))\n",
    "    #direction\n",
    "    new_sequences.append(direction_angles(xs, ys, zs))\n",
    "    #distance\n",
    "    new_sequences.append(distance(xs, ys, zs))\n",
    "    \n",
    "    return new_sequences"
   ]
  },
  {
   "cell_type": "code",
   "execution_count": 13,
   "id": "a8b45114",
   "metadata": {},
   "outputs": [],
   "source": [
    "def build_region(pois, region):\n",
    "    exercise_sequence_region = []\n",
    "    \n",
    "    for poi_name in sorted(pois.keys()):\n",
    "        if regions[poi_name] == region or region == 'global':\n",
    "            sequences = pois[poi_name]\n",
    "            \n",
    "            exercise_sequence_region.extend(feature_engineering_sequence(sequences))\n",
    "            exercise_sequence_region.extend(feature_engineering_sequence(sequences, True, poi_name, pois))\n",
    "            \n",
    "    exercise_sequence_region = pad_sequences(\n",
    "        exercise_sequence_region,\n",
    "        padding=\"pre\",\n",
    "        maxlen=SEQ_MAX_LEN)\n",
    "        \n",
    "    return exercise_sequence_region"
   ]
  },
  {
   "cell_type": "code",
   "execution_count": 14,
   "id": "95d508f2",
   "metadata": {
    "scrolled": true
   },
   "outputs": [],
   "source": [
    "def exercise_to_input(file_path):\n",
    "    exercise = json.load(open(file_path, 'r'))\n",
    "\n",
    "    # build regions \n",
    "    exercise_sequence_global_region = build_region(exercise['pois'], 'global')\n",
    "    exercise_sequence_frontal_region = build_region(exercise['pois'], 'frontal')\n",
    "    exercise_sequence_oral_region = build_region(exercise['pois'], 'oral')\n",
    "    exercise_sequence_orbital_region = build_region(exercise['pois'], 'orbital')\n",
    "        \n",
    "    # build meta\n",
    "    x_a_1 = [0] * NUM_EXERCISES\n",
    "    x_a_2 = [0] * NUM_FLAG_BS\n",
    "    x_a_1[exercise['meta']['id']] = 1\n",
    "    x_a_2[exercise['meta']['flag_before_surgery']] = 1\n",
    "\n",
    "    return [\n",
    "            x_a_1 + x_a_2, \n",
    "            exercise_sequence_global_region, \n",
    "            exercise_sequence_frontal_region,\n",
    "            exercise_sequence_oral_region,\n",
    "            exercise_sequence_orbital_region,\n",
    "            exercise['meta']['evaluation']\n",
    "           ]"
   ]
  },
  {
   "cell_type": "code",
   "execution_count": 29,
   "id": "a93a7a24",
   "metadata": {
    "scrolled": true
   },
   "outputs": [
    {
     "name": "stdout",
     "output_type": "stream",
     "text": [
      "(10740,)\n",
      "(10740, 11)\n",
      "(10740, 210, 600)\n",
      "(10740, 60, 600)\n",
      "(10740, 70, 600)\n",
      "(10740, 80, 600)\n"
     ]
    }
   ],
   "source": [
    "xslist_meta = list()\n",
    "xslist_global = list()\n",
    "xslist_frontal = list()\n",
    "xslist_oral = list()\n",
    "xslist_orbital = list()\n",
    "yslist = list()\n",
    "\n",
    "exercises_sources = [\n",
    "    #dir_exercises_test\n",
    "    dir_exercises,\n",
    "    dir_exercises_augmented\n",
    "]\n",
    "\n",
    "for exercise_source in exercises_sources:\n",
    "    for file_name in os.listdir(exercise_source):\n",
    "        file_path = os.path.join(exercise_source, file_name)\n",
    "\n",
    "        if file_name == '.DS_Store': continue\n",
    "\n",
    "        _xs_meta, _xs_global, _xs_frontal, _xs_oral, _xs_orbital, _ys = exercise_to_input(file_path)\n",
    "\n",
    "        yslist.append(_ys)\n",
    "        xslist_meta.append(_xs_meta)  \n",
    "        xslist_global.append(_xs_global)\n",
    "        xslist_frontal.append(_xs_frontal)\n",
    "        xslist_oral.append(_xs_oral)\n",
    "        xslist_orbital.append(_xs_orbital)\n",
    "            \n",
    "ys = np.array(yslist)\n",
    "xs_meta = np.array(xslist_meta)   \n",
    "xs_global = np.array(xslist_global) \n",
    "xs_frontal = np.array(xslist_frontal) \n",
    "xs_oral = np.array(xslist_oral) \n",
    "xs_orbital = np.array(xslist_orbital) \n",
    "\n",
    "print(ys.shape)\n",
    "print(xs_meta.shape)\n",
    "print(xs_global.shape)\n",
    "print(xs_frontal.shape)\n",
    "print(xs_oral.shape)\n",
    "print(xs_orbital.shape)"
   ]
  },
  {
   "cell_type": "raw",
   "id": "ab6ea1d4",
   "metadata": {},
   "source": [
    "only XYZ with test data don't look at the first number\n",
    "(27,)\n",
    "(27, 11)\n",
    "(27, 126, 600)\n",
    "(27, 36, 600)\n",
    "(27, 42, 600)\n",
    "(27, 48, 600)\n",
    "\n",
    "with FE no rebase\n",
    "(2148,)\n",
    "(2148, 11)\n",
    "(2148, 231, 600)\n",
    "(2148, 66, 600)\n",
    "(2148, 77, 600)\n",
    "(2148, 88, 600)\n",
    "\n",
    "original data\n",
    "(2148,)\n",
    "(2148, 11)\n",
    "(2148, 63, 600)\n",
    "(2148, 18, 600)\n",
    "(2148, 21, 600)\n",
    "(2148, 24, 600)"
   ]
  },
  {
   "cell_type": "markdown",
   "id": "eeba3312",
   "metadata": {},
   "source": [
    "## Modeling"
   ]
  },
  {
   "cell_type": "code",
   "execution_count": 30,
   "id": "db63f1bb",
   "metadata": {
    "scrolled": true
   },
   "outputs": [],
   "source": [
    "from tensorflow.keras.layers import Dense\n",
    "from tensorflow.keras.layers import LSTM\n",
    "from tensorflow.keras.layers import Conv1D\n",
    "from tensorflow.keras.layers import Conv2D\n",
    "from tensorflow.keras.layers import MaxPooling1D\n",
    "from tensorflow.keras.layers import MaxPooling2D\n",
    "from tensorflow.keras.layers import Flatten\n",
    "from tensorflow.keras.layers import Input\n",
    "from tensorflow.keras.layers import concatenate\n",
    "from tensorflow.keras.layers import BatchNormalization\n",
    "from tensorflow.keras.layers import Dropout\n",
    "from tensorflow.keras.models import Model\n",
    "from tensorflow.keras.optimizers import Adam\n",
    "\n",
    "from sklearn.utils import class_weight"
   ]
  },
  {
   "cell_type": "code",
   "execution_count": 31,
   "id": "5f06345c",
   "metadata": {},
   "outputs": [],
   "source": [
    "def get_dnn(inputLayer): \n",
    "    m = Dense(4, activation=\"relu\")(inputLayer)\n",
    "    m = Model(inputs=inputLayer, outputs=m)\n",
    "\n",
    "    return m"
   ]
  },
  {
   "cell_type": "code",
   "execution_count": 32,
   "id": "fc36a0ca",
   "metadata": {},
   "outputs": [],
   "source": [
    "def get_cnn(inputLayer):\n",
    "    chanDim = -1\n",
    "    \n",
    "    m = Conv1D(16, 3, padding='same', activation='relu')(inputLayer)\n",
    "    m = BatchNormalization(axis=chanDim)(m)\n",
    "    m = MaxPooling1D((2))(m)\n",
    "    m = Conv1D(32, 3, padding='same', activation='relu')(m)\n",
    "    m = BatchNormalization(axis=chanDim)(m)\n",
    "    m = MaxPooling1D((2))(m)\n",
    "    m = Conv1D(64, 3, padding='same', activation='relu')(m)\n",
    "    m = BatchNormalization(axis=chanDim)(m)\n",
    "    m = MaxPooling1D((2))(m)\n",
    "    m = Conv1D(64, 3, padding='same', activation='relu')(m)\n",
    "    m = BatchNormalization(axis=chanDim)(m)\n",
    "    m = MaxPooling1D((2))(m)\n",
    "    m = Flatten()(m)\n",
    "    m = Dropout(0.5)(m)\n",
    "    m = Dense(128, activation=\"relu\")(m)\n",
    "    m = Model(inputs=inputLayer, outputs=m)\n",
    "\n",
    "    return m"
   ]
  },
  {
   "cell_type": "code",
   "execution_count": 33,
   "id": "29b2c732",
   "metadata": {
    "scrolled": true
   },
   "outputs": [],
   "source": [
    "def get_model():\n",
    "    input_meta = Input(shape=xs_meta.shape[1:])\n",
    "    model_meta = get_dnn(input_meta)\n",
    "    \n",
    "    input_global = Input(shape=xs_global.shape[1:])\n",
    "    model_global = get_cnn(input_global)\n",
    "    \n",
    "    input_frontal = Input(shape=xs_frontal.shape[1:])\n",
    "    model_frontal = get_cnn(input_frontal)  \n",
    "\n",
    "    input_oral = Input(shape=xs_oral.shape[1:])\n",
    "    model_oral = get_cnn(input_oral)  \n",
    "    \n",
    "    input_orbital = Input(shape=xs_orbital.shape[1:])\n",
    "    model_orbital = get_cnn(input_orbital)  \n",
    "    \n",
    "    \n",
    "    model_contatenate = concatenate([\n",
    "        model_meta.output, \n",
    "        model_global.output,\n",
    "        model_frontal.output,\n",
    "        model_oral.output,\n",
    "        model_orbital.output,\n",
    "    ])\n",
    "    \n",
    "    model_contatenate = Dense(32, activation=\"relu\")(model_contatenate)\n",
    "    model_contatenate = Dense(6, activation=\"softmax\")(model_contatenate)\n",
    "        \n",
    "    model = Model(inputs=[\n",
    "        model_meta.input,\n",
    "        model_global.input,\n",
    "        model_frontal.input,\n",
    "        model_oral.input,\n",
    "        model_orbital.input\n",
    "    ], outputs=model_contatenate)\n",
    "\n",
    "    model.compile(\n",
    "        loss=\"sparse_categorical_crossentropy\", \n",
    "        optimizer=Adam(learning_rate=1e-3, decay=1e-3 / 200),\n",
    "        metrics=['accuracy']\n",
    "    )\n",
    "    \n",
    "    \n",
    "    return model"
   ]
  },
  {
   "cell_type": "code",
   "execution_count": 34,
   "id": "2377d19f",
   "metadata": {},
   "outputs": [
    {
     "name": "stdout",
     "output_type": "stream",
     "text": [
      "Model: \"model_35\"\n",
      "__________________________________________________________________________________________________\n",
      " Layer (type)                   Output Shape         Param #     Connected to                     \n",
      "==================================================================================================\n",
      " input_27 (InputLayer)          [(None, 210, 600)]   0           []                               \n",
      "                                                                                                  \n",
      " input_28 (InputLayer)          [(None, 60, 600)]    0           []                               \n",
      "                                                                                                  \n",
      " input_29 (InputLayer)          [(None, 70, 600)]    0           []                               \n",
      "                                                                                                  \n",
      " input_30 (InputLayer)          [(None, 80, 600)]    0           []                               \n",
      "                                                                                                  \n",
      " conv1d_80 (Conv1D)             (None, 210, 16)      28816       ['input_27[0][0]']               \n",
      "                                                                                                  \n",
      " conv1d_84 (Conv1D)             (None, 60, 16)       28816       ['input_28[0][0]']               \n",
      "                                                                                                  \n",
      " conv1d_88 (Conv1D)             (None, 70, 16)       28816       ['input_29[0][0]']               \n",
      "                                                                                                  \n",
      " conv1d_92 (Conv1D)             (None, 80, 16)       28816       ['input_30[0][0]']               \n",
      "                                                                                                  \n",
      " batch_normalization_80 (BatchN  (None, 210, 16)     64          ['conv1d_80[0][0]']              \n",
      " ormalization)                                                                                    \n",
      "                                                                                                  \n",
      " batch_normalization_84 (BatchN  (None, 60, 16)      64          ['conv1d_84[0][0]']              \n",
      " ormalization)                                                                                    \n",
      "                                                                                                  \n",
      " batch_normalization_88 (BatchN  (None, 70, 16)      64          ['conv1d_88[0][0]']              \n",
      " ormalization)                                                                                    \n",
      "                                                                                                  \n",
      " batch_normalization_92 (BatchN  (None, 80, 16)      64          ['conv1d_92[0][0]']              \n",
      " ormalization)                                                                                    \n",
      "                                                                                                  \n",
      " max_pooling1d_80 (MaxPooling1D  (None, 105, 16)     0           ['batch_normalization_80[0][0]'] \n",
      " )                                                                                                \n",
      "                                                                                                  \n",
      " max_pooling1d_84 (MaxPooling1D  (None, 30, 16)      0           ['batch_normalization_84[0][0]'] \n",
      " )                                                                                                \n",
      "                                                                                                  \n",
      " max_pooling1d_88 (MaxPooling1D  (None, 35, 16)      0           ['batch_normalization_88[0][0]'] \n",
      " )                                                                                                \n",
      "                                                                                                  \n",
      " max_pooling1d_92 (MaxPooling1D  (None, 40, 16)      0           ['batch_normalization_92[0][0]'] \n",
      " )                                                                                                \n",
      "                                                                                                  \n",
      " conv1d_81 (Conv1D)             (None, 105, 32)      1568        ['max_pooling1d_80[0][0]']       \n",
      "                                                                                                  \n",
      " conv1d_85 (Conv1D)             (None, 30, 32)       1568        ['max_pooling1d_84[0][0]']       \n",
      "                                                                                                  \n",
      " conv1d_89 (Conv1D)             (None, 35, 32)       1568        ['max_pooling1d_88[0][0]']       \n",
      "                                                                                                  \n",
      " conv1d_93 (Conv1D)             (None, 40, 32)       1568        ['max_pooling1d_92[0][0]']       \n",
      "                                                                                                  \n",
      " batch_normalization_81 (BatchN  (None, 105, 32)     128         ['conv1d_81[0][0]']              \n",
      " ormalization)                                                                                    \n",
      "                                                                                                  \n",
      " batch_normalization_85 (BatchN  (None, 30, 32)      128         ['conv1d_85[0][0]']              \n",
      " ormalization)                                                                                    \n",
      "                                                                                                  \n",
      " batch_normalization_89 (BatchN  (None, 35, 32)      128         ['conv1d_89[0][0]']              \n",
      " ormalization)                                                                                    \n",
      "                                                                                                  \n",
      " batch_normalization_93 (BatchN  (None, 40, 32)      128         ['conv1d_93[0][0]']              \n",
      " ormalization)                                                                                    \n",
      "                                                                                                  \n",
      " max_pooling1d_81 (MaxPooling1D  (None, 52, 32)      0           ['batch_normalization_81[0][0]'] \n",
      " )                                                                                                \n",
      "                                                                                                  \n",
      " max_pooling1d_85 (MaxPooling1D  (None, 15, 32)      0           ['batch_normalization_85[0][0]'] \n",
      " )                                                                                                \n",
      "                                                                                                  \n",
      " max_pooling1d_89 (MaxPooling1D  (None, 17, 32)      0           ['batch_normalization_89[0][0]'] \n",
      " )                                                                                                \n",
      "                                                                                                  \n",
      " max_pooling1d_93 (MaxPooling1D  (None, 20, 32)      0           ['batch_normalization_93[0][0]'] \n",
      " )                                                                                                \n",
      "                                                                                                  \n",
      " conv1d_82 (Conv1D)             (None, 52, 64)       6208        ['max_pooling1d_81[0][0]']       \n",
      "                                                                                                  \n",
      " conv1d_86 (Conv1D)             (None, 15, 64)       6208        ['max_pooling1d_85[0][0]']       \n",
      "                                                                                                  \n",
      " conv1d_90 (Conv1D)             (None, 17, 64)       6208        ['max_pooling1d_89[0][0]']       \n",
      "                                                                                                  \n",
      " conv1d_94 (Conv1D)             (None, 20, 64)       6208        ['max_pooling1d_93[0][0]']       \n",
      "                                                                                                  \n"
     ]
    },
    {
     "name": "stdout",
     "output_type": "stream",
     "text": [
      " batch_normalization_82 (BatchN  (None, 52, 64)      256         ['conv1d_82[0][0]']              \n",
      " ormalization)                                                                                    \n",
      "                                                                                                  \n",
      " batch_normalization_86 (BatchN  (None, 15, 64)      256         ['conv1d_86[0][0]']              \n",
      " ormalization)                                                                                    \n",
      "                                                                                                  \n",
      " batch_normalization_90 (BatchN  (None, 17, 64)      256         ['conv1d_90[0][0]']              \n",
      " ormalization)                                                                                    \n",
      "                                                                                                  \n",
      " batch_normalization_94 (BatchN  (None, 20, 64)      256         ['conv1d_94[0][0]']              \n",
      " ormalization)                                                                                    \n",
      "                                                                                                  \n",
      " max_pooling1d_82 (MaxPooling1D  (None, 26, 64)      0           ['batch_normalization_82[0][0]'] \n",
      " )                                                                                                \n",
      "                                                                                                  \n",
      " max_pooling1d_86 (MaxPooling1D  (None, 7, 64)       0           ['batch_normalization_86[0][0]'] \n",
      " )                                                                                                \n",
      "                                                                                                  \n",
      " max_pooling1d_90 (MaxPooling1D  (None, 8, 64)       0           ['batch_normalization_90[0][0]'] \n",
      " )                                                                                                \n",
      "                                                                                                  \n",
      " max_pooling1d_94 (MaxPooling1D  (None, 10, 64)      0           ['batch_normalization_94[0][0]'] \n",
      " )                                                                                                \n",
      "                                                                                                  \n",
      " conv1d_83 (Conv1D)             (None, 26, 64)       12352       ['max_pooling1d_82[0][0]']       \n",
      "                                                                                                  \n",
      " conv1d_87 (Conv1D)             (None, 7, 64)        12352       ['max_pooling1d_86[0][0]']       \n",
      "                                                                                                  \n",
      " conv1d_91 (Conv1D)             (None, 8, 64)        12352       ['max_pooling1d_90[0][0]']       \n",
      "                                                                                                  \n",
      " conv1d_95 (Conv1D)             (None, 10, 64)       12352       ['max_pooling1d_94[0][0]']       \n",
      "                                                                                                  \n",
      " batch_normalization_83 (BatchN  (None, 26, 64)      256         ['conv1d_83[0][0]']              \n",
      " ormalization)                                                                                    \n",
      "                                                                                                  \n",
      " batch_normalization_87 (BatchN  (None, 7, 64)       256         ['conv1d_87[0][0]']              \n",
      " ormalization)                                                                                    \n",
      "                                                                                                  \n",
      " batch_normalization_91 (BatchN  (None, 8, 64)       256         ['conv1d_91[0][0]']              \n",
      " ormalization)                                                                                    \n",
      "                                                                                                  \n",
      " batch_normalization_95 (BatchN  (None, 10, 64)      256         ['conv1d_95[0][0]']              \n",
      " ormalization)                                                                                    \n",
      "                                                                                                  \n",
      " max_pooling1d_83 (MaxPooling1D  (None, 13, 64)      0           ['batch_normalization_83[0][0]'] \n",
      " )                                                                                                \n",
      "                                                                                                  \n",
      " max_pooling1d_87 (MaxPooling1D  (None, 3, 64)       0           ['batch_normalization_87[0][0]'] \n",
      " )                                                                                                \n",
      "                                                                                                  \n",
      " max_pooling1d_91 (MaxPooling1D  (None, 4, 64)       0           ['batch_normalization_91[0][0]'] \n",
      " )                                                                                                \n",
      "                                                                                                  \n",
      " max_pooling1d_95 (MaxPooling1D  (None, 5, 64)       0           ['batch_normalization_95[0][0]'] \n",
      " )                                                                                                \n",
      "                                                                                                  \n",
      " flatten_20 (Flatten)           (None, 832)          0           ['max_pooling1d_83[0][0]']       \n",
      "                                                                                                  \n",
      " flatten_21 (Flatten)           (None, 192)          0           ['max_pooling1d_87[0][0]']       \n",
      "                                                                                                  \n",
      " flatten_22 (Flatten)           (None, 256)          0           ['max_pooling1d_91[0][0]']       \n",
      "                                                                                                  \n",
      " flatten_23 (Flatten)           (None, 320)          0           ['max_pooling1d_95[0][0]']       \n",
      "                                                                                                  \n",
      " input_26 (InputLayer)          [(None, 11)]         0           []                               \n",
      "                                                                                                  \n",
      " dropout_20 (Dropout)           (None, 832)          0           ['flatten_20[0][0]']             \n",
      "                                                                                                  \n",
      " dropout_21 (Dropout)           (None, 192)          0           ['flatten_21[0][0]']             \n",
      "                                                                                                  \n",
      " dropout_22 (Dropout)           (None, 256)          0           ['flatten_22[0][0]']             \n",
      "                                                                                                  \n",
      " dropout_23 (Dropout)           (None, 320)          0           ['flatten_23[0][0]']             \n",
      "                                                                                                  \n",
      " dense_35 (Dense)               (None, 4)            48          ['input_26[0][0]']               \n",
      "                                                                                                  \n",
      " dense_36 (Dense)               (None, 128)          106624      ['dropout_20[0][0]']             \n",
      "                                                                                                  \n",
      " dense_37 (Dense)               (None, 128)          24704       ['dropout_21[0][0]']             \n",
      "                                                                                                  \n",
      " dense_38 (Dense)               (None, 128)          32896       ['dropout_22[0][0]']             \n",
      "                                                                                                  \n",
      " dense_39 (Dense)               (None, 128)          41088       ['dropout_23[0][0]']             \n"
     ]
    },
    {
     "name": "stdout",
     "output_type": "stream",
     "text": [
      "                                                                                                  \n",
      " concatenate_5 (Concatenate)    (None, 516)          0           ['dense_35[0][0]',               \n",
      "                                                                  'dense_36[0][0]',               \n",
      "                                                                  'dense_37[0][0]',               \n",
      "                                                                  'dense_38[0][0]',               \n",
      "                                                                  'dense_39[0][0]']               \n",
      "                                                                                                  \n",
      " dense_40 (Dense)               (None, 32)           16544       ['concatenate_5[0][0]']          \n",
      "                                                                                                  \n",
      " dense_41 (Dense)               (None, 6)            198         ['dense_40[0][0]']               \n",
      "                                                                                                  \n",
      "==================================================================================================\n",
      "Total params: 420,694\n",
      "Trainable params: 419,286\n",
      "Non-trainable params: 1,408\n",
      "__________________________________________________________________________________________________\n"
     ]
    }
   ],
   "source": [
    "test_model = get_model()\n",
    "test_model.summary()"
   ]
  },
  {
   "cell_type": "code",
   "execution_count": 35,
   "id": "82dd2364",
   "metadata": {
    "scrolled": true
   },
   "outputs": [
    {
     "name": "stdout",
     "output_type": "stream",
     "text": [
      "{0, 1, 2, 3, 4, 5}\n"
     ]
    }
   ],
   "source": [
    "print(set(ys))"
   ]
  },
  {
   "cell_type": "raw",
   "id": "dada9459",
   "metadata": {
    "scrolled": true
   },
   "source": [
    "weight_training_classes = {0: 0.32075471698113206, \n",
    "                           1: 1.1333333333333333,\n",
    "                           2: 1.3076923076923077, \n",
    "                           3: 3.4, \n",
    "                           4: 3.4,\n",
    "                           5: 1.5454545454545454}"
   ]
  },
  {
   "cell_type": "markdown",
   "id": "accfe635",
   "metadata": {},
   "source": [
    "### K-fold evaluation"
   ]
  },
  {
   "cell_type": "code",
   "execution_count": 36,
   "id": "3c142f3a",
   "metadata": {},
   "outputs": [],
   "source": [
    "k = 5\n",
    "train = 0.8\n",
    "val = 0.2\n",
    "test = 0.2"
   ]
  },
  {
   "cell_type": "code",
   "execution_count": 37,
   "id": "8aacb4ee",
   "metadata": {},
   "outputs": [],
   "source": [
    "VERBOSE = 0\n",
    "EPOCHS = 200\n",
    "BATCH_SIZE = 16"
   ]
  },
  {
   "cell_type": "code",
   "execution_count": 38,
   "id": "3f377532",
   "metadata": {},
   "outputs": [],
   "source": [
    "from sklearn.model_selection import KFold"
   ]
  },
  {
   "cell_type": "code",
   "execution_count": 39,
   "id": "8f442eac",
   "metadata": {},
   "outputs": [],
   "source": [
    "def get_k_indx(k, n):\n",
    "\n",
    "    k_fold = KFold(n_splits=k)\n",
    "    train_ = []\n",
    "    val_ = []\n",
    "    test_ = []\n",
    "    indx = []\n",
    "\n",
    "    for train_indices, test_indices in k_fold.split(ys):\n",
    "        n_k = len(train_indices)\n",
    "        val_split = int(n_k * train)\n",
    "        indx.append([train_indices[:val_split],train_indices[val_split + 1:], test_indices])\n",
    "    \n",
    "    return indx"
   ]
  },
  {
   "cell_type": "raw",
   "id": "cf2f0ddd",
   "metadata": {},
   "source": [
    "print(get_k_indx(k, len(ys)))"
   ]
  },
  {
   "cell_type": "code",
   "execution_count": 40,
   "id": "e67b070a",
   "metadata": {},
   "outputs": [],
   "source": [
    "%matplotlib inline"
   ]
  },
  {
   "cell_type": "code",
   "execution_count": 41,
   "id": "c200e137",
   "metadata": {},
   "outputs": [
    {
     "name": "stderr",
     "output_type": "stream",
     "text": [
      "2023-06-30 16:17:00.305689: I tensorflow/core/grappler/optimizers/custom_graph_optimizer_registry.cc:114] Plugin optimizer for device_type GPU is enabled.\n",
      "2023-06-30 18:27:48.738368: I tensorflow/core/grappler/optimizers/custom_graph_optimizer_registry.cc:114] Plugin optimizer for device_type GPU is enabled.\n",
      "2023-06-30 21:47:52.799611: I tensorflow/core/grappler/optimizers/custom_graph_optimizer_registry.cc:114] Plugin optimizer for device_type GPU is enabled.\n"
     ]
    },
    {
     "name": "stdout",
     "output_type": "stream",
     "text": [
      "              precision    recall  f1-score   support\n",
      "\n",
      "           0       0.00      0.00      0.00       964\n",
      "           1       0.00      0.00      0.00       347\n",
      "           2       0.00      0.00      0.00       352\n",
      "           3       0.06      1.00      0.11       124\n",
      "           4       0.00      0.00      0.00       126\n",
      "           5       0.00      0.00      0.00       235\n",
      "\n",
      "    accuracy                           0.06      2148\n",
      "   macro avg       0.01      0.17      0.02      2148\n",
      "weighted avg       0.00      0.06      0.01      2148\n",
      "\n"
     ]
    },
    {
     "name": "stderr",
     "output_type": "stream",
     "text": [
      "/Users/alanchen/.local/share/virtualenvs/research-face-excercises-dynamics-o_HFBNSW/lib/python3.8/site-packages/sklearn/metrics/_classification.py:1344: UndefinedMetricWarning: Precision and F-score are ill-defined and being set to 0.0 in labels with no predicted samples. Use `zero_division` parameter to control this behavior.\n",
      "  _warn_prf(average, modifier, msg_start, len(result))\n",
      "/Users/alanchen/.local/share/virtualenvs/research-face-excercises-dynamics-o_HFBNSW/lib/python3.8/site-packages/sklearn/metrics/_classification.py:1344: UndefinedMetricWarning: Precision and F-score are ill-defined and being set to 0.0 in labels with no predicted samples. Use `zero_division` parameter to control this behavior.\n",
      "  _warn_prf(average, modifier, msg_start, len(result))\n",
      "/Users/alanchen/.local/share/virtualenvs/research-face-excercises-dynamics-o_HFBNSW/lib/python3.8/site-packages/sklearn/metrics/_classification.py:1344: UndefinedMetricWarning: Precision and F-score are ill-defined and being set to 0.0 in labels with no predicted samples. Use `zero_division` parameter to control this behavior.\n",
      "  _warn_prf(average, modifier, msg_start, len(result))\n"
     ]
    },
    {
     "data": {
      "image/png": "[encoded data removed]",
      "text/plain": [
       "<Figure size 200x200 with 1 Axes>"
      ]
     },
     "metadata": {},
     "output_type": "display_data"
    }
   ],
   "source": [
    "indxs = get_k_indx(k, len(ys))\n",
    "\n",
    "for i in range(1):\n",
    "    train_indx, val_indx, test_indx  = indxs[i]\n",
    "    xs_meta_i = xs_meta[train_indx]\n",
    "    xs_meta_i_val = xs_meta[val_indx]\n",
    "    xs_meta_i_test = xs_meta[test_indx]\n",
    "    \n",
    "    xs_global_i = xs_global[train_indx]\n",
    "    xs_global_i_val = xs_global[val_indx]\n",
    "    xs_global_i_test = xs_global[test_indx]\n",
    "    \n",
    "    xs_frontal_i = xs_frontal[train_indx]\n",
    "    xs_frontal_i_val = xs_frontal[val_indx]\n",
    "    xs_frontal_i_test = xs_frontal[test_indx]\n",
    "    \n",
    "    xs_oral_i = xs_oral[train_indx]\n",
    "    xs_oral_i_val = xs_oral[val_indx]\n",
    "    xs_oral_i_test = xs_oral[test_indx]\n",
    "    \n",
    "    xs_orbital_i = xs_orbital[train_indx]\n",
    "    xs_orbital_i_val = xs_orbital[val_indx]\n",
    "    xs_orbital_i_test = xs_orbital[test_indx]\n",
    "    \n",
    "    ys_i = ys[train_indx]\n",
    "    ys_i_val = ys[val_indx]\n",
    "    ys_i_test = ys[test_indx]\n",
    "\n",
    "    class_weights = class_weight.compute_class_weight(class_weight='balanced',\n",
    "                                                 classes = np.unique(ys_i),\n",
    "                                                 y=ys_i)\n",
    "    weight_training_classes = {}\n",
    "    for indx, value in enumerate(class_weights):\n",
    "        weight_training_classes[indx] = value\n",
    "\n",
    "        \n",
    "    model = get_model()\n",
    "\n",
    "    model_callbacks = [\n",
    "        tf.keras.callbacks.EarlyStopping(patience=20)\n",
    "    ]\n",
    "    \n",
    "    hist = model.fit(\n",
    "        x=[\n",
    "            xs_meta_i, \n",
    "            xs_global_i, \n",
    "            xs_frontal_i,\n",
    "            xs_oral_i,\n",
    "            xs_orbital_i], y=ys_i, \n",
    "        validation_data=([\n",
    "            xs_meta_i_val,\n",
    "            xs_global_i_val,\n",
    "            xs_frontal_i_val,\n",
    "            xs_oral_i_val,\n",
    "            xs_orbital_i_val], ys_i_val),\n",
    "        batch_size=BATCH_SIZE, \n",
    "        epochs=EPOCHS,\n",
    "        class_weight=weight_training_classes,\n",
    "        #callbacks=model_callbacks,\n",
    "        verbose=VERBOSE)\n",
    "    \n",
    "    \n",
    "    # visualizing losses and accuracy\n",
    "    train_loss = hist.history['loss']\n",
    "    val_loss   = hist.history['val_loss']\n",
    "    train_acc  = hist.history['accuracy']\n",
    "    val_acc    = hist.history['val_accuracy']\n",
    "    xc         = range(len(hist.history['loss']))    \n",
    "    \n",
    "    plt.figure()\n",
    "    plt.title(f'Run {i}')\n",
    "    plt.plot(xc, train_loss, color='red')\n",
    "    plt.plot(xc, val_loss, color='pink')\n",
    "    plt.plot(xc, train_acc, color='blue')\n",
    "    plt.plot(xc, val_acc, color='cyan')\n",
    "    \n",
    "    y_pred = model.predict([\n",
    "        xs_meta_i_test,\n",
    "        xs_global_i_test,\n",
    "        xs_frontal_i_test,\n",
    "        xs_oral_i_test,\n",
    "        xs_orbital_i_test],verbose=0)\n",
    "    y_pred_bool = np.argmax(y_pred, axis=1)\n",
    "\n",
    "    print(classification_report(ys_i_test, y_pred_bool))"
   ]
  },
  {
   "cell_type": "code",
   "execution_count": null,
   "id": "96cdac73",
   "metadata": {},
   "outputs": [],
   "source": []
  },
  {
   "cell_type": "markdown",
   "id": "ca9e0ddd",
   "metadata": {
    "scrolled": true
   },
   "source": [
    "# Model Serialization "
   ]
  },
  {
   "cell_type": "code",
   "execution_count": null,
   "id": "daa64468",
   "metadata": {},
   "outputs": [],
   "source": [
    "dir_models = os.path.join(dir_root, 'models')\n",
    "dir_model = os.path.join(dir_models, 'type2-with-fe')"
   ]
  },
  {
   "cell_type": "code",
   "execution_count": null,
   "id": "e7ba5cdb",
   "metadata": {},
   "outputs": [],
   "source": [
    "model.save(dir_model)"
   ]
  },
  {
   "cell_type": "raw",
   "id": "c1b8f0f9",
   "metadata": {},
   "source": [
    "TODO add dvc live experiment tracking"
   ]
  },
  {
   "cell_type": "raw",
   "id": "fa038131",
   "metadata": {},
   "source": [
    "from dvclive import Live\n",
    "from dvclive.keras import DVCLiveCallback\n",
    "\n",
    "with Live(save_dvc_exp=True) as live:\n",
    "    model.fit(\n",
    "        train_dataset,\n",
    "        validation_data=validation_dataset,\n",
    "        callbacks=[\n",
    "            DVCLiveCallback(save_dvc_exp=True, live=live)\n",
    "        ]\n",
    "    )\n",
    "    model.save(\"mymodel\")\n",
    "    live.log_artifact(\"mymodel\", type=\"model\")"
   ]
  },
  {
   "cell_type": "code",
   "execution_count": null,
   "id": "b65e7a0a",
   "metadata": {},
   "outputs": [],
   "source": []
  }
 ],
 "metadata": {
  "kernelspec": {
   "display_name": "face-prognosis",
   "language": "python",
   "name": "face-prognosis"
  },
  "language_info": {
   "codemirror_mode": {
    "name": "ipython",
    "version": 3
   },
   "file_extension": ".py",
   "mimetype": "text/x-python",
   "name": "python",
   "nbconvert_exporter": "python",
   "pygments_lexer": "ipython3",
   "version": "3.8.13"
  }
 },
 "nbformat": 4,
 "nbformat_minor": 5
}
