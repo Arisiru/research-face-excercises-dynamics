{
 "cells": [
  {
   "cell_type": "markdown",
   "id": "c3ffceac",
   "metadata": {},
   "source": [
    "# Notes"
   ]
  },
  {
   "cell_type": "markdown",
   "id": "941fce85",
   "metadata": {},
   "source": [
    "First iteration is to use existing csv_points to build input as it is.\n",
    "I use standard LSTM with tf.keras"
   ]
  },
  {
   "cell_type": "code",
   "execution_count": 1,
   "id": "2167fbdb",
   "metadata": {},
   "outputs": [],
   "source": [
    "import os \n",
    "import csv\n",
    "from datetime import datetime\n",
    "import pandas as pd\n",
    "import numpy as np\n",
    "import tensorflow as tf\n",
    "from dvclive.keras import DVCLiveCallback"
   ]
  },
  {
   "cell_type": "markdown",
   "id": "287f0fb3",
   "metadata": {},
   "source": [
    "# Data prep"
   ]
  },
  {
   "cell_type": "code",
   "execution_count": 2,
   "id": "2555c25c",
   "metadata": {},
   "outputs": [],
   "source": [
    "def filename2metadata(filename):\n",
    "    meta = filename.split(' ')\n",
    "    patientid = meta[0]\n",
    "    evaluation = int(meta[3].split('=')[1])\n",
    "    poi = meta[2]\n",
    "    flagbeforeoperation = meta[4].split('=')[1]\n",
    "    exerciseinfo = meta[5].split('_')\n",
    "    exerciseid = int(exerciseinfo[0])\n",
    "    exercisename = exerciseinfo[1]\n",
    "    exercisedatestring = exerciseinfo[2].split('.')[0]\n",
    "    return {\n",
    "        'patientid': patientid,\n",
    "        'evaluation': evaluation,\n",
    "        'poi': poi,\n",
    "        'exerciseid': exerciseid,\n",
    "        'exercisename': exercisename,\n",
    "        'exercisedate': datetime.strptime(exercisedatestring, '%Y-%m-%d-%H-%M-%S'),\n",
    "    }"
   ]
  },
  {
   "cell_type": "code",
   "execution_count": 3,
   "id": "efdcd305",
   "metadata": {},
   "outputs": [],
   "source": [
    "def csv2timeseriestensor(df):\n",
    "    xs = list(df['x'],)\n",
    "    "
   ]
  },
  {
   "cell_type": "code",
   "execution_count": 4,
   "id": "33e7f4db",
   "metadata": {},
   "outputs": [],
   "source": [
    "def read2object(path, filename):    \n",
    "    df = pd.read_csv(path)\n",
    "    df.drop('t', axis=1, inplace=True)\n",
    "    \n",
    "    xs = np.transpose(df.to_numpy())\n",
    "\n",
    "    return {\n",
    "        'meta': filename2metadata(filename),\n",
    "        'timeseries': xs,\n",
    "        'pd': df\n",
    "    }"
   ]
  },
  {
   "cell_type": "markdown",
   "id": "e46bbff4",
   "metadata": {},
   "source": [
    "TODO:\n",
    "- read all\n",
    "- padding\n",
    "- split: normally split should be before padding, and then in inference combination of padding and trimming shall apply\n",
    "- classification\n"
   ]
  },
  {
   "cell_type": "code",
   "execution_count": 5,
   "id": "aad781df",
   "metadata": {},
   "outputs": [
    {
     "data": {
      "text/plain": [
       "2047"
      ]
     },
     "execution_count": 5,
     "metadata": {},
     "output_type": "execute_result"
    }
   ],
   "source": [
    "data = []\n",
    "maxlength = 0\n",
    "x_max = None\n",
    "x_min = None\n",
    "y_max = None\n",
    "y_min = None\n",
    "z_min = None\n",
    "z_max = None\n",
    "dirdata = os.path.join('data', 'csv_points')\n",
    "for filename in os.listdir(dirdata):\n",
    "    datum = read2object(os.path.join(dirdata, filename), filename)\n",
    "    data.append(datum)\n",
    "    maxlength = max(maxlength, datum['timeseries'].shape[1])\n",
    "    if x_max is None:\n",
    "        x_max = datum['pd']['x'].max()\n",
    "    x_max = max(x_max, datum['pd']['x'].max())    \n",
    "    if x_min is None:\n",
    "        x_min = datum['pd']['x'].min()\n",
    "    x_min = min(x_min, datum['pd']['x'].min()) \n",
    "    \n",
    "    if y_max is None:\n",
    "        y_max = datum['pd']['y'].max()\n",
    "    y_max = max(y_max, datum['pd']['y'].max())    \n",
    "    if y_min is None:\n",
    "        y_min = datum['pd']['y'].min()\n",
    "    y_min = min(y_min, datum['pd']['y'].min()) \n",
    "    \n",
    "    if z_max is None:\n",
    "        z_max = datum['pd']['z'].max()\n",
    "    z_max = max(z_max, datum['pd']['z'].max())    \n",
    "    if z_min is None:\n",
    "        z_min = datum['pd']['z'].min()\n",
    "    z_min = min(z_min, datum['pd']['z'].min()) \n",
    "    \n",
    "\n",
    "maxlength"
   ]
  },
  {
   "cell_type": "code",
   "execution_count": 6,
   "id": "c30fefc5",
   "metadata": {},
   "outputs": [
    {
     "name": "stdout",
     "output_type": "stream",
     "text": [
      "x_max 362.850308418274\n",
      "x_min -385.386139154434\n",
      "y_max 407.209008932114\n",
      "y_min -184.533506631851\n",
      "z_max 1414.35980796814\n",
      "z_min 465.504199266434\n"
     ]
    }
   ],
   "source": [
    "print('x_max %s' % x_max)\n",
    "print('x_min %s' % x_min)\n",
    "\n",
    "print('y_max %s' % y_max)\n",
    "print('y_min %s' % y_min)\n",
    "\n",
    "print('z_max %s' % z_max)\n",
    "print('z_min %s' % z_min)"
   ]
  },
  {
   "cell_type": "code",
   "execution_count": 7,
   "id": "91a467d5",
   "metadata": {},
   "outputs": [
    {
     "data": {
      "text/plain": [
       "23748"
      ]
     },
     "execution_count": 7,
     "metadata": {},
     "output_type": "execute_result"
    }
   ],
   "source": [
    "len(data)"
   ]
  },
  {
   "cell_type": "code",
   "execution_count": 8,
   "id": "29028238",
   "metadata": {},
   "outputs": [],
   "source": [
    "maxlength = 2050"
   ]
  },
  {
   "cell_type": "markdown",
   "id": "646ed7ce",
   "metadata": {},
   "source": [
    "#### Padding"
   ]
  },
  {
   "cell_type": "code",
   "execution_count": 9,
   "id": "3fa9cb0a",
   "metadata": {},
   "outputs": [],
   "source": [
    "for ind, datum in enumerate(data):\n",
    "    paddedtimeseries = tf.keras.preprocessing.sequence.pad_sequences(\n",
    "        datum['timeseries'],\n",
    "        padding=\"pre\",\n",
    "        maxlen=maxlength)\n",
    "    data[ind]['timeseries'] = paddedtimeseries\n",
    "    \n"
   ]
  },
  {
   "cell_type": "markdown",
   "id": "6ca3d18d",
   "metadata": {},
   "source": [
    "#### Build training set"
   ]
  },
  {
   "cell_type": "code",
   "execution_count": 10,
   "id": "a93a7a24",
   "metadata": {},
   "outputs": [],
   "source": [
    "xslist = list()\n",
    "yslist = list()\n",
    "\n",
    "for datum in data:\n",
    "    xslist.append(datum['timeseries'])\n",
    "    yslist.append(datum['meta']['evaluation'])\n",
    "    \n",
    "ys = np.array(yslist[:23000])\n",
    "xs = np.array(xslist[:23000])\n",
    "ys_test = np.array(yslist[23000:])\n",
    "xs_test = np.array(xslist[23000:])"
   ]
  },
  {
   "cell_type": "code",
   "execution_count": 11,
   "id": "e43454e2",
   "metadata": {},
   "outputs": [
    {
     "name": "stdout",
     "output_type": "stream",
     "text": [
      "(23000,)\n",
      "(23000, 3, 2050)\n",
      "(748,)\n",
      "(748, 3, 2050)\n"
     ]
    }
   ],
   "source": [
    "print(ys.shape)\n",
    "print(xs.shape)\n",
    "print(ys_test.shape)\n",
    "print(xs_test.shape)"
   ]
  },
  {
   "cell_type": "code",
   "execution_count": 12,
   "id": "29b2c732",
   "metadata": {},
   "outputs": [
    {
     "name": "stdout",
     "output_type": "stream",
     "text": [
      "Metal device set to: Apple M1\n"
     ]
    },
    {
     "name": "stderr",
     "output_type": "stream",
     "text": [
      "2023-01-23 15:42:52.962997: I tensorflow/core/common_runtime/pluggable_device/pluggable_device_factory.cc:306] Could not identify NUMA node of platform GPU ID 0, defaulting to 0. Your kernel may not have been built with NUMA support.\n",
      "2023-01-23 15:42:52.963148: I tensorflow/core/common_runtime/pluggable_device/pluggable_device_factory.cc:272] Created TensorFlow device (/job:localhost/replica:0/task:0/device:GPU:0 with 0 MB memory) -> physical PluggableDevice (device: 0, name: METAL, pci bus id: <undefined>)\n"
     ]
    },
    {
     "name": "stdout",
     "output_type": "stream",
     "text": [
      "Model: \"sequential\"\n",
      "_________________________________________________________________\n",
      " Layer (type)                Output Shape              Param #   \n",
      "=================================================================\n",
      " lstm (LSTM)                 (None, 32)                266624    \n",
      "                                                                 \n",
      " dense (Dense)               (None, 16)                528       \n",
      "                                                                 \n",
      " dense_1 (Dense)             (None, 6)                 102       \n",
      "                                                                 \n",
      "=================================================================\n",
      "Total params: 267,254\n",
      "Trainable params: 267,254\n",
      "Non-trainable params: 0\n",
      "_________________________________________________________________\n"
     ]
    }
   ],
   "source": [
    "model = tf.keras.Sequential()\n",
    "model.add(tf.keras.layers.InputLayer(input_shape=xs[0].shape))\n",
    "model.add(tf.keras.layers.LSTM(32))\n",
    "model.add(tf.keras.layers.Dense(16, activation='relu'))\n",
    "model.add(tf.keras.layers.Dense(6, activation='softmax'))\n",
    "\n",
    "model.compile(optimizer='adam',\n",
    "              loss=tf.keras.losses.SparseCategoricalCrossentropy(),\n",
    "              metrics=['accuracy'],\n",
    "              run_eagerly=True)\n",
    "\n",
    "model.summary()"
   ]
  },
  {
   "cell_type": "code",
   "execution_count": 13,
   "id": "7ebf4216",
   "metadata": {},
   "outputs": [
    {
     "name": "stdout",
     "output_type": "stream",
     "text": [
      "Epoch 1/5\n"
     ]
    },
    {
     "name": "stderr",
     "output_type": "stream",
     "text": [
      "2023-01-23 15:42:53.723692: W tensorflow/core/platform/profile_utils/cpu_utils.cc:128] Failed to get CPU frequency: 0 Hz\n"
     ]
    },
    {
     "name": "stdout",
     "output_type": "stream",
     "text": [
      "1438/1438 [==============================] - 32s 22ms/step - loss: 1.1063 - accuracy: 0.4704\n",
      "Epoch 2/5\n",
      "1438/1438 [==============================] - 32s 22ms/step - loss: 1.0776 - accuracy: 0.4774\n",
      "Epoch 3/5\n",
      "1438/1438 [==============================] - 31s 21ms/step - loss: 1.0947 - accuracy: 0.4679\n",
      "Epoch 4/5\n",
      "1438/1438 [==============================] - 30s 21ms/step - loss: 1.1209 - accuracy: 0.4593\n",
      "Epoch 5/5\n",
      "1438/1438 [==============================] - 30s 21ms/step - loss: 1.1311 - accuracy: 0.4569\n"
     ]
    },
    {
     "name": "stderr",
     "output_type": "stream",
     "text": [
      "\u001b[33mWARNING\u001b[39m: The following untracked files were present in the workspace before saving but will not be included in the experiment commit:\n",
      "\tdvclive/metrics.json, dvclive/dvc.yaml, dvclive/report.html, dvclive/plots/metrics/train/loss.tsv, dvclive/plots/metrics/train/accuracy.tsv\n",
      "WARNING:dvc.repo.experiments.save:The following untracked files were present in the workspace before saving but will not be included in the experiment commit:\n",
      "\tdvclive/metrics.json, dvclive/dvc.yaml, dvclive/report.html, dvclive/plots/metrics/train/loss.tsv, dvclive/plots/metrics/train/accuracy.tsv\n"
     ]
    },
    {
     "data": {
      "text/plain": [
       "<keras.callbacks.History at 0x14bdec910>"
      ]
     },
     "execution_count": 13,
     "metadata": {},
     "output_type": "execute_result"
    }
   ],
   "source": [
    "model.fit(\n",
    "    xs,\n",
    "    ys, \n",
    "    batch_size=16, \n",
    "    epochs=5,\n",
    "    callbacks=[DVCLiveCallback(save_dvc_exp=True)])"
   ]
  },
  {
   "cell_type": "code",
   "execution_count": 14,
   "id": "986a8bc6",
   "metadata": {},
   "outputs": [
    {
     "name": "stdout",
     "output_type": "stream",
     "text": [
      "24/24 [==============================] - 0s 16ms/step - loss: 1.1655 - accuracy: 0.4786\n"
     ]
    },
    {
     "data": {
      "text/plain": [
       "[1.165484070777893, 0.4786096215248108]"
      ]
     },
     "execution_count": 14,
     "metadata": {},
     "output_type": "execute_result"
    }
   ],
   "source": [
    "model.evaluate(xs_test, ys_test)"
   ]
  },
  {
   "cell_type": "code",
   "execution_count": 15,
   "id": "7ee3292d",
   "metadata": {},
   "outputs": [
    {
     "name": "stdout",
     "output_type": "stream",
     "text": [
      "24/24 [==============================] - 0s 7ms/step\n"
     ]
    }
   ],
   "source": [
    "y_test_prob = model.predict(xs_test)"
   ]
  },
  {
   "cell_type": "code",
   "execution_count": 16,
   "id": "c03280fe",
   "metadata": {},
   "outputs": [
    {
     "data": {
      "text/plain": [
       "array([[2.0383461e-06, 3.4353709e-01, 3.1394163e-01, 1.4230140e-01,\n",
       "        1.2956689e-01, 7.0650987e-02],\n",
       "       [3.9982558e-07, 3.9804021e-01, 2.8662762e-01, 1.2400145e-01,\n",
       "        1.4902753e-01, 4.2302817e-02],\n",
       "       [3.5256746e-06, 3.5978973e-01, 3.1000671e-01, 1.5580507e-01,\n",
       "        1.2488761e-01, 4.9507357e-02],\n",
       "       ...,\n",
       "       [2.0384168e-06, 3.4354901e-01, 3.1395254e-01, 1.4227159e-01,\n",
       "        1.2957139e-01, 7.0653439e-02],\n",
       "       [2.0384168e-06, 3.4354901e-01, 3.1395254e-01, 1.4227159e-01,\n",
       "        1.2957139e-01, 7.0653439e-02],\n",
       "       [2.0384168e-06, 3.4354901e-01, 3.1395254e-01, 1.4227159e-01,\n",
       "        1.2957139e-01, 7.0653439e-02]], dtype=float32)"
      ]
     },
     "execution_count": 16,
     "metadata": {},
     "output_type": "execute_result"
    }
   ],
   "source": [
    "y_test_prob"
   ]
  },
  {
   "cell_type": "code",
   "execution_count": null,
   "id": "7e185450",
   "metadata": {},
   "outputs": [],
   "source": []
  },
  {
   "cell_type": "code",
   "execution_count": null,
   "id": "d1d2679f",
   "metadata": {},
   "outputs": [],
   "source": []
  },
  {
   "cell_type": "code",
   "execution_count": null,
   "id": "4d644554",
   "metadata": {},
   "outputs": [],
   "source": []
  },
  {
   "cell_type": "markdown",
   "id": "cde8e3db",
   "metadata": {},
   "source": [
    "__END__"
   ]
  }
 ],
 "metadata": {
  "kernelspec": {
   "display_name": "face-prognosis",
   "language": "python",
   "name": "face-prognosis"
  },
  "language_info": {
   "codemirror_mode": {
    "name": "ipython",
    "version": 3
   },
   "file_extension": ".py",
   "mimetype": "text/x-python",
   "name": "python",
   "nbconvert_exporter": "python",
   "pygments_lexer": "ipython3",
   "version": "3.8.13"
  }
 },
 "nbformat": 4,
 "nbformat_minor": 5
}
