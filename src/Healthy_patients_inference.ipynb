{
 "cells": [
  {
   "cell_type": "markdown",
   "id": "c3ffceac",
   "metadata": {},
   "source": [
    "# Notes"
   ]
  },
  {
   "cell_type": "markdown",
   "id": "941fce85",
   "metadata": {},
   "source": [
    "TODO"
   ]
  },
  {
   "cell_type": "code",
   "execution_count": 1,
   "id": "2167fbdb",
   "metadata": {
    "scrolled": false
   },
   "outputs": [],
   "source": [
    "import os \n",
    "import re\n",
    "import csv\n",
    "import json\n",
    "import math\n",
    "from itertools import chain\n",
    "from datetime import datetime\n",
    "\n",
    "import pandas as pd\n",
    "import numpy as np\n",
    "import tensorflow as tf\n",
    "\n",
    "from tensorflow.keras.preprocessing.sequence import pad_sequences\n",
    "from sklearn.metrics import classification_report\n",
    "\n",
    "import tsaug\n",
    "from tsaug.visualization import plot\n",
    "import matplotlib.pyplot as plt\n",
    "plt.style.use('_mpl-gallery')\n",
    "\n",
    "import tsaug\n",
    "from tsaug.visualization import plot"
   ]
  },
  {
   "cell_type": "markdown",
   "id": "e8c2277c",
   "metadata": {},
   "source": [
    "# Constants"
   ]
  },
  {
   "cell_type": "code",
   "execution_count": 2,
   "id": "bb75db30",
   "metadata": {
    "scrolled": false
   },
   "outputs": [],
   "source": [
    "SEQ_MAX_LEN = 600\n",
    "NUM_CLASSES = 6\n",
    "NUM_EXERCISES = 9\n",
    "NUM_FLAG_BS = 2"
   ]
  },
  {
   "cell_type": "code",
   "execution_count": 3,
   "id": "eed45b66",
   "metadata": {
    "scrolled": false
   },
   "outputs": [],
   "source": [
    "dir_root = os.path.join('..')\n",
    "dir_data_root = os.path.join(dir_root, 'data')\n",
    "dir_exercises = os.path.join(dir_data_root, 'json', 'healthy')\n",
    "dir_exercises_test = os.path.join(dir_data_root, 'json', 'test')"
   ]
  },
  {
   "cell_type": "code",
   "execution_count": 4,
   "id": "21923f87",
   "metadata": {},
   "outputs": [],
   "source": [
    "dir_models = os.path.join(dir_root, 'models')\n",
    "dir_model = os.path.join(dir_models, 'type4-with-fe_no-aug_002')"
   ]
  },
  {
   "cell_type": "markdown",
   "id": "e544c090",
   "metadata": {},
   "source": [
    "# Data prep"
   ]
  },
  {
   "cell_type": "code",
   "execution_count": 5,
   "id": "2eed5048",
   "metadata": {
    "scrolled": true
   },
   "outputs": [],
   "source": [
    "from utils.input import setup, exercise_to_input"
   ]
  },
  {
   "cell_type": "code",
   "execution_count": 6,
   "id": "61c1e052",
   "metadata": {
    "scrolled": true
   },
   "outputs": [
    {
     "data": {
      "text/plain": [
       "{'ROOT_PATH': '..',\n",
       " 'ALL_REGIONS': ['frontal', 'orbital', 'oral'],\n",
       " 'REGIONS': {'LefteyeMidbottom': 'orbital',\n",
       "  'LefteyeMidtop': 'orbital',\n",
       "  'LefteyeInnercorner': 'orbital',\n",
       "  'LefteyeOutercorner': 'orbital',\n",
       "  'LefteyebrowInner': 'frontal',\n",
       "  'LefteyebrowCenter': 'frontal',\n",
       "  'RighteyeMidbottom': 'orbital',\n",
       "  'RighteyeMidtop': 'orbital',\n",
       "  'RighteyeInnercorner': 'orbital',\n",
       "  'RighteyeOutercorner': 'orbital',\n",
       "  'RighteyebrowInner': 'frontal',\n",
       "  'RighteyebrowCenter': 'frontal',\n",
       "  'NoseTip': 'frontal',\n",
       "  'MouthLowerlipMidbottom': 'oral',\n",
       "  'MouthLeftcorner': 'oral',\n",
       "  'MouthRightcorner': 'oral',\n",
       "  'MouthUpperlipMidtop': 'oral',\n",
       "  'ChinCenter': 'oral',\n",
       "  'ForeheadCenter': 'frontal',\n",
       "  'LeftcheekCenter': 'oral',\n",
       "  'RightcheekCenter': 'oral'},\n",
       " 'BASES': {'LefteyeMidbottom': 'ForeheadCenter',\n",
       "  'LefteyeMidtop': 'ForeheadCenter',\n",
       "  'LefteyeInnercorner': 'ForeheadCenter',\n",
       "  'LefteyeOutercorner': 'ForeheadCenter',\n",
       "  'LefteyebrowInner': 'ForeheadCenter',\n",
       "  'LefteyebrowCenter': 'ForeheadCenter',\n",
       "  'RighteyeMidbottom': 'ForeheadCenter',\n",
       "  'RighteyeMidtop': 'ForeheadCenter',\n",
       "  'RighteyeInnercorner': 'ForeheadCenter',\n",
       "  'RighteyeOutercorner': 'ForeheadCenter',\n",
       "  'RighteyebrowInner': 'ForeheadCenter',\n",
       "  'RighteyebrowCenter': 'ForeheadCenter',\n",
       "  'NoseTip': 'ForeheadCenter',\n",
       "  'MouthLowerlipMidbottom': 'ForeheadCenter',\n",
       "  'MouthLeftcorner': 'ForeheadCenter',\n",
       "  'MouthRightcorner': 'ForeheadCenter',\n",
       "  'MouthUpperlipMidtop': 'ForeheadCenter',\n",
       "  'ChinCenter': 'ForeheadCenter',\n",
       "  'ForeheadCenter': 'ForeheadCenter',\n",
       "  'LeftcheekCenter': 'ForeheadCenter',\n",
       "  'RightcheekCenter': 'ForeheadCenter'},\n",
       " 'SIDES': {'left': ['LefteyeMidbottom',\n",
       "   'LefteyeMidtop',\n",
       "   'LefteyeInnercorner',\n",
       "   'LefteyeOutercorner',\n",
       "   'LefteyebrowInner',\n",
       "   'LefteyebrowCenter',\n",
       "   'MouthLeftcorner',\n",
       "   'LeftcheekCenter'],\n",
       "  'right': ['RighteyeMidbottom',\n",
       "   'RighteyeMidtop',\n",
       "   'RighteyeInnercorner',\n",
       "   'RighteyeOutercorner',\n",
       "   'RighteyebrowInner',\n",
       "   'RighteyebrowCenter',\n",
       "   'MouthRightcorner',\n",
       "   'RightcheekCenter']},\n",
       " 'SEQ_MAX_LEN': 600,\n",
       " 'NUM_EXERCISES': 9,\n",
       " 'NUM_FLAG_BS': 2}"
      ]
     },
     "execution_count": 6,
     "metadata": {},
     "output_type": "execute_result"
    }
   ],
   "source": [
    "setup(os.path.join('..'), SEQ_MAX_LEN, NUM_EXERCISES, NUM_FLAG_BS)"
   ]
  },
  {
   "cell_type": "code",
   "execution_count": 7,
   "id": "b2dde88e",
   "metadata": {
    "scrolled": true
   },
   "outputs": [],
   "source": [
    "exercise_source = dir_exercises\n",
    "#dir_exercises\n",
    "#dir_exercises_test"
   ]
  },
  {
   "cell_type": "raw",
   "id": "0011ada2",
   "metadata": {},
   "source": [
    "#'type4-with-fe_no-aug_004'\n",
    "feature_engineering_setting = {\n",
    "    'coordinates': True,\n",
    "    'normalize_by_start': False,\n",
    "    'normalize': False,\n",
    "    'direction': False,\n",
    "    'distance': True,\n",
    "    're_base': True,\n",
    "    'transformation_to_rebase': False,\n",
    "    'extended_meta': True,\n",
    "}"
   ]
  },
  {
   "cell_type": "code",
   "execution_count": 8,
   "id": "e46a0d94",
   "metadata": {},
   "outputs": [],
   "source": [
    "#type4-with-fe_no-aug_002\n",
    "feature_engineering_setting = {\n",
    "    'coordinates': True,\n",
    "    'normalize_by_start': False,\n",
    "    'normalize': False,\n",
    "    'direction': False,\n",
    "    'distance': False,\n",
    "    're_base': True,\n",
    "    'transformation_to_rebase': False,\n",
    "    'extended_meta': True,\n",
    "}"
   ]
  },
  {
   "cell_type": "code",
   "execution_count": 9,
   "id": "2043a877",
   "metadata": {
    "scrolled": true
   },
   "outputs": [],
   "source": [
    "def raw_data(dir_exercises, file_name):\n",
    "    \n",
    "    exercise = json.load(open(os.path.join(dir_exercises, file_name), 'r'))\n",
    "    \n",
    "    patient_id = get_patient_id(file_name)\n",
    "    session_id = get_session_id(file_name)\n",
    "    exercise_id = exercise['meta']['id']\n",
    "    \n",
    "    if patient_id not in patients_sessions:\n",
    "        patients_sessions[patient_id] = {}\n",
    "        \n",
    "    if session_id not in patients_sessions[patient_id]:\n",
    "        patients_sessions[patient_id][session_id] = {}\n",
    "        \n",
    "    data = []\n",
    "    \n",
    "    for poi in sorted(CONFIG['REGIONS'].keys()):\n",
    "        if poi not in exercise['pois']:\n",
    "            print(f'!WARNING: {poi} is not present in {file_name}')\n",
    "            continue\n",
    "            \n",
    "        data.append({\n",
    "            'xs': exercise['pois'][poi]['xs'],\n",
    "            'ys': exercise['pois'][poi]['ys'],\n",
    "            'zs': exercise['pois'][poi]['zs']\n",
    "        })\n",
    "    \n",
    "    \n",
    "    return data     "
   ]
  },
  {
   "cell_type": "code",
   "execution_count": 10,
   "id": "dd804cca",
   "metadata": {
    "scrolled": true
   },
   "outputs": [
    {
     "name": "stdout",
     "output_type": "stream",
     "text": [
      "(684,)\n",
      "(684, 52)\n",
      "(684, 126, 600)\n",
      "(684, 36, 600)\n",
      "(684, 42, 600)\n",
      "(684, 48, 600)\n"
     ]
    }
   ],
   "source": [
    "xslist_meta = list()\n",
    "xslist_global = list()\n",
    "xslist_frontal = list()\n",
    "xslist_oral = list()\n",
    "xslist_orbital = list()\n",
    "yslist = list()\n",
    "\n",
    "\n",
    "for file_name in os.listdir(exercise_source):\n",
    "    file_path = os.path.join(exercise_source, file_name)\n",
    "\n",
    "    if file_name == '.DS_Store': continue\n",
    "\n",
    "    _xs_meta, _xs_global, _xs_frontal, _xs_oral, _xs_orbital, _ys = exercise_to_input(file_path, feature_engineering_setting)\n",
    "\n",
    "    yslist.append(_ys)\n",
    "    xslist_meta.append(_xs_meta)  \n",
    "    xslist_global.append(_xs_global)\n",
    "    xslist_frontal.append(_xs_frontal)\n",
    "    xslist_oral.append(_xs_oral)\n",
    "    xslist_orbital.append(_xs_orbital)\n",
    "\n",
    "    exercise_id = file_name.split('_')[-1].split('.')[0]\n",
    "    #print(f'File name {file_name} exercise: {exercise_id}')\n",
    "    #if exercise_id == '0':\n",
    "        #print(f'<---------------{file_name}')\n",
    "        #plot(_xs_global[0])\n",
    "        #print('----------------->')\n",
    "        \n",
    "ys = np.array(yslist, dtype='int')\n",
    "xs_meta = np.array(xslist_meta, dtype='float32')   \n",
    "xs_global = np.array(xslist_global, dtype='float32') \n",
    "xs_frontal = np.array(xslist_frontal, dtype='float32') \n",
    "xs_oral = np.array(xslist_oral, dtype='float32') \n",
    "xs_orbital = np.array(xslist_orbital, dtype='float32') \n",
    "\n",
    "print(ys.shape)\n",
    "print(xs_meta.shape)\n",
    "print(xs_global.shape)\n",
    "print(xs_frontal.shape)\n",
    "print(xs_oral.shape)\n",
    "print(xs_orbital.shape)"
   ]
  },
  {
   "cell_type": "markdown",
   "id": "ca9e0ddd",
   "metadata": {
    "scrolled": true
   },
   "source": [
    "# Inference"
   ]
  },
  {
   "cell_type": "markdown",
   "id": "b4fb7889",
   "metadata": {},
   "source": [
    "## Load Model"
   ]
  },
  {
   "cell_type": "code",
   "execution_count": 11,
   "id": "e7ba5cdb",
   "metadata": {
    "scrolled": true
   },
   "outputs": [
    {
     "name": "stdout",
     "output_type": "stream",
     "text": [
      "Metal device set to: Apple M1\n"
     ]
    },
    {
     "name": "stderr",
     "output_type": "stream",
     "text": [
      "2024-02-16 10:50:24.301774: I tensorflow/core/common_runtime/pluggable_device/pluggable_device_factory.cc:306] Could not identify NUMA node of platform GPU ID 0, defaulting to 0. Your kernel may not have been built with NUMA support.\n",
      "2024-02-16 10:50:24.302062: I tensorflow/core/common_runtime/pluggable_device/pluggable_device_factory.cc:272] Created TensorFlow device (/job:localhost/replica:0/task:0/device:GPU:0 with 0 MB memory) -> physical PluggableDevice (device: 0, name: METAL, pci bus id: <undefined>)\n"
     ]
    }
   ],
   "source": [
    "model = tf.keras.models.load_model(dir_model)"
   ]
  },
  {
   "cell_type": "code",
   "execution_count": 12,
   "id": "f0afaa33",
   "metadata": {
    "scrolled": false
   },
   "outputs": [
    {
     "name": "stdout",
     "output_type": "stream",
     "text": [
      "Model: \"model_53\"\n",
      "__________________________________________________________________________________________________\n",
      " Layer (type)                   Output Shape         Param #     Connected to                     \n",
      "==================================================================================================\n",
      " input_42 (InputLayer)          [(None, 126, 600)]   0           []                               \n",
      "                                                                                                  \n",
      " input_43 (InputLayer)          [(None, 36, 600)]    0           []                               \n",
      "                                                                                                  \n",
      " input_44 (InputLayer)          [(None, 42, 600)]    0           []                               \n",
      "                                                                                                  \n",
      " input_45 (InputLayer)          [(None, 48, 600)]    0           []                               \n",
      "                                                                                                  \n",
      " conv1d_128 (Conv1D)            (None, 126, 16)      28816       ['input_42[0][0]']               \n",
      "                                                                                                  \n",
      " conv1d_132 (Conv1D)            (None, 36, 16)       28816       ['input_43[0][0]']               \n",
      "                                                                                                  \n",
      " conv1d_136 (Conv1D)            (None, 42, 16)       28816       ['input_44[0][0]']               \n",
      "                                                                                                  \n",
      " conv1d_140 (Conv1D)            (None, 48, 16)       28816       ['input_45[0][0]']               \n",
      "                                                                                                  \n",
      " batch_normalization_128 (Batch  (None, 126, 16)     64          ['conv1d_128[0][0]']             \n",
      " Normalization)                                                                                   \n",
      "                                                                                                  \n",
      " batch_normalization_132 (Batch  (None, 36, 16)      64          ['conv1d_132[0][0]']             \n",
      " Normalization)                                                                                   \n",
      "                                                                                                  \n",
      " batch_normalization_136 (Batch  (None, 42, 16)      64          ['conv1d_136[0][0]']             \n",
      " Normalization)                                                                                   \n",
      "                                                                                                  \n",
      " batch_normalization_140 (Batch  (None, 48, 16)      64          ['conv1d_140[0][0]']             \n",
      " Normalization)                                                                                   \n",
      "                                                                                                  \n",
      " max_pooling1d_128 (MaxPooling1  (None, 63, 16)      0           ['batch_normalization_128[0][0]']\n",
      " D)                                                                                               \n",
      "                                                                                                  \n",
      " max_pooling1d_132 (MaxPooling1  (None, 18, 16)      0           ['batch_normalization_132[0][0]']\n",
      " D)                                                                                               \n",
      "                                                                                                  \n",
      " max_pooling1d_136 (MaxPooling1  (None, 21, 16)      0           ['batch_normalization_136[0][0]']\n",
      " D)                                                                                               \n",
      "                                                                                                  \n",
      " max_pooling1d_140 (MaxPooling1  (None, 24, 16)      0           ['batch_normalization_140[0][0]']\n",
      " D)                                                                                               \n",
      "                                                                                                  \n",
      " conv1d_129 (Conv1D)            (None, 63, 32)       1568        ['max_pooling1d_128[0][0]']      \n",
      "                                                                                                  \n",
      " conv1d_133 (Conv1D)            (None, 18, 32)       1568        ['max_pooling1d_132[0][0]']      \n",
      "                                                                                                  \n",
      " conv1d_137 (Conv1D)            (None, 21, 32)       1568        ['max_pooling1d_136[0][0]']      \n",
      "                                                                                                  \n",
      " conv1d_141 (Conv1D)            (None, 24, 32)       1568        ['max_pooling1d_140[0][0]']      \n",
      "                                                                                                  \n",
      " batch_normalization_129 (Batch  (None, 63, 32)      128         ['conv1d_129[0][0]']             \n",
      " Normalization)                                                                                   \n",
      "                                                                                                  \n",
      " batch_normalization_133 (Batch  (None, 18, 32)      128         ['conv1d_133[0][0]']             \n",
      " Normalization)                                                                                   \n",
      "                                                                                                  \n",
      " batch_normalization_137 (Batch  (None, 21, 32)      128         ['conv1d_137[0][0]']             \n",
      " Normalization)                                                                                   \n",
      "                                                                                                  \n",
      " batch_normalization_141 (Batch  (None, 24, 32)      128         ['conv1d_141[0][0]']             \n",
      " Normalization)                                                                                   \n",
      "                                                                                                  \n",
      " max_pooling1d_129 (MaxPooling1  (None, 31, 32)      0           ['batch_normalization_129[0][0]']\n",
      " D)                                                                                               \n",
      "                                                                                                  \n",
      " max_pooling1d_133 (MaxPooling1  (None, 9, 32)       0           ['batch_normalization_133[0][0]']\n",
      " D)                                                                                               \n",
      "                                                                                                  \n",
      " max_pooling1d_137 (MaxPooling1  (None, 10, 32)      0           ['batch_normalization_137[0][0]']\n",
      " D)                                                                                               \n",
      "                                                                                                  \n",
      " max_pooling1d_141 (MaxPooling1  (None, 12, 32)      0           ['batch_normalization_141[0][0]']\n",
      " D)                                                                                               \n",
      "                                                                                                  \n",
      " conv1d_130 (Conv1D)            (None, 31, 64)       6208        ['max_pooling1d_129[0][0]']      \n",
      "                                                                                                  \n",
      " conv1d_134 (Conv1D)            (None, 9, 64)        6208        ['max_pooling1d_133[0][0]']      \n",
      "                                                                                                  \n",
      " conv1d_138 (Conv1D)            (None, 10, 64)       6208        ['max_pooling1d_137[0][0]']      \n",
      "                                                                                                  \n",
      " conv1d_142 (Conv1D)            (None, 12, 64)       6208        ['max_pooling1d_141[0][0]']      \n",
      "                                                                                                  \n"
     ]
    },
    {
     "name": "stdout",
     "output_type": "stream",
     "text": [
      " batch_normalization_130 (Batch  (None, 31, 64)      256         ['conv1d_130[0][0]']             \n",
      " Normalization)                                                                                   \n",
      "                                                                                                  \n",
      " batch_normalization_134 (Batch  (None, 9, 64)       256         ['conv1d_134[0][0]']             \n",
      " Normalization)                                                                                   \n",
      "                                                                                                  \n",
      " batch_normalization_138 (Batch  (None, 10, 64)      256         ['conv1d_138[0][0]']             \n",
      " Normalization)                                                                                   \n",
      "                                                                                                  \n",
      " batch_normalization_142 (Batch  (None, 12, 64)      256         ['conv1d_142[0][0]']             \n",
      " Normalization)                                                                                   \n",
      "                                                                                                  \n",
      " max_pooling1d_130 (MaxPooling1  (None, 15, 64)      0           ['batch_normalization_130[0][0]']\n",
      " D)                                                                                               \n",
      "                                                                                                  \n",
      " max_pooling1d_134 (MaxPooling1  (None, 4, 64)       0           ['batch_normalization_134[0][0]']\n",
      " D)                                                                                               \n",
      "                                                                                                  \n",
      " max_pooling1d_138 (MaxPooling1  (None, 5, 64)       0           ['batch_normalization_138[0][0]']\n",
      " D)                                                                                               \n",
      "                                                                                                  \n",
      " max_pooling1d_142 (MaxPooling1  (None, 6, 64)       0           ['batch_normalization_142[0][0]']\n",
      " D)                                                                                               \n",
      "                                                                                                  \n",
      " conv1d_131 (Conv1D)            (None, 15, 64)       12352       ['max_pooling1d_130[0][0]']      \n",
      "                                                                                                  \n",
      " conv1d_135 (Conv1D)            (None, 4, 64)        12352       ['max_pooling1d_134[0][0]']      \n",
      "                                                                                                  \n",
      " conv1d_139 (Conv1D)            (None, 5, 64)        12352       ['max_pooling1d_138[0][0]']      \n",
      "                                                                                                  \n",
      " conv1d_143 (Conv1D)            (None, 6, 64)        12352       ['max_pooling1d_142[0][0]']      \n",
      "                                                                                                  \n",
      " batch_normalization_131 (Batch  (None, 15, 64)      256         ['conv1d_131[0][0]']             \n",
      " Normalization)                                                                                   \n",
      "                                                                                                  \n",
      " batch_normalization_135 (Batch  (None, 4, 64)       256         ['conv1d_135[0][0]']             \n",
      " Normalization)                                                                                   \n",
      "                                                                                                  \n",
      " batch_normalization_139 (Batch  (None, 5, 64)       256         ['conv1d_139[0][0]']             \n",
      " Normalization)                                                                                   \n",
      "                                                                                                  \n",
      " batch_normalization_143 (Batch  (None, 6, 64)       256         ['conv1d_143[0][0]']             \n",
      " Normalization)                                                                                   \n",
      "                                                                                                  \n",
      " max_pooling1d_131 (MaxPooling1  (None, 7, 64)       0           ['batch_normalization_131[0][0]']\n",
      " D)                                                                                               \n",
      "                                                                                                  \n",
      " max_pooling1d_135 (MaxPooling1  (None, 2, 64)       0           ['batch_normalization_135[0][0]']\n",
      " D)                                                                                               \n",
      "                                                                                                  \n",
      " max_pooling1d_139 (MaxPooling1  (None, 2, 64)       0           ['batch_normalization_139[0][0]']\n",
      " D)                                                                                               \n",
      "                                                                                                  \n",
      " max_pooling1d_143 (MaxPooling1  (None, 3, 64)       0           ['batch_normalization_143[0][0]']\n",
      " D)                                                                                               \n",
      "                                                                                                  \n",
      " flatten_32 (Flatten)           (None, 448)          0           ['max_pooling1d_131[0][0]']      \n",
      "                                                                                                  \n",
      " flatten_33 (Flatten)           (None, 128)          0           ['max_pooling1d_135[0][0]']      \n",
      "                                                                                                  \n",
      " flatten_34 (Flatten)           (None, 128)          0           ['max_pooling1d_139[0][0]']      \n",
      "                                                                                                  \n",
      " flatten_35 (Flatten)           (None, 192)          0           ['max_pooling1d_143[0][0]']      \n",
      "                                                                                                  \n",
      " input_41 (InputLayer)          [(None, 52)]         0           []                               \n",
      "                                                                                                  \n",
      " dropout_32 (Dropout)           (None, 448)          0           ['flatten_32[0][0]']             \n",
      "                                                                                                  \n",
      " dropout_33 (Dropout)           (None, 128)          0           ['flatten_33[0][0]']             \n",
      "                                                                                                  \n",
      " dropout_34 (Dropout)           (None, 128)          0           ['flatten_34[0][0]']             \n",
      "                                                                                                  \n",
      " dropout_35 (Dropout)           (None, 192)          0           ['flatten_35[0][0]']             \n",
      "                                                                                                  \n",
      " dense_56 (Dense)               (None, 4)            212         ['input_41[0][0]']               \n",
      "                                                                                                  \n",
      " dense_57 (Dense)               (None, 128)          57472       ['dropout_32[0][0]']             \n",
      "                                                                                                  \n",
      " dense_58 (Dense)               (None, 128)          16512       ['dropout_33[0][0]']             \n",
      "                                                                                                  \n",
      " dense_59 (Dense)               (None, 128)          16512       ['dropout_34[0][0]']             \n",
      "                                                                                                  \n",
      " dense_60 (Dense)               (None, 128)          24704       ['dropout_35[0][0]']             \n"
     ]
    },
    {
     "name": "stdout",
     "output_type": "stream",
     "text": [
      "                                                                                                  \n",
      " concatenate_8 (Concatenate)    (None, 516)          0           ['dense_56[0][0]',               \n",
      "                                                                  'dense_57[0][0]',               \n",
      "                                                                  'dense_58[0][0]',               \n",
      "                                                                  'dense_59[0][0]',               \n",
      "                                                                  'dense_60[0][0]']               \n",
      "                                                                                                  \n",
      " dense_61 (Dense)               (None, 32)           16544       ['concatenate_8[0][0]']          \n",
      "                                                                                                  \n",
      " dense_62 (Dense)               (None, 6)            198         ['dense_61[0][0]']               \n",
      "                                                                                                  \n",
      "==================================================================================================\n",
      "Total params: 330,746\n",
      "Trainable params: 329,338\n",
      "Non-trainable params: 1,408\n",
      "__________________________________________________________________________________________________\n"
     ]
    }
   ],
   "source": [
    "model.summary()"
   ]
  },
  {
   "cell_type": "markdown",
   "id": "cfea47f1",
   "metadata": {},
   "source": [
    "## Infer"
   ]
  },
  {
   "cell_type": "code",
   "execution_count": 13,
   "id": "920cff82",
   "metadata": {
    "scrolled": true
   },
   "outputs": [
    {
     "name": "stderr",
     "output_type": "stream",
     "text": [
      "2024-02-16 10:50:30.645601: W tensorflow/core/platform/profile_utils/cpu_utils.cc:128] Failed to get CPU frequency: 0 Hz\n",
      "2024-02-16 10:50:31.105358: I tensorflow/core/grappler/optimizers/custom_graph_optimizer_registry.cc:114] Plugin optimizer for device_type GPU is enabled.\n"
     ]
    },
    {
     "name": "stdout",
     "output_type": "stream",
     "text": [
      "              precision    recall  f1-score   support\n",
      "\n",
      "           0       1.00      0.70      0.82       684\n",
      "           1       0.00      0.00      0.00         0\n",
      "           2       0.00      0.00      0.00         0\n",
      "           3       0.00      0.00      0.00         0\n",
      "           4       0.00      0.00      0.00         0\n",
      "           5       0.00      0.00      0.00         0\n",
      "\n",
      "    accuracy                           0.70       684\n",
      "   macro avg       0.17      0.12      0.14       684\n",
      "weighted avg       1.00      0.70      0.82       684\n",
      "\n"
     ]
    },
    {
     "name": "stderr",
     "output_type": "stream",
     "text": [
      "/Users/alanchen/.local/share/virtualenvs/research-face-excercises-dynamics-o_HFBNSW/lib/python3.8/site-packages/sklearn/metrics/_classification.py:1471: UndefinedMetricWarning: Recall and F-score are ill-defined and being set to 0.0 in labels with no true samples. Use `zero_division` parameter to control this behavior.\n",
      "  _warn_prf(average, modifier, msg_start, len(result))\n",
      "/Users/alanchen/.local/share/virtualenvs/research-face-excercises-dynamics-o_HFBNSW/lib/python3.8/site-packages/sklearn/metrics/_classification.py:1471: UndefinedMetricWarning: Recall and F-score are ill-defined and being set to 0.0 in labels with no true samples. Use `zero_division` parameter to control this behavior.\n",
      "  _warn_prf(average, modifier, msg_start, len(result))\n",
      "/Users/alanchen/.local/share/virtualenvs/research-face-excercises-dynamics-o_HFBNSW/lib/python3.8/site-packages/sklearn/metrics/_classification.py:1471: UndefinedMetricWarning: Recall and F-score are ill-defined and being set to 0.0 in labels with no true samples. Use `zero_division` parameter to control this behavior.\n",
      "  _warn_prf(average, modifier, msg_start, len(result))\n"
     ]
    }
   ],
   "source": [
    "y_pred = model.predict([\n",
    "    xs_meta,\n",
    "    xs_global,\n",
    "    xs_frontal,\n",
    "    xs_oral,\n",
    "    xs_orbital],verbose=0)\n",
    "y_pred_bool = np.argmax(y_pred, axis=1)\n",
    "print(classification_report(ys, y_pred_bool))"
   ]
  },
  {
   "cell_type": "raw",
   "id": "7962ef76",
   "metadata": {},
   "source": [
    "for x in xslist:\n",
    "    ys_pred = model.predict(x,verbose=0)\n",
    "    ys_pred_bool = np.argmax(ys_pred, axis=1)\n",
    "    print(ys_pred)\n",
    "    print(ys_pred_bool)\n",
    "    break\n",
    "\n",
    "\n",
    "#print(classification_report(yslist, ys_pred_bool))"
   ]
  },
  {
   "cell_type": "markdown",
   "id": "7657fdf8",
   "metadata": {},
   "source": [
    "# Visualize patient exercises"
   ]
  },
  {
   "cell_type": "code",
   "execution_count": 14,
   "id": "a07b130f",
   "metadata": {
    "scrolled": false
   },
   "outputs": [],
   "source": [
    "from operator import attrgetter"
   ]
  },
  {
   "cell_type": "code",
   "execution_count": 15,
   "id": "85421a49",
   "metadata": {
    "scrolled": false
   },
   "outputs": [],
   "source": [
    "import matplotlib.pyplot as plt\n",
    "plt.style.use('_mpl-gallery')"
   ]
  },
  {
   "cell_type": "code",
   "execution_count": 16,
   "id": "79494615",
   "metadata": {
    "scrolled": false
   },
   "outputs": [],
   "source": [
    "exercises_number = 9"
   ]
  },
  {
   "cell_type": "code",
   "execution_count": 56,
   "id": "3ab74c03",
   "metadata": {},
   "outputs": [],
   "source": [
    "def confusion_fn(pred):\n",
    "    y = np.argmax(pred, axis=1)\n",
    "    if y[0] == 0:\n",
    "        confusion_arr = np.sum(pred, axis=1) - pred[0][y[0]]\n",
    "        return confusion_arr[0]\n",
    "    \n",
    "    return (y[0]+1) - pred[0][0]"
   ]
  },
  {
   "cell_type": "markdown",
   "id": "cd8bc919",
   "metadata": {},
   "source": [
    "## Single patient with details"
   ]
  },
  {
   "cell_type": "code",
   "execution_count": 57,
   "id": "7b6e4316",
   "metadata": {},
   "outputs": [],
   "source": [
    "def inference_results_patient(patient_id, session_id):\n",
    "    results = []\n",
    "\n",
    "\n",
    "    for exercise_id in range(1, exercises_number + 1):\n",
    "        file_name = os.path.join(\n",
    "            exercise_source, \n",
    "            f'{patient_id}_{session_id}_0{exercise_id}.json'\n",
    "        )\n",
    "                \n",
    "        if not os.path.isfile(file_name):\n",
    "            print(f'File {file_name} is missing')\n",
    "            continue\n",
    "\n",
    "        _xs_meta, _xs_global, _xs_frontal, _xs_oral, _xs_orbital, _ys = exercise_to_input(file_name, feature_engineering_setting)\n",
    "\n",
    "        xs_meta = np.array([_xs_meta], dtype='float32')   \n",
    "        xs_global = np.array([_xs_global], dtype='float32') \n",
    "        xs_frontal = np.array([_xs_frontal], dtype='float32') \n",
    "        xs_oral = np.array([_xs_oral], dtype='float32') \n",
    "        xs_orbital = np.array([_xs_orbital], dtype='float32')         \n",
    "        \n",
    "        ys_pred = model.predict([\n",
    "            xs_meta,\n",
    "            xs_global,\n",
    "            xs_frontal,\n",
    "            xs_oral,\n",
    "            xs_orbital],verbose=0)\n",
    "        \n",
    "        y_pred = np.argmax(ys_pred, axis=1)\n",
    "        \n",
    "        confusion = confusion_fn(ys_pred)\n",
    "        \n",
    "        data = json.load(open(file_name, 'r'))\n",
    "        \n",
    "        results.append({\n",
    "            'patient_id': patient_id,\n",
    "            'exercise_id': exercise_id,\n",
    "            'confusion': confusion,\n",
    "            'inference': y_pred[0],\n",
    "            'age': float(data['meta']['age']),\n",
    "            'age_bucket': int(float(data['meta']['age']) // 10)\n",
    "        })\n",
    "    \n",
    "    return results"
   ]
  },
  {
   "cell_type": "code",
   "execution_count": 58,
   "id": "16880c0a",
   "metadata": {
    "scrolled": false
   },
   "outputs": [],
   "source": [
    "def plot_patient(patient_id, session_id):\n",
    "    exercises_result = []\n",
    "    results = []\n",
    "    fig, axs = plt.subplots(1,9,figsize=(15,2)) \n",
    "\n",
    "\n",
    "    for exercise_id in range(1, exercises_number + 1):\n",
    "        file_name = os.path.join(\n",
    "            exercise_source, \n",
    "            f'{patient_id}_{session_id}_0{exercise_id}.json'\n",
    "        )\n",
    "                \n",
    "        if not os.path.isfile(file_name):\n",
    "            print(f'File {file_name} is missing')\n",
    "            continue\n",
    "\n",
    "        _xs_meta, _xs_global, _xs_frontal, _xs_oral, _xs_orbital, _ys = exercise_to_input(file_name, feature_engineering_setting)\n",
    "\n",
    "\n",
    "        xs_meta = np.array([_xs_meta], dtype='float32')   \n",
    "        xs_global = np.array([_xs_global], dtype='float32') \n",
    "        xs_frontal = np.array([_xs_frontal], dtype='float32') \n",
    "        xs_oral = np.array([_xs_oral], dtype='float32') \n",
    "        xs_orbital = np.array([_xs_orbital], dtype='float32')         \n",
    "        \n",
    "        ys_pred = model.predict([\n",
    "            xs_meta,\n",
    "            xs_global,\n",
    "            xs_frontal,\n",
    "            xs_oral,\n",
    "            xs_orbital],verbose=0)\n",
    "        \n",
    "        #print(ys_pred[0][0])\n",
    "        y_pred = np.argmax(ys_pred, axis=1)\n",
    "        \n",
    "        confusion = confusion_fn(ys_pred)\n",
    "        \n",
    "        print(f'file: {file_name} pred: {y_pred} real: {_ys} confusion: {confusion}')\n",
    "        exercises_result.append(list(ys_pred[0]))\n",
    "\n",
    "        axs[exercise_id].bar(1 + np.arange(6), ys_pred[0], width=1, edgecolor=\"white\", linewidth=0.7)\n",
    "\n",
    "        axs[exercise_id].set(\n",
    "            xlim=(0, 7), \n",
    "            xticks=np.arange(1, 7),\n",
    "            ylim=(0, 1))\n",
    "        \n",
    "        results.append({\n",
    "            'patient_id': patient_id,\n",
    "            'exercise_id': exercise_id + 1,\n",
    "            'file': f'{patient_id}_{patient_id}_{exercise_id}.json',\n",
    "            'inference': list(ys_pred[0]),\n",
    "            'confusion': confusion\n",
    "        })\n",
    "\n",
    "    plt.show()    \n",
    "    \n",
    "    return results"
   ]
  },
  {
   "cell_type": "code",
   "execution_count": 59,
   "id": "3d89dc50",
   "metadata": {
    "scrolled": true
   },
   "outputs": [],
   "source": [
    "def all_patients():\n",
    "    ids = set()\n",
    "    for file in os.listdir(exercise_source):\n",
    "        id = file.split('_')[0]\n",
    "        session_id = file.split('_')[1]\n",
    "        ids.add((id, session_id))\n",
    "    \n",
    "    return sorted(ids, key=lambda a: a[0])"
   ]
  },
  {
   "cell_type": "code",
   "execution_count": 60,
   "id": "6c9b3971",
   "metadata": {},
   "outputs": [
    {
     "name": "stdout",
     "output_type": "stream",
     "text": [
      "Exercise 1\n",
      "Empty DataFrame\n",
      "Columns: [(confusion, min), (confusion, mean), (confusion, max)]\n",
      "Index: []\n",
      "Exercise 2\n",
      "           confusion                    \n",
      "                 min      mean       max\n",
      "age_bucket                              \n",
      "1           0.000000  1.073243  5.962885\n",
      "2           0.000000  0.533680  2.999989\n",
      "3           0.000000  1.553641  5.992046\n",
      "4           0.000000  0.779898  5.965843\n",
      "5           0.000000  0.619882  2.999864\n",
      "6           0.000000  1.387559  2.931652\n",
      "7           0.000000  1.561554  5.810962\n",
      "8           0.000036  0.029615  0.059194\n",
      "Exercise 3\n",
      "               confusion                    \n",
      "                     min      mean       max\n",
      "age_bucket                                  \n",
      "1           0.000000e+00  0.935072  5.609398\n",
      "2           0.000000e+00  1.108282  5.996882\n",
      "3           0.000000e+00  1.565872  5.998433\n",
      "4           4.112720e-06  0.425788  2.999997\n",
      "5           0.000000e+00  0.963590  2.989184\n",
      "6           0.000000e+00  0.353545  1.999997\n",
      "7           1.072884e-06  1.527488  5.602489\n",
      "8           8.940697e-07  1.997758  3.995515\n",
      "Exercise 4\n",
      "               confusion                    \n",
      "                     min      mean       max\n",
      "age_bucket                                  \n",
      "1           0.000000e+00  0.028442  0.170320\n",
      "2           0.000000e+00  1.075329  6.000000\n",
      "3           0.000000e+00  1.578323  5.989118\n",
      "4           0.000000e+00  1.344057  5.964266\n",
      "5           0.000000e+00  0.963389  2.990984\n",
      "6           1.192093e-07  0.860235  3.999987\n",
      "7           0.000000e+00  2.799415  5.999875\n",
      "8           2.908707e-05  1.499922  2.999816\n",
      "Exercise 5\n",
      "               confusion                    \n",
      "                     min      mean       max\n",
      "age_bucket                                  \n",
      "1           0.000000e+00  0.935033  5.610016\n",
      "2           0.000000e+00  0.841012  5.999885\n",
      "3           0.000000e+00  1.380642  5.939661\n",
      "4           0.000000e+00  0.466963  2.999983\n",
      "5           0.000000e+00  1.739376  5.939859\n",
      "6           0.000000e+00  0.261058  1.637417\n",
      "7           0.000000e+00  1.026179  4.999343\n",
      "8           6.556511e-07  0.002945  0.005888\n",
      "Exercise 6\n",
      "               confusion                    \n",
      "                     min      mean       max\n",
      "age_bucket                                  \n",
      "1           0.000000e+00  0.998121  5.948623\n",
      "2           0.000000e+00  1.021825  3.575554\n",
      "3           1.192093e-07  0.656624  2.939498\n",
      "4           0.000000e+00  0.443574  2.999999\n",
      "5           0.000000e+00  0.868678  2.999972\n",
      "6           0.000000e+00  0.308823  1.923238\n",
      "7           3.576279e-07  1.521003  4.996632\n",
      "8           1.084805e-05  0.134654  0.269297\n",
      "Exercise 7\n",
      "               confusion                    \n",
      "                     min      mean       max\n",
      "age_bucket                                  \n",
      "1           0.000000e+00  1.000093  5.999785\n",
      "2           0.000000e+00  0.758259  5.999988\n",
      "3           0.000000e+00  0.722739  5.999648\n",
      "4           0.000000e+00  0.947845  5.874947\n",
      "5           0.000000e+00  1.574379  3.888646\n",
      "6           0.000000e+00  0.444942  2.966374\n",
      "7           3.576279e-07  2.366515  3.990592\n",
      "8           5.781651e-06  1.499921  2.999836\n",
      "Exercise 8\n",
      "               confusion                    \n",
      "                     min      mean       max\n",
      "age_bucket                                  \n",
      "1           0.000000e+00  1.070517  5.999992\n",
      "2           0.000000e+00  1.364257  5.996178\n",
      "3           0.000000e+00  1.324681  5.999617\n",
      "4           2.384186e-07  0.451405  2.999997\n",
      "5           0.000000e+00  0.896160  3.607031\n",
      "6           0.000000e+00  0.999567  2.993512\n",
      "7           2.503395e-06  1.895733  4.866155\n",
      "8           0.000000e+00  0.011676  0.023353\n",
      "Exercise 9\n",
      "               confusion                    \n",
      "                     min      mean       max\n",
      "age_bucket                                  \n",
      "1           0.000000e+00  0.964658  2.987687\n",
      "2           0.000000e+00  0.665829  2.999993\n",
      "3           0.000000e+00  1.241304  5.999310\n",
      "4           0.000000e+00  0.914763  5.977752\n",
      "5           0.000000e+00  1.108763  2.999994\n",
      "6           0.000000e+00  1.141857  2.995538\n",
      "7           7.468462e-04  1.157829  4.000000\n",
      "8           1.192093e-07  1.491648  2.983295\n"
     ]
    }
   ],
   "source": [
    "inference_results = []\n",
    "patient_ids = all_patients()\n",
    "for patient_id, session_id in patient_ids:\n",
    "    inference_results.extend(inference_results_patient(patient_id, session_id))\n",
    "    \n",
    "#inference_results to pd\n",
    "df = pd.DataFrame.from_records(inference_results)  \n",
    "                             \n",
    "for exercise_id in range(0, 9):\n",
    "    print(f'Exercise {exercise_id + 1}')\n",
    "    ex_df = df.loc[df['exercise_id'] == exercise_id][['age_bucket', 'confusion']]\n",
    "    grouped_df = ex_df.groupby('age_bucket').agg(['min', 'mean', 'max'])\n",
    "    print(grouped_df)"
   ]
  },
  {
   "cell_type": "code",
   "execution_count": 61,
   "id": "9cf31611",
   "metadata": {},
   "outputs": [],
   "source": [
    "import seaborn as sns"
   ]
  },
  {
   "cell_type": "code",
   "execution_count": 64,
   "id": "f693f5b8",
   "metadata": {},
   "outputs": [
    {
     "name": "stdout",
     "output_type": "stream",
     "text": [
      "   exercise_id  age_bucket  confusion\n",
      "0            1           1   1.073243\n",
      "1            1           2   0.533680\n",
      "2            1           3   1.553641\n",
      "3            1           4   0.779898\n",
      "4            1           5   0.619882\n"
     ]
    }
   ],
   "source": [
    "grouped_df = df[['exercise_id','age_bucket','confusion']].groupby(['exercise_id','age_bucket']).agg('mean').reset_index()\n",
    "print(grouped_df.head())"
   ]
  },
  {
   "cell_type": "code",
   "execution_count": 63,
   "id": "15e629fd",
   "metadata": {},
   "outputs": [
    {
     "data": {
      "image/png": "[encoded data removed]",
      "text/plain": [
       "<Figure size 600x600 with 2 Axes>"
      ]
     },
     "metadata": {},
     "output_type": "display_data"
    }
   ],
   "source": [
    "matrix = grouped_df.pivot(index='exercise_id', columns='age_bucket', values='confusion')\n",
    "\n",
    "fig, ax = plt.subplots(figsize=(6,6)) \n",
    "sns.heatmap(matrix, cmap='coolwarm', annot=True, fmt='0.03f',linewidths=1, vmin=0, vmax=4, ax=ax)\n",
    "#coolwarm\n",
    "#YlGnBu\n",
    "ax.set_title('Confusion heatmap')\n",
    "ax.set(xlabel='Age Bucket', ylabel='Exercises')\n",
    "\n",
    "fig.savefig(f'heat_map_confusion.svg', format='svg', dpi=1200)\n"
   ]
  },
  {
   "cell_type": "code",
   "execution_count": 73,
   "id": "53e81f92",
   "metadata": {},
   "outputs": [
    {
     "data": {
      "image/png": "[encoded data removed]",
      "text/plain": [
       "<Figure size 800x800 with 9 Axes>"
      ]
     },
     "metadata": {},
     "output_type": "display_data"
    }
   ],
   "source": [
    "fig, axs = plt.subplots(3,3,figsize=(8,8)) \n",
    "for exercise_id in range(0, 9):\n",
    "    row = exercise_id // 3\n",
    "    col = exercise_id - (row * 3 )\n",
    "    ex_df = df.loc[df['exercise_id'] == exercise_id + 1][['age_bucket', 'confusion']]\n",
    "    plot = ex_df.boxplot(by='age_bucket', ax=axs[row][col], patch_artist=True)\n",
    "    plot.set_title(f'Exercise: {exercise_id + 1}')\n",
    "    plot.set_ylim([0, 7])\n",
    "\n",
    "plt.tight_layout() \n",
    "#fig.suptitle('title', y = 'y_title', fontsize=15)\n",
    "plt.show()\n",
    "fig.savefig(f'box_plot_confusion.svg', format='svg', dpi=1200)"
   ]
  },
  {
   "cell_type": "raw",
   "id": "26005fb2",
   "metadata": {
    "scrolled": false
   },
   "source": [
    "inference_results = []\n",
    "patient_ids = all_patients()\n",
    "i = 0\n",
    "for patient_id, session_id in patient_ids:\n",
    "    i += 1\n",
    "    print(patient_id, session_id)\n",
    "    inference_results.extend(plot_patient(patient_id, session_id))"
   ]
  },
  {
   "cell_type": "markdown",
   "id": "cde8e3db",
   "metadata": {},
   "source": [
    "__END__"
   ]
  }
 ],
 "metadata": {
  "kernelspec": {
   "display_name": "face-prognosis",
   "language": "python",
   "name": "face-prognosis"
  },
  "language_info": {
   "codemirror_mode": {
    "name": "ipython",
    "version": 3
   },
   "file_extension": ".py",
   "mimetype": "text/x-python",
   "name": "python",
   "nbconvert_exporter": "python",
   "pygments_lexer": "ipython3",
   "version": "3.8.13"
  }
 },
 "nbformat": 4,
 "nbformat_minor": 5
}
