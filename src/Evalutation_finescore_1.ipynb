{
 "cells": [
  {
   "cell_type": "code",
   "execution_count": 1,
   "id": "e40d6390-9745-47a3-8aaa-b60acf943c2c",
   "metadata": {},
   "outputs": [],
   "source": [
    "from IPython.display import display, Math, Latex"
   ]
  },
  {
   "cell_type": "markdown",
   "id": "4540dc66-d17f-4003-b1cb-88864ff71d2c",
   "metadata": {},
   "source": [
    "# Evaluation concept"
   ]
  },
  {
   "cell_type": "markdown",
   "id": "fe7349da-c9e4-4bf1-911e-147f226d1cbc",
   "metadata": {},
   "source": [
    "We propose a framework for evaluating the performance of the FineScore, with a particular focus on its ability to capture nuanced changes in a patient's condition. The primary objective of the FineScore is to provide a more granular tracking of patient state transitions, including the detection of progression or regression, even in instances where the HB (House-Brackmann) score remains static.\n",
    "\n",
    "For instance, consider a patient undergoing four sessions where the HB classification results are recorded as [4, 4, 4, 2]. This sequence indicates that the patient remains in the \"Moderately Severe Dysfunction\" category (HB grade 4) for three sessions, followed by an improvement to HB grade 2. In contrast, the FineScore for the same sessions might be represented as [4.8, 4.4, 3.8, 2.4], capturing incremental changes that are insufficient to shift the HB grade but still reflect subtle improvements in the patient's condition.\n",
    "\n",
    "To quantify this phenomenon, both the HB score and the FineScore sequences are converted into a directional vector. This vector represents monotonic directional trends, where each segment is assigned a value of 1 (indicating an upward trend including previous potential stagnation), -1 (indicating a downward trend including previous potential stagnation), or 0 (indicating indeterminate direction due to no changes in HB grades). In the given example, both sequences exhibit a monotonic decline, resulting in the directional vector [-1, -1, -1]. Note that the directional vector contains one fewer element than the original sequence, as it measures directionality between consecutive points.\n",
    "\n",
    "The next step involves assessing the alignment between the dynamics captured by the FineScore and the ground truth dynamics. To achieve this, we introduce the metric Mean Direction Match (1). The motivation behind the Mean Direction Match (MDM) lies in its ability to penalize discrepancies in sections where the directional dynamics of the FineScore do not align with the ground truth. This provides a clear and systematic approach to evaluating the FineScore's capacity to accurately detect directional changes in a patient's condition."
   ]
  },
  {
   "cell_type": "code",
   "execution_count": 16,
   "id": "f2defc5d-2945-473b-9b74-262f2359859a",
   "metadata": {},
   "outputs": [
    {
     "data": {
      "text/latex": [
       "$\\displaystyle mDM(k,l) = 1/N \\sum_{i=1}^{N}k_i * l_i   \\quad \\quad   (1)$"
      ],
      "text/plain": [
       "<IPython.core.display.Math object>"
      ]
     },
     "metadata": {},
     "output_type": "display_data"
    }
   ],
   "source": [
    "display(Math(r'mDM(k,l) = 1/N \\sum_{i=1}^{N}k_i * l_i   \\quad \\quad   (1)'))"
   ]
  },
  {
   "cell_type": "markdown",
   "id": "fcb96913-03ed-4c73-937a-b5eb58164f65",
   "metadata": {},
   "source": [
    "*where k and l are two directional vectors, N is the size of them*"
   ]
  },
  {
   "cell_type": "markdown",
   "id": "3ddf699d-019d-43aa-a2f5-78a1a32dd449",
   "metadata": {},
   "source": [
    "The resulting values of the Mean Direction Match (MDM) fall within the range [-1, 1]. A value of -1 indicates a complete mismatch between the directional dynamics of the FineScore and the ground truth, while a value of 1 signifies a perfect alignment of directions. Values near 0 reflect instances of stagnation, where there is insufficient directional change to establish a clear trend. This range enables a nuanced interpretation of the FineScore's performance in capturing the trajectory of a patient's condition."
   ]
  },
  {
   "cell_type": "markdown",
   "id": "f237eba3-3e4c-4c43-92ac-a189804bee84",
   "metadata": {},
   "source": [
    "# Implementation"
   ]
  },
  {
   "cell_type": "code",
   "execution_count": 3,
   "id": "2bc125a3-3336-4e0d-811d-9ad9c9a3dd60",
   "metadata": {},
   "outputs": [],
   "source": [
    "def to_directional_vector(seq):\n",
    "    result = []\n",
    "    direction = 0\n",
    "    delay = 1\n",
    "    for i in range(1, len(seq)):\n",
    "        if seq[i] > seq[i-1]:\n",
    "            direction = 1\n",
    "            result += [direction] * delay\n",
    "            delay = 1\n",
    "        elif seq[i] < seq[i-1]:\n",
    "            direction = -1\n",
    "            result += [direction] * delay\n",
    "            delay = 1\n",
    "        else: \n",
    "            direction = 0\n",
    "            delay += 1\n",
    "    if delay > 1:    \n",
    "        result += [direction] * (delay-1)        \n",
    "    \n",
    "    \n",
    "    return result"
   ]
  },
  {
   "cell_type": "code",
   "execution_count": 4,
   "id": "b7b735c7-b739-4185-be94-d37c8e22fef1",
   "metadata": {},
   "outputs": [],
   "source": [
    "def mean_direction_match(xs, ys):\n",
    "    assert len(xs) == len(ys)\n",
    "    total = [(x * y) for x,y in zip(xs, ys)]\n",
    "\n",
    "    return sum(total) / len(xs)"
   ]
  },
  {
   "cell_type": "code",
   "execution_count": 5,
   "id": "f90c1f84-ddd8-4052-8684-8c225befceff",
   "metadata": {},
   "outputs": [
    {
     "name": "stdout",
     "output_type": "stream",
     "text": [
      "HB [4, 4, 3, 2]\n",
      "FS [4.8, 4.4, 3.8, 2.4]\n",
      "mean Directional Match 1.0\n"
     ]
    }
   ],
   "source": [
    "hb = [4, 4, 3, 2]\n",
    "fs = [4.8, 4.4, 3.8, 2.4]\n",
    "mDM = mean_direction_match(\n",
    "    to_directional_vector(hb),\n",
    "    to_directional_vector(fs)\n",
    ")\n",
    "print(f'HB {hb}')\n",
    "print(f'FS {fs}')\n",
    "print(f'mean Directional Match {mDM}')"
   ]
  },
  {
   "cell_type": "markdown",
   "id": "3885217b-1a8d-4168-958b-488cbfa79c7e",
   "metadata": {},
   "source": [
    "# Tests"
   ]
  },
  {
   "cell_type": "code",
   "execution_count": 6,
   "id": "74b6fe03-afb9-4c20-9425-63d5986cea6b",
   "metadata": {},
   "outputs": [],
   "source": [
    "stable = ([1,1,1,1], [0, 0, 0])\n",
    "mono_up = ([1,1,3,6], [1, 1, 1])\n",
    "mono_down = ([4,4,3,2], [-1, -1, -1])\n",
    "change = ([1,2,6,3], [1, 1, -1])\n",
    "change_2 = ([1,4,2,3], [1, -1, 1])\n",
    "change_stable = ([1,4,3,3], [1, -1, 0])"
   ]
  },
  {
   "cell_type": "code",
   "execution_count": 7,
   "id": "83f78c56-2150-42a2-a553-ee072ec7669b",
   "metadata": {},
   "outputs": [],
   "source": [
    "fine_score = ([4.8, 4.4, 3.8, 2.4], [-1, -1, -1])"
   ]
  },
  {
   "cell_type": "markdown",
   "id": "86b9baec-fd88-49bf-95ce-42e113b72b7c",
   "metadata": {},
   "source": [
    "## Test direction vector"
   ]
  },
  {
   "cell_type": "code",
   "execution_count": 9,
   "id": "f791fa88-22d6-4205-8701-a0dd4d1dcf22",
   "metadata": {},
   "outputs": [
    {
     "name": "stdout",
     "output_type": "stream",
     "text": [
      "testing:\n",
      "   input:  [1, 1, 1, 1]\n",
      "   output: [0, 0, 0]\n",
      "   True\n",
      "testing:\n",
      "   input:  [1, 1, 3, 6]\n",
      "   output: [1, 1, 1]\n",
      "   True\n",
      "testing:\n",
      "   input:  [4, 4, 3, 2]\n",
      "   output: [-1, -1, -1]\n",
      "   True\n",
      "testing:\n",
      "   input:  [1, 2, 6, 3]\n",
      "   output: [1, 1, -1]\n",
      "   True\n",
      "testing:\n",
      "   input:  [1, 4, 2, 3]\n",
      "   output: [1, -1, 1]\n",
      "   True\n",
      "testing:\n",
      "   input:  [1, 4, 3, 3]\n",
      "   output: [1, -1, 0]\n",
      "   True\n",
      "testing:\n",
      "   input:  [4.8, 4.4, 3.8, 2.4]\n",
      "   output: [-1, -1, -1]\n",
      "   True\n"
     ]
    }
   ],
   "source": [
    "test_cases = [stable, mono_up, mono_down, change, change_2, change_stable, fine_score]\n",
    "\n",
    "for test_case in test_cases:\n",
    "    res = to_directional_vector(test_case[0])\n",
    "    print('testing:')\n",
    "    print(f'   input:  {test_case[0]}')\n",
    "    print(f'   output: {res}')\n",
    "    assert res == test_case[1]\n",
    "    print(f'   {test_case[1] == res}')"
   ]
  },
  {
   "cell_type": "code",
   "execution_count": null,
   "id": "5b2584cb-b017-4355-be6c-f3bf813375a1",
   "metadata": {},
   "outputs": [],
   "source": []
  },
  {
   "cell_type": "markdown",
   "id": "a8f154fa-e664-4725-a645-eb74cc771435",
   "metadata": {},
   "source": [
    "**END**"
   ]
  },
  {
   "cell_type": "code",
   "execution_count": null,
   "id": "fbf8dd9c-0f74-4d88-b788-1d9eb24d0e31",
   "metadata": {},
   "outputs": [],
   "source": []
  }
 ],
 "metadata": {
  "kernelspec": {
   "display_name": "face-prognosis",
   "language": "python",
   "name": "face-prognosis"
  },
  "language_info": {
   "codemirror_mode": {
    "name": "ipython",
    "version": 3
   },
   "file_extension": ".py",
   "mimetype": "text/x-python",
   "name": "python",
   "nbconvert_exporter": "python",
   "pygments_lexer": "ipython3",
   "version": "3.8.13"
  }
 },
 "nbformat": 4,
 "nbformat_minor": 5
}
