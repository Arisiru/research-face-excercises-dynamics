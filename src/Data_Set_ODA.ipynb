{
 "cells": [
  {
   "cell_type": "code",
   "execution_count": 1,
   "id": "83857c87",
   "metadata": {},
   "outputs": [],
   "source": [
    "import os \n",
    "import json\n",
    "from datetime import datetime\n",
    "\n",
    "import math\n",
    "import numpy as np\n",
    "\n",
    "from utils.input import setup, exercise_to_input"
   ]
  },
  {
   "cell_type": "markdown",
   "id": "a8d57ffb",
   "metadata": {},
   "source": [
    "# Setttings"
   ]
  },
  {
   "cell_type": "code",
   "execution_count": 2,
   "id": "847400ea",
   "metadata": {},
   "outputs": [],
   "source": [
    "data_set = 'exercises_raw_heathy'\n",
    "#exercises_raw\n",
    "#exercises_raw_heathy"
   ]
  },
  {
   "cell_type": "code",
   "execution_count": 3,
   "id": "f629a943",
   "metadata": {},
   "outputs": [],
   "source": [
    "SEQ_MAX_LEN = 600\n",
    "NUM_CLASSES = 6\n",
    "NUM_EXERCISES = 9\n",
    "NUM_FLAG_BS = 2"
   ]
  },
  {
   "cell_type": "code",
   "execution_count": 4,
   "id": "46fb329c",
   "metadata": {},
   "outputs": [],
   "source": [
    "dir_root = os.path.join('..')\n",
    "dir_data_root = os.path.join(dir_root, 'data')\n",
    "dir_exercises = os.path.join(dir_data_root, 'json', data_set)"
   ]
  },
  {
   "cell_type": "code",
   "execution_count": 5,
   "id": "5b29e186",
   "metadata": {},
   "outputs": [],
   "source": [
    "CONFIG = setup(os.path.join('..'), SEQ_MAX_LEN, NUM_EXERCISES, NUM_FLAG_BS)"
   ]
  },
  {
   "cell_type": "code",
   "execution_count": 6,
   "id": "63537281",
   "metadata": {},
   "outputs": [
    {
     "data": {
      "text/plain": [
       "{'ROOT_PATH': '..',\n",
       " 'ALL_REGIONS': ['frontal', 'orbital', 'oral'],\n",
       " 'REGIONS': {'0_LefteyeMidbottom': 'orbital',\n",
       "  '1_LefteyeMidtop': 'orbital',\n",
       "  '2_LefteyeInnercorner': 'orbital',\n",
       "  '3_LefteyeOutercorner': 'orbital',\n",
       "  '4_LefteyebrowInner': 'frontal',\n",
       "  '5_LefteyebrowCenter': 'frontal',\n",
       "  '6_RighteyeMidbottom': 'orbital',\n",
       "  '7_RighteyeMidtop': 'orbital',\n",
       "  '8_RighteyeInnercorner': 'orbital',\n",
       "  '9_RighteyeOutercorner': 'orbital',\n",
       "  '10_RighteyebrowInner': 'frontal',\n",
       "  '11_RighteyebrowCenter': 'frontal',\n",
       "  '12_NoseTip': 'frontal',\n",
       "  '13_MouthLowerlipMidbottom': 'oral',\n",
       "  '14_MouthLeftcorner': 'oral',\n",
       "  '15_MouthRightcorner': 'oral',\n",
       "  '16_MouthUpperlipMidtop': 'oral',\n",
       "  '17_ChinCenter': 'oral',\n",
       "  '18_ForeheadCenter': 'frontal',\n",
       "  '19_LeftcheekCenter': 'oral',\n",
       "  '20_RightcheekCenter': 'oral'},\n",
       " 'BASES': {'0_LefteyeMidbottom': '18_ForeheadCenter',\n",
       "  '1_LefteyeMidtop': '18_ForeheadCenter',\n",
       "  '2_LefteyeInnercorner': '18_ForeheadCenter',\n",
       "  '3_LefteyeOutercorner': '18_ForeheadCenter',\n",
       "  '4_LefteyebrowInner': '18_ForeheadCenter',\n",
       "  '5_LefteyebrowCenter': '18_ForeheadCenter',\n",
       "  '6_RighteyeMidbottom': '18_ForeheadCenter',\n",
       "  '7_RighteyeMidtop': '18_ForeheadCenter',\n",
       "  '8_RighteyeInnercorner': '18_ForeheadCenter',\n",
       "  '9_RighteyeOutercorner': '18_ForeheadCenter',\n",
       "  '10_RighteyebrowInner': '18_ForeheadCenter',\n",
       "  '11_RighteyebrowCenter': '18_ForeheadCenter',\n",
       "  '12_NoseTip': '18_ForeheadCenter',\n",
       "  '13_MouthLowerlipMidbottom': '18_ForeheadCenter',\n",
       "  '14_MouthLeftcorner': '18_ForeheadCenter',\n",
       "  '15_MouthRightcorner': '18_ForeheadCenter',\n",
       "  '16_MouthUpperlipMidtop': '18_ForeheadCenter',\n",
       "  '17_ChinCenter': '18_ForeheadCenter',\n",
       "  '18_ForeheadCenter': '18_ForeheadCenter',\n",
       "  '19_LeftcheekCenter': '18_ForeheadCenter',\n",
       "  '20_RightcheekCenter': '18_ForeheadCenter'},\n",
       " 'SEQ_MAX_LEN': 600,\n",
       " 'NUM_EXERCISES': 9,\n",
       " 'NUM_FLAG_BS': 2}"
      ]
     },
     "execution_count": 6,
     "metadata": {},
     "output_type": "execute_result"
    }
   ],
   "source": [
    "CONFIG"
   ]
  },
  {
   "cell_type": "markdown",
   "id": "c5e1c147",
   "metadata": {},
   "source": [
    "# Load all the sessions"
   ]
  },
  {
   "cell_type": "code",
   "execution_count": 7,
   "id": "f4454641",
   "metadata": {},
   "outputs": [],
   "source": [
    "def get_patient_id(file):\n",
    "    if data_set == 'exercises_raw_heathy':\n",
    "        return file.split('_')[0][7:]\n",
    "    if data_set == 'exercises_raw':\n",
    "        return file.split('_')[0].lstrip(\"0\")\n",
    "\n",
    "    print('!WARNING: Unknown data set')\n",
    "    return ''"
   ]
  },
  {
   "cell_type": "code",
   "execution_count": 8,
   "id": "991007e1",
   "metadata": {},
   "outputs": [],
   "source": [
    "def get_session_id(file):\n",
    "    if data_set == 'exercises_raw_heathy':\n",
    "        return file.split('_')[0][7:]\n",
    "    if data_set == 'exercises_raw':\n",
    "        return file.split('_')[1]\n",
    "\n",
    "    print('!WARNING: Unknown data set')\n",
    "    return ''"
   ]
  },
  {
   "cell_type": "markdown",
   "id": "d9328c04",
   "metadata": {},
   "source": [
    "load all the sessions to a dictionary"
   ]
  },
  {
   "cell_type": "code",
   "execution_count": 9,
   "id": "98e21a8d",
   "metadata": {},
   "outputs": [],
   "source": [
    "patients_sessions = {}\n",
    "\n",
    "for file_name in os.listdir(dir_exercises):\n",
    "    if file_name == '.DS_Store': continue\n",
    "    \n",
    "    exercise = json.load(open(os.path.join(dir_exercises, file_name), 'r'))\n",
    "    \n",
    "    patient_id = get_patient_id(file_name)\n",
    "    session_id = get_session_id(file_name)\n",
    "    exercise_id = exercise['meta']['id']\n",
    "    \n",
    "    if patient_id not in patients_sessions:\n",
    "        patients_sessions[patient_id] = {}\n",
    "        \n",
    "    if session_id not in patients_sessions[patient_id]:\n",
    "        patients_sessions[patient_id][session_id] = {}\n",
    "        \n",
    "    data = []\n",
    "    \n",
    "    for poi in sorted(CONFIG['REGIONS'].keys()):\n",
    "        if poi not in exercise['pois']:\n",
    "            print(f'!WARNING: {poi} is not present in {file_name}')\n",
    "            continue\n",
    "            \n",
    "        data.append({\n",
    "            'xs': exercise['pois'][poi]['xs'],\n",
    "            'ys': exercise['pois'][poi]['ys'],\n",
    "            'zs': exercise['pois'][poi]['zs']\n",
    "        })\n",
    "        \n",
    "    patients_sessions[patient_id][session_id][exercise_id] = data    "
   ]
  },
  {
   "cell_type": "markdown",
   "id": "0be63694",
   "metadata": {},
   "source": [
    "# Observations"
   ]
  },
  {
   "cell_type": "code",
   "execution_count": 10,
   "id": "b28ccfee",
   "metadata": {},
   "outputs": [],
   "source": [
    "import matplotlib.pyplot as plt\n",
    "plt.style.use('_mpl-gallery')"
   ]
  },
  {
   "cell_type": "code",
   "execution_count": 11,
   "id": "8e7e146d",
   "metadata": {},
   "outputs": [],
   "source": [
    "def patient_amount(data):\n",
    "    return len(data)"
   ]
  },
  {
   "cell_type": "code",
   "execution_count": 12,
   "id": "8dcf808a",
   "metadata": {},
   "outputs": [],
   "source": [
    "def sessions_amount(data):\n",
    "    sessions = 0\n",
    "    for patient_id in data:\n",
    "        sessions += len(data[patient_id])\n",
    "    \n",
    "    return sessions"
   ]
  },
  {
   "cell_type": "code",
   "execution_count": 13,
   "id": "8a3b8a05",
   "metadata": {},
   "outputs": [
    {
     "name": "stdout",
     "output_type": "stream",
     "text": [
      "Overal number of patients:82\n"
     ]
    }
   ],
   "source": [
    "print(f'Overal number of patients:{patient_amount(patients_sessions)}')"
   ]
  },
  {
   "cell_type": "code",
   "execution_count": 14,
   "id": "3a02d3f9",
   "metadata": {},
   "outputs": [
    {
     "name": "stdout",
     "output_type": "stream",
     "text": [
      "Overal number of sessions:82\n"
     ]
    }
   ],
   "source": [
    "print(f'Overal number of sessions:{sessions_amount(patients_sessions)}')"
   ]
  },
  {
   "cell_type": "markdown",
   "id": "10f839ae",
   "metadata": {},
   "source": [
    "## Exercises length distribution"
   ]
  },
  {
   "cell_type": "code",
   "execution_count": 15,
   "id": "c5add7df",
   "metadata": {},
   "outputs": [],
   "source": [
    "def get_sessions_lengts(data):\n",
    "    lengths = []\n",
    "    for patient_id in data:\n",
    "        for session_id in data[patient_id]:\n",
    "            for exercise_id in data[patient_id][session_id]:\n",
    "                lengths.append(len(data[patient_id][session_id][exercise_id][0]['xs']))\n",
    "    return lengths"
   ]
  },
  {
   "cell_type": "code",
   "execution_count": 19,
   "id": "736c3dab",
   "metadata": {},
   "outputs": [
    {
     "name": "stdout",
     "output_type": "stream",
     "text": [
      "Number of exercises: 719\n"
     ]
    },
    {
     "data": {
      "image/png": "[encoded data removed]",
      "text/plain": [
       "<Figure size 200x200 with 1 Axes>"
      ]
     },
     "metadata": {},
     "output_type": "display_data"
    }
   ],
   "source": [
    "dist = get_sessions_lengts(patients_sessions)\n",
    "\n",
    "print(f'Number of exercises: {len(dist)}')\n",
    "\n",
    "fig, ax = plt.subplots(1, 1, tight_layout=True)\n",
    "ax.hist(dist, bins=50)\n",
    "plt.show()"
   ]
  },
  {
   "cell_type": "code",
   "execution_count": 20,
   "id": "a718285d",
   "metadata": {},
   "outputs": [],
   "source": [
    "def show_problematic_exercises(data, lower_limit=100):\n",
    "    lengths = []\n",
    "    for patient_id in data:\n",
    "        for session_id in data[patient_id]:\n",
    "            for exercise_id in data[patient_id][session_id]:\n",
    "                if len(data[patient_id][session_id][exercise_id][0]['xs']) < lower_limit:\n",
    "                    print(f'Short exercise: Patient {patient_id} Session {session_id} Exercise {exercise_id}')"
   ]
  },
  {
   "cell_type": "code",
   "execution_count": 21,
   "id": "c89a0026",
   "metadata": {},
   "outputs": [
    {
     "name": "stdout",
     "output_type": "stream",
     "text": [
      "Short exercise: Patient 2 Session 2 Exercise 1\n",
      "Short exercise: Patient 320 Session 320 Exercise 3\n",
      "Short exercise: Patient 119 Session 119 Exercise 1\n",
      "Short exercise: Patient 119 Session 119 Exercise 2\n",
      "Short exercise: Patient 308 Session 308 Exercise 6\n",
      "Short exercise: Patient 168 Session 168 Exercise 7\n",
      "Short exercise: Patient 168 Session 168 Exercise 4\n",
      "Short exercise: Patient 168 Session 168 Exercise 3\n",
      "Short exercise: Patient 104 Session 104 Exercise 2\n",
      "Short exercise: Patient 104 Session 104 Exercise 5\n"
     ]
    }
   ],
   "source": [
    "show_problematic_exercises(patients_sessions, lower_limit = 50)"
   ]
  },
  {
   "cell_type": "code",
   "execution_count": null,
   "id": "922db6c5",
   "metadata": {},
   "outputs": [],
   "source": []
  },
  {
   "cell_type": "code",
   "execution_count": null,
   "id": "8c284157",
   "metadata": {},
   "outputs": [],
   "source": []
  },
  {
   "cell_type": "code",
   "execution_count": null,
   "id": "d75b9672",
   "metadata": {},
   "outputs": [],
   "source": []
  }
 ],
 "metadata": {
  "kernelspec": {
   "display_name": "face-prognosis",
   "language": "python",
   "name": "face-prognosis"
  },
  "language_info": {
   "codemirror_mode": {
    "name": "ipython",
    "version": 3
   },
   "file_extension": ".py",
   "mimetype": "text/x-python",
   "name": "python",
   "nbconvert_exporter": "python",
   "pygments_lexer": "ipython3",
   "version": "3.8.13"
  }
 },
 "nbformat": 4,
 "nbformat_minor": 5
}
