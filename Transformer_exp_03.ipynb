{
 "cells": [
  {
   "cell_type": "markdown",
   "id": "c3ffceac",
   "metadata": {},
   "source": [
    "# Notes"
   ]
  },
  {
   "cell_type": "markdown",
   "id": "941fce85",
   "metadata": {},
   "source": [
    "Third iteration on the data - build transformer\n",
    "- read data from json \n",
    "- a training/test split shall be based on patients\n"
   ]
  },
  {
   "cell_type": "code",
   "execution_count": 1,
   "id": "2167fbdb",
   "metadata": {},
   "outputs": [],
   "source": [
    "import os \n",
    "import re\n",
    "import csv\n",
    "import json\n",
    "import random\n",
    "from datetime import datetime\n",
    "\n",
    "import math\n",
    "import pandas as pd\n",
    "import numpy as np\n",
    "import tensorflow as tf"
   ]
  },
  {
   "cell_type": "markdown",
   "id": "e8c2277c",
   "metadata": {},
   "source": [
    "# Constants"
   ]
  },
  {
   "cell_type": "code",
   "execution_count": 2,
   "id": "bb75db30",
   "metadata": {},
   "outputs": [],
   "source": [
    "SEQ_LEN = 500\n",
    "\n",
    "X_MAX = 362.850308418274\n",
    "X_MIN = -385.386139154434\n",
    "Y_MAX = 407.209008932114\n",
    "Y_MIN = -184.533506631851\n",
    "Z_MAX = 1414.35980796814\n",
    "Z_MIN = 465.504199266434\n",
    "\n",
    "N_CLASSES = 6"
   ]
  },
  {
   "cell_type": "code",
   "execution_count": 3,
   "id": "0d69a11f",
   "metadata": {},
   "outputs": [],
   "source": [
    "region = {\n",
    "    '0_LefteyeMidbottom': 'orbital', \n",
    "    '1_LefteyeMidtop': 'orbital',  \n",
    "    '2_LefteyeInnercorner': 'orbital', \n",
    "    '3_LefteyeOutercorner': 'orbital',  \n",
    "    '4_LefteyebrowInner': 'frontal', \n",
    "    '5_LefteyebrowCenter': 'frontal',  \n",
    "    '6_RighteyeMidbottom': 'orbital',  \n",
    "    '7_RighteyeMidtop': 'orbital', \n",
    "    '8_RighteyeInnercorner': 'orbital',  \n",
    "    '9_RighteyeOutercorner': 'orbital', \n",
    "    '10_RighteyebrowInner': 'frontal', \n",
    "    '11_RighteyebrowCenter': 'frontal',  \n",
    "    '12_NoseTip': 'nasal', \n",
    "    '13_MouthLowerlipMidbottom': 'oral',\n",
    "    '14_MouthLeftcorner': 'oral',\n",
    "    '15_MouthRightcorner': 'oral',\n",
    "    '16_MouthUpperlipMidtop': 'oral',\n",
    "    '17_ChinCenter': 'other', \n",
    "    '18_ForeheadCenter': 'frontal', \n",
    "    '19_LeftcheekCenter': 'other', \n",
    "    '20_RightcheekCenter': 'other',\n",
    "}\n",
    "\n",
    "pois_order = {\n",
    "    '0_LefteyeMidbottom': 0,\n",
    "    '1_LefteyeMidtop': 1,\n",
    "    '2_LefteyeInnercorner': 2,\n",
    "    '3_LefteyeOutercorner': 3,  \n",
    "    '6_RighteyeMidbottom': 4,  \n",
    "    '7_RighteyeMidtop': 5,\n",
    "    '8_RighteyeInnercorner': 6,  \n",
    "    '9_RighteyeOutercorner': 7,\n",
    "    '4_LefteyebrowInner': 8,\n",
    "    '5_LefteyebrowCenter': 8,\n",
    "    '18_ForeheadCenter': 10,\n",
    "    '10_RighteyebrowInner': 11,\n",
    "    '11_RighteyebrowCenter': 12,\n",
    "    '12_NoseTip': 13,\n",
    "    '13_MouthLowerlipMidbottom': 14,\n",
    "    '14_MouthLeftcorner': 15,\n",
    "    '15_MouthRightcorner': 16,\n",
    "    '16_MouthUpperlipMidtop': 17,\n",
    "    '17_ChinCenter': 18,\n",
    "    '19_LeftcheekCenter': 19,\n",
    "    '20_RightcheekCenter': 20,\n",
    "}"
   ]
  },
  {
   "cell_type": "code",
   "execution_count": 4,
   "id": "eed45b66",
   "metadata": {},
   "outputs": [],
   "source": [
    "dir_data_root = os.path.join('data')\n",
    "dir_data_source = os.path.join(dir_data_root, 'json')"
   ]
  },
  {
   "cell_type": "markdown",
   "id": "e544c090",
   "metadata": {},
   "source": [
    "# Data prep"
   ]
  },
  {
   "cell_type": "markdown",
   "id": "67ab6ece",
   "metadata": {},
   "source": [
    "Read every patien file in the target directory"
   ]
  },
  {
   "cell_type": "code",
   "execution_count": 5,
   "id": "256cd9d9",
   "metadata": {},
   "outputs": [
    {
     "name": "stdout",
     "output_type": "stream",
     "text": [
      "Loaded data for patient ID: 00000000082\n",
      "Loaded data for patient ID: 00000000057\n",
      "Loaded data for patient ID: 00000000000\n",
      "Loaded data for patient ID: 00000000016\n",
      "Loaded data for patient ID: 00000000041\n",
      "Loaded data for patient ID: 00000000036\n",
      "Loaded data for patient ID: 00000000061\n",
      "Loaded data for patient ID: 00000000077\n",
      "Loaded data for patient ID: 00000000020\n",
      "Loaded data for patient ID: 00000000076\n",
      "Loaded data for patient ID: 00000000060\n",
      "Loaded data for patient ID: 00000000037\n",
      "Loaded data for patient ID: 00000000040\n",
      "Loaded data for patient ID: 00000000017\n",
      "Loaded data for patient ID: 00000000001\n",
      "Loaded data for patient ID: 00000000056\n",
      "Loaded data for patient ID: 00000000083\n",
      "Loaded data for patient ID: 00000000030\n",
      "Loaded data for patient ID: 00000000067\n",
      "Loaded data for patient ID: 00000000071\n",
      "Loaded data for patient ID: 00000000026\n",
      "Loaded data for patient ID: 00000000051\n",
      "Loaded data for patient ID: 00000000006\n",
      "Loaded data for patient ID: 00000000010\n",
      "Loaded data for patient ID: 00000000047\n",
      "Loaded data for patient ID: 00000000046\n",
      "Loaded data for patient ID: 00000000011\n",
      "Loaded data for patient ID: 00000000007\n",
      "Loaded data for patient ID: 00000000050\n",
      "Loaded data for patient ID: 00000000085\n",
      "Loaded data for patient ID: 00000000027\n",
      "Loaded data for patient ID: 00000000070\n",
      "Loaded data for patient ID: 00000000066\n",
      "Loaded data for patient ID: 00000000031\n",
      "Loaded data for patient ID: 00000000049\n",
      "Loaded data for patient ID: 00000000008\n",
      "Loaded data for patient ID: 00000000073\n",
      "Loaded data for patient ID: 00000000065\n",
      "Loaded data for patient ID: 00000000032\n",
      "Loaded data for patient ID: 00000000045\n",
      "Loaded data for patient ID: 00000000012\n",
      "Loaded data for patient ID: 00000000004\n",
      "Loaded data for patient ID: 00000000053\n",
      "Loaded data for patient ID: 00000000028\n",
      "Loaded data for patient ID: 00000000069\n",
      "Loaded data for patient ID: 00000000068\n",
      "Loaded data for patient ID: 00000000029\n",
      "Loaded data for patient ID: 00000000052\n",
      "Loaded data for patient ID: 00000000005\n",
      "Loaded data for patient ID: 00000000013\n",
      "Loaded data for patient ID: 00000000044\n",
      "Loaded data for patient ID: 00000000033\n",
      "Loaded data for patient ID: 00000000064\n",
      "Loaded data for patient ID: 00000000072\n",
      "Loaded data for patient ID: 00000000025\n",
      "Loaded data for patient ID: 00000000009\n",
      "Loaded data for patient ID: 00000000048\n",
      "Loaded data for patient ID: 00000000043\n",
      "Loaded data for patient ID: 00000000014\n",
      "Loaded data for patient ID: 00000000002\n",
      "Loaded data for patient ID: 00000000055\n",
      "Loaded data for patient ID: 00000000079\n",
      "Loaded data for patient ID: 00000000080\n",
      "Loaded data for patient ID: 00000000038\n",
      "Loaded data for patient ID: 00000000018\n",
      "Loaded data for patient ID: 00000000059\n",
      "Loaded data for patient ID: 00000000022\n",
      "Loaded data for patient ID: 00000000075\n",
      "Loaded data for patient ID: 00000000063\n",
      "Loaded data for patient ID: 00000000034\n",
      "Loaded data for patient ID: 00000000035\n",
      "Loaded data for patient ID: 00000000074\n",
      "Loaded data for patient ID: 00000000023\n",
      "Loaded data for patient ID: 00000000058\n",
      "Loaded data for patient ID: 00000000019\n",
      "Loaded data for patient ID: 00000000039\n",
      "Loaded data for patient ID: 00000000081\n",
      "Loaded data for patient ID: 00000000078\n",
      "Loaded data for patient ID: 00000000003\n",
      "Loaded data for patient ID: 00000000015\n",
      "Loaded data for patient ID: 00000000042\n"
     ]
    }
   ],
   "source": [
    "data = {}\n",
    "\n",
    "for file_name in os.listdir(dir_data_source):\n",
    "    \n",
    "    patient_id = file_name.split('.')[0]\n",
    "    with open(os.path.join(dir_data_source, file_name)) as f:\n",
    "        data[patient_id] = json.load(f)\n",
    "        \n",
    "        print('Loaded data for patient ID: %s' % patient_id)  \n"
   ]
  },
  {
   "cell_type": "code",
   "execution_count": 6,
   "id": "f2029f30",
   "metadata": {},
   "outputs": [],
   "source": [
    "patients = list(data.keys())"
   ]
  },
  {
   "cell_type": "markdown",
   "id": "bda87fc2",
   "metadata": {},
   "source": [
    "# Classification"
   ]
  },
  {
   "cell_type": "markdown",
   "id": "5783fd9e",
   "metadata": {},
   "source": [
    "## Data set per session"
   ]
  },
  {
   "cell_type": "raw",
   "id": "91aa8d7d",
   "metadata": {},
   "source": [
    "session = {\n",
    "    'meta': {\n",
    "        'patient_id': str,\n",
    "        'exercise_dates': str,\n",
    "        'evaluation': int,\n",
    "        'flag_before_surgery': flag_before_surgery,\n",
    "    }\n",
    "    'exercises': [...]\n",
    "}\n",
    "\n",
    "exercise_data = {\n",
    "    'meta': {\n",
    "        'tag': str\n",
    "        'id': int\n",
    "        'name': str\n",
    "    },\n",
    "    'pois': [...]\n",
    "}\n",
    "poi_data = {\n",
    "    'meta': {\n",
    "        'tag': str\n",
    "        'id': int\n",
    "        'name': str\n",
    "        'region': str\n",
    "    },\n",
    "    'input': {\n",
    "        'x': []\n",
    "        'y': []\n",
    "        'z': []\n",
    "        'dist': []\n",
    "        'x_normalized': []\n",
    "        'y_normalized': []\n",
    "        'z_normalized': []\n",
    "        'dist_normalized': []\n",
    "        'direction_angles': []\n",
    "    }\n",
    "}"
   ]
  },
  {
   "cell_type": "markdown",
   "id": "8117bac7",
   "metadata": {},
   "source": [
    "## Data obseravation"
   ]
  },
  {
   "cell_type": "markdown",
   "id": "a7380378",
   "metadata": {},
   "source": [
    "Get length of all measurements individualy at POIs levels"
   ]
  },
  {
   "cell_type": "code",
   "execution_count": 7,
   "id": "4f7d62b8",
   "metadata": {},
   "outputs": [],
   "source": [
    "def key_pois(poi):\n",
    "    return pois_order[poi['meta']['tag']]"
   ]
  },
  {
   "cell_type": "code",
   "execution_count": 8,
   "id": "52afa3cc",
   "metadata": {},
   "outputs": [],
   "source": [
    "signal_lens = []\n",
    "for patient_id in data:\n",
    "    for session in data[patient_id]:\n",
    "        #print(patient_id)\n",
    "        for excercise in session['exercises']: \n",
    "            xs_excercise = []\n",
    "            pois_sorted = sorted(excercise['pois'], key = key_pois)\n",
    "            for poi in pois_sorted:\n",
    "                #print(len(poi['input']['x_normalized']))\n",
    "                signal_lens.append(len(poi['input']['x_normalized']))"
   ]
  },
  {
   "cell_type": "code",
   "execution_count": 9,
   "id": "a8a15199",
   "metadata": {},
   "outputs": [
    {
     "name": "stdout",
     "output_type": "stream",
     "text": [
      "There are 21609 sequences for pois\n"
     ]
    }
   ],
   "source": [
    "print('There are %s sequences for pois' % len(signal_lens))"
   ]
  },
  {
   "cell_type": "code",
   "execution_count": 10,
   "id": "68a257e3",
   "metadata": {},
   "outputs": [
    {
     "data": {
      "image/png": "[encoded data removed]",
      "text/plain": [
       "<Figure size 640x480 with 1 Axes>"
      ]
     },
     "metadata": {},
     "output_type": "display_data"
    }
   ],
   "source": [
    "import matplotlib.pyplot as plt\n",
    "%matplotlib inline\n",
    "\n",
    "#plt.rcParams.update({'figure.figsize':(7,5), 'figure.dpi':100})\n",
    "\n",
    "# Plot Histogram on x\n",
    "x = signal_lens\n",
    "plt.hist(x)\n",
    "plt.gca().set(title='Frequency Histogram', ylabel='Frequency');\n"
   ]
  },
  {
   "cell_type": "markdown",
   "id": "6ca3d18d",
   "metadata": {},
   "source": [
    "##### Build training set"
   ]
  },
  {
   "cell_type": "code",
   "execution_count": 11,
   "id": "e93312c7",
   "metadata": {},
   "outputs": [],
   "source": [
    "from tensorflow.keras.preprocessing.sequence import pad_sequences"
   ]
  },
  {
   "cell_type": "code",
   "execution_count": 61,
   "id": "85213ea8",
   "metadata": {},
   "outputs": [
    {
     "data": {
      "text/plain": [
       "81"
      ]
     },
     "execution_count": 61,
     "metadata": {},
     "output_type": "execute_result"
    }
   ],
   "source": [
    "random.shuffle(patients)\n",
    "\n",
    "len(patients)"
   ]
  },
  {
   "cell_type": "code",
   "execution_count": 69,
   "id": "6e7fd90c",
   "metadata": {},
   "outputs": [],
   "source": [
    "training_patients = patients[:72]\n",
    "validating_patients = []#patients[60:70]\n",
    "testing_patients = patients[72:]"
   ]
  },
  {
   "cell_type": "code",
   "execution_count": 70,
   "id": "1b18dabc",
   "metadata": {},
   "outputs": [],
   "source": [
    "def fill_inputs(target_patients):\n",
    "    target_xs = []\n",
    "    target_ys = []\n",
    "    \n",
    "    for patient_id in target_patients:\n",
    "        #print('Extracting sessions for patient: %s' % patient_id)\n",
    "\n",
    "        for session in data[patient_id]:\n",
    "            for excercise in session['exercises']: \n",
    "                xs_excercise = []\n",
    "                pois_sorted = sorted(excercise['pois'], key = key_pois)\n",
    "                for poi in pois_sorted:\n",
    "                    #xs_excercise.append(poi['input']['x'])\n",
    "                    #xs_excercise.append(poi['input']['y'])\n",
    "                    #xs_excercise.append(poi['input']['z'])\n",
    "                    #xs_excercise.append(poi['input']['dist'])\n",
    "                    xs_excercise.append(poi['input']['x_normalized'])\n",
    "                    xs_excercise.append(poi['input']['y_normalized'])\n",
    "                    xs_excercise.append(poi['input']['z_normalized'])\n",
    "                    xs_excercise.append(poi['input']['dist_normalized'])\n",
    "                    xs_excercise.append(poi['input']['direction_angles'])\n",
    "                    break\n",
    "                target_xs.append(pad_sequences(\n",
    "                    xs_excercise,\n",
    "                    padding=\"pre\",\n",
    "                    dtype = 'f',\n",
    "                    maxlen=SEQ_LEN))\n",
    "                target_ys.append(session['meta']['evaluation'] - 1)\n",
    "                break\n",
    "            \n",
    "    return target_xs, target_ys"
   ]
  },
  {
   "cell_type": "markdown",
   "id": "983cafaa",
   "metadata": {},
   "source": [
    "### Class weights"
   ]
  },
  {
   "cell_type": "code",
   "execution_count": 71,
   "id": "17e5558e",
   "metadata": {},
   "outputs": [],
   "source": [
    "from collections import Counter"
   ]
  },
  {
   "cell_type": "code",
   "execution_count": 72,
   "id": "4e729188",
   "metadata": {},
   "outputs": [
    {
     "name": "stdout",
     "output_type": "stream",
     "text": [
      "Counter({0: 53, 1: 15, 2: 13, 5: 11, 3: 5, 4: 5})\n",
      "{0: 0.32075471698113206, 2: 1.3076923076923077, 1: 1.1333333333333333, 3: 3.4, 5: 1.5454545454545454, 4: 3.4}\n"
     ]
    }
   ],
   "source": [
    "_, classes_in_training = fill_inputs(training_patients)\n",
    "\n",
    "freq_training_classes = Counter(classes_in_training) \n",
    "\n",
    "print(freq_training_classes)\n",
    "\n",
    "weight_training_classes = {}\n",
    "for class_id in freq_training_classes:\n",
    "    weight_training_classes[class_id] = len(classes_in_training) / (N_CLASSES * freq_training_classes[class_id])\n",
    "\n",
    "print(weight_training_classes)"
   ]
  },
  {
   "cell_type": "markdown",
   "id": "680a42e5",
   "metadata": {},
   "source": [
    "### Train, Val, Test sets generation"
   ]
  },
  {
   "cell_type": "code",
   "execution_count": 73,
   "id": "a93a7a24",
   "metadata": {},
   "outputs": [
    {
     "name": "stdout",
     "output_type": "stream",
     "text": [
      "(102, 5, 500)\n",
      "(102,)\n"
     ]
    }
   ],
   "source": [
    "xs_train, ys_train = fill_inputs(training_patients)\n",
    "\n",
    "xs_train = np.array(xs_train)\n",
    "ys_train = np.array(ys_train)\n",
    "\n",
    "print(xs_train.shape)\n",
    "print(ys_train.shape)"
   ]
  },
  {
   "cell_type": "code",
   "execution_count": 74,
   "id": "1fccf8a3",
   "metadata": {},
   "outputs": [
    {
     "name": "stdout",
     "output_type": "stream",
     "text": [
      "(0,)\n",
      "(0,)\n"
     ]
    }
   ],
   "source": [
    "xs_val, ys_val = fill_inputs(validating_patients)\n",
    "xs_val = np.array(xs_val)\n",
    "ys_val = np.array(ys_val)\n",
    "\n",
    "print(xs_val.shape)\n",
    "print(ys_val.shape)"
   ]
  },
  {
   "cell_type": "code",
   "execution_count": 75,
   "id": "dd802d90",
   "metadata": {},
   "outputs": [
    {
     "name": "stdout",
     "output_type": "stream",
     "text": [
      "(17, 5, 500)\n",
      "(17,)\n"
     ]
    }
   ],
   "source": [
    "xs_test, ys_test = fill_inputs(testing_patients)\n",
    "xs_test = np.array(xs_test)\n",
    "ys_test = np.array(ys_test)\n",
    "\n",
    "print(xs_test.shape)\n",
    "print(ys_test.shape)"
   ]
  },
  {
   "cell_type": "markdown",
   "id": "eeba3312",
   "metadata": {},
   "source": [
    "## Modeling"
   ]
  },
  {
   "cell_type": "code",
   "execution_count": 76,
   "id": "db63f1bb",
   "metadata": {},
   "outputs": [],
   "source": [
    "from tensorflow import keras\n",
    "from tensorflow.keras import layers"
   ]
  },
  {
   "cell_type": "code",
   "execution_count": 77,
   "id": "2af8fd54",
   "metadata": {},
   "outputs": [],
   "source": [
    "def transformer_encoder(inputs, head_size, num_heads, ff_dim, dropout=0):\n",
    "    # Normalization and Attention\n",
    "    x = layers.LayerNormalization(epsilon=1e-6)(inputs)\n",
    "    x = layers.MultiHeadAttention(\n",
    "        key_dim=head_size, num_heads=num_heads, dropout=dropout\n",
    "    )(x, x)\n",
    "    x = layers.Dropout(dropout)(x)\n",
    "    res = x + inputs\n",
    "\n",
    "    # Feed Forward Part\n",
    "    x = layers.LayerNormalization(epsilon=1e-6)(res)\n",
    "    x = layers.Conv1D(filters=ff_dim, kernel_size=1, activation=\"relu\")(x)\n",
    "    x = layers.Dropout(dropout)(x)\n",
    "    x = layers.Conv1D(filters=inputs.shape[-1], kernel_size=1)(x)\n",
    "    return x + res"
   ]
  },
  {
   "cell_type": "code",
   "execution_count": 78,
   "id": "d4003dda",
   "metadata": {},
   "outputs": [],
   "source": [
    "def build_model(\n",
    "    input_shape,\n",
    "    head_size,\n",
    "    num_heads,\n",
    "    ff_dim,\n",
    "    num_transformer_blocks,\n",
    "    mlp_units,\n",
    "    dropout=0,\n",
    "    mlp_dropout=0,\n",
    "):\n",
    "    inputs = keras.Input(shape=input_shape)\n",
    "    x = inputs\n",
    "    for _ in range(num_transformer_blocks):\n",
    "        x = transformer_encoder(x, head_size, num_heads, ff_dim, dropout)\n",
    "\n",
    "    x = layers.GlobalAveragePooling1D(data_format=\"channels_first\")(x)\n",
    "    for dim in mlp_units:\n",
    "        x = layers.Dense(dim, activation=\"relu\")(x)\n",
    "        x = layers.Dropout(mlp_dropout)(x)\n",
    "    outputs = layers.Dense(N_CLASSES, activation=\"softmax\")(x)\n",
    "    return keras.Model(inputs, outputs)"
   ]
  },
  {
   "cell_type": "code",
   "execution_count": 80,
   "id": "d190d35a",
   "metadata": {},
   "outputs": [
    {
     "name": "stdout",
     "output_type": "stream",
     "text": [
      "Input shape: (5, 500)\n",
      "Model: \"model_7\"\n",
      "__________________________________________________________________________________________________\n",
      " Layer (type)                   Output Shape         Param #     Connected to                     \n",
      "==================================================================================================\n",
      " input_9 (InputLayer)           [(None, 5, 500)]     0           []                               \n",
      "                                                                                                  \n",
      " layer_normalization_16 (LayerN  (None, 5, 500)      1000        ['input_9[0][0]']                \n",
      " ormalization)                                                                                    \n",
      "                                                                                                  \n",
      " multi_head_attention_8 (MultiH  (None, 5, 500)      2051572     ['layer_normalization_16[0][0]', \n",
      " eadAttention)                                                    'layer_normalization_16[0][0]'] \n",
      "                                                                                                  \n",
      " dropout_18 (Dropout)           (None, 5, 500)       0           ['multi_head_attention_8[0][0]'] \n",
      "                                                                                                  \n",
      " tf.__operators__.add_16 (TFOpL  (None, 5, 500)      0           ['dropout_18[0][0]',             \n",
      " ambda)                                                           'input_9[0][0]']                \n",
      "                                                                                                  \n",
      " layer_normalization_17 (LayerN  (None, 5, 500)      1000        ['tf.__operators__.add_16[0][0]']\n",
      " ormalization)                                                                                    \n",
      "                                                                                                  \n",
      " conv1d_16 (Conv1D)             (None, 5, 4)         2004        ['layer_normalization_17[0][0]'] \n",
      "                                                                                                  \n",
      " dropout_19 (Dropout)           (None, 5, 4)         0           ['conv1d_16[0][0]']              \n",
      "                                                                                                  \n",
      " conv1d_17 (Conv1D)             (None, 5, 500)       2500        ['dropout_19[0][0]']             \n",
      "                                                                                                  \n",
      " tf.__operators__.add_17 (TFOpL  (None, 5, 500)      0           ['conv1d_17[0][0]',              \n",
      " ambda)                                                           'tf.__operators__.add_16[0][0]']\n",
      "                                                                                                  \n",
      " layer_normalization_18 (LayerN  (None, 5, 500)      1000        ['tf.__operators__.add_17[0][0]']\n",
      " ormalization)                                                                                    \n",
      "                                                                                                  \n",
      " multi_head_attention_9 (MultiH  (None, 5, 500)      2051572     ['layer_normalization_18[0][0]', \n",
      " eadAttention)                                                    'layer_normalization_18[0][0]'] \n",
      "                                                                                                  \n",
      " dropout_20 (Dropout)           (None, 5, 500)       0           ['multi_head_attention_9[0][0]'] \n",
      "                                                                                                  \n",
      " tf.__operators__.add_18 (TFOpL  (None, 5, 500)      0           ['dropout_20[0][0]',             \n",
      " ambda)                                                           'tf.__operators__.add_17[0][0]']\n",
      "                                                                                                  \n",
      " layer_normalization_19 (LayerN  (None, 5, 500)      1000        ['tf.__operators__.add_18[0][0]']\n",
      " ormalization)                                                                                    \n",
      "                                                                                                  \n",
      " conv1d_18 (Conv1D)             (None, 5, 4)         2004        ['layer_normalization_19[0][0]'] \n",
      "                                                                                                  \n",
      " dropout_21 (Dropout)           (None, 5, 4)         0           ['conv1d_18[0][0]']              \n",
      "                                                                                                  \n",
      " conv1d_19 (Conv1D)             (None, 5, 500)       2500        ['dropout_21[0][0]']             \n",
      "                                                                                                  \n",
      " tf.__operators__.add_19 (TFOpL  (None, 5, 500)      0           ['conv1d_19[0][0]',              \n",
      " ambda)                                                           'tf.__operators__.add_18[0][0]']\n",
      "                                                                                                  \n",
      " layer_normalization_20 (LayerN  (None, 5, 500)      1000        ['tf.__operators__.add_19[0][0]']\n",
      " ormalization)                                                                                    \n",
      "                                                                                                  \n",
      " multi_head_attention_10 (Multi  (None, 5, 500)      2051572     ['layer_normalization_20[0][0]', \n",
      " HeadAttention)                                                   'layer_normalization_20[0][0]'] \n",
      "                                                                                                  \n",
      " dropout_22 (Dropout)           (None, 5, 500)       0           ['multi_head_attention_10[0][0]']\n",
      "                                                                                                  \n",
      " tf.__operators__.add_20 (TFOpL  (None, 5, 500)      0           ['dropout_22[0][0]',             \n",
      " ambda)                                                           'tf.__operators__.add_19[0][0]']\n",
      "                                                                                                  \n",
      " layer_normalization_21 (LayerN  (None, 5, 500)      1000        ['tf.__operators__.add_20[0][0]']\n",
      " ormalization)                                                                                    \n",
      "                                                                                                  \n",
      " conv1d_20 (Conv1D)             (None, 5, 4)         2004        ['layer_normalization_21[0][0]'] \n",
      "                                                                                                  \n",
      " dropout_23 (Dropout)           (None, 5, 4)         0           ['conv1d_20[0][0]']              \n",
      "                                                                                                  \n",
      " conv1d_21 (Conv1D)             (None, 5, 500)       2500        ['dropout_23[0][0]']             \n",
      "                                                                                                  \n",
      " tf.__operators__.add_21 (TFOpL  (None, 5, 500)      0           ['conv1d_21[0][0]',              \n",
      " ambda)                                                           'tf.__operators__.add_20[0][0]']\n",
      "                                                                                                  \n",
      " layer_normalization_22 (LayerN  (None, 5, 500)      1000        ['tf.__operators__.add_21[0][0]']\n",
      " ormalization)                                                                                    \n",
      "                                                                                                  \n",
      " multi_head_attention_11 (Multi  (None, 5, 500)      2051572     ['layer_normalization_22[0][0]', \n",
      " HeadAttention)                                                   'layer_normalization_22[0][0]'] \n",
      "                                                                                                  \n",
      " dropout_24 (Dropout)           (None, 5, 500)       0           ['multi_head_attention_11[0][0]']\n",
      "                                                                                                  \n",
      " tf.__operators__.add_22 (TFOpL  (None, 5, 500)      0           ['dropout_24[0][0]',             \n"
     ]
    },
    {
     "name": "stdout",
     "output_type": "stream",
     "text": [
      " ambda)                                                           'tf.__operators__.add_21[0][0]']\n",
      "                                                                                                  \n",
      " layer_normalization_23 (LayerN  (None, 5, 500)      1000        ['tf.__operators__.add_22[0][0]']\n",
      " ormalization)                                                                                    \n",
      "                                                                                                  \n",
      " conv1d_22 (Conv1D)             (None, 5, 4)         2004        ['layer_normalization_23[0][0]'] \n",
      "                                                                                                  \n",
      " dropout_25 (Dropout)           (None, 5, 4)         0           ['conv1d_22[0][0]']              \n",
      "                                                                                                  \n",
      " conv1d_23 (Conv1D)             (None, 5, 500)       2500        ['dropout_25[0][0]']             \n",
      "                                                                                                  \n",
      " tf.__operators__.add_23 (TFOpL  (None, 5, 500)      0           ['conv1d_23[0][0]',              \n",
      " ambda)                                                           'tf.__operators__.add_22[0][0]']\n",
      "                                                                                                  \n",
      " global_average_pooling1d_2 (Gl  (None, 5)           0           ['tf.__operators__.add_23[0][0]']\n",
      " obalAveragePooling1D)                                                                            \n",
      "                                                                                                  \n",
      " dense_10 (Dense)               (None, 128)          768         ['global_average_pooling1d_2[0][0\n",
      "                                                                 ]']                              \n",
      "                                                                                                  \n",
      " dropout_26 (Dropout)           (None, 128)          0           ['dense_10[0][0]']               \n",
      "                                                                                                  \n",
      " dense_11 (Dense)               (None, 6)            774         ['dropout_26[0][0]']             \n",
      "                                                                                                  \n",
      "==================================================================================================\n",
      "Total params: 8,233,846\n",
      "Trainable params: 8,233,846\n",
      "Non-trainable params: 0\n",
      "__________________________________________________________________________________________________\n"
     ]
    },
    {
     "name": "stderr",
     "output_type": "stream",
     "text": [
      "/Users/alanchen/.local/share/virtualenvs/research-face-excercises-dynamics-o_HFBNSW/lib/python3.8/site-packages/keras/optimizers/optimizer_v2/adam.py:114: UserWarning: The `lr` argument is deprecated, use `learning_rate` instead.\n",
      "  super().__init__(name, **kwargs)\n"
     ]
    }
   ],
   "source": [
    "input_shape = xs_train.shape[1:]\n",
    "print('Input shape: %s' % (str(input_shape)))\n",
    "\n",
    "xs_input = layers.Input(shape=input_shape)\n",
    "\n",
    "model = build_model(\n",
    "    input_shape,\n",
    "    head_size=256,\n",
    "    num_heads=4,\n",
    "    ff_dim=4,\n",
    "    num_transformer_blocks=4,\n",
    "    mlp_units=[128],\n",
    "    mlp_dropout=0.4,\n",
    "    dropout=0.25\n",
    ")\n",
    "\n",
    "\n",
    "\n",
    "#x = layers.LSTM(32, activation=\"relu\")(xs_input)\n",
    "#x = layers.Flatten()(xs_input)\n",
    "#x = layers.Dense(16, activation=\"relu\")(x)\n",
    "#x = layers.Dense(6)(x)\n",
    "#model = keras.Model(inputs=xs_input, outputs=x)\n",
    "\n",
    "model.compile(\n",
    "    loss=\"sparse_categorical_crossentropy\", \n",
    "    optimizer=keras.optimizers.Adam(lr=1e-3, decay=1e-3 / 200),\n",
    "    metrics=['accuracy']\n",
    ")\n",
    "\n",
    "model.summary()\n",
    "\n",
    "callbacks = [keras.callbacks.EarlyStopping(patience=10, restore_best_weights=True)]"
   ]
  },
  {
   "cell_type": "code",
   "execution_count": 82,
   "id": "6660fae2",
   "metadata": {},
   "outputs": [
    {
     "name": "stdout",
     "output_type": "stream",
     "text": [
      "Epoch 1/200\n",
      "2/2 [==============================] - 0s 112ms/step - loss: 0.4242 - accuracy: 0.8137\n",
      "Epoch 2/200\n",
      "2/2 [==============================] - 0s 115ms/step - loss: 0.5674 - accuracy: 0.7157\n",
      "Epoch 3/200\n",
      "2/2 [==============================] - 0s 112ms/step - loss: 0.4840 - accuracy: 0.7353\n",
      "Epoch 4/200\n",
      "2/2 [==============================] - 0s 112ms/step - loss: 0.3363 - accuracy: 0.8627\n",
      "Epoch 5/200\n",
      "2/2 [==============================] - 0s 114ms/step - loss: 0.4819 - accuracy: 0.7451\n",
      "Epoch 6/200\n",
      "2/2 [==============================] - 0s 108ms/step - loss: 0.3996 - accuracy: 0.8235\n",
      "Epoch 7/200\n",
      "2/2 [==============================] - 0s 110ms/step - loss: 0.8500 - accuracy: 0.8235\n",
      "Epoch 8/200\n",
      "2/2 [==============================] - 0s 112ms/step - loss: 0.4247 - accuracy: 0.8137\n",
      "Epoch 9/200\n",
      "2/2 [==============================] - 0s 109ms/step - loss: 0.5569 - accuracy: 0.7255\n",
      "Epoch 10/200\n",
      "2/2 [==============================] - 0s 107ms/step - loss: 0.3227 - accuracy: 0.7745\n",
      "Epoch 11/200\n",
      "2/2 [==============================] - 0s 112ms/step - loss: 0.3939 - accuracy: 0.7843\n",
      "Epoch 12/200\n",
      "2/2 [==============================] - 0s 114ms/step - loss: 0.5622 - accuracy: 0.7451\n",
      "Epoch 13/200\n",
      "2/2 [==============================] - 0s 110ms/step - loss: 0.4644 - accuracy: 0.8431\n",
      "Epoch 14/200\n",
      "2/2 [==============================] - 0s 113ms/step - loss: 0.4065 - accuracy: 0.7549\n",
      "Epoch 15/200\n",
      "2/2 [==============================] - 0s 113ms/step - loss: 0.5210 - accuracy: 0.7647\n",
      "Epoch 16/200\n",
      "2/2 [==============================] - 0s 115ms/step - loss: 0.4165 - accuracy: 0.8235\n",
      "Epoch 17/200\n",
      "2/2 [==============================] - 0s 115ms/step - loss: 0.4984 - accuracy: 0.7451\n",
      "Epoch 18/200\n",
      "2/2 [==============================] - 0s 117ms/step - loss: 0.6064 - accuracy: 0.7255\n",
      "Epoch 19/200\n",
      "2/2 [==============================] - 0s 125ms/step - loss: 0.4053 - accuracy: 0.7843\n",
      "Epoch 20/200\n",
      "2/2 [==============================] - 0s 127ms/step - loss: 0.3694 - accuracy: 0.8431\n",
      "Epoch 21/200\n",
      "2/2 [==============================] - 0s 122ms/step - loss: 0.3941 - accuracy: 0.7745\n",
      "Epoch 22/200\n",
      "2/2 [==============================] - 0s 139ms/step - loss: 0.4148 - accuracy: 0.7843\n",
      "Epoch 23/200\n",
      "2/2 [==============================] - 0s 126ms/step - loss: 0.3685 - accuracy: 0.8039\n",
      "Epoch 24/200\n",
      "2/2 [==============================] - 0s 137ms/step - loss: 0.3653 - accuracy: 0.7941\n",
      "Epoch 25/200\n",
      "2/2 [==============================] - 0s 125ms/step - loss: 0.5473 - accuracy: 0.7157\n",
      "Epoch 26/200\n",
      "2/2 [==============================] - 0s 114ms/step - loss: 0.4250 - accuracy: 0.7157\n",
      "Epoch 27/200\n",
      "2/2 [==============================] - 0s 123ms/step - loss: 0.3545 - accuracy: 0.8235\n",
      "Epoch 28/200\n",
      "2/2 [==============================] - 0s 112ms/step - loss: 0.3596 - accuracy: 0.8529\n",
      "Epoch 29/200\n",
      "2/2 [==============================] - 0s 113ms/step - loss: 0.3493 - accuracy: 0.8137\n",
      "Epoch 30/200\n",
      "2/2 [==============================] - 0s 115ms/step - loss: 0.3604 - accuracy: 0.8333\n",
      "Epoch 31/200\n",
      "2/2 [==============================] - 0s 114ms/step - loss: 0.3231 - accuracy: 0.8529\n",
      "Epoch 32/200\n",
      "2/2 [==============================] - 0s 118ms/step - loss: 0.4267 - accuracy: 0.8137\n",
      "Epoch 33/200\n",
      "2/2 [==============================] - 0s 122ms/step - loss: 0.6126 - accuracy: 0.7549\n",
      "Epoch 34/200\n",
      "2/2 [==============================] - 0s 112ms/step - loss: 0.6922 - accuracy: 0.7255\n",
      "Epoch 35/200\n",
      "2/2 [==============================] - 0s 117ms/step - loss: 0.4602 - accuracy: 0.7647\n",
      "Epoch 36/200\n",
      "2/2 [==============================] - 0s 123ms/step - loss: 0.3362 - accuracy: 0.7941\n",
      "Epoch 37/200\n",
      "2/2 [==============================] - 0s 112ms/step - loss: 0.4499 - accuracy: 0.8137\n",
      "Epoch 38/200\n",
      "2/2 [==============================] - 0s 121ms/step - loss: 0.3443 - accuracy: 0.8137\n",
      "Epoch 39/200\n",
      "2/2 [==============================] - 0s 120ms/step - loss: 0.3564 - accuracy: 0.8039\n",
      "Epoch 40/200\n",
      "2/2 [==============================] - 0s 139ms/step - loss: 0.3409 - accuracy: 0.7941\n",
      "Epoch 41/200\n",
      "2/2 [==============================] - 0s 127ms/step - loss: 0.2879 - accuracy: 0.8529\n",
      "Epoch 42/200\n",
      "2/2 [==============================] - 0s 117ms/step - loss: 0.4316 - accuracy: 0.8235\n",
      "Epoch 43/200\n",
      "2/2 [==============================] - 0s 125ms/step - loss: 0.3154 - accuracy: 0.8039\n",
      "Epoch 44/200\n",
      "2/2 [==============================] - 0s 124ms/step - loss: 0.3057 - accuracy: 0.8333\n",
      "Epoch 45/200\n",
      "2/2 [==============================] - 0s 124ms/step - loss: 0.3476 - accuracy: 0.8235\n",
      "Epoch 46/200\n",
      "2/2 [==============================] - 0s 120ms/step - loss: 0.4231 - accuracy: 0.8529\n",
      "Epoch 47/200\n",
      "2/2 [==============================] - 0s 113ms/step - loss: 0.3288 - accuracy: 0.8431\n",
      "Epoch 48/200\n",
      "2/2 [==============================] - 0s 111ms/step - loss: 0.3219 - accuracy: 0.8627\n",
      "Epoch 49/200\n",
      "2/2 [==============================] - 0s 120ms/step - loss: 0.4109 - accuracy: 0.7549\n",
      "Epoch 50/200\n",
      "2/2 [==============================] - 0s 118ms/step - loss: 0.2981 - accuracy: 0.8431\n",
      "Epoch 51/200\n",
      "2/2 [==============================] - 0s 126ms/step - loss: 0.2755 - accuracy: 0.8529\n",
      "Epoch 52/200\n",
      "2/2 [==============================] - 0s 117ms/step - loss: 0.2702 - accuracy: 0.8627\n",
      "Epoch 53/200\n",
      "2/2 [==============================] - 0s 115ms/step - loss: 0.3010 - accuracy: 0.8627\n",
      "Epoch 54/200\n",
      "2/2 [==============================] - 0s 112ms/step - loss: 0.2815 - accuracy: 0.8824\n",
      "Epoch 55/200\n",
      "2/2 [==============================] - 0s 114ms/step - loss: 0.3743 - accuracy: 0.8333\n",
      "Epoch 56/200\n",
      "2/2 [==============================] - 0s 110ms/step - loss: 0.3582 - accuracy: 0.8333\n",
      "Epoch 57/200\n",
      "2/2 [==============================] - 0s 114ms/step - loss: 0.3211 - accuracy: 0.7941\n",
      "Epoch 58/200\n",
      "2/2 [==============================] - 0s 118ms/step - loss: 0.3268 - accuracy: 0.8039\n",
      "Epoch 59/200\n",
      "2/2 [==============================] - 0s 119ms/step - loss: 0.3057 - accuracy: 0.8627\n",
      "Epoch 60/200\n",
      "2/2 [==============================] - 0s 117ms/step - loss: 0.2861 - accuracy: 0.8235\n",
      "Epoch 61/200\n",
      "2/2 [==============================] - 0s 118ms/step - loss: 0.2445 - accuracy: 0.8529\n",
      "Epoch 62/200\n",
      "2/2 [==============================] - 0s 113ms/step - loss: 0.2982 - accuracy: 0.8922\n",
      "Epoch 63/200\n",
      "2/2 [==============================] - 0s 118ms/step - loss: 0.1893 - accuracy: 0.9412\n",
      "Epoch 64/200\n",
      "2/2 [==============================] - 0s 116ms/step - loss: 0.2616 - accuracy: 0.9020\n",
      "Epoch 65/200\n",
      "2/2 [==============================] - 0s 130ms/step - loss: 0.3168 - accuracy: 0.8529\n",
      "Epoch 66/200\n",
      "2/2 [==============================] - 0s 131ms/step - loss: 0.2366 - accuracy: 0.8529\n",
      "Epoch 67/200\n",
      "2/2 [==============================] - 0s 124ms/step - loss: 0.2320 - accuracy: 0.8529\n",
      "Epoch 68/200\n",
      "2/2 [==============================] - 0s 122ms/step - loss: 0.2144 - accuracy: 0.9412\n",
      "Epoch 69/200\n",
      "2/2 [==============================] - 0s 110ms/step - loss: 0.2731 - accuracy: 0.8824\n",
      "Epoch 70/200\n",
      "2/2 [==============================] - 0s 119ms/step - loss: 0.2376 - accuracy: 0.8333\n",
      "Epoch 71/200\n",
      "2/2 [==============================] - 0s 120ms/step - loss: 0.2318 - accuracy: 0.8333\n",
      "Epoch 72/200\n",
      "2/2 [==============================] - 0s 112ms/step - loss: 0.1890 - accuracy: 0.9020\n",
      "Epoch 73/200\n",
      "2/2 [==============================] - 0s 124ms/step - loss: 0.2096 - accuracy: 0.9314\n",
      "Epoch 74/200\n",
      "2/2 [==============================] - 0s 122ms/step - loss: 0.5013 - accuracy: 0.8529\n",
      "Epoch 75/200\n",
      "2/2 [==============================] - 0s 129ms/step - loss: 0.2650 - accuracy: 0.8235\n",
      "Epoch 76/200\n",
      "2/2 [==============================] - 0s 118ms/step - loss: 0.3644 - accuracy: 0.8529\n",
      "Epoch 77/200\n",
      "2/2 [==============================] - 0s 116ms/step - loss: 0.2159 - accuracy: 0.8922\n",
      "Epoch 78/200\n",
      "2/2 [==============================] - 0s 118ms/step - loss: 0.3470 - accuracy: 0.8333\n",
      "Epoch 79/200\n",
      "2/2 [==============================] - 0s 119ms/step - loss: 0.3501 - accuracy: 0.8627\n",
      "Epoch 80/200\n",
      "2/2 [==============================] - 0s 115ms/step - loss: 0.2534 - accuracy: 0.8824\n",
      "Epoch 81/200\n",
      "2/2 [==============================] - 0s 115ms/step - loss: 0.2482 - accuracy: 0.8529\n",
      "Epoch 82/200\n",
      "2/2 [==============================] - 0s 123ms/step - loss: 0.3058 - accuracy: 0.8922\n",
      "Epoch 83/200\n"
     ]
    },
    {
     "name": "stdout",
     "output_type": "stream",
     "text": [
      "2/2 [==============================] - 0s 112ms/step - loss: 0.2688 - accuracy: 0.8431\n",
      "Epoch 84/200\n",
      "2/2 [==============================] - 0s 121ms/step - loss: 0.2765 - accuracy: 0.8725\n",
      "Epoch 85/200\n",
      "2/2 [==============================] - 0s 112ms/step - loss: 0.4756 - accuracy: 0.7549\n",
      "Epoch 86/200\n",
      "2/2 [==============================] - 0s 120ms/step - loss: 0.3563 - accuracy: 0.8725\n",
      "Epoch 87/200\n",
      "2/2 [==============================] - 0s 117ms/step - loss: 0.3522 - accuracy: 0.8431\n",
      "Epoch 88/200\n",
      "2/2 [==============================] - 0s 113ms/step - loss: 0.3732 - accuracy: 0.7843\n",
      "Epoch 89/200\n",
      "2/2 [==============================] - 0s 106ms/step - loss: 0.3274 - accuracy: 0.8529\n",
      "Epoch 90/200\n",
      "2/2 [==============================] - 0s 111ms/step - loss: 0.4139 - accuracy: 0.7745\n",
      "Epoch 91/200\n",
      "2/2 [==============================] - 0s 118ms/step - loss: 0.2163 - accuracy: 0.8627\n",
      "Epoch 92/200\n",
      "2/2 [==============================] - 0s 106ms/step - loss: 0.4091 - accuracy: 0.7353\n",
      "Epoch 93/200\n",
      "2/2 [==============================] - 0s 111ms/step - loss: 0.2662 - accuracy: 0.8627\n",
      "Epoch 94/200\n",
      "2/2 [==============================] - 0s 110ms/step - loss: 0.3224 - accuracy: 0.8137\n",
      "Epoch 95/200\n",
      "2/2 [==============================] - 0s 106ms/step - loss: 0.2528 - accuracy: 0.8725\n",
      "Epoch 96/200\n",
      "2/2 [==============================] - 0s 116ms/step - loss: 0.2489 - accuracy: 0.8529\n",
      "Epoch 97/200\n",
      "2/2 [==============================] - 0s 113ms/step - loss: 0.2318 - accuracy: 0.8922\n",
      "Epoch 98/200\n",
      "2/2 [==============================] - 0s 119ms/step - loss: 0.2220 - accuracy: 0.8824\n",
      "Epoch 99/200\n",
      "2/2 [==============================] - 0s 117ms/step - loss: 0.2848 - accuracy: 0.8529\n",
      "Epoch 100/200\n",
      "2/2 [==============================] - 0s 114ms/step - loss: 0.2256 - accuracy: 0.8922\n",
      "Epoch 101/200\n",
      "2/2 [==============================] - 0s 118ms/step - loss: 0.2582 - accuracy: 0.8725\n",
      "Epoch 102/200\n",
      "2/2 [==============================] - 0s 119ms/step - loss: 0.2967 - accuracy: 0.8431\n",
      "Epoch 103/200\n",
      "2/2 [==============================] - 0s 122ms/step - loss: 0.2018 - accuracy: 0.9412\n",
      "Epoch 104/200\n",
      "2/2 [==============================] - 0s 129ms/step - loss: 0.1867 - accuracy: 0.9118\n",
      "Epoch 105/200\n",
      "2/2 [==============================] - 0s 114ms/step - loss: 0.1057 - accuracy: 0.9608\n",
      "Epoch 106/200\n",
      "2/2 [==============================] - 0s 114ms/step - loss: 0.1238 - accuracy: 0.9314\n",
      "Epoch 107/200\n",
      "2/2 [==============================] - 0s 113ms/step - loss: 0.0979 - accuracy: 0.9902\n",
      "Epoch 108/200\n",
      "2/2 [==============================] - 0s 113ms/step - loss: 0.1625 - accuracy: 0.9314\n",
      "Epoch 109/200\n",
      "2/2 [==============================] - 0s 109ms/step - loss: 0.1148 - accuracy: 0.9608\n",
      "Epoch 110/200\n",
      "2/2 [==============================] - 0s 106ms/step - loss: 0.1438 - accuracy: 0.9216\n",
      "Epoch 111/200\n",
      "2/2 [==============================] - 0s 105ms/step - loss: 0.1781 - accuracy: 0.9020\n",
      "Epoch 112/200\n",
      "2/2 [==============================] - 0s 108ms/step - loss: 0.1131 - accuracy: 0.9608\n",
      "Epoch 113/200\n",
      "2/2 [==============================] - 0s 114ms/step - loss: 0.1206 - accuracy: 0.9216\n",
      "Epoch 114/200\n",
      "2/2 [==============================] - 0s 110ms/step - loss: 0.1898 - accuracy: 0.9314\n",
      "Epoch 115/200\n",
      "2/2 [==============================] - 0s 108ms/step - loss: 0.1427 - accuracy: 0.9314\n",
      "Epoch 116/200\n",
      "2/2 [==============================] - 0s 116ms/step - loss: 0.1359 - accuracy: 0.9020\n",
      "Epoch 117/200\n",
      "2/2 [==============================] - 0s 111ms/step - loss: 0.1723 - accuracy: 0.8922\n",
      "Epoch 118/200\n",
      "2/2 [==============================] - 0s 115ms/step - loss: 0.2090 - accuracy: 0.9216\n",
      "Epoch 119/200\n",
      "2/2 [==============================] - 0s 110ms/step - loss: 0.1985 - accuracy: 0.9020\n",
      "Epoch 120/200\n",
      "2/2 [==============================] - 0s 109ms/step - loss: 0.2086 - accuracy: 0.9118\n",
      "Epoch 121/200\n",
      "2/2 [==============================] - 0s 108ms/step - loss: 0.1779 - accuracy: 0.9216\n",
      "Epoch 122/200\n",
      "2/2 [==============================] - 0s 106ms/step - loss: 0.1945 - accuracy: 0.8824\n",
      "Epoch 123/200\n",
      "2/2 [==============================] - 0s 108ms/step - loss: 0.1617 - accuracy: 0.9412\n",
      "Epoch 124/200\n",
      "2/2 [==============================] - 0s 114ms/step - loss: 0.2198 - accuracy: 0.8922\n",
      "Epoch 125/200\n",
      "2/2 [==============================] - 0s 111ms/step - loss: 0.2415 - accuracy: 0.9216\n",
      "Epoch 126/200\n",
      "2/2 [==============================] - 0s 115ms/step - loss: 0.1353 - accuracy: 0.9118\n",
      "Epoch 127/200\n",
      "2/2 [==============================] - 0s 110ms/step - loss: 0.1851 - accuracy: 0.9118\n",
      "Epoch 128/200\n",
      "2/2 [==============================] - 0s 112ms/step - loss: 0.1913 - accuracy: 0.8824\n",
      "Epoch 129/200\n",
      "2/2 [==============================] - 0s 113ms/step - loss: 0.1665 - accuracy: 0.9118\n",
      "Epoch 130/200\n",
      "2/2 [==============================] - 0s 107ms/step - loss: 0.1866 - accuracy: 0.9314\n",
      "Epoch 131/200\n",
      "2/2 [==============================] - 0s 109ms/step - loss: 0.1475 - accuracy: 0.9314\n",
      "Epoch 132/200\n",
      "2/2 [==============================] - 0s 119ms/step - loss: 0.1133 - accuracy: 0.9510\n",
      "Epoch 133/200\n",
      "2/2 [==============================] - 0s 111ms/step - loss: 0.1843 - accuracy: 0.9020\n",
      "Epoch 134/200\n",
      "2/2 [==============================] - 0s 128ms/step - loss: 0.1662 - accuracy: 0.9216\n",
      "Epoch 135/200\n",
      "2/2 [==============================] - 0s 115ms/step - loss: 0.1076 - accuracy: 0.9412\n",
      "Epoch 136/200\n",
      "2/2 [==============================] - 0s 114ms/step - loss: 0.1442 - accuracy: 0.9118\n",
      "Epoch 137/200\n",
      "2/2 [==============================] - 0s 117ms/step - loss: 0.1031 - accuracy: 0.9510\n",
      "Epoch 138/200\n",
      "2/2 [==============================] - 0s 112ms/step - loss: 0.1289 - accuracy: 0.9314\n",
      "Epoch 139/200\n",
      "2/2 [==============================] - 0s 111ms/step - loss: 0.1254 - accuracy: 0.9412\n",
      "Epoch 140/200\n",
      "2/2 [==============================] - 0s 113ms/step - loss: 0.1089 - accuracy: 0.9510\n",
      "Epoch 141/200\n",
      "2/2 [==============================] - 0s 116ms/step - loss: 0.1193 - accuracy: 0.9510\n",
      "Epoch 142/200\n",
      "2/2 [==============================] - 0s 116ms/step - loss: 0.1111 - accuracy: 0.9216\n",
      "Epoch 143/200\n",
      "2/2 [==============================] - 0s 112ms/step - loss: 0.1486 - accuracy: 0.9216\n",
      "Epoch 144/200\n",
      "2/2 [==============================] - 0s 120ms/step - loss: 0.1292 - accuracy: 0.9020\n",
      "Epoch 145/200\n",
      "2/2 [==============================] - 0s 117ms/step - loss: 0.0580 - accuracy: 0.9510\n",
      "Epoch 146/200\n",
      "2/2 [==============================] - 0s 115ms/step - loss: 0.1743 - accuracy: 0.9020\n",
      "Epoch 147/200\n",
      "2/2 [==============================] - 0s 111ms/step - loss: 0.0742 - accuracy: 0.9706\n",
      "Epoch 148/200\n",
      "2/2 [==============================] - 0s 113ms/step - loss: 0.0642 - accuracy: 0.9706\n",
      "Epoch 149/200\n",
      "2/2 [==============================] - 0s 117ms/step - loss: 0.1189 - accuracy: 0.9314\n",
      "Epoch 150/200\n",
      "2/2 [==============================] - 0s 118ms/step - loss: 0.1103 - accuracy: 0.9412\n",
      "Epoch 151/200\n",
      "2/2 [==============================] - 0s 112ms/step - loss: 0.0723 - accuracy: 0.9804\n",
      "Epoch 152/200\n",
      "2/2 [==============================] - 0s 113ms/step - loss: 0.1064 - accuracy: 0.9412\n",
      "Epoch 153/200\n",
      "2/2 [==============================] - 0s 116ms/step - loss: 0.0939 - accuracy: 0.9118\n",
      "Epoch 154/200\n",
      "2/2 [==============================] - 0s 115ms/step - loss: 0.1386 - accuracy: 0.9412\n",
      "Epoch 155/200\n",
      "2/2 [==============================] - 0s 112ms/step - loss: 0.0806 - accuracy: 0.9412\n",
      "Epoch 156/200\n",
      "2/2 [==============================] - 0s 111ms/step - loss: 0.0934 - accuracy: 0.9510\n",
      "Epoch 157/200\n",
      "2/2 [==============================] - 0s 113ms/step - loss: 0.1091 - accuracy: 0.9706\n",
      "Epoch 158/200\n",
      "2/2 [==============================] - 0s 111ms/step - loss: 0.1058 - accuracy: 0.9608\n",
      "Epoch 159/200\n",
      "2/2 [==============================] - 0s 111ms/step - loss: 0.1154 - accuracy: 0.9510\n",
      "Epoch 160/200\n",
      "2/2 [==============================] - 0s 111ms/step - loss: 0.1624 - accuracy: 0.9020\n",
      "Epoch 161/200\n",
      "2/2 [==============================] - 0s 110ms/step - loss: 0.0842 - accuracy: 0.9510\n",
      "Epoch 162/200\n",
      "2/2 [==============================] - 0s 112ms/step - loss: 0.0804 - accuracy: 0.9804\n",
      "Epoch 163/200\n",
      "2/2 [==============================] - 0s 118ms/step - loss: 0.2078 - accuracy: 0.9510\n",
      "Epoch 164/200\n"
     ]
    },
    {
     "name": "stdout",
     "output_type": "stream",
     "text": [
      "2/2 [==============================] - 0s 117ms/step - loss: 0.0735 - accuracy: 0.9706\n",
      "Epoch 165/200\n",
      "2/2 [==============================] - 0s 109ms/step - loss: 0.1115 - accuracy: 0.9510\n",
      "Epoch 166/200\n",
      "2/2 [==============================] - 0s 109ms/step - loss: 0.1321 - accuracy: 0.9412\n",
      "Epoch 167/200\n",
      "2/2 [==============================] - 0s 107ms/step - loss: 0.0976 - accuracy: 0.9804\n",
      "Epoch 168/200\n",
      "2/2 [==============================] - 0s 109ms/step - loss: 0.1945 - accuracy: 0.9510\n",
      "Epoch 169/200\n",
      "2/2 [==============================] - 0s 113ms/step - loss: 0.1096 - accuracy: 0.9510\n",
      "Epoch 170/200\n",
      "2/2 [==============================] - 0s 114ms/step - loss: 0.1904 - accuracy: 0.9608\n",
      "Epoch 171/200\n",
      "2/2 [==============================] - 0s 114ms/step - loss: 0.0805 - accuracy: 0.9706\n",
      "Epoch 172/200\n",
      "2/2 [==============================] - 0s 104ms/step - loss: 0.0623 - accuracy: 0.9804\n",
      "Epoch 173/200\n",
      "2/2 [==============================] - 0s 109ms/step - loss: 0.0677 - accuracy: 0.9608\n",
      "Epoch 174/200\n",
      "2/2 [==============================] - 0s 111ms/step - loss: 0.0645 - accuracy: 0.9706\n",
      "Epoch 175/200\n",
      "2/2 [==============================] - 0s 116ms/step - loss: 0.1126 - accuracy: 0.9608\n",
      "Epoch 176/200\n",
      "2/2 [==============================] - 0s 111ms/step - loss: 0.2000 - accuracy: 0.9510\n",
      "Epoch 177/200\n",
      "2/2 [==============================] - 0s 104ms/step - loss: 0.0992 - accuracy: 0.9608\n",
      "Epoch 178/200\n",
      "2/2 [==============================] - 0s 110ms/step - loss: 0.1314 - accuracy: 0.8824\n",
      "Epoch 179/200\n",
      "2/2 [==============================] - 0s 110ms/step - loss: 0.0816 - accuracy: 0.9510\n",
      "Epoch 180/200\n",
      "2/2 [==============================] - 0s 112ms/step - loss: 0.1250 - accuracy: 0.9412\n",
      "Epoch 181/200\n",
      "2/2 [==============================] - 0s 113ms/step - loss: 0.0966 - accuracy: 0.9412\n",
      "Epoch 182/200\n",
      "2/2 [==============================] - 0s 109ms/step - loss: 0.1400 - accuracy: 0.9216\n",
      "Epoch 183/200\n",
      "2/2 [==============================] - 0s 116ms/step - loss: 0.1234 - accuracy: 0.9412\n",
      "Epoch 184/200\n",
      "2/2 [==============================] - 0s 118ms/step - loss: 0.1361 - accuracy: 0.9216\n",
      "Epoch 185/200\n",
      "2/2 [==============================] - 0s 112ms/step - loss: 0.0724 - accuracy: 0.9902\n",
      "Epoch 186/200\n",
      "2/2 [==============================] - 0s 112ms/step - loss: 0.0765 - accuracy: 0.9902\n",
      "Epoch 187/200\n",
      "2/2 [==============================] - 0s 116ms/step - loss: 0.0702 - accuracy: 0.9412\n",
      "Epoch 188/200\n",
      "2/2 [==============================] - 0s 116ms/step - loss: 0.0513 - accuracy: 0.9706\n",
      "Epoch 189/200\n",
      "2/2 [==============================] - 0s 115ms/step - loss: 0.0543 - accuracy: 0.9608\n",
      "Epoch 190/200\n",
      "2/2 [==============================] - 0s 111ms/step - loss: 0.0999 - accuracy: 0.9608\n",
      "Epoch 191/200\n",
      "2/2 [==============================] - 0s 123ms/step - loss: 0.0617 - accuracy: 0.9902\n",
      "Epoch 192/200\n",
      "2/2 [==============================] - 0s 115ms/step - loss: 0.1346 - accuracy: 0.9706\n",
      "Epoch 193/200\n",
      "2/2 [==============================] - 0s 117ms/step - loss: 0.0745 - accuracy: 0.9510\n",
      "Epoch 194/200\n",
      "2/2 [==============================] - 0s 111ms/step - loss: 0.0454 - accuracy: 0.9706\n",
      "Epoch 195/200\n",
      "2/2 [==============================] - 0s 109ms/step - loss: 0.1715 - accuracy: 0.9216\n",
      "Epoch 196/200\n",
      "2/2 [==============================] - 0s 115ms/step - loss: 0.1466 - accuracy: 0.9216\n",
      "Epoch 197/200\n",
      "2/2 [==============================] - 0s 117ms/step - loss: 0.0928 - accuracy: 0.9314\n",
      "Epoch 198/200\n",
      "2/2 [==============================] - 0s 114ms/step - loss: 0.1045 - accuracy: 0.9608\n",
      "Epoch 199/200\n",
      "2/2 [==============================] - 0s 111ms/step - loss: 0.0657 - accuracy: 0.9608\n",
      "Epoch 200/200\n",
      "2/2 [==============================] - 0s 118ms/step - loss: 0.0795 - accuracy: 0.9706\n"
     ]
    },
    {
     "data": {
      "text/plain": [
       "<keras.callbacks.History at 0x3d3694c70>"
      ]
     },
     "execution_count": 82,
     "metadata": {},
     "output_type": "execute_result"
    }
   ],
   "source": [
    "model.fit(\n",
    "    xs_train,\n",
    "    ys_train,\n",
    "    #validation_data=(xs_val, ys_val),\n",
    "    epochs=200,\n",
    "    batch_size=32,\n",
    "    #callbacks=callbacks,\n",
    "    class_weight=weight_training_classes\n",
    ")"
   ]
  },
  {
   "cell_type": "code",
   "execution_count": 83,
   "id": "caa42cf5",
   "metadata": {},
   "outputs": [
    {
     "data": {
      "text/plain": [
       "(17, 5, 500)"
      ]
     },
     "execution_count": 83,
     "metadata": {},
     "output_type": "execute_result"
    }
   ],
   "source": [
    "xs_test.shape"
   ]
  },
  {
   "cell_type": "code",
   "execution_count": 84,
   "id": "65b98537",
   "metadata": {},
   "outputs": [
    {
     "name": "stderr",
     "output_type": "stream",
     "text": [
      "2023-01-12 21:54:38.109982: I tensorflow/core/grappler/optimizers/custom_graph_optimizer_registry.cc:114] Plugin optimizer for device_type GPU is enabled.\n"
     ]
    },
    {
     "name": "stdout",
     "output_type": "stream",
     "text": [
      "1/1 - 1s - loss: 12.3817 - accuracy: 0.1765 - 685ms/epoch - 685ms/step\n"
     ]
    },
    {
     "data": {
      "text/plain": [
       "[12.381667137145996, 0.1764705926179886]"
      ]
     },
     "execution_count": 84,
     "metadata": {},
     "output_type": "execute_result"
    }
   ],
   "source": [
    "model.evaluate(xs_test, ys_test, verbose=2)"
   ]
  },
  {
   "cell_type": "code",
   "execution_count": 85,
   "id": "0e2d31b6",
   "metadata": {},
   "outputs": [
    {
     "name": "stderr",
     "output_type": "stream",
     "text": [
      "2023-01-12 21:54:38.799268: I tensorflow/core/grappler/optimizers/custom_graph_optimizer_registry.cc:114] Plugin optimizer for device_type GPU is enabled.\n"
     ]
    },
    {
     "name": "stdout",
     "output_type": "stream",
     "text": [
      "3/3 [==============================] - 2s 514ms/step\n",
      "              precision    recall  f1-score   support\n",
      "\n",
      "           0       0.33      0.20      0.25         5\n",
      "           1       0.00      0.00      0.00         5\n",
      "           2       0.00      0.00      0.00         2\n",
      "           3       0.00      0.00      0.00         1\n",
      "           4       0.00      0.00      0.00         0\n",
      "           5       0.29      0.50      0.36         4\n",
      "\n",
      "    accuracy                           0.18        17\n",
      "   macro avg       0.10      0.12      0.10        17\n",
      "weighted avg       0.17      0.18      0.16        17\n",
      "\n"
     ]
    },
    {
     "name": "stderr",
     "output_type": "stream",
     "text": [
      "/Users/alanchen/.local/share/virtualenvs/research-face-excercises-dynamics-o_HFBNSW/lib/python3.8/site-packages/sklearn/metrics/_classification.py:1344: UndefinedMetricWarning: Precision and F-score are ill-defined and being set to 0.0 in labels with no predicted samples. Use `zero_division` parameter to control this behavior.\n",
      "  _warn_prf(average, modifier, msg_start, len(result))\n",
      "/Users/alanchen/.local/share/virtualenvs/research-face-excercises-dynamics-o_HFBNSW/lib/python3.8/site-packages/sklearn/metrics/_classification.py:1344: UndefinedMetricWarning: Recall and F-score are ill-defined and being set to 0.0 in labels with no true samples. Use `zero_division` parameter to control this behavior.\n",
      "  _warn_prf(average, modifier, msg_start, len(result))\n",
      "/Users/alanchen/.local/share/virtualenvs/research-face-excercises-dynamics-o_HFBNSW/lib/python3.8/site-packages/sklearn/metrics/_classification.py:1344: UndefinedMetricWarning: Precision and F-score are ill-defined and being set to 0.0 in labels with no predicted samples. Use `zero_division` parameter to control this behavior.\n",
      "  _warn_prf(average, modifier, msg_start, len(result))\n",
      "/Users/alanchen/.local/share/virtualenvs/research-face-excercises-dynamics-o_HFBNSW/lib/python3.8/site-packages/sklearn/metrics/_classification.py:1344: UndefinedMetricWarning: Recall and F-score are ill-defined and being set to 0.0 in labels with no true samples. Use `zero_division` parameter to control this behavior.\n",
      "  _warn_prf(average, modifier, msg_start, len(result))\n",
      "/Users/alanchen/.local/share/virtualenvs/research-face-excercises-dynamics-o_HFBNSW/lib/python3.8/site-packages/sklearn/metrics/_classification.py:1344: UndefinedMetricWarning: Precision and F-score are ill-defined and being set to 0.0 in labels with no predicted samples. Use `zero_division` parameter to control this behavior.\n",
      "  _warn_prf(average, modifier, msg_start, len(result))\n",
      "/Users/alanchen/.local/share/virtualenvs/research-face-excercises-dynamics-o_HFBNSW/lib/python3.8/site-packages/sklearn/metrics/_classification.py:1344: UndefinedMetricWarning: Recall and F-score are ill-defined and being set to 0.0 in labels with no true samples. Use `zero_division` parameter to control this behavior.\n",
      "  _warn_prf(average, modifier, msg_start, len(result))\n"
     ]
    }
   ],
   "source": [
    "from sklearn.metrics import classification_report\n",
    "\n",
    "y_pred = model.predict(xs_test, batch_size=8, verbose=1)\n",
    "y_pred_bool = np.argmax(y_pred, axis=1)\n",
    "\n",
    "print(classification_report(ys_test, y_pred_bool))"
   ]
  },
  {
   "cell_type": "code",
   "execution_count": 86,
   "id": "0e16f8f2",
   "metadata": {},
   "outputs": [
    {
     "data": {
      "text/plain": [
       "array([[1.51223065e-02, 8.13481105e-09, 2.73521655e-05, 1.18203280e-09,\n",
       "        4.11051745e-03, 9.80739832e-01],\n",
       "       [8.49573731e-01, 3.82921584e-02, 9.77483168e-02, 6.54317701e-05,\n",
       "        8.20849527e-06, 1.43121416e-02],\n",
       "       [1.48190102e-02, 9.89236426e-09, 2.99726871e-05, 1.06367748e-09,\n",
       "        3.09361564e-03, 9.82057452e-01],\n",
       "       [4.07170365e-03, 8.00541800e-10, 6.95875585e-02, 3.37780136e-07,\n",
       "        6.97103202e-01, 2.29237139e-01],\n",
       "       [9.97612596e-01, 2.74653605e-04, 2.11255392e-03, 2.26745087e-15,\n",
       "        7.77312818e-15, 1.47845000e-07],\n",
       "       [4.47751358e-02, 8.72171223e-01, 8.30435008e-02, 2.70830469e-06,\n",
       "        8.62710403e-10, 7.49804212e-06],\n",
       "       [1.90771278e-02, 1.27181847e-05, 1.98732642e-03, 2.64275532e-05,\n",
       "        2.89272040e-01, 6.89624369e-01],\n",
       "       [1.40062077e-02, 5.87604927e-06, 1.19623251e-03, 1.29837308e-05,\n",
       "        3.15351099e-01, 6.69427633e-01],\n",
       "       [1.00000000e+00, 7.57765754e-15, 2.68285588e-10, 5.51681910e-29,\n",
       "        1.15380387e-29, 4.12278795e-17],\n",
       "       [4.33399139e-13, 1.32107671e-05, 8.61328954e-05, 9.99900579e-01,\n",
       "        2.08383213e-15, 2.52443260e-18],\n",
       "       [7.82938805e-05, 9.88304853e-01, 1.12857549e-02, 3.31028219e-04,\n",
       "        1.06162568e-09, 3.84654086e-08],\n",
       "       [1.08736781e-02, 3.20179265e-06, 7.55986141e-04, 7.69758390e-06,\n",
       "        2.92403877e-01, 6.95955455e-01],\n",
       "       [1.50710186e-02, 2.77431354e-07, 2.01633287e-04, 1.68995371e-07,\n",
       "        4.75919247e-02, 9.37134981e-01],\n",
       "       [2.32231287e-05, 1.68217090e-12, 4.90460070e-06, 2.29832736e-10,\n",
       "        9.89183068e-01, 1.07886689e-02],\n",
       "       [8.90350566e-05, 5.00547563e-12, 1.56902004e-07, 4.15282253e-11,\n",
       "        6.95653856e-01, 3.04256946e-01],\n",
       "       [4.47950959e-02, 9.91499718e-08, 1.27776817e-04, 6.60989175e-09,\n",
       "        1.81541906e-03, 9.53261614e-01],\n",
       "       [4.78101720e-06, 3.02903759e-14, 4.02266398e-09, 5.97701576e-13,\n",
       "        8.94810259e-01, 1.05184987e-01]], dtype=float32)"
      ]
     },
     "execution_count": 86,
     "metadata": {},
     "output_type": "execute_result"
    }
   ],
   "source": [
    "y_pred\n"
   ]
  },
  {
   "cell_type": "markdown",
   "id": "cde8e3db",
   "metadata": {},
   "source": [
    "__END__"
   ]
  }
 ],
 "metadata": {
  "kernelspec": {
   "display_name": "face-prognosis",
   "language": "python",
   "name": "face-prognosis"
  },
  "language_info": {
   "codemirror_mode": {
    "name": "ipython",
    "version": 3
   },
   "file_extension": ".py",
   "mimetype": "text/x-python",
   "name": "python",
   "nbconvert_exporter": "python",
   "pygments_lexer": "ipython3",
   "version": "3.8.13"
  }
 },
 "nbformat": 4,
 "nbformat_minor": 5
}
