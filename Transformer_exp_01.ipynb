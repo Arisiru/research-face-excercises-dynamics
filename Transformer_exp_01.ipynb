{
 "cells": [
  {
   "cell_type": "markdown",
   "id": "c3ffceac",
   "metadata": {},
   "source": [
    "# Notes"
   ]
  },
  {
   "cell_type": "markdown",
   "id": "941fce85",
   "metadata": {},
   "source": [
    "First iteration is to use existing csv_points to build input as it is.\n",
    "I use standard LSTM with tf.keras"
   ]
  },
  {
   "cell_type": "code",
   "execution_count": 1,
   "id": "2167fbdb",
   "metadata": {},
   "outputs": [],
   "source": [
    "import os \n",
    "import csv\n",
    "from datetime import datetime\n",
    "import pandas as pd\n",
    "import numpy as np\n",
    "import tensorflow as tf"
   ]
  },
  {
   "cell_type": "markdown",
   "id": "287f0fb3",
   "metadata": {},
   "source": [
    "# Data prep"
   ]
  },
  {
   "cell_type": "code",
   "execution_count": 2,
   "id": "2555c25c",
   "metadata": {},
   "outputs": [],
   "source": [
    "def filename2metadata(filename):\n",
    "    meta = filename.split(' ')\n",
    "    patientid = meta[0]\n",
    "    evaluation = int(meta[3].split('=')[1])\n",
    "    poi = meta[2]\n",
    "    flagbeforeoperation = meta[4].split('=')[1]\n",
    "    exerciseinfo = meta[5].split('_')\n",
    "    exerciseid = int(exerciseinfo[0])\n",
    "    exercisename = exerciseinfo[1]\n",
    "    exercisedatestring = exerciseinfo[2].split('.')[0]\n",
    "    return {\n",
    "        'patientid': patientid,\n",
    "        'evaluation': evaluation,\n",
    "        'poi': poi,\n",
    "        'exerciseid': exerciseid,\n",
    "        'exercisename': exercisename,\n",
    "        'exercisedate': datetime.strptime(exercisedatestring, '%Y-%m-%d-%H-%M-%S'),\n",
    "    }"
   ]
  },
  {
   "cell_type": "code",
   "execution_count": 3,
   "id": "efdcd305",
   "metadata": {},
   "outputs": [],
   "source": [
    "def csv2timeseriestensor(df):\n",
    "    xs = list(df['x'],)\n",
    "    "
   ]
  },
  {
   "cell_type": "code",
   "execution_count": 4,
   "id": "33e7f4db",
   "metadata": {},
   "outputs": [],
   "source": [
    "def read2object(path, filename):    \n",
    "    df = pd.read_csv(path)\n",
    "    df.drop('t', axis=1, inplace=True)\n",
    "    \n",
    "    xs = np.transpose(df.to_numpy())\n",
    "\n",
    "    return {\n",
    "        'meta': filename2metadata(filename),\n",
    "        'timeseries': xs,\n",
    "        'pd': df\n",
    "    }"
   ]
  },
  {
   "cell_type": "markdown",
   "id": "e46bbff4",
   "metadata": {},
   "source": [
    "TODO:\n",
    "- read all\n",
    "- padding\n",
    "- split: normally split should be before padding, and then in inference combination of padding and trimming shall apply\n",
    "- classification\n"
   ]
  },
  {
   "cell_type": "code",
   "execution_count": 5,
   "id": "aad781df",
   "metadata": {},
   "outputs": [
    {
     "data": {
      "text/plain": [
       "2047"
      ]
     },
     "execution_count": 5,
     "metadata": {},
     "output_type": "execute_result"
    }
   ],
   "source": [
    "data = []\n",
    "maxlength = 0\n",
    "x_max = None\n",
    "x_min = None\n",
    "y_max = None\n",
    "y_min = None\n",
    "z_min = None\n",
    "z_max = None\n",
    "dirdata = os.path.join('data', 'csv_points')\n",
    "for filename in os.listdir(dirdata):\n",
    "    datum = read2object(os.path.join(dirdata, filename), filename)\n",
    "    data.append(datum)\n",
    "    maxlength = max(maxlength, datum['timeseries'].shape[1])\n",
    "    if x_max is None:\n",
    "        x_max = datum['pd']['x'].max()\n",
    "    x_max = max(x_max, datum['pd']['x'].max())    \n",
    "    if x_min is None:\n",
    "        x_min = datum['pd']['x'].min()\n",
    "    x_min = min(x_min, datum['pd']['x'].min()) \n",
    "    \n",
    "    if y_max is None:\n",
    "        y_max = datum['pd']['y'].max()\n",
    "    y_max = max(y_max, datum['pd']['y'].max())    \n",
    "    if y_min is None:\n",
    "        y_min = datum['pd']['y'].min()\n",
    "    y_min = min(y_min, datum['pd']['y'].min()) \n",
    "    \n",
    "    if z_max is None:\n",
    "        z_max = datum['pd']['z'].max()\n",
    "    z_max = max(z_max, datum['pd']['z'].max())    \n",
    "    if z_min is None:\n",
    "        z_min = datum['pd']['z'].min()\n",
    "    z_min = min(z_min, datum['pd']['z'].min()) \n",
    "    \n",
    "\n",
    "maxlength"
   ]
  },
  {
   "cell_type": "code",
   "execution_count": 6,
   "id": "c30fefc5",
   "metadata": {},
   "outputs": [
    {
     "name": "stdout",
     "output_type": "stream",
     "text": [
      "x_max 362.850308418274\n",
      "x_min -385.386139154434\n",
      "y_max 407.209008932114\n",
      "y_min -184.533506631851\n",
      "z_max 1414.35980796814\n",
      "z_min 465.504199266434\n"
     ]
    }
   ],
   "source": [
    "print('x_max %s' % x_max)\n",
    "print('x_min %s' % x_min)\n",
    "\n",
    "print('y_max %s' % y_max)\n",
    "print('y_min %s' % y_min)\n",
    "\n",
    "print('z_max %s' % z_max)\n",
    "print('z_min %s' % z_min)"
   ]
  },
  {
   "cell_type": "code",
   "execution_count": 7,
   "id": "91a467d5",
   "metadata": {},
   "outputs": [
    {
     "data": {
      "text/plain": [
       "23748"
      ]
     },
     "execution_count": 7,
     "metadata": {},
     "output_type": "execute_result"
    }
   ],
   "source": [
    "len(data)"
   ]
  },
  {
   "cell_type": "code",
   "execution_count": 8,
   "id": "29028238",
   "metadata": {},
   "outputs": [],
   "source": [
    "maxlength = 2050"
   ]
  },
  {
   "cell_type": "markdown",
   "id": "646ed7ce",
   "metadata": {},
   "source": [
    "#### Padding"
   ]
  },
  {
   "cell_type": "code",
   "execution_count": 9,
   "id": "3fa9cb0a",
   "metadata": {},
   "outputs": [],
   "source": [
    "for ind, datum in enumerate(data):\n",
    "    paddedtimeseries = tf.keras.preprocessing.sequence.pad_sequences(\n",
    "        datum['timeseries'],\n",
    "        padding=\"pre\",\n",
    "        maxlen=maxlength)\n",
    "    data[ind]['timeseries'] = paddedtimeseries\n",
    "    \n"
   ]
  },
  {
   "cell_type": "markdown",
   "id": "6ca3d18d",
   "metadata": {},
   "source": [
    "#### Build training set"
   ]
  },
  {
   "cell_type": "code",
   "execution_count": 10,
   "id": "a93a7a24",
   "metadata": {},
   "outputs": [],
   "source": [
    "xslist = list()\n",
    "yslist = list()\n",
    "\n",
    "for datum in data:\n",
    "    xslist.append(datum['timeseries'])\n",
    "    yslist.append(datum['meta']['evaluation'])\n",
    "    \n",
    "ys = np.array(yslist[:23000])\n",
    "xs = np.array(xslist[:23000])\n",
    "ys_test = np.array(yslist[23000:])\n",
    "xs_test = np.array(xslist[23000:])"
   ]
  },
  {
   "cell_type": "code",
   "execution_count": 11,
   "id": "e43454e2",
   "metadata": {},
   "outputs": [
    {
     "name": "stdout",
     "output_type": "stream",
     "text": [
      "(23000,)\n",
      "(23000, 3, 2050)\n",
      "(748,)\n",
      "(748, 3, 2050)\n"
     ]
    }
   ],
   "source": [
    "print(ys.shape)\n",
    "print(xs.shape)\n",
    "print(ys_test.shape)\n",
    "print(xs_test.shape)"
   ]
  },
  {
   "cell_type": "code",
   "execution_count": 12,
   "id": "29b2c732",
   "metadata": {},
   "outputs": [
    {
     "name": "stdout",
     "output_type": "stream",
     "text": [
      "Metal device set to: Apple M1\n"
     ]
    },
    {
     "name": "stderr",
     "output_type": "stream",
     "text": [
      "2023-01-09 20:38:30.334973: I tensorflow/core/common_runtime/pluggable_device/pluggable_device_factory.cc:306] Could not identify NUMA node of platform GPU ID 0, defaulting to 0. Your kernel may not have been built with NUMA support.\n",
      "2023-01-09 20:38:30.335073: I tensorflow/core/common_runtime/pluggable_device/pluggable_device_factory.cc:272] Created TensorFlow device (/job:localhost/replica:0/task:0/device:GPU:0 with 0 MB memory) -> physical PluggableDevice (device: 0, name: METAL, pci bus id: <undefined>)\n"
     ]
    },
    {
     "name": "stdout",
     "output_type": "stream",
     "text": [
      "Model: \"sequential\"\n",
      "_________________________________________________________________\n",
      " Layer (type)                Output Shape              Param #   \n",
      "=================================================================\n",
      " lstm (LSTM)                 (None, 32)                266624    \n",
      "                                                                 \n",
      " dense (Dense)               (None, 16)                528       \n",
      "                                                                 \n",
      " dense_1 (Dense)             (None, 6)                 102       \n",
      "                                                                 \n",
      "=================================================================\n",
      "Total params: 267,254\n",
      "Trainable params: 267,254\n",
      "Non-trainable params: 0\n",
      "_________________________________________________________________\n"
     ]
    }
   ],
   "source": [
    "model = tf.keras.Sequential()\n",
    "model.add(tf.keras.layers.InputLayer(input_shape=xs[0].shape))\n",
    "model.add(tf.keras.layers.LSTM(32))\n",
    "model.add(tf.keras.layers.Dense(16, activation='relu'))\n",
    "model.add(tf.keras.layers.Dense(6, activation='softmax'))\n",
    "\n",
    "model.compile(optimizer='adam',\n",
    "              loss=tf.keras.losses.SparseCategoricalCrossentropy(),\n",
    "              metrics=['accuracy'],\n",
    "              run_eagerly=True)\n",
    "\n",
    "model.summary()"
   ]
  },
  {
   "cell_type": "code",
   "execution_count": 13,
   "id": "7ebf4216",
   "metadata": {},
   "outputs": [
    {
     "name": "stdout",
     "output_type": "stream",
     "text": [
      "Epoch 1/5\n"
     ]
    },
    {
     "name": "stderr",
     "output_type": "stream",
     "text": [
      "2023-01-09 20:38:30.782253: W tensorflow/core/platform/profile_utils/cpu_utils.cc:128] Failed to get CPU frequency: 0 Hz\n"
     ]
    },
    {
     "name": "stdout",
     "output_type": "stream",
     "text": [
      "2875/2875 [==============================] - 58s 20ms/step - loss: 1.0851 - accuracy: 0.4747\n",
      "Epoch 2/5\n",
      "2875/2875 [==============================] - 56s 20ms/step - loss: 1.1005 - accuracy: 0.4666\n",
      "Epoch 3/5\n",
      "2875/2875 [==============================] - 57s 20ms/step - loss: 1.1200 - accuracy: 0.4600\n",
      "Epoch 4/5\n",
      "2875/2875 [==============================] - 57s 20ms/step - loss: 1.1428 - accuracy: 0.4482\n",
      "Epoch 5/5\n",
      "2875/2875 [==============================] - 57s 20ms/step - loss: 1.1665 - accuracy: 0.4309\n"
     ]
    },
    {
     "data": {
      "text/plain": [
       "<keras.callbacks.History at 0x2d70ec5b0>"
      ]
     },
     "execution_count": 13,
     "metadata": {},
     "output_type": "execute_result"
    }
   ],
   "source": [
    "model.fit(xs, ys, batch_size=8, epochs=5)"
   ]
  },
  {
   "cell_type": "code",
   "execution_count": 14,
   "id": "986a8bc6",
   "metadata": {},
   "outputs": [
    {
     "name": "stdout",
     "output_type": "stream",
     "text": [
      "24/24 [==============================] - 0s 18ms/step - loss: 1.2212 - accuracy: 0.4733\n"
     ]
    },
    {
     "data": {
      "text/plain": [
       "[1.221208930015564, 0.4732620418071747]"
      ]
     },
     "execution_count": 14,
     "metadata": {},
     "output_type": "execute_result"
    }
   ],
   "source": [
    "model.evaluate(xs_test, ys_test)"
   ]
  },
  {
   "cell_type": "code",
   "execution_count": 15,
   "id": "7ee3292d",
   "metadata": {},
   "outputs": [
    {
     "name": "stdout",
     "output_type": "stream",
     "text": [
      "24/24 [==============================] - 0s 6ms/step\n"
     ]
    }
   ],
   "source": [
    "y_test_prob = model.predict(xs_test)"
   ]
  },
  {
   "cell_type": "code",
   "execution_count": 16,
   "id": "c03280fe",
   "metadata": {},
   "outputs": [
    {
     "data": {
      "text/plain": [
       "array([[1.8241654e-09, 5.9883559e-01, 6.2840044e-02, 1.3010941e-01,\n",
       "        5.0889421e-02, 1.5732552e-01],\n",
       "       [3.1387202e-09, 7.2478378e-01, 2.9002074e-02, 1.2793194e-01,\n",
       "        4.9988899e-02, 6.8293378e-02],\n",
       "       [9.0041787e-09, 5.5349922e-01, 6.3931555e-02, 1.9306706e-01,\n",
       "        7.9253912e-02, 1.1024828e-01],\n",
       "       ...,\n",
       "       [1.8238723e-09, 5.9888506e-01, 6.2845238e-02, 1.3008840e-01,\n",
       "        5.0881192e-02, 1.5730011e-01],\n",
       "       [8.2540719e-10, 5.0363845e-01, 5.4474767e-02, 1.4468285e-01,\n",
       "        4.0660497e-02, 2.5654346e-01],\n",
       "       [3.7273318e-09, 6.2388915e-01, 4.5593344e-02, 1.4303255e-01,\n",
       "        4.0235981e-02, 1.4724898e-01]], dtype=float32)"
      ]
     },
     "execution_count": 16,
     "metadata": {},
     "output_type": "execute_result"
    }
   ],
   "source": [
    "y_test_prob"
   ]
  },
  {
   "cell_type": "code",
   "execution_count": null,
   "id": "7e185450",
   "metadata": {},
   "outputs": [],
   "source": []
  },
  {
   "cell_type": "code",
   "execution_count": null,
   "id": "d1d2679f",
   "metadata": {},
   "outputs": [],
   "source": []
  },
  {
   "cell_type": "code",
   "execution_count": null,
   "id": "4d644554",
   "metadata": {},
   "outputs": [],
   "source": []
  },
  {
   "cell_type": "markdown",
   "id": "cde8e3db",
   "metadata": {},
   "source": [
    "__END__"
   ]
  }
 ],
 "metadata": {
  "kernelspec": {
   "display_name": "face-prognosis",
   "language": "python",
   "name": "face-prognosis"
  },
  "language_info": {
   "codemirror_mode": {
    "name": "ipython",
    "version": 3
   },
   "file_extension": ".py",
   "mimetype": "text/x-python",
   "name": "python",
   "nbconvert_exporter": "python",
   "pygments_lexer": "ipython3",
   "version": "3.8.13"
  }
 },
 "nbformat": 4,
 "nbformat_minor": 5
}
